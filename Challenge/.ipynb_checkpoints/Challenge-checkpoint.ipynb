{
 "cells": [
  {
   "cell_type": "code",
   "execution_count": 39,
   "metadata": {},
   "outputs": [],
   "source": [
    "import pandas as pd\n",
    "import plotly.express as px\n",
    "import hvplot.pandas\n",
    "from sklearn.cluster import KMeans\n",
    "from sklearn.preprocessing import StandardScaler\n",
    "from sklearn.decomposition import PCA\n",
    "import hvplot.pandas"
   ]
  },
  {
   "cell_type": "code",
   "execution_count": 40,
   "metadata": {},
   "outputs": [
    {
     "data": {
      "text/html": [
       "<div>\n",
       "<style scoped>\n",
       "    .dataframe tbody tr th:only-of-type {\n",
       "        vertical-align: middle;\n",
       "    }\n",
       "\n",
       "    .dataframe tbody tr th {\n",
       "        vertical-align: top;\n",
       "    }\n",
       "\n",
       "    .dataframe thead th {\n",
       "        text-align: right;\n",
       "    }\n",
       "</style>\n",
       "<table border=\"1\" class=\"dataframe\">\n",
       "  <thead>\n",
       "    <tr style=\"text-align: right;\">\n",
       "      <th></th>\n",
       "      <th>Unnamed: 0</th>\n",
       "      <th>CoinName</th>\n",
       "      <th>Algorithm</th>\n",
       "      <th>IsTrading</th>\n",
       "      <th>ProofType</th>\n",
       "      <th>TotalCoinsMined</th>\n",
       "      <th>TotalCoinSupply</th>\n",
       "    </tr>\n",
       "  </thead>\n",
       "  <tbody>\n",
       "    <tr>\n",
       "      <th>0</th>\n",
       "      <td>42</td>\n",
       "      <td>42 Coin</td>\n",
       "      <td>Scrypt</td>\n",
       "      <td>True</td>\n",
       "      <td>PoW/PoS</td>\n",
       "      <td>4.199995e+01</td>\n",
       "      <td>42</td>\n",
       "    </tr>\n",
       "    <tr>\n",
       "      <th>1</th>\n",
       "      <td>365</td>\n",
       "      <td>365Coin</td>\n",
       "      <td>X11</td>\n",
       "      <td>True</td>\n",
       "      <td>PoW/PoS</td>\n",
       "      <td>NaN</td>\n",
       "      <td>2300000000</td>\n",
       "    </tr>\n",
       "    <tr>\n",
       "      <th>2</th>\n",
       "      <td>404</td>\n",
       "      <td>404Coin</td>\n",
       "      <td>Scrypt</td>\n",
       "      <td>True</td>\n",
       "      <td>PoW/PoS</td>\n",
       "      <td>1.055185e+09</td>\n",
       "      <td>532000000</td>\n",
       "    </tr>\n",
       "    <tr>\n",
       "      <th>3</th>\n",
       "      <td>611</td>\n",
       "      <td>SixEleven</td>\n",
       "      <td>SHA-256</td>\n",
       "      <td>True</td>\n",
       "      <td>PoW</td>\n",
       "      <td>NaN</td>\n",
       "      <td>611000</td>\n",
       "    </tr>\n",
       "    <tr>\n",
       "      <th>4</th>\n",
       "      <td>808</td>\n",
       "      <td>808</td>\n",
       "      <td>SHA-256</td>\n",
       "      <td>True</td>\n",
       "      <td>PoW/PoS</td>\n",
       "      <td>0.000000e+00</td>\n",
       "      <td>0</td>\n",
       "    </tr>\n",
       "  </tbody>\n",
       "</table>\n",
       "</div>"
      ],
      "text/plain": [
       "  Unnamed: 0   CoinName Algorithm  IsTrading ProofType  TotalCoinsMined  \\\n",
       "0         42    42 Coin    Scrypt       True   PoW/PoS     4.199995e+01   \n",
       "1        365    365Coin       X11       True   PoW/PoS              NaN   \n",
       "2        404    404Coin    Scrypt       True   PoW/PoS     1.055185e+09   \n",
       "3        611  SixEleven   SHA-256       True       PoW              NaN   \n",
       "4        808        808   SHA-256       True   PoW/PoS     0.000000e+00   \n",
       "\n",
       "  TotalCoinSupply  \n",
       "0              42  \n",
       "1      2300000000  \n",
       "2       532000000  \n",
       "3          611000  \n",
       "4               0  "
      ]
     },
     "execution_count": 40,
     "metadata": {},
     "output_type": "execute_result"
    }
   ],
   "source": [
    "# Load data\n",
    "file = \"Resources/crypto_data.csv\"\n",
    "crypto_df = pd.read_csv(file)\n",
    "crypto_df.head()\n"
   ]
  },
  {
   "cell_type": "code",
   "execution_count": 41,
   "metadata": {},
   "outputs": [
    {
     "data": {
      "text/html": [
       "<div>\n",
       "<style scoped>\n",
       "    .dataframe tbody tr th:only-of-type {\n",
       "        vertical-align: middle;\n",
       "    }\n",
       "\n",
       "    .dataframe tbody tr th {\n",
       "        vertical-align: top;\n",
       "    }\n",
       "\n",
       "    .dataframe thead th {\n",
       "        text-align: right;\n",
       "    }\n",
       "</style>\n",
       "<table border=\"1\" class=\"dataframe\">\n",
       "  <thead>\n",
       "    <tr style=\"text-align: right;\">\n",
       "      <th></th>\n",
       "      <th>CoinName</th>\n",
       "      <th>Algorithm</th>\n",
       "      <th>IsTrading</th>\n",
       "      <th>ProofType</th>\n",
       "      <th>TotalCoinsMined</th>\n",
       "      <th>TotalCoinSupply</th>\n",
       "    </tr>\n",
       "    <tr>\n",
       "      <th>Unnamed: 0</th>\n",
       "      <th></th>\n",
       "      <th></th>\n",
       "      <th></th>\n",
       "      <th></th>\n",
       "      <th></th>\n",
       "      <th></th>\n",
       "    </tr>\n",
       "  </thead>\n",
       "  <tbody>\n",
       "    <tr>\n",
       "      <th>42</th>\n",
       "      <td>42 Coin</td>\n",
       "      <td>Scrypt</td>\n",
       "      <td>True</td>\n",
       "      <td>PoW/PoS</td>\n",
       "      <td>4.199995e+01</td>\n",
       "      <td>42</td>\n",
       "    </tr>\n",
       "    <tr>\n",
       "      <th>365</th>\n",
       "      <td>365Coin</td>\n",
       "      <td>X11</td>\n",
       "      <td>True</td>\n",
       "      <td>PoW/PoS</td>\n",
       "      <td>NaN</td>\n",
       "      <td>2300000000</td>\n",
       "    </tr>\n",
       "    <tr>\n",
       "      <th>404</th>\n",
       "      <td>404Coin</td>\n",
       "      <td>Scrypt</td>\n",
       "      <td>True</td>\n",
       "      <td>PoW/PoS</td>\n",
       "      <td>1.055185e+09</td>\n",
       "      <td>532000000</td>\n",
       "    </tr>\n",
       "    <tr>\n",
       "      <th>611</th>\n",
       "      <td>SixEleven</td>\n",
       "      <td>SHA-256</td>\n",
       "      <td>True</td>\n",
       "      <td>PoW</td>\n",
       "      <td>NaN</td>\n",
       "      <td>611000</td>\n",
       "    </tr>\n",
       "    <tr>\n",
       "      <th>808</th>\n",
       "      <td>808</td>\n",
       "      <td>SHA-256</td>\n",
       "      <td>True</td>\n",
       "      <td>PoW/PoS</td>\n",
       "      <td>0.000000e+00</td>\n",
       "      <td>0</td>\n",
       "    </tr>\n",
       "  </tbody>\n",
       "</table>\n",
       "</div>"
      ],
      "text/plain": [
       "             CoinName Algorithm  IsTrading ProofType  TotalCoinsMined  \\\n",
       "Unnamed: 0                                                              \n",
       "42            42 Coin    Scrypt       True   PoW/PoS     4.199995e+01   \n",
       "365           365Coin       X11       True   PoW/PoS              NaN   \n",
       "404           404Coin    Scrypt       True   PoW/PoS     1.055185e+09   \n",
       "611         SixEleven   SHA-256       True       PoW              NaN   \n",
       "808               808   SHA-256       True   PoW/PoS     0.000000e+00   \n",
       "\n",
       "           TotalCoinSupply  \n",
       "Unnamed: 0                  \n",
       "42                      42  \n",
       "365             2300000000  \n",
       "404              532000000  \n",
       "611                 611000  \n",
       "808                      0  "
      ]
     },
     "execution_count": 41,
     "metadata": {},
     "output_type": "execute_result"
    }
   ],
   "source": [
    "crypto_df = crypto_df.set_index('Unnamed: 0')\n",
    "crypto_df.head()"
   ]
  },
  {
   "cell_type": "code",
   "execution_count": 42,
   "metadata": {},
   "outputs": [
    {
     "data": {
      "text/html": [
       "<div>\n",
       "<style scoped>\n",
       "    .dataframe tbody tr th:only-of-type {\n",
       "        vertical-align: middle;\n",
       "    }\n",
       "\n",
       "    .dataframe tbody tr th {\n",
       "        vertical-align: top;\n",
       "    }\n",
       "\n",
       "    .dataframe thead th {\n",
       "        text-align: right;\n",
       "    }\n",
       "</style>\n",
       "<table border=\"1\" class=\"dataframe\">\n",
       "  <thead>\n",
       "    <tr style=\"text-align: right;\">\n",
       "      <th></th>\n",
       "      <th>CoinName</th>\n",
       "      <th>Algorithm</th>\n",
       "      <th>IsTrading</th>\n",
       "      <th>ProofType</th>\n",
       "      <th>TotalCoinsMined</th>\n",
       "      <th>TotalCoinSupply</th>\n",
       "    </tr>\n",
       "    <tr>\n",
       "      <th>Unnamed: 0</th>\n",
       "      <th></th>\n",
       "      <th></th>\n",
       "      <th></th>\n",
       "      <th></th>\n",
       "      <th></th>\n",
       "      <th></th>\n",
       "    </tr>\n",
       "  </thead>\n",
       "  <tbody>\n",
       "    <tr>\n",
       "      <th>42</th>\n",
       "      <td>42 Coin</td>\n",
       "      <td>Scrypt</td>\n",
       "      <td>True</td>\n",
       "      <td>PoW/PoS</td>\n",
       "      <td>4.199995e+01</td>\n",
       "      <td>42</td>\n",
       "    </tr>\n",
       "    <tr>\n",
       "      <th>365</th>\n",
       "      <td>365Coin</td>\n",
       "      <td>X11</td>\n",
       "      <td>True</td>\n",
       "      <td>PoW/PoS</td>\n",
       "      <td>NaN</td>\n",
       "      <td>2300000000</td>\n",
       "    </tr>\n",
       "    <tr>\n",
       "      <th>404</th>\n",
       "      <td>404Coin</td>\n",
       "      <td>Scrypt</td>\n",
       "      <td>True</td>\n",
       "      <td>PoW/PoS</td>\n",
       "      <td>1.055185e+09</td>\n",
       "      <td>532000000</td>\n",
       "    </tr>\n",
       "    <tr>\n",
       "      <th>611</th>\n",
       "      <td>SixEleven</td>\n",
       "      <td>SHA-256</td>\n",
       "      <td>True</td>\n",
       "      <td>PoW</td>\n",
       "      <td>NaN</td>\n",
       "      <td>611000</td>\n",
       "    </tr>\n",
       "    <tr>\n",
       "      <th>808</th>\n",
       "      <td>808</td>\n",
       "      <td>SHA-256</td>\n",
       "      <td>True</td>\n",
       "      <td>PoW/PoS</td>\n",
       "      <td>0.000000e+00</td>\n",
       "      <td>0</td>\n",
       "    </tr>\n",
       "    <tr>\n",
       "      <th>1337</th>\n",
       "      <td>EliteCoin</td>\n",
       "      <td>X13</td>\n",
       "      <td>True</td>\n",
       "      <td>PoW/PoS</td>\n",
       "      <td>2.927942e+10</td>\n",
       "      <td>314159265359</td>\n",
       "    </tr>\n",
       "    <tr>\n",
       "      <th>2015</th>\n",
       "      <td>2015 coin</td>\n",
       "      <td>X11</td>\n",
       "      <td>True</td>\n",
       "      <td>PoW/PoS</td>\n",
       "      <td>NaN</td>\n",
       "      <td>0</td>\n",
       "    </tr>\n",
       "    <tr>\n",
       "      <th>BTC</th>\n",
       "      <td>Bitcoin</td>\n",
       "      <td>SHA-256</td>\n",
       "      <td>True</td>\n",
       "      <td>PoW</td>\n",
       "      <td>1.792718e+07</td>\n",
       "      <td>21000000</td>\n",
       "    </tr>\n",
       "    <tr>\n",
       "      <th>ETH</th>\n",
       "      <td>Ethereum</td>\n",
       "      <td>Ethash</td>\n",
       "      <td>True</td>\n",
       "      <td>PoW</td>\n",
       "      <td>1.076842e+08</td>\n",
       "      <td>0</td>\n",
       "    </tr>\n",
       "    <tr>\n",
       "      <th>LTC</th>\n",
       "      <td>Litecoin</td>\n",
       "      <td>Scrypt</td>\n",
       "      <td>True</td>\n",
       "      <td>PoW</td>\n",
       "      <td>6.303924e+07</td>\n",
       "      <td>84000000</td>\n",
       "    </tr>\n",
       "    <tr>\n",
       "      <th>DASH</th>\n",
       "      <td>Dash</td>\n",
       "      <td>X11</td>\n",
       "      <td>True</td>\n",
       "      <td>PoW/PoS</td>\n",
       "      <td>9.031294e+06</td>\n",
       "      <td>22000000</td>\n",
       "    </tr>\n",
       "    <tr>\n",
       "      <th>XMR</th>\n",
       "      <td>Monero</td>\n",
       "      <td>CryptoNight-V7</td>\n",
       "      <td>True</td>\n",
       "      <td>PoW</td>\n",
       "      <td>1.720114e+07</td>\n",
       "      <td>0</td>\n",
       "    </tr>\n",
       "    <tr>\n",
       "      <th>ETC</th>\n",
       "      <td>Ethereum Classic</td>\n",
       "      <td>Ethash</td>\n",
       "      <td>True</td>\n",
       "      <td>PoW</td>\n",
       "      <td>1.133597e+08</td>\n",
       "      <td>210000000</td>\n",
       "    </tr>\n",
       "    <tr>\n",
       "      <th>ZEC</th>\n",
       "      <td>ZCash</td>\n",
       "      <td>Equihash</td>\n",
       "      <td>True</td>\n",
       "      <td>PoW</td>\n",
       "      <td>7.383056e+06</td>\n",
       "      <td>21000000</td>\n",
       "    </tr>\n",
       "    <tr>\n",
       "      <th>BTS</th>\n",
       "      <td>Bitshares</td>\n",
       "      <td>SHA-512</td>\n",
       "      <td>True</td>\n",
       "      <td>PoS</td>\n",
       "      <td>2.741570e+09</td>\n",
       "      <td>3600570502</td>\n",
       "    </tr>\n",
       "    <tr>\n",
       "      <th>DGB</th>\n",
       "      <td>DigiByte</td>\n",
       "      <td>Multiple</td>\n",
       "      <td>True</td>\n",
       "      <td>PoW</td>\n",
       "      <td>1.140622e+10</td>\n",
       "      <td>21000000000</td>\n",
       "    </tr>\n",
       "    <tr>\n",
       "      <th>BTCD</th>\n",
       "      <td>BitcoinDark</td>\n",
       "      <td>SHA-256</td>\n",
       "      <td>True</td>\n",
       "      <td>PoW/PoS</td>\n",
       "      <td>1.288862e+06</td>\n",
       "      <td>22000000</td>\n",
       "    </tr>\n",
       "    <tr>\n",
       "      <th>CRAIG</th>\n",
       "      <td>CraigsCoin</td>\n",
       "      <td>X11</td>\n",
       "      <td>True</td>\n",
       "      <td>PoS</td>\n",
       "      <td>NaN</td>\n",
       "      <td>30000000</td>\n",
       "    </tr>\n",
       "    <tr>\n",
       "      <th>XBS</th>\n",
       "      <td>Bitstake</td>\n",
       "      <td>X11</td>\n",
       "      <td>True</td>\n",
       "      <td>PoW/PoS</td>\n",
       "      <td>0.000000e+00</td>\n",
       "      <td>1300000</td>\n",
       "    </tr>\n",
       "    <tr>\n",
       "      <th>XPY</th>\n",
       "      <td>PayCoin</td>\n",
       "      <td>SHA-256</td>\n",
       "      <td>True</td>\n",
       "      <td>PoS</td>\n",
       "      <td>1.199533e+07</td>\n",
       "      <td>12500000</td>\n",
       "    </tr>\n",
       "    <tr>\n",
       "      <th>PRC</th>\n",
       "      <td>ProsperCoin</td>\n",
       "      <td>Scrypt</td>\n",
       "      <td>True</td>\n",
       "      <td>PoW</td>\n",
       "      <td>5.768310e+06</td>\n",
       "      <td>21000000</td>\n",
       "    </tr>\n",
       "    <tr>\n",
       "      <th>YBC</th>\n",
       "      <td>YbCoin</td>\n",
       "      <td>Multiple</td>\n",
       "      <td>True</td>\n",
       "      <td>PoS</td>\n",
       "      <td>NaN</td>\n",
       "      <td>200000000</td>\n",
       "    </tr>\n",
       "    <tr>\n",
       "      <th>DANK</th>\n",
       "      <td>DarkKush</td>\n",
       "      <td>X13</td>\n",
       "      <td>True</td>\n",
       "      <td>PoW/PoS</td>\n",
       "      <td>NaN</td>\n",
       "      <td>3000000</td>\n",
       "    </tr>\n",
       "    <tr>\n",
       "      <th>GIVE</th>\n",
       "      <td>GiveCoin</td>\n",
       "      <td>X11</td>\n",
       "      <td>True</td>\n",
       "      <td>PoW</td>\n",
       "      <td>NaN</td>\n",
       "      <td>500000000</td>\n",
       "    </tr>\n",
       "    <tr>\n",
       "      <th>KOBO</th>\n",
       "      <td>KoboCoin</td>\n",
       "      <td>X15</td>\n",
       "      <td>True</td>\n",
       "      <td>PoW/PoS</td>\n",
       "      <td>2.554254e+07</td>\n",
       "      <td>350000000</td>\n",
       "    </tr>\n",
       "    <tr>\n",
       "      <th>DT</th>\n",
       "      <td>DarkToken</td>\n",
       "      <td>NIST5</td>\n",
       "      <td>True</td>\n",
       "      <td>PoW/PoS</td>\n",
       "      <td>NaN</td>\n",
       "      <td>0</td>\n",
       "    </tr>\n",
       "    <tr>\n",
       "      <th>CETI</th>\n",
       "      <td>CETUS Coin</td>\n",
       "      <td>Scrypt</td>\n",
       "      <td>True</td>\n",
       "      <td>PoW/PoS</td>\n",
       "      <td>NaN</td>\n",
       "      <td>0</td>\n",
       "    </tr>\n",
       "    <tr>\n",
       "      <th>SPR</th>\n",
       "      <td>Spreadcoin</td>\n",
       "      <td>X11</td>\n",
       "      <td>True</td>\n",
       "      <td>PoW</td>\n",
       "      <td>1.114973e+07</td>\n",
       "      <td>20000000</td>\n",
       "    </tr>\n",
       "    <tr>\n",
       "      <th>WOLF</th>\n",
       "      <td>Insanity Coin</td>\n",
       "      <td>X11</td>\n",
       "      <td>True</td>\n",
       "      <td>PoW</td>\n",
       "      <td>NaN</td>\n",
       "      <td>50000000</td>\n",
       "    </tr>\n",
       "    <tr>\n",
       "      <th>ACOIN</th>\n",
       "      <td>ACoin</td>\n",
       "      <td>SHA-256</td>\n",
       "      <td>True</td>\n",
       "      <td>PoW</td>\n",
       "      <td>0.000000e+00</td>\n",
       "      <td>1600000</td>\n",
       "    </tr>\n",
       "  </tbody>\n",
       "</table>\n",
       "</div>"
      ],
      "text/plain": [
       "                    CoinName       Algorithm  IsTrading ProofType  \\\n",
       "Unnamed: 0                                                          \n",
       "42                   42 Coin          Scrypt       True   PoW/PoS   \n",
       "365                  365Coin             X11       True   PoW/PoS   \n",
       "404                  404Coin          Scrypt       True   PoW/PoS   \n",
       "611                SixEleven         SHA-256       True       PoW   \n",
       "808                      808         SHA-256       True   PoW/PoS   \n",
       "1337               EliteCoin             X13       True   PoW/PoS   \n",
       "2015               2015 coin             X11       True   PoW/PoS   \n",
       "BTC                  Bitcoin         SHA-256       True       PoW   \n",
       "ETH                 Ethereum          Ethash       True       PoW   \n",
       "LTC                 Litecoin          Scrypt       True       PoW   \n",
       "DASH                    Dash             X11       True   PoW/PoS   \n",
       "XMR                   Monero  CryptoNight-V7       True       PoW   \n",
       "ETC         Ethereum Classic          Ethash       True       PoW   \n",
       "ZEC                    ZCash        Equihash       True       PoW   \n",
       "BTS                Bitshares         SHA-512       True       PoS   \n",
       "DGB                 DigiByte        Multiple       True       PoW   \n",
       "BTCD             BitcoinDark         SHA-256       True   PoW/PoS   \n",
       "CRAIG             CraigsCoin             X11       True       PoS   \n",
       "XBS                 Bitstake             X11       True   PoW/PoS   \n",
       "XPY                  PayCoin         SHA-256       True       PoS   \n",
       "PRC              ProsperCoin          Scrypt       True       PoW   \n",
       "YBC                   YbCoin        Multiple       True       PoS   \n",
       "DANK                DarkKush             X13       True   PoW/PoS   \n",
       "GIVE                GiveCoin             X11       True       PoW   \n",
       "KOBO                KoboCoin             X15       True   PoW/PoS   \n",
       "DT                 DarkToken           NIST5       True   PoW/PoS   \n",
       "CETI              CETUS Coin          Scrypt       True   PoW/PoS   \n",
       "SPR               Spreadcoin             X11       True       PoW   \n",
       "WOLF           Insanity Coin             X11       True       PoW   \n",
       "ACOIN                  ACoin         SHA-256       True       PoW   \n",
       "\n",
       "            TotalCoinsMined TotalCoinSupply  \n",
       "Unnamed: 0                                   \n",
       "42             4.199995e+01              42  \n",
       "365                     NaN      2300000000  \n",
       "404            1.055185e+09       532000000  \n",
       "611                     NaN          611000  \n",
       "808            0.000000e+00               0  \n",
       "1337           2.927942e+10    314159265359  \n",
       "2015                    NaN               0  \n",
       "BTC            1.792718e+07        21000000  \n",
       "ETH            1.076842e+08               0  \n",
       "LTC            6.303924e+07        84000000  \n",
       "DASH           9.031294e+06        22000000  \n",
       "XMR            1.720114e+07               0  \n",
       "ETC            1.133597e+08       210000000  \n",
       "ZEC            7.383056e+06        21000000  \n",
       "BTS            2.741570e+09      3600570502  \n",
       "DGB            1.140622e+10     21000000000  \n",
       "BTCD           1.288862e+06        22000000  \n",
       "CRAIG                   NaN        30000000  \n",
       "XBS            0.000000e+00         1300000  \n",
       "XPY            1.199533e+07        12500000  \n",
       "PRC            5.768310e+06        21000000  \n",
       "YBC                     NaN       200000000  \n",
       "DANK                    NaN         3000000  \n",
       "GIVE                    NaN       500000000  \n",
       "KOBO           2.554254e+07       350000000  \n",
       "DT                      NaN               0  \n",
       "CETI                    NaN               0  \n",
       "SPR            1.114973e+07        20000000  \n",
       "WOLF                    NaN        50000000  \n",
       "ACOIN          0.000000e+00         1600000  "
      ]
     },
     "execution_count": 42,
     "metadata": {},
     "output_type": "execute_result"
    }
   ],
   "source": [
    "# Remove all cryptocurrencies that aren't trading\n",
    "crypto_trading = crypto_df[crypto_df.IsTrading != False]\n",
    "crypto_trading.head(30)"
   ]
  },
  {
   "cell_type": "code",
   "execution_count": 43,
   "metadata": {},
   "outputs": [
    {
     "data": {
      "text/plain": [
       "array(['Scrypt', 'X11', 'SHA-256', 'X13', 'Ethash', 'CryptoNight-V7',\n",
       "       'Equihash', 'SHA-512', 'Multiple', 'X15', 'NIST5', 'Quark',\n",
       "       'Groestl', 'PoS', 'NeoScrypt', 'SHA3', 'HybridScryptHash256',\n",
       "       'Scrypt-n', 'PHI1612', 'Lyra2REv2', 'CryptoNight', 'Shabal256',\n",
       "       'Counterparty', 'Blake', 'Momentum', 'Stanford Folding', 'QuBit',\n",
       "       'XG Hash', 'M7 POW', 'Curve25519', 'Lyra2RE', 'QUAIT', 'vDPOS',\n",
       "       'Blake2b', 'BLAKE256', '1GB AES Pattern Search', 'Dagger',\n",
       "       'CryptoNight-Lite', 'X11GOST', 'SHA-256D', 'POS 3.0',\n",
       "       'Progressive-n', 'DPoS', 'Lyra2Z', 'X14', 'Time Travel', 'Argon2',\n",
       "       'Keccak', 'Blake2S', 'Dagger-Hashimoto', '536', 'Argon2d',\n",
       "       'Cloverhash', 'Skein', 'SkunkHash v2 Raptor',\n",
       "       'VeChainThor Authority', 'Ouroboros', 'POS 2.0', 'SkunkHash',\n",
       "       'C11', 'Proof-of-BibleHash', 'SHA-256 + Hive',\n",
       "       'Proof-of-Authority', 'XEVAN', 'VBFT', 'YescryptR16', 'IMesh',\n",
       "       'Green Protocol', 'Semux BFT consensus', 'X16R', 'Tribus',\n",
       "       'CryptoNight Heavy', 'Jump Consistent Hash', 'HMQ1725', 'Zhash',\n",
       "       'Cryptonight-GPU', 'ECC 256K1', 'CryptoNight Heavy X',\n",
       "       'Rainforest', 'Exosis', 'CryptoNight-lite', 'QuarkTX',\n",
       "       'Leased POS', 'Equihash1927', 'T-Inside', 'SHA3-256',\n",
       "       'Equihash+Scrypt', 'Slatechain', 'TRC10'], dtype=object)"
      ]
     },
     "execution_count": 43,
     "metadata": {},
     "output_type": "execute_result"
    }
   ],
   "source": [
    "# Look at Algorithm options\n",
    "crypto_trading['Algorithm'].unique()"
   ]
  },
  {
   "cell_type": "code",
   "execution_count": 44,
   "metadata": {},
   "outputs": [
    {
     "data": {
      "text/html": [
       "<div>\n",
       "<style scoped>\n",
       "    .dataframe tbody tr th:only-of-type {\n",
       "        vertical-align: middle;\n",
       "    }\n",
       "\n",
       "    .dataframe tbody tr th {\n",
       "        vertical-align: top;\n",
       "    }\n",
       "\n",
       "    .dataframe thead th {\n",
       "        text-align: right;\n",
       "    }\n",
       "</style>\n",
       "<table border=\"1\" class=\"dataframe\">\n",
       "  <thead>\n",
       "    <tr style=\"text-align: right;\">\n",
       "      <th></th>\n",
       "      <th>CoinName</th>\n",
       "      <th>Algorithm</th>\n",
       "      <th>IsTrading</th>\n",
       "      <th>ProofType</th>\n",
       "      <th>TotalCoinsMined</th>\n",
       "      <th>TotalCoinSupply</th>\n",
       "    </tr>\n",
       "    <tr>\n",
       "      <th>Unnamed: 0</th>\n",
       "      <th></th>\n",
       "      <th></th>\n",
       "      <th></th>\n",
       "      <th></th>\n",
       "      <th></th>\n",
       "      <th></th>\n",
       "    </tr>\n",
       "  </thead>\n",
       "  <tbody>\n",
       "    <tr>\n",
       "      <th>SERO</th>\n",
       "      <td>Super Zero</td>\n",
       "      <td>Ethash</td>\n",
       "      <td>True</td>\n",
       "      <td>PoW</td>\n",
       "      <td>NaN</td>\n",
       "      <td>1000000000</td>\n",
       "    </tr>\n",
       "    <tr>\n",
       "      <th>UOS</th>\n",
       "      <td>UOS</td>\n",
       "      <td>SHA-256</td>\n",
       "      <td>True</td>\n",
       "      <td>DPoI</td>\n",
       "      <td>NaN</td>\n",
       "      <td>1000000000</td>\n",
       "    </tr>\n",
       "    <tr>\n",
       "      <th>BDX</th>\n",
       "      <td>Beldex</td>\n",
       "      <td>CryptoNight</td>\n",
       "      <td>True</td>\n",
       "      <td>PoW</td>\n",
       "      <td>9.802226e+08</td>\n",
       "      <td>1400222610</td>\n",
       "    </tr>\n",
       "    <tr>\n",
       "      <th>ZEN</th>\n",
       "      <td>Horizen</td>\n",
       "      <td>Equihash</td>\n",
       "      <td>True</td>\n",
       "      <td>PoW</td>\n",
       "      <td>7.296538e+06</td>\n",
       "      <td>21000000</td>\n",
       "    </tr>\n",
       "    <tr>\n",
       "      <th>XBC</th>\n",
       "      <td>BitcoinPlus</td>\n",
       "      <td>Scrypt</td>\n",
       "      <td>True</td>\n",
       "      <td>PoS</td>\n",
       "      <td>1.283270e+05</td>\n",
       "      <td>1000000</td>\n",
       "    </tr>\n",
       "  </tbody>\n",
       "</table>\n",
       "</div>"
      ],
      "text/plain": [
       "               CoinName    Algorithm  IsTrading ProofType  TotalCoinsMined  \\\n",
       "Unnamed: 0                                                                   \n",
       "SERO         Super Zero       Ethash       True       PoW              NaN   \n",
       "UOS                 UOS      SHA-256       True      DPoI              NaN   \n",
       "BDX              Beldex  CryptoNight       True       PoW     9.802226e+08   \n",
       "ZEN             Horizen     Equihash       True       PoW     7.296538e+06   \n",
       "XBC         BitcoinPlus       Scrypt       True       PoS     1.283270e+05   \n",
       "\n",
       "           TotalCoinSupply  \n",
       "Unnamed: 0                  \n",
       "SERO            1000000000  \n",
       "UOS             1000000000  \n",
       "BDX             1400222610  \n",
       "ZEN               21000000  \n",
       "XBC                1000000  "
      ]
     },
     "execution_count": 44,
     "metadata": {},
     "output_type": "execute_result"
    }
   ],
   "source": [
    "# Remove all cryptocurrencies that don’t have an algorithm defined. - Says \"Multiple\"\n",
    "crypto_algorithms = crypto_trading[crypto_trading.Algorithm != \"Multiple\"]\n",
    "crypto_algorithms.tail()"
   ]
  },
  {
   "cell_type": "code",
   "execution_count": 45,
   "metadata": {},
   "outputs": [
    {
     "data": {
      "text/plain": [
       "CoinName           1126\n",
       "Algorithm          1126\n",
       "IsTrading          1126\n",
       "ProofType          1126\n",
       "TotalCoinsMined     674\n",
       "TotalCoinSupply    1126\n",
       "dtype: int64"
      ]
     },
     "execution_count": 45,
     "metadata": {},
     "output_type": "execute_result"
    }
   ],
   "source": [
    "crypto_algorithms.count()"
   ]
  },
  {
   "cell_type": "code",
   "execution_count": 46,
   "metadata": {},
   "outputs": [],
   "source": [
    "# Remove the IsTrading column.\n",
    "crypto_trade = crypto_algorithms.drop(\"IsTrading\", axis=1)"
   ]
  },
  {
   "cell_type": "code",
   "execution_count": 47,
   "metadata": {},
   "outputs": [
    {
     "data": {
      "text/html": [
       "<div>\n",
       "<style scoped>\n",
       "    .dataframe tbody tr th:only-of-type {\n",
       "        vertical-align: middle;\n",
       "    }\n",
       "\n",
       "    .dataframe tbody tr th {\n",
       "        vertical-align: top;\n",
       "    }\n",
       "\n",
       "    .dataframe thead th {\n",
       "        text-align: right;\n",
       "    }\n",
       "</style>\n",
       "<table border=\"1\" class=\"dataframe\">\n",
       "  <thead>\n",
       "    <tr style=\"text-align: right;\">\n",
       "      <th></th>\n",
       "      <th>CoinName</th>\n",
       "      <th>Algorithm</th>\n",
       "      <th>ProofType</th>\n",
       "      <th>TotalCoinsMined</th>\n",
       "      <th>TotalCoinSupply</th>\n",
       "    </tr>\n",
       "    <tr>\n",
       "      <th>Unnamed: 0</th>\n",
       "      <th></th>\n",
       "      <th></th>\n",
       "      <th></th>\n",
       "      <th></th>\n",
       "      <th></th>\n",
       "    </tr>\n",
       "  </thead>\n",
       "  <tbody>\n",
       "    <tr>\n",
       "      <th>42</th>\n",
       "      <td>42 Coin</td>\n",
       "      <td>Scrypt</td>\n",
       "      <td>PoW/PoS</td>\n",
       "      <td>4.199995e+01</td>\n",
       "      <td>42</td>\n",
       "    </tr>\n",
       "    <tr>\n",
       "      <th>404</th>\n",
       "      <td>404Coin</td>\n",
       "      <td>Scrypt</td>\n",
       "      <td>PoW/PoS</td>\n",
       "      <td>1.055185e+09</td>\n",
       "      <td>532000000</td>\n",
       "    </tr>\n",
       "    <tr>\n",
       "      <th>808</th>\n",
       "      <td>808</td>\n",
       "      <td>SHA-256</td>\n",
       "      <td>PoW/PoS</td>\n",
       "      <td>0.000000e+00</td>\n",
       "      <td>0</td>\n",
       "    </tr>\n",
       "    <tr>\n",
       "      <th>1337</th>\n",
       "      <td>EliteCoin</td>\n",
       "      <td>X13</td>\n",
       "      <td>PoW/PoS</td>\n",
       "      <td>2.927942e+10</td>\n",
       "      <td>314159265359</td>\n",
       "    </tr>\n",
       "    <tr>\n",
       "      <th>BTC</th>\n",
       "      <td>Bitcoin</td>\n",
       "      <td>SHA-256</td>\n",
       "      <td>PoW</td>\n",
       "      <td>1.792718e+07</td>\n",
       "      <td>21000000</td>\n",
       "    </tr>\n",
       "    <tr>\n",
       "      <th>ETH</th>\n",
       "      <td>Ethereum</td>\n",
       "      <td>Ethash</td>\n",
       "      <td>PoW</td>\n",
       "      <td>1.076842e+08</td>\n",
       "      <td>0</td>\n",
       "    </tr>\n",
       "    <tr>\n",
       "      <th>LTC</th>\n",
       "      <td>Litecoin</td>\n",
       "      <td>Scrypt</td>\n",
       "      <td>PoW</td>\n",
       "      <td>6.303924e+07</td>\n",
       "      <td>84000000</td>\n",
       "    </tr>\n",
       "    <tr>\n",
       "      <th>DASH</th>\n",
       "      <td>Dash</td>\n",
       "      <td>X11</td>\n",
       "      <td>PoW/PoS</td>\n",
       "      <td>9.031294e+06</td>\n",
       "      <td>22000000</td>\n",
       "    </tr>\n",
       "    <tr>\n",
       "      <th>XMR</th>\n",
       "      <td>Monero</td>\n",
       "      <td>CryptoNight-V7</td>\n",
       "      <td>PoW</td>\n",
       "      <td>1.720114e+07</td>\n",
       "      <td>0</td>\n",
       "    </tr>\n",
       "    <tr>\n",
       "      <th>ETC</th>\n",
       "      <td>Ethereum Classic</td>\n",
       "      <td>Ethash</td>\n",
       "      <td>PoW</td>\n",
       "      <td>1.133597e+08</td>\n",
       "      <td>210000000</td>\n",
       "    </tr>\n",
       "  </tbody>\n",
       "</table>\n",
       "</div>"
      ],
      "text/plain": [
       "                    CoinName       Algorithm ProofType  TotalCoinsMined  \\\n",
       "Unnamed: 0                                                                \n",
       "42                   42 Coin          Scrypt   PoW/PoS     4.199995e+01   \n",
       "404                  404Coin          Scrypt   PoW/PoS     1.055185e+09   \n",
       "808                      808         SHA-256   PoW/PoS     0.000000e+00   \n",
       "1337               EliteCoin             X13   PoW/PoS     2.927942e+10   \n",
       "BTC                  Bitcoin         SHA-256       PoW     1.792718e+07   \n",
       "ETH                 Ethereum          Ethash       PoW     1.076842e+08   \n",
       "LTC                 Litecoin          Scrypt       PoW     6.303924e+07   \n",
       "DASH                    Dash             X11   PoW/PoS     9.031294e+06   \n",
       "XMR                   Monero  CryptoNight-V7       PoW     1.720114e+07   \n",
       "ETC         Ethereum Classic          Ethash       PoW     1.133597e+08   \n",
       "\n",
       "           TotalCoinSupply  \n",
       "Unnamed: 0                  \n",
       "42                      42  \n",
       "404              532000000  \n",
       "808                      0  \n",
       "1337          314159265359  \n",
       "BTC               21000000  \n",
       "ETH                      0  \n",
       "LTC               84000000  \n",
       "DASH              22000000  \n",
       "XMR                      0  \n",
       "ETC              210000000  "
      ]
     },
     "execution_count": 47,
     "metadata": {},
     "output_type": "execute_result"
    }
   ],
   "source": [
    "# Remove all cryptocurrencies with at least one null value.\n",
    "crypto_no_nan = crypto_trade.dropna()\n",
    "crypto_no_nan.head(10)"
   ]
  },
  {
   "cell_type": "code",
   "execution_count": 48,
   "metadata": {},
   "outputs": [
    {
     "data": {
      "text/plain": [
       "CoinName           674\n",
       "Algorithm          674\n",
       "ProofType          674\n",
       "TotalCoinsMined    674\n",
       "TotalCoinSupply    674\n",
       "dtype: int64"
      ]
     },
     "execution_count": 48,
     "metadata": {},
     "output_type": "execute_result"
    }
   ],
   "source": [
    "crypto_no_nan.count()"
   ]
  },
  {
   "cell_type": "code",
   "execution_count": 49,
   "metadata": {},
   "outputs": [
    {
     "data": {
      "text/plain": [
       "CoinName           524\n",
       "Algorithm          524\n",
       "ProofType          524\n",
       "TotalCoinsMined    524\n",
       "TotalCoinSupply    524\n",
       "dtype: int64"
      ]
     },
     "execution_count": 49,
     "metadata": {},
     "output_type": "execute_result"
    }
   ],
   "source": [
    "# Remove all cryptocurrencies without coins mined.\n",
    "crypto_with_coins = crypto_no_nan[crypto_no_nan.TotalCoinsMined != 0]\n",
    "crypto_with_coins.count()"
   ]
  },
  {
   "cell_type": "code",
   "execution_count": 50,
   "metadata": {},
   "outputs": [
    {
     "data": {
      "text/html": [
       "<div>\n",
       "<style scoped>\n",
       "    .dataframe tbody tr th:only-of-type {\n",
       "        vertical-align: middle;\n",
       "    }\n",
       "\n",
       "    .dataframe tbody tr th {\n",
       "        vertical-align: top;\n",
       "    }\n",
       "\n",
       "    .dataframe thead th {\n",
       "        text-align: right;\n",
       "    }\n",
       "</style>\n",
       "<table border=\"1\" class=\"dataframe\">\n",
       "  <thead>\n",
       "    <tr style=\"text-align: right;\">\n",
       "      <th></th>\n",
       "      <th>CoinName</th>\n",
       "      <th>Algorithm</th>\n",
       "      <th>ProofType</th>\n",
       "      <th>TotalCoinsMined</th>\n",
       "      <th>TotalCoinSupply</th>\n",
       "    </tr>\n",
       "    <tr>\n",
       "      <th>Unnamed: 0</th>\n",
       "      <th></th>\n",
       "      <th></th>\n",
       "      <th></th>\n",
       "      <th></th>\n",
       "      <th></th>\n",
       "    </tr>\n",
       "  </thead>\n",
       "  <tbody>\n",
       "    <tr>\n",
       "      <th>42</th>\n",
       "      <td>42 Coin</td>\n",
       "      <td>Scrypt</td>\n",
       "      <td>PoW/PoS</td>\n",
       "      <td>4.199995e+01</td>\n",
       "      <td>42</td>\n",
       "    </tr>\n",
       "    <tr>\n",
       "      <th>404</th>\n",
       "      <td>404Coin</td>\n",
       "      <td>Scrypt</td>\n",
       "      <td>PoW/PoS</td>\n",
       "      <td>1.055185e+09</td>\n",
       "      <td>532000000</td>\n",
       "    </tr>\n",
       "    <tr>\n",
       "      <th>1337</th>\n",
       "      <td>EliteCoin</td>\n",
       "      <td>X13</td>\n",
       "      <td>PoW/PoS</td>\n",
       "      <td>2.927942e+10</td>\n",
       "      <td>314159265359</td>\n",
       "    </tr>\n",
       "    <tr>\n",
       "      <th>BTC</th>\n",
       "      <td>Bitcoin</td>\n",
       "      <td>SHA-256</td>\n",
       "      <td>PoW</td>\n",
       "      <td>1.792718e+07</td>\n",
       "      <td>21000000</td>\n",
       "    </tr>\n",
       "    <tr>\n",
       "      <th>ETH</th>\n",
       "      <td>Ethereum</td>\n",
       "      <td>Ethash</td>\n",
       "      <td>PoW</td>\n",
       "      <td>1.076842e+08</td>\n",
       "      <td>0</td>\n",
       "    </tr>\n",
       "  </tbody>\n",
       "</table>\n",
       "</div>"
      ],
      "text/plain": [
       "             CoinName Algorithm ProofType  TotalCoinsMined TotalCoinSupply\n",
       "Unnamed: 0                                                                \n",
       "42            42 Coin    Scrypt   PoW/PoS     4.199995e+01              42\n",
       "404           404Coin    Scrypt   PoW/PoS     1.055185e+09       532000000\n",
       "1337        EliteCoin       X13   PoW/PoS     2.927942e+10    314159265359\n",
       "BTC           Bitcoin   SHA-256       PoW     1.792718e+07        21000000\n",
       "ETH          Ethereum    Ethash       PoW     1.076842e+08               0"
      ]
     },
     "execution_count": 50,
     "metadata": {},
     "output_type": "execute_result"
    }
   ],
   "source": [
    "crypto_with_coins.head()"
   ]
  },
  {
   "cell_type": "code",
   "execution_count": 51,
   "metadata": {},
   "outputs": [],
   "source": [
    "# Store the names of all cryptocurrencies on a DataFramed named coins_name.\n",
    "# Use the crypto_df.index as the index for this new DataFrame.\n",
    "names = crypto_with_coins['CoinName']"
   ]
  },
  {
   "cell_type": "code",
   "execution_count": 52,
   "metadata": {},
   "outputs": [
    {
     "data": {
      "text/html": [
       "<div>\n",
       "<style scoped>\n",
       "    .dataframe tbody tr th:only-of-type {\n",
       "        vertical-align: middle;\n",
       "    }\n",
       "\n",
       "    .dataframe tbody tr th {\n",
       "        vertical-align: top;\n",
       "    }\n",
       "\n",
       "    .dataframe thead th {\n",
       "        text-align: right;\n",
       "    }\n",
       "</style>\n",
       "<table border=\"1\" class=\"dataframe\">\n",
       "  <thead>\n",
       "    <tr style=\"text-align: right;\">\n",
       "      <th></th>\n",
       "      <th>CoinName</th>\n",
       "    </tr>\n",
       "    <tr>\n",
       "      <th>Unnamed: 0</th>\n",
       "      <th></th>\n",
       "    </tr>\n",
       "  </thead>\n",
       "  <tbody>\n",
       "    <tr>\n",
       "      <th>42</th>\n",
       "      <td>42 Coin</td>\n",
       "    </tr>\n",
       "    <tr>\n",
       "      <th>404</th>\n",
       "      <td>404Coin</td>\n",
       "    </tr>\n",
       "    <tr>\n",
       "      <th>1337</th>\n",
       "      <td>EliteCoin</td>\n",
       "    </tr>\n",
       "    <tr>\n",
       "      <th>BTC</th>\n",
       "      <td>Bitcoin</td>\n",
       "    </tr>\n",
       "    <tr>\n",
       "      <th>ETH</th>\n",
       "      <td>Ethereum</td>\n",
       "    </tr>\n",
       "    <tr>\n",
       "      <th>...</th>\n",
       "      <td>...</td>\n",
       "    </tr>\n",
       "    <tr>\n",
       "      <th>ZEPH</th>\n",
       "      <td>ZEPHYR</td>\n",
       "    </tr>\n",
       "    <tr>\n",
       "      <th>GAP</th>\n",
       "      <td>Gapcoin</td>\n",
       "    </tr>\n",
       "    <tr>\n",
       "      <th>BDX</th>\n",
       "      <td>Beldex</td>\n",
       "    </tr>\n",
       "    <tr>\n",
       "      <th>ZEN</th>\n",
       "      <td>Horizen</td>\n",
       "    </tr>\n",
       "    <tr>\n",
       "      <th>XBC</th>\n",
       "      <td>BitcoinPlus</td>\n",
       "    </tr>\n",
       "  </tbody>\n",
       "</table>\n",
       "<p>524 rows × 1 columns</p>\n",
       "</div>"
      ],
      "text/plain": [
       "               CoinName\n",
       "Unnamed: 0             \n",
       "42              42 Coin\n",
       "404             404Coin\n",
       "1337          EliteCoin\n",
       "BTC             Bitcoin\n",
       "ETH            Ethereum\n",
       "...                 ...\n",
       "ZEPH             ZEPHYR\n",
       "GAP             Gapcoin\n",
       "BDX              Beldex\n",
       "ZEN             Horizen\n",
       "XBC         BitcoinPlus\n",
       "\n",
       "[524 rows x 1 columns]"
      ]
     },
     "execution_count": 52,
     "metadata": {},
     "output_type": "execute_result"
    }
   ],
   "source": [
    "coins_name = pd.DataFrame(names, index = crypto_with_coins.index)\n",
    "coins_name"
   ]
  },
  {
   "cell_type": "code",
   "execution_count": 53,
   "metadata": {},
   "outputs": [
    {
     "data": {
      "text/html": [
       "<div>\n",
       "<style scoped>\n",
       "    .dataframe tbody tr th:only-of-type {\n",
       "        vertical-align: middle;\n",
       "    }\n",
       "\n",
       "    .dataframe tbody tr th {\n",
       "        vertical-align: top;\n",
       "    }\n",
       "\n",
       "    .dataframe thead th {\n",
       "        text-align: right;\n",
       "    }\n",
       "</style>\n",
       "<table border=\"1\" class=\"dataframe\">\n",
       "  <thead>\n",
       "    <tr style=\"text-align: right;\">\n",
       "      <th></th>\n",
       "      <th>Algorithm</th>\n",
       "      <th>ProofType</th>\n",
       "      <th>TotalCoinsMined</th>\n",
       "      <th>TotalCoinSupply</th>\n",
       "    </tr>\n",
       "    <tr>\n",
       "      <th>Unnamed: 0</th>\n",
       "      <th></th>\n",
       "      <th></th>\n",
       "      <th></th>\n",
       "      <th></th>\n",
       "    </tr>\n",
       "  </thead>\n",
       "  <tbody>\n",
       "    <tr>\n",
       "      <th>42</th>\n",
       "      <td>Scrypt</td>\n",
       "      <td>PoW/PoS</td>\n",
       "      <td>4.199995e+01</td>\n",
       "      <td>42</td>\n",
       "    </tr>\n",
       "    <tr>\n",
       "      <th>404</th>\n",
       "      <td>Scrypt</td>\n",
       "      <td>PoW/PoS</td>\n",
       "      <td>1.055185e+09</td>\n",
       "      <td>532000000</td>\n",
       "    </tr>\n",
       "    <tr>\n",
       "      <th>1337</th>\n",
       "      <td>X13</td>\n",
       "      <td>PoW/PoS</td>\n",
       "      <td>2.927942e+10</td>\n",
       "      <td>314159265359</td>\n",
       "    </tr>\n",
       "    <tr>\n",
       "      <th>BTC</th>\n",
       "      <td>SHA-256</td>\n",
       "      <td>PoW</td>\n",
       "      <td>1.792718e+07</td>\n",
       "      <td>21000000</td>\n",
       "    </tr>\n",
       "    <tr>\n",
       "      <th>ETH</th>\n",
       "      <td>Ethash</td>\n",
       "      <td>PoW</td>\n",
       "      <td>1.076842e+08</td>\n",
       "      <td>0</td>\n",
       "    </tr>\n",
       "  </tbody>\n",
       "</table>\n",
       "</div>"
      ],
      "text/plain": [
       "           Algorithm ProofType  TotalCoinsMined TotalCoinSupply\n",
       "Unnamed: 0                                                     \n",
       "42            Scrypt   PoW/PoS     4.199995e+01              42\n",
       "404           Scrypt   PoW/PoS     1.055185e+09       532000000\n",
       "1337             X13   PoW/PoS     2.927942e+10    314159265359\n",
       "BTC          SHA-256       PoW     1.792718e+07        21000000\n",
       "ETH           Ethash       PoW     1.076842e+08               0"
      ]
     },
     "execution_count": 53,
     "metadata": {},
     "output_type": "execute_result"
    }
   ],
   "source": [
    "# Remove the CoinName column. \n",
    "crypto_df = crypto_with_coins.drop('CoinName', axis=1)\n",
    "crypto_df.head()"
   ]
  },
  {
   "cell_type": "code",
   "execution_count": 54,
   "metadata": {},
   "outputs": [
    {
     "data": {
      "text/html": [
       "<div>\n",
       "<style scoped>\n",
       "    .dataframe tbody tr th:only-of-type {\n",
       "        vertical-align: middle;\n",
       "    }\n",
       "\n",
       "    .dataframe tbody tr th {\n",
       "        vertical-align: top;\n",
       "    }\n",
       "\n",
       "    .dataframe thead th {\n",
       "        text-align: right;\n",
       "    }\n",
       "</style>\n",
       "<table border=\"1\" class=\"dataframe\">\n",
       "  <thead>\n",
       "    <tr style=\"text-align: right;\">\n",
       "      <th></th>\n",
       "      <th>TotalCoinsMined</th>\n",
       "      <th>TotalCoinSupply</th>\n",
       "      <th>Algorithm_1GB AES Pattern Search</th>\n",
       "      <th>Algorithm_536</th>\n",
       "      <th>Algorithm_Argon2d</th>\n",
       "      <th>Algorithm_BLAKE256</th>\n",
       "      <th>Algorithm_Blake</th>\n",
       "      <th>Algorithm_Blake2S</th>\n",
       "      <th>Algorithm_Blake2b</th>\n",
       "      <th>Algorithm_C11</th>\n",
       "      <th>...</th>\n",
       "      <th>ProofType_PoW/PoS</th>\n",
       "      <th>ProofType_PoW/PoS</th>\n",
       "      <th>ProofType_PoW/PoW</th>\n",
       "      <th>ProofType_PoW/nPoS</th>\n",
       "      <th>ProofType_Pos</th>\n",
       "      <th>ProofType_Proof of Authority</th>\n",
       "      <th>ProofType_Proof of Trust</th>\n",
       "      <th>ProofType_TPoS</th>\n",
       "      <th>ProofType_Zero-Knowledge Proof</th>\n",
       "      <th>ProofType_dPoW/PoW</th>\n",
       "    </tr>\n",
       "    <tr>\n",
       "      <th>Unnamed: 0</th>\n",
       "      <th></th>\n",
       "      <th></th>\n",
       "      <th></th>\n",
       "      <th></th>\n",
       "      <th></th>\n",
       "      <th></th>\n",
       "      <th></th>\n",
       "      <th></th>\n",
       "      <th></th>\n",
       "      <th></th>\n",
       "      <th></th>\n",
       "      <th></th>\n",
       "      <th></th>\n",
       "      <th></th>\n",
       "      <th></th>\n",
       "      <th></th>\n",
       "      <th></th>\n",
       "      <th></th>\n",
       "      <th></th>\n",
       "      <th></th>\n",
       "      <th></th>\n",
       "    </tr>\n",
       "  </thead>\n",
       "  <tbody>\n",
       "    <tr>\n",
       "      <th>42</th>\n",
       "      <td>4.199995e+01</td>\n",
       "      <td>42</td>\n",
       "      <td>0</td>\n",
       "      <td>0</td>\n",
       "      <td>0</td>\n",
       "      <td>0</td>\n",
       "      <td>0</td>\n",
       "      <td>0</td>\n",
       "      <td>0</td>\n",
       "      <td>0</td>\n",
       "      <td>...</td>\n",
       "      <td>1</td>\n",
       "      <td>0</td>\n",
       "      <td>0</td>\n",
       "      <td>0</td>\n",
       "      <td>0</td>\n",
       "      <td>0</td>\n",
       "      <td>0</td>\n",
       "      <td>0</td>\n",
       "      <td>0</td>\n",
       "      <td>0</td>\n",
       "    </tr>\n",
       "    <tr>\n",
       "      <th>404</th>\n",
       "      <td>1.055185e+09</td>\n",
       "      <td>532000000</td>\n",
       "      <td>0</td>\n",
       "      <td>0</td>\n",
       "      <td>0</td>\n",
       "      <td>0</td>\n",
       "      <td>0</td>\n",
       "      <td>0</td>\n",
       "      <td>0</td>\n",
       "      <td>0</td>\n",
       "      <td>...</td>\n",
       "      <td>1</td>\n",
       "      <td>0</td>\n",
       "      <td>0</td>\n",
       "      <td>0</td>\n",
       "      <td>0</td>\n",
       "      <td>0</td>\n",
       "      <td>0</td>\n",
       "      <td>0</td>\n",
       "      <td>0</td>\n",
       "      <td>0</td>\n",
       "    </tr>\n",
       "    <tr>\n",
       "      <th>1337</th>\n",
       "      <td>2.927942e+10</td>\n",
       "      <td>314159265359</td>\n",
       "      <td>0</td>\n",
       "      <td>0</td>\n",
       "      <td>0</td>\n",
       "      <td>0</td>\n",
       "      <td>0</td>\n",
       "      <td>0</td>\n",
       "      <td>0</td>\n",
       "      <td>0</td>\n",
       "      <td>...</td>\n",
       "      <td>1</td>\n",
       "      <td>0</td>\n",
       "      <td>0</td>\n",
       "      <td>0</td>\n",
       "      <td>0</td>\n",
       "      <td>0</td>\n",
       "      <td>0</td>\n",
       "      <td>0</td>\n",
       "      <td>0</td>\n",
       "      <td>0</td>\n",
       "    </tr>\n",
       "    <tr>\n",
       "      <th>BTC</th>\n",
       "      <td>1.792718e+07</td>\n",
       "      <td>21000000</td>\n",
       "      <td>0</td>\n",
       "      <td>0</td>\n",
       "      <td>0</td>\n",
       "      <td>0</td>\n",
       "      <td>0</td>\n",
       "      <td>0</td>\n",
       "      <td>0</td>\n",
       "      <td>0</td>\n",
       "      <td>...</td>\n",
       "      <td>0</td>\n",
       "      <td>0</td>\n",
       "      <td>0</td>\n",
       "      <td>0</td>\n",
       "      <td>0</td>\n",
       "      <td>0</td>\n",
       "      <td>0</td>\n",
       "      <td>0</td>\n",
       "      <td>0</td>\n",
       "      <td>0</td>\n",
       "    </tr>\n",
       "    <tr>\n",
       "      <th>ETH</th>\n",
       "      <td>1.076842e+08</td>\n",
       "      <td>0</td>\n",
       "      <td>0</td>\n",
       "      <td>0</td>\n",
       "      <td>0</td>\n",
       "      <td>0</td>\n",
       "      <td>0</td>\n",
       "      <td>0</td>\n",
       "      <td>0</td>\n",
       "      <td>0</td>\n",
       "      <td>...</td>\n",
       "      <td>0</td>\n",
       "      <td>0</td>\n",
       "      <td>0</td>\n",
       "      <td>0</td>\n",
       "      <td>0</td>\n",
       "      <td>0</td>\n",
       "      <td>0</td>\n",
       "      <td>0</td>\n",
       "      <td>0</td>\n",
       "      <td>0</td>\n",
       "    </tr>\n",
       "  </tbody>\n",
       "</table>\n",
       "<p>5 rows × 99 columns</p>\n",
       "</div>"
      ],
      "text/plain": [
       "            TotalCoinsMined TotalCoinSupply  Algorithm_1GB AES Pattern Search  \\\n",
       "Unnamed: 0                                                                      \n",
       "42             4.199995e+01              42                                 0   \n",
       "404            1.055185e+09       532000000                                 0   \n",
       "1337           2.927942e+10    314159265359                                 0   \n",
       "BTC            1.792718e+07        21000000                                 0   \n",
       "ETH            1.076842e+08               0                                 0   \n",
       "\n",
       "            Algorithm_536  Algorithm_Argon2d  Algorithm_BLAKE256  \\\n",
       "Unnamed: 0                                                         \n",
       "42                      0                  0                   0   \n",
       "404                     0                  0                   0   \n",
       "1337                    0                  0                   0   \n",
       "BTC                     0                  0                   0   \n",
       "ETH                     0                  0                   0   \n",
       "\n",
       "            Algorithm_Blake  Algorithm_Blake2S  Algorithm_Blake2b  \\\n",
       "Unnamed: 0                                                          \n",
       "42                        0                  0                  0   \n",
       "404                       0                  0                  0   \n",
       "1337                      0                  0                  0   \n",
       "BTC                       0                  0                  0   \n",
       "ETH                       0                  0                  0   \n",
       "\n",
       "            Algorithm_C11  ...  ProofType_PoW/PoS  ProofType_PoW/PoS   \\\n",
       "Unnamed: 0                 ...                                          \n",
       "42                      0  ...                  1                   0   \n",
       "404                     0  ...                  1                   0   \n",
       "1337                    0  ...                  1                   0   \n",
       "BTC                     0  ...                  0                   0   \n",
       "ETH                     0  ...                  0                   0   \n",
       "\n",
       "            ProofType_PoW/PoW  ProofType_PoW/nPoS  ProofType_Pos  \\\n",
       "Unnamed: 0                                                         \n",
       "42                          0                   0              0   \n",
       "404                         0                   0              0   \n",
       "1337                        0                   0              0   \n",
       "BTC                         0                   0              0   \n",
       "ETH                         0                   0              0   \n",
       "\n",
       "            ProofType_Proof of Authority  ProofType_Proof of Trust  \\\n",
       "Unnamed: 0                                                           \n",
       "42                                     0                         0   \n",
       "404                                    0                         0   \n",
       "1337                                   0                         0   \n",
       "BTC                                    0                         0   \n",
       "ETH                                    0                         0   \n",
       "\n",
       "            ProofType_TPoS  ProofType_Zero-Knowledge Proof  ProofType_dPoW/PoW  \n",
       "Unnamed: 0                                                                      \n",
       "42                       0                               0                   0  \n",
       "404                      0                               0                   0  \n",
       "1337                     0                               0                   0  \n",
       "BTC                      0                               0                   0  \n",
       "ETH                      0                               0                   0  \n",
       "\n",
       "[5 rows x 99 columns]"
      ]
     },
     "execution_count": 54,
     "metadata": {},
     "output_type": "execute_result"
    }
   ],
   "source": [
    "# Create dummies variables for all of the text features, and store the resulting data on a DataFrame named X.\n",
    "X = pd.get_dummies(data=crypto_df, columns = [\"Algorithm\", \"ProofType\"])\n",
    "X.head()"
   ]
  },
  {
   "cell_type": "code",
   "execution_count": 55,
   "metadata": {},
   "outputs": [
    {
     "name": "stdout",
     "output_type": "stream",
     "text": [
      "[[-0.11648562 -0.15303594 -0.04372695 -0.04372695 -0.04372695 -0.06189845\n",
      "  -0.07588252 -0.04372695 -0.06189845 -0.06189845 -0.04372695 -0.04372695\n",
      "  -0.19396846 -0.06189845 -0.09815249 -0.04372695 -0.11636001 -0.07588252\n",
      "  -0.04372695 -0.04372695 -0.15309311 -0.04372695 -0.13219579 -0.04372695\n",
      "  -0.04372695 -0.0877058  -0.04372695 -0.04372695 -0.04372695 -0.04372695\n",
      "  -0.06189845 -0.04372695 -0.0877058  -0.0877058  -0.0877058  -0.04372695\n",
      "  -0.13948209 -0.13948209 -0.04372695 -0.06189845 -0.04372695 -0.07588252\n",
      "  -0.18311355 -0.04372695 -0.04372695 -0.04372695 -0.07588252 -0.1595002\n",
      "  -0.31755367 -0.04372695 -0.0877058  -0.07588252 -0.06189845 -0.04372695\n",
      "   1.3708103  -0.04372695 -0.04372695 -0.06189845 -0.04372695 -0.04372695\n",
      "  -0.04372695 -0.04372695 -0.04372695 -0.04372695 -0.04372695 -0.04372695\n",
      "  -0.40232142 -0.04372695 -0.18311355 -0.04372695 -0.0877058  -0.0877058\n",
      "  -0.1076244  -0.04372695 -0.04372695 -0.13219579 -0.04372695 -0.04372695\n",
      "  -0.04372695 -0.04372695 -0.07588252 -0.43693145 -0.04372695 -0.06189845\n",
      "  -0.04372695 -0.04372695 -0.88448455 -0.04372695 -0.04372695  1.4061553\n",
      "  -0.04372695 -0.04372695 -0.04372695 -0.04372695 -0.04372695 -0.04372695\n",
      "  -0.04372695 -0.04372695 -0.04372695]\n",
      " [-0.09351967 -0.14523269 -0.04372695 -0.04372695 -0.04372695 -0.06189845\n",
      "  -0.07588252 -0.04372695 -0.06189845 -0.06189845 -0.04372695 -0.04372695\n",
      "  -0.19396846 -0.06189845 -0.09815249 -0.04372695 -0.11636001 -0.07588252\n",
      "  -0.04372695 -0.04372695 -0.15309311 -0.04372695 -0.13219579 -0.04372695\n",
      "  -0.04372695 -0.0877058  -0.04372695 -0.04372695 -0.04372695 -0.04372695\n",
      "  -0.06189845 -0.04372695 -0.0877058  -0.0877058  -0.0877058  -0.04372695\n",
      "  -0.13948209 -0.13948209 -0.04372695 -0.06189845 -0.04372695 -0.07588252\n",
      "  -0.18311355 -0.04372695 -0.04372695 -0.04372695 -0.07588252 -0.1595002\n",
      "  -0.31755367 -0.04372695 -0.0877058  -0.07588252 -0.06189845 -0.04372695\n",
      "   1.3708103  -0.04372695 -0.04372695 -0.06189845 -0.04372695 -0.04372695\n",
      "  -0.04372695 -0.04372695 -0.04372695 -0.04372695 -0.04372695 -0.04372695\n",
      "  -0.40232142 -0.04372695 -0.18311355 -0.04372695 -0.0877058  -0.0877058\n",
      "  -0.1076244  -0.04372695 -0.04372695 -0.13219579 -0.04372695 -0.04372695\n",
      "  -0.04372695 -0.04372695 -0.07588252 -0.43693145 -0.04372695 -0.06189845\n",
      "  -0.04372695 -0.04372695 -0.88448455 -0.04372695 -0.04372695  1.4061553\n",
      "  -0.04372695 -0.04372695 -0.04372695 -0.04372695 -0.04372695 -0.04372695\n",
      "  -0.04372695 -0.04372695 -0.04372695]\n",
      " [ 0.52077697  4.45497905 -0.04372695 -0.04372695 -0.04372695 -0.06189845\n",
      "  -0.07588252 -0.04372695 -0.06189845 -0.06189845 -0.04372695 -0.04372695\n",
      "  -0.19396846 -0.06189845 -0.09815249 -0.04372695 -0.11636001 -0.07588252\n",
      "  -0.04372695 -0.04372695 -0.15309311 -0.04372695 -0.13219579 -0.04372695\n",
      "  -0.04372695 -0.0877058  -0.04372695 -0.04372695 -0.04372695 -0.04372695\n",
      "  -0.06189845 -0.04372695 -0.0877058  -0.0877058  -0.0877058  -0.04372695\n",
      "  -0.13948209 -0.13948209 -0.04372695 -0.06189845 -0.04372695 -0.07588252\n",
      "  -0.18311355 -0.04372695 -0.04372695 -0.04372695 -0.07588252 -0.1595002\n",
      "  -0.31755367 -0.04372695 -0.0877058  -0.07588252 -0.06189845 -0.04372695\n",
      "  -0.72949554 -0.04372695 -0.04372695 -0.06189845 -0.04372695 -0.04372695\n",
      "  -0.04372695 -0.04372695 -0.04372695 -0.04372695 -0.04372695 -0.04372695\n",
      "  -0.40232142 -0.04372695  5.46109233 -0.04372695 -0.0877058  -0.0877058\n",
      "  -0.1076244  -0.04372695 -0.04372695 -0.13219579 -0.04372695 -0.04372695\n",
      "  -0.04372695 -0.04372695 -0.07588252 -0.43693145 -0.04372695 -0.06189845\n",
      "  -0.04372695 -0.04372695 -0.88448455 -0.04372695 -0.04372695  1.4061553\n",
      "  -0.04372695 -0.04372695 -0.04372695 -0.04372695 -0.04372695 -0.04372695\n",
      "  -0.04372695 -0.04372695 -0.04372695]\n",
      " [-0.11609544 -0.15272792 -0.04372695 -0.04372695 -0.04372695 -0.06189845\n",
      "  -0.07588252 -0.04372695 -0.06189845 -0.06189845 -0.04372695 -0.04372695\n",
      "  -0.19396846 -0.06189845 -0.09815249 -0.04372695 -0.11636001 -0.07588252\n",
      "  -0.04372695 -0.04372695 -0.15309311 -0.04372695 -0.13219579 -0.04372695\n",
      "  -0.04372695 -0.0877058  -0.04372695 -0.04372695 -0.04372695 -0.04372695\n",
      "  -0.06189845 -0.04372695 -0.0877058  -0.0877058  -0.0877058  -0.04372695\n",
      "  -0.13948209 -0.13948209 -0.04372695 -0.06189845 -0.04372695 -0.07588252\n",
      "  -0.18311355 -0.04372695 -0.04372695 -0.04372695 -0.07588252 -0.1595002\n",
      "   3.14907394 -0.04372695 -0.0877058  -0.07588252 -0.06189845 -0.04372695\n",
      "  -0.72949554 -0.04372695 -0.04372695 -0.06189845 -0.04372695 -0.04372695\n",
      "  -0.04372695 -0.04372695 -0.04372695 -0.04372695 -0.04372695 -0.04372695\n",
      "  -0.40232142 -0.04372695 -0.18311355 -0.04372695 -0.0877058  -0.0877058\n",
      "  -0.1076244  -0.04372695 -0.04372695 -0.13219579 -0.04372695 -0.04372695\n",
      "  -0.04372695 -0.04372695 -0.07588252 -0.43693145 -0.04372695 -0.06189845\n",
      "  -0.04372695 -0.04372695  1.13060199 -0.04372695 -0.04372695 -0.711159\n",
      "  -0.04372695 -0.04372695 -0.04372695 -0.04372695 -0.04372695 -0.04372695\n",
      "  -0.04372695 -0.04372695 -0.04372695]\n",
      " [-0.11414189 -0.15303594 -0.04372695 -0.04372695 -0.04372695 -0.06189845\n",
      "  -0.07588252 -0.04372695 -0.06189845 -0.06189845 -0.04372695 -0.04372695\n",
      "  -0.19396846 -0.06189845 -0.09815249 -0.04372695 -0.11636001 -0.07588252\n",
      "  -0.04372695 -0.04372695 -0.15309311 -0.04372695  7.56453715 -0.04372695\n",
      "  -0.04372695 -0.0877058  -0.04372695 -0.04372695 -0.04372695 -0.04372695\n",
      "  -0.06189845 -0.04372695 -0.0877058  -0.0877058  -0.0877058  -0.04372695\n",
      "  -0.13948209 -0.13948209 -0.04372695 -0.06189845 -0.04372695 -0.07588252\n",
      "  -0.18311355 -0.04372695 -0.04372695 -0.04372695 -0.07588252 -0.1595002\n",
      "  -0.31755367 -0.04372695 -0.0877058  -0.07588252 -0.06189845 -0.04372695\n",
      "  -0.72949554 -0.04372695 -0.04372695 -0.06189845 -0.04372695 -0.04372695\n",
      "  -0.04372695 -0.04372695 -0.04372695 -0.04372695 -0.04372695 -0.04372695\n",
      "  -0.40232142 -0.04372695 -0.18311355 -0.04372695 -0.0877058  -0.0877058\n",
      "  -0.1076244  -0.04372695 -0.04372695 -0.13219579 -0.04372695 -0.04372695\n",
      "  -0.04372695 -0.04372695 -0.07588252 -0.43693145 -0.04372695 -0.06189845\n",
      "  -0.04372695 -0.04372695  1.13060199 -0.04372695 -0.04372695 -0.711159\n",
      "  -0.04372695 -0.04372695 -0.04372695 -0.04372695 -0.04372695 -0.04372695\n",
      "  -0.04372695 -0.04372695 -0.04372695]]\n"
     ]
    }
   ],
   "source": [
    "# Standardize all the data from X Dataframe using StandardSCaler\n",
    "X = StandardScaler().fit_transform(X)\n",
    "print(X[0:5])"
   ]
  },
  {
   "cell_type": "code",
   "execution_count": 56,
   "metadata": {},
   "outputs": [],
   "source": [
    "# Use PCA to reduce dimenstions down to three\n",
    "pca = PCA(n_components=3)"
   ]
  },
  {
   "cell_type": "code",
   "execution_count": 57,
   "metadata": {},
   "outputs": [
    {
     "data": {
      "text/plain": [
       "array([[-0.33728465,  0.9697491 , -0.60297629],\n",
       "       [-0.32074788,  0.96990351, -0.60351785],\n",
       "       [ 2.29689308,  1.64783789, -0.72191178],\n",
       "       ...,\n",
       "       [ 0.32145497, -2.31578275,  0.42717734],\n",
       "       [-0.13062935, -2.03578469,  0.55736349],\n",
       "       [-0.29650442,  0.84074022, -0.25078714]])"
      ]
     },
     "execution_count": 57,
     "metadata": {},
     "output_type": "execute_result"
    }
   ],
   "source": [
    "pca_1 = pca.fit_transform(X)\n",
    "pca_1"
   ]
  },
  {
   "cell_type": "code",
   "execution_count": 58,
   "metadata": {},
   "outputs": [
    {
     "data": {
      "text/html": [
       "<div>\n",
       "<style scoped>\n",
       "    .dataframe tbody tr th:only-of-type {\n",
       "        vertical-align: middle;\n",
       "    }\n",
       "\n",
       "    .dataframe tbody tr th {\n",
       "        vertical-align: top;\n",
       "    }\n",
       "\n",
       "    .dataframe thead th {\n",
       "        text-align: right;\n",
       "    }\n",
       "</style>\n",
       "<table border=\"1\" class=\"dataframe\">\n",
       "  <thead>\n",
       "    <tr style=\"text-align: right;\">\n",
       "      <th></th>\n",
       "      <th>PC 1</th>\n",
       "      <th>PC 2</th>\n",
       "      <th>PC 3</th>\n",
       "    </tr>\n",
       "    <tr>\n",
       "      <th>Unnamed: 0</th>\n",
       "      <th></th>\n",
       "      <th></th>\n",
       "      <th></th>\n",
       "    </tr>\n",
       "  </thead>\n",
       "  <tbody>\n",
       "    <tr>\n",
       "      <th>42</th>\n",
       "      <td>-0.337285</td>\n",
       "      <td>0.969749</td>\n",
       "      <td>-0.602976</td>\n",
       "    </tr>\n",
       "    <tr>\n",
       "      <th>404</th>\n",
       "      <td>-0.320748</td>\n",
       "      <td>0.969904</td>\n",
       "      <td>-0.603518</td>\n",
       "    </tr>\n",
       "    <tr>\n",
       "      <th>1337</th>\n",
       "      <td>2.296893</td>\n",
       "      <td>1.647838</td>\n",
       "      <td>-0.721912</td>\n",
       "    </tr>\n",
       "    <tr>\n",
       "      <th>BTC</th>\n",
       "      <td>-0.146219</td>\n",
       "      <td>-1.316683</td>\n",
       "      <td>0.207438</td>\n",
       "    </tr>\n",
       "    <tr>\n",
       "      <th>ETH</th>\n",
       "      <td>-0.155746</td>\n",
       "      <td>-1.987853</td>\n",
       "      <td>0.422878</td>\n",
       "    </tr>\n",
       "  </tbody>\n",
       "</table>\n",
       "</div>"
      ],
      "text/plain": [
       "                PC 1      PC 2      PC 3\n",
       "Unnamed: 0                              \n",
       "42         -0.337285  0.969749 -0.602976\n",
       "404        -0.320748  0.969904 -0.603518\n",
       "1337        2.296893  1.647838 -0.721912\n",
       "BTC        -0.146219 -1.316683  0.207438\n",
       "ETH        -0.155746 -1.987853  0.422878"
      ]
     },
     "execution_count": 58,
     "metadata": {},
     "output_type": "execute_result"
    }
   ],
   "source": [
    "pcs_df = pd.DataFrame(data=pca_1, columns=[\n",
    "    \"PC 1\", \"PC 2\", \"PC 3\"\n",
    "], index=crypto_df.index)\n",
    "pcs_df.head()"
   ]
  },
  {
   "cell_type": "code",
   "execution_count": 59,
   "metadata": {},
   "outputs": [],
   "source": [
    "inertia = []\n",
    "k = list(range(1, 11))\n",
    "# Calculate the inertia for the range of K values\n",
    "for i in k:\n",
    "   km = KMeans(n_clusters=i, random_state=0)\n",
    "   km.fit(pcs_df)\n",
    "   inertia.append(km.inertia_)"
   ]
  },
  {
   "cell_type": "code",
   "execution_count": 60,
   "metadata": {},
   "outputs": [
    {
     "data": {},
     "metadata": {},
     "output_type": "display_data"
    },
    {
     "data": {
      "application/vnd.holoviews_exec.v0+json": "",
      "text/html": [
       "<div id='1102'>\n",
       "\n",
       "\n",
       "\n",
       "\n",
       "\n",
       "  <div class=\"bk-root\" id=\"403db1fc-840d-46be-ae6c-0714476d33b9\" data-root-id=\"1102\"></div>\n",
       "</div>\n",
       "<script type=\"application/javascript\">(function(root) {\n",
       "  function embed_document(root) {\n",
       "  var docs_json = {\"a111fdcf-1222-47bc-a92c-769e6f2ac7f9\":{\"roots\":{\"references\":[{\"attributes\":{\"children\":[{\"id\":\"1103\"},{\"id\":\"1107\"},{\"id\":\"1166\"}],\"margin\":[0,0,0,0],\"name\":\"Row01699\",\"tags\":[\"embedded\"]},\"id\":\"1102\",\"type\":\"Row\"},{\"attributes\":{\"margin\":[5,5,5,5],\"name\":\"HSpacer01703\",\"sizing_mode\":\"stretch_width\"},\"id\":\"1103\",\"type\":\"Spacer\"},{\"attributes\":{},\"id\":\"1121\",\"type\":\"BasicTicker\"},{\"attributes\":{\"active_drag\":\"auto\",\"active_inspect\":\"auto\",\"active_multi\":null,\"active_scroll\":\"auto\",\"active_tap\":\"auto\",\"tools\":[{\"id\":\"1106\"},{\"id\":\"1124\"},{\"id\":\"1125\"},{\"id\":\"1126\"},{\"id\":\"1127\"},{\"id\":\"1128\"}]},\"id\":\"1130\",\"type\":\"Toolbar\"},{\"attributes\":{\"axis\":{\"id\":\"1120\"},\"dimension\":1,\"grid_line_color\":null,\"ticker\":null},\"id\":\"1123\",\"type\":\"Grid\"},{\"attributes\":{\"callback\":null,\"renderers\":[{\"id\":\"1143\"}],\"tags\":[\"hv_created\"],\"tooltips\":[[\"k\",\"@{k}\"],[\"inertia\",\"@{inertia}\"]]},\"id\":\"1106\",\"type\":\"HoverTool\"},{\"attributes\":{\"data\":{\"inertia\":{\"__ndarray__\":\"AqkYFWn7q0BQMF1fdAGjQBLL4b6+25ZA09MfQBPggkDxAVFL4MN5QD4xCCAojHNA0EIP8xT8b0BJBGQZEMhpQGOh3eHSg2VAnFzK3rQKYUA=\",\"dtype\":\"float64\",\"order\":\"little\",\"shape\":[10]},\"k\":[1,2,3,4,5,6,7,8,9,10]},\"selected\":{\"id\":\"1138\"},\"selection_policy\":{\"id\":\"1156\"}},\"id\":\"1137\",\"type\":\"ColumnDataSource\"},{\"attributes\":{\"margin\":[5,5,5,5],\"name\":\"HSpacer01704\",\"sizing_mode\":\"stretch_width\"},\"id\":\"1166\",\"type\":\"Spacer\"},{\"attributes\":{\"line_alpha\":0.1,\"line_color\":\"#1f77b3\",\"line_width\":2,\"x\":{\"field\":\"k\"},\"y\":{\"field\":\"inertia\"}},\"id\":\"1141\",\"type\":\"Line\"},{\"attributes\":{},\"id\":\"1138\",\"type\":\"Selection\"},{\"attributes\":{\"end\":10.0,\"reset_end\":10.0,\"reset_start\":1.0,\"start\":1.0,\"tags\":[[[\"k\",\"k\",null]]]},\"id\":\"1104\",\"type\":\"Range1d\"},{\"attributes\":{\"text\":\"Elbow Curve\",\"text_color\":{\"value\":\"black\"},\"text_font_size\":{\"value\":\"12pt\"}},\"id\":\"1108\",\"type\":\"Title\"},{\"attributes\":{\"ticks\":[1,2,3,4,5,6,7,8,9,10]},\"id\":\"1145\",\"type\":\"FixedTicker\"},{\"attributes\":{},\"id\":\"1124\",\"type\":\"SaveTool\"},{\"attributes\":{\"end\":3926.242305095835,\"reset_end\":3926.242305095835,\"reset_start\":-208.2024871275916,\"start\":-208.2024871275916,\"tags\":[[[\"inertia\",\"inertia\",null]]]},\"id\":\"1105\",\"type\":\"Range1d\"},{\"attributes\":{},\"id\":\"1126\",\"type\":\"WheelZoomTool\"},{\"attributes\":{},\"id\":\"1156\",\"type\":\"UnionRenderers\"},{\"attributes\":{},\"id\":\"1125\",\"type\":\"PanTool\"},{\"attributes\":{},\"id\":\"1147\",\"type\":\"BasicTickFormatter\"},{\"attributes\":{\"overlay\":{\"id\":\"1129\"}},\"id\":\"1127\",\"type\":\"BoxZoomTool\"},{\"attributes\":{\"align\":null,\"below\":[{\"id\":\"1116\"}],\"center\":[{\"id\":\"1119\"},{\"id\":\"1123\"}],\"left\":[{\"id\":\"1120\"}],\"margin\":null,\"min_border_bottom\":10,\"min_border_left\":10,\"min_border_right\":10,\"min_border_top\":10,\"plot_height\":300,\"plot_width\":700,\"renderers\":[{\"id\":\"1143\"}],\"sizing_mode\":\"fixed\",\"title\":{\"id\":\"1108\"},\"toolbar\":{\"id\":\"1130\"},\"x_range\":{\"id\":\"1104\"},\"x_scale\":{\"id\":\"1112\"},\"y_range\":{\"id\":\"1105\"},\"y_scale\":{\"id\":\"1114\"}},\"id\":\"1107\",\"subtype\":\"Figure\",\"type\":\"Plot\"},{\"attributes\":{\"line_color\":\"#1f77b3\",\"line_width\":2,\"x\":{\"field\":\"k\"},\"y\":{\"field\":\"inertia\"}},\"id\":\"1140\",\"type\":\"Line\"},{\"attributes\":{\"bottom_units\":\"screen\",\"fill_alpha\":0.5,\"fill_color\":\"lightgrey\",\"left_units\":\"screen\",\"level\":\"overlay\",\"line_alpha\":1.0,\"line_color\":\"black\",\"line_dash\":[4,4],\"line_width\":2,\"right_units\":\"screen\",\"top_units\":\"screen\"},\"id\":\"1129\",\"type\":\"BoxAnnotation\"},{\"attributes\":{\"axis\":{\"id\":\"1116\"},\"grid_line_color\":null,\"ticker\":null},\"id\":\"1119\",\"type\":\"Grid\"},{\"attributes\":{\"line_alpha\":0.2,\"line_color\":\"#1f77b3\",\"line_width\":2,\"x\":{\"field\":\"k\"},\"y\":{\"field\":\"inertia\"}},\"id\":\"1142\",\"type\":\"Line\"},{\"attributes\":{},\"id\":\"1128\",\"type\":\"ResetTool\"},{\"attributes\":{},\"id\":\"1112\",\"type\":\"LinearScale\"},{\"attributes\":{\"data_source\":{\"id\":\"1137\"},\"glyph\":{\"id\":\"1140\"},\"hover_glyph\":null,\"muted_glyph\":{\"id\":\"1142\"},\"nonselection_glyph\":{\"id\":\"1141\"},\"selection_glyph\":null,\"view\":{\"id\":\"1144\"}},\"id\":\"1143\",\"type\":\"GlyphRenderer\"},{\"attributes\":{\"axis_label\":\"inertia\",\"bounds\":\"auto\",\"formatter\":{\"id\":\"1151\"},\"major_label_orientation\":\"horizontal\",\"ticker\":{\"id\":\"1121\"}},\"id\":\"1120\",\"type\":\"LinearAxis\"},{\"attributes\":{},\"id\":\"1114\",\"type\":\"LinearScale\"},{\"attributes\":{\"axis_label\":\"k\",\"bounds\":\"auto\",\"formatter\":{\"id\":\"1147\"},\"major_label_orientation\":\"horizontal\",\"ticker\":{\"id\":\"1145\"}},\"id\":\"1116\",\"type\":\"LinearAxis\"},{\"attributes\":{\"source\":{\"id\":\"1137\"}},\"id\":\"1144\",\"type\":\"CDSView\"},{\"attributes\":{},\"id\":\"1151\",\"type\":\"BasicTickFormatter\"}],\"root_ids\":[\"1102\"]},\"title\":\"Bokeh Application\",\"version\":\"2.1.1\"}};\n",
       "  var render_items = [{\"docid\":\"a111fdcf-1222-47bc-a92c-769e6f2ac7f9\",\"root_ids\":[\"1102\"],\"roots\":{\"1102\":\"403db1fc-840d-46be-ae6c-0714476d33b9\"}}];\n",
       "  root.Bokeh.embed.embed_items_notebook(docs_json, render_items);\n",
       "  }\n",
       "if (root.Bokeh !== undefined) {\n",
       "    embed_document(root);\n",
       "  } else {\n",
       "    var attempts = 0;\n",
       "    var timer = setInterval(function(root) {\n",
       "      if (root.Bokeh !== undefined) {\n",
       "        clearInterval(timer);\n",
       "        embed_document(root);\n",
       "      } else if (document.readyState == \"complete\") {\n",
       "        attempts++;\n",
       "        if (attempts > 100) {\n",
       "          clearInterval(timer);\n",
       "          console.log(\"Bokeh: ERROR: Unable to run BokehJS code because BokehJS library is missing\");\n",
       "        }\n",
       "      }\n",
       "    }, 10, root)\n",
       "  }\n",
       "})(window);</script>"
      ],
      "text/plain": [
       ":Curve   [k]   (inertia)"
      ]
     },
     "execution_count": 60,
     "metadata": {
      "application/vnd.holoviews_exec.v0+json": {
       "id": "1102"
      }
     },
     "output_type": "execute_result"
    }
   ],
   "source": [
    "elbow_data = {\"k\": k, \"inertia\": inertia}\n",
    "df_elbow = pd.DataFrame(elbow_data)\n",
    "df_elbow.hvplot.line(x=\"k\", y=\"inertia\", xticks=k, title=\"Elbow Curve\")"
   ]
  },
  {
   "cell_type": "code",
   "execution_count": 61,
   "metadata": {},
   "outputs": [],
   "source": [
    "# Function to cluster and plot dataset\n",
    "def test_cluster_amount(df, clusters):\n",
    "    model = KMeans(n_clusters=clusters, random_state=5)\n",
    "    # Fitting model\n",
    "    model.fit(df)\n",
    "    \n",
    "    # Add a new clas column to df_iris\n",
    "    df[\"class\"] = model.labels_"
   ]
  },
  {
   "cell_type": "code",
   "execution_count": 62,
   "metadata": {},
   "outputs": [],
   "source": [
    "# Run the DataFrame to see Class\n",
    "test_cluster_amount(pcs_df, 4)"
   ]
  },
  {
   "cell_type": "code",
   "execution_count": 63,
   "metadata": {},
   "outputs": [
    {
     "data": {
      "text/html": [
       "<div>\n",
       "<style scoped>\n",
       "    .dataframe tbody tr th:only-of-type {\n",
       "        vertical-align: middle;\n",
       "    }\n",
       "\n",
       "    .dataframe tbody tr th {\n",
       "        vertical-align: top;\n",
       "    }\n",
       "\n",
       "    .dataframe thead th {\n",
       "        text-align: right;\n",
       "    }\n",
       "</style>\n",
       "<table border=\"1\" class=\"dataframe\">\n",
       "  <thead>\n",
       "    <tr style=\"text-align: right;\">\n",
       "      <th></th>\n",
       "      <th>PC 1</th>\n",
       "      <th>PC 2</th>\n",
       "      <th>PC 3</th>\n",
       "      <th>class</th>\n",
       "    </tr>\n",
       "    <tr>\n",
       "      <th>Unnamed: 0</th>\n",
       "      <th></th>\n",
       "      <th></th>\n",
       "      <th></th>\n",
       "      <th></th>\n",
       "    </tr>\n",
       "  </thead>\n",
       "  <tbody>\n",
       "    <tr>\n",
       "      <th>42</th>\n",
       "      <td>-0.337285</td>\n",
       "      <td>0.969749</td>\n",
       "      <td>-0.602976</td>\n",
       "      <td>0</td>\n",
       "    </tr>\n",
       "    <tr>\n",
       "      <th>404</th>\n",
       "      <td>-0.320748</td>\n",
       "      <td>0.969904</td>\n",
       "      <td>-0.603518</td>\n",
       "      <td>0</td>\n",
       "    </tr>\n",
       "    <tr>\n",
       "      <th>1337</th>\n",
       "      <td>2.296893</td>\n",
       "      <td>1.647838</td>\n",
       "      <td>-0.721912</td>\n",
       "      <td>0</td>\n",
       "    </tr>\n",
       "    <tr>\n",
       "      <th>BTC</th>\n",
       "      <td>-0.146219</td>\n",
       "      <td>-1.316683</td>\n",
       "      <td>0.207438</td>\n",
       "      <td>2</td>\n",
       "    </tr>\n",
       "    <tr>\n",
       "      <th>ETH</th>\n",
       "      <td>-0.155746</td>\n",
       "      <td>-1.987853</td>\n",
       "      <td>0.422878</td>\n",
       "      <td>2</td>\n",
       "    </tr>\n",
       "  </tbody>\n",
       "</table>\n",
       "</div>"
      ],
      "text/plain": [
       "                PC 1      PC 2      PC 3  class\n",
       "Unnamed: 0                                     \n",
       "42         -0.337285  0.969749 -0.602976      0\n",
       "404        -0.320748  0.969904 -0.603518      0\n",
       "1337        2.296893  1.647838 -0.721912      0\n",
       "BTC        -0.146219 -1.316683  0.207438      2\n",
       "ETH        -0.155746 -1.987853  0.422878      2"
      ]
     },
     "execution_count": 63,
     "metadata": {},
     "output_type": "execute_result"
    }
   ],
   "source": [
    "pcs_df.head()"
   ]
  },
  {
   "cell_type": "code",
   "execution_count": 64,
   "metadata": {},
   "outputs": [
    {
     "data": {
      "application/vnd.plotly.v1+json": {
       "config": {
        "plotlyServerURL": "https://plot.ly"
       },
       "data": [
        {
         "hovertemplate": "class=%{marker.color}<br>PC 1=%{x}<br>PC 2=%{y}<br>PC 3=%{z}<extra></extra>",
         "legendgroup": "0",
         "marker": {
          "color": [
           0,
           0,
           0,
           0,
           0,
           0,
           0,
           0,
           0,
           0,
           0,
           0,
           0,
           0,
           0,
           0,
           0,
           0,
           0,
           0,
           0,
           0,
           0,
           0,
           0,
           0,
           0,
           0,
           0,
           0,
           0,
           0,
           0,
           0,
           0,
           0,
           0,
           0,
           0,
           0,
           0,
           0,
           0,
           0,
           0,
           0,
           0,
           0,
           0,
           0,
           0,
           0,
           0,
           0,
           0,
           0,
           0,
           0,
           0,
           0,
           0,
           0,
           0,
           0,
           0,
           0,
           0,
           0,
           0,
           0,
           0,
           0,
           0,
           0,
           0,
           0,
           0,
           0,
           0,
           0,
           0,
           0,
           0,
           0,
           0,
           0,
           0,
           0,
           0,
           0,
           0,
           0,
           0,
           0,
           0,
           0,
           0,
           0,
           0,
           0,
           0,
           0,
           0,
           0,
           0,
           0,
           0,
           0,
           0,
           0,
           0,
           0,
           0,
           0,
           0,
           0,
           0,
           0,
           0,
           0,
           0,
           0,
           0,
           0,
           0,
           0,
           0,
           0,
           0,
           0,
           0,
           0,
           0,
           0,
           0,
           0,
           0,
           0,
           0,
           0,
           0,
           0,
           0,
           0,
           0,
           0,
           0,
           0,
           0,
           0,
           0,
           0,
           0,
           0,
           0,
           0,
           0,
           0,
           0,
           0,
           0,
           0,
           0,
           0,
           0,
           0,
           0,
           0,
           0,
           0,
           0,
           0,
           0,
           0,
           0,
           0,
           0,
           0,
           0,
           0,
           0,
           0,
           0,
           0,
           0,
           0,
           0,
           0,
           0,
           0,
           0,
           0,
           0,
           0,
           0,
           0,
           0,
           0,
           0,
           0,
           0,
           0,
           0,
           0,
           0,
           0,
           0,
           0,
           0,
           0,
           0,
           0,
           0,
           0,
           0,
           0,
           0,
           0,
           0,
           0,
           0,
           0,
           0,
           0,
           0,
           0,
           0,
           0,
           0,
           0,
           0,
           0,
           0,
           0,
           0,
           0,
           0,
           0,
           0,
           0,
           0,
           0,
           0,
           0,
           0,
           0,
           0,
           0,
           0,
           0,
           0,
           0,
           0,
           0,
           0,
           0,
           0,
           0,
           0,
           0,
           0,
           0,
           0,
           0,
           0,
           0,
           0,
           0,
           0,
           0,
           0,
           0,
           0,
           0,
           0,
           0,
           0,
           0,
           0,
           0,
           0,
           0,
           0,
           0,
           0,
           0,
           0,
           0
          ],
          "coloraxis": "coloraxis",
          "symbol": "circle"
         },
         "mode": "markers",
         "name": "0",
         "scene": "scene",
         "showlegend": true,
         "type": "scatter3d",
         "x": [
          -0.3372846494920619,
          -0.3207478804501668,
          2.296893077336133,
          -0.38167578615611886,
          -0.4889376487519103,
          -0.31231713736131683,
          -0.2714825712342063,
          -0.2412200001933106,
          -0.3369467648232675,
          -0.3295813690491378,
          -0.3357927527333177,
          -0.3372806146472303,
          -0.3372650141124198,
          0.4531487157951362,
          -0.3636086778290107,
          -0.34648216704614165,
          -0.2872851170343188,
          -0.33535779254668824,
          -0.3208196909313323,
          -0.3815712900016351,
          -0.38185231816105775,
          -0.03836550128386731,
          -0.2758944520323185,
          -0.29620296901216936,
          -0.2686014351568569,
          -0.2692188714097291,
          -0.3345537066642645,
          -0.331628778059952,
          -0.33569822426609086,
          0.018109691716449994,
          -0.34055375658309117,
          -0.38194010783019633,
          -0.3174942312109587,
          -0.3818523816015455,
          -0.3126997238675651,
          -0.3359717546560889,
          -0.29917298421341165,
          -0.38181714978698733,
          -0.2690014157281686,
          -0.32845164368672014,
          -0.5348571317379097,
          -0.3128647344317622,
          -0.3115346977534388,
          -0.3630346968273014,
          -0.29618345052950124,
          -0.2692936274966303,
          -0.2908763084762435,
          -0.33726685557423647,
          -0.2692461884464707,
          -0.3409951015495813,
          -0.337003187325379,
          -0.3819217784154818,
          -0.34533463354686345,
          -0.43711510302273093,
          -0.2627294302277255,
          -0.2945968126046518,
          -0.2687713204498835,
          -0.3049266896941657,
          -0.2436441321004144,
          -0.06995371926099066,
          -0.3122882744213192,
          -0.061747998525652624,
          -0.31235153046421155,
          -0.22770236319515727,
          -0.3368799236890244,
          -0.29446633406306555,
          -0.3791110188850794,
          0.8485437699501309,
          -0.31215299827287996,
          -0.2721800713352796,
          -0.3461677830237387,
          -0.37978099326621123,
          -0.3109053832266367,
          -0.30859018509597846,
          -0.34812970878358585,
          -0.3806660665169444,
          -0.3470901686468332,
          -0.3133496596045501,
          -0.33691771896380257,
          -0.33536845319889286,
          -0.22716257456336714,
          -0.32857907361005184,
          -0.3813995017784543,
          -0.33612785030201164,
          -0.3123325828025557,
          -0.38191103983712177,
          -0.337105531765367,
          -0.3372611329086168,
          -0.29445695572310765,
          -0.27299501581418106,
          0.034503292690438656,
          -0.345132626749075,
          -0.3368782495208973,
          -0.3681730482487548,
          -0.3444665639785903,
          -0.2285830650066196,
          -0.4126950348761403,
          -0.344216292921149,
          -0.27766442041702655,
          3.681397527575177,
          -0.3815065907709945,
          0.8542394653651142,
          -0.3818662918020712,
          -0.3455929238943481,
          -0.3368061923939347,
          -0.3369593196108563,
          -0.3461677830237387,
          -0.3814442137144001,
          -0.3121963135223859,
          -0.3368069467048847,
          -0.36611572794076314,
          -0.3369532285054463,
          -0.3325723966870666,
          -0.3818950582722531,
          -0.3361694814842706,
          0.34227536552508275,
          -0.3371510412605821,
          -0.3372211132442689,
          -0.34607234655476604,
          -0.3398104278675031,
          -0.33347466055196695,
          -0.3123091774256117,
          -0.3818056815879326,
          -0.33700055654889965,
          -0.3371265274180605,
          -0.29609043850729994,
          -0.28978167203606836,
          -0.2283526475275575,
          -0.31812267931717225,
          -0.29583364443994675,
          -0.38107666513134003,
          -0.40890447380064476,
          -0.37982467010125925,
          -0.3444273943225477,
          -0.3809753336610192,
          -0.33886900232367795,
          -0.37694571559120815,
          -0.3370702521360536,
          -0.33706941620677733,
          -0.33023967650141417,
          0.2574213641402168,
          -0.38145040297512567,
          -0.2788572405832689,
          -0.34620177069710245,
          -0.3362866309589004,
          0.8824205175004854,
          -0.270182212490818,
          -0.34587760162598047,
          0.6036388755431167,
          -0.34965392599121264,
          -0.3481671650800648,
          -0.4273983823564078,
          -0.2689336112083694,
          0.1243131918930515,
          -0.2690038889230988,
          -0.33174164459104505,
          -0.42690706581598825,
          -0.38172083038378,
          -0.29616423491202043,
          4.3591792466013395,
          -0.3460689334592488,
          -0.33670812912963477,
          -0.3372041700187471,
          -0.5465716074599793,
          0.6339852030561695,
          -0.3816620359803995,
          -0.3295895861307606,
          -0.3371600755498484,
          -0.30189179545212735,
          0.42616518614527205,
          -0.3106677899012276,
          -0.3345324494747235,
          -0.3935999031759175,
          -0.33711077234543385,
          -0.3852969780259798,
          -0.3386712492433894,
          -0.3369821928259524,
          -0.09925823909065404,
          -0.3804634419636796,
          3.6862179183222588,
          0.205677048347841,
          -0.2656994475688331,
          -0.33446109830939735,
          -0.30864755675709943,
          -0.3459591038364469,
          0.07420336914559117,
          -0.33612674454827723,
          -0.3810405338746739,
          -0.34512981271977733,
          -0.32378462578230344,
          -0.33722613261421136,
          -0.3409672420113584,
          -0.3473699595374651,
          -0.28215272143079595,
          -0.3259732612047922,
          -0.332804567582382,
          -0.220207915107827,
          -0.07411229587666317,
          -0.3606762093187669,
          -0.38173787563608225,
          -0.22023191764053024,
          -0.2953301978110848,
          -0.33926318114492093,
          -0.34925578843828475,
          -0.33725328184320025,
          -0.3372351244192423,
          -0.2897530881456304,
          -0.3358725875874183,
          -0.34566638701704405,
          -0.336953701018506,
          3.8794186643600312,
          -0.383975224623168,
          -0.3458536435064079,
          -0.31861050865243223,
          -0.2842090008552966,
          -0.10117260861202243,
          -0.2958607530599234,
          -0.14183254630402842,
          -0.29611079862474127,
          -0.3425107773751682,
          -0.33643153160348177,
          -0.20222099335620577,
          2.2298845973546517,
          -0.3416972154027442,
          -0.2703093947626038,
          1.0016734243553616,
          -0.3587236286435744,
          -0.3460717604005741,
          -0.38696905865035525,
          -0.17768353827286906,
          -0.34259214834580204,
          -0.3448007715518853,
          -0.33018022741583636,
          -0.34054774296868795,
          -0.38121514335775253,
          -0.2933764648154667,
          -0.34495977750347234,
          -0.31791157709631623,
          -0.3404099873140181,
          -0.19773434395640294,
          -0.907955246143185,
          -0.12503155463993998,
          -0.17945346495748735,
          0.7901908476371228,
          -0.1325315727286481,
          -0.38626888544600596,
          -0.25509535009455275,
          -0.33695768404032633,
          -0.3867216578788218,
          -0.3461878730562105,
          0.562927879425457,
          -0.34102114599062694,
          -0.3364442948987082,
          -0.21472814033900747,
          -0.2975564166558718,
          -0.3787968455774977,
          -0.38144072440702537,
          3.69836789430434,
          0.0947890465264452,
          -0.37899938901792146,
          -0.33583398676651477,
          -0.33665329572976394,
          -0.27151491302443403,
          -0.337167890693863,
          -0.3731307323953155,
          -0.2514865934717509,
          -0.09366588501991095,
          -0.36890950825894536,
          -0.33645168309005435,
          -0.32956753301851244,
          -0.37803488382237405,
          -0.3349022102455008,
          -0.34644134704645435,
          -0.34245362095504045,
          -0.31084323027305527,
          3.6817864891315493,
          -0.10482814040401982,
          -0.3321178983661743,
          -0.3341821862966885,
          -0.26940006157795277,
          3.6915780444976964,
          3.6928126296450476,
          -0.2525540068069398,
          -0.3463777074677431,
          -0.3329778982401913,
          2.4444883176085934,
          -0.3353439122811507,
          -0.29650441507464337
         ],
         "y": [
          0.9697490962272032,
          0.9699035114656211,
          1.647837888479271,
          1.16211374363228,
          1.8315372654306632,
          0.8096803364473868,
          0.6806810506718354,
          1.8230336052036504,
          0.969747879075369,
          0.9700047203621107,
          0.9697986030593261,
          0.969748859531765,
          0.969749006598719,
          0.3497101299324142,
          0.9035652883906424,
          1.6396231131764325,
          0.3873950887633269,
          0.9697240883596399,
          1.0337881136892966,
          1.1621172112115845,
          1.8417226693836204,
          0.8493069954329922,
          0.809112088333702,
          0.8407389757328201,
          1.7955712216248856,
          1.7955507327448628,
          0.4819807623789279,
          0.9696254603970195,
          0.9697290987361297,
          0.981542430362206,
          1.0331332624368326,
          1.1621212788879198,
          1.6334660640129253,
          1.1621167783577298,
          0.9693789397259586,
          0.969718539486684,
          0.23101255905568757,
          1.1621212830455576,
          1.795557948750319,
          0.9693009728509947,
          0.6705498686362488,
          1.6041202633836826,
          0.8096722039053247,
          0.9035875818744515,
          0.8407516166301396,
          1.7955393572208846,
          0.8405571097163226,
          0.9697496867281113,
          1.7955424139009313,
          1.0331037922127315,
          0.9697436115202845,
          1.1621218878687551,
          1.8784964805087494,
          1.9102548246775801,
          0.45805082900632477,
          0.8407301436939136,
          1.7955285223811244,
          0.8092006506758533,
          1.8231931029042767,
          0.8981466871343203,
          0.809681294229362,
          1.1530666517947237,
          0.8096877193686294,
          1.5060638745770107,
          0.9697313946819494,
          0.8406447448879318,
          1.1619305248874332,
          0.8053556408527731,
          0.8096724409561622,
          0.3536986170260002,
          1.6396187209106017,
          1.1621373345444426,
          0.8095783991976333,
          0.8094311691262424,
          1.5020009265938974,
          1.1620605253425558,
          1.6252315031822915,
          0.9690608779537826,
          0.9697284109405494,
          0.9697385593205003,
          1.6664366996742015,
          1.033043635789395,
          1.1621021571868098,
          0.969720772001164,
          0.8096805651450694,
          1.162120020507304,
          0.9697394741069504,
          0.9697498766278926,
          0.8408089082854068,
          0.3115292593889248,
          1.9344509092746685,
          1.6396130445786996,
          0.9697625821529692,
          1.1614662688218966,
          1.6396603491739221,
          1.66653595644175,
          1.750188804884279,
          1.639475191423205,
          1.9333530025781884,
          1.8948573179852692,
          1.1621134282890826,
          1.8322012968143415,
          1.1621208729004662,
          1.6396155598372637,
          0.9697364060432371,
          0.9697287600237005,
          1.6396187209106017,
          1.1620932611140538,
          0.8096858283134549,
          0.9697404874602713,
          0.5437128715694934,
          0.9697393394549675,
          0.9694231741542744,
          1.1621190683641482,
          0.9696793637715754,
          0.8378368752935532,
          0.9697438938177612,
          0.9697487468498865,
          1.571368239578853,
          0.5458093021891337,
          0.9695049081177176,
          0.8096813418243753,
          1.1621188068800716,
          0.9697436988194401,
          0.9697380855713448,
          0.8407139351373889,
          0.21315438056734654,
          1.6665346894069026,
          0.9696437271203594,
          0.8407377064176657,
          1.1620758083284841,
          1.818410303121318,
          1.1621099419180272,
          1.6396095473893053,
          1.1620791708915474,
          1.6395792524624977,
          1.1619163944886115,
          0.9697404875873097,
          0.9697350391640779,
          0.9692416391308784,
          0.642648650869053,
          1.1621078804526668,
          0.8398440939055992,
          1.639610180709611,
          0.9697043845145423,
          1.793868449973645,
          0.6805851573351028,
          1.6252224485616724,
          1.8374892976543626,
          1.5020096461648162,
          1.501977446569026,
          1.9158074470846,
          1.795537961679135,
          0.9480048614025387,
          1.7955438586616244,
          1.6599875744644537,
          1.9158237508335345,
          1.1621215089553112,
          0.8407393524025859,
          2.4321198299797215,
          1.63959116571922,
          0.9697324612699098,
          0.9697486536813592,
          1.8322258837889953,
          1.6025185524228391,
          1.1621104937348894,
          0.4818517907772324,
          0.9697415679806647,
          0.6700905918475335,
          0.976552359308686,
          0.8096772516456933,
          1.5016293632435918,
          1.7629623311131861,
          0.9697393002045986,
          1.7002908621674362,
          1.6837897016383974,
          0.9697481713154413,
          0.6797342488015892,
          1.1620635430143957,
          1.8947393133255255,
          1.4982079668310317,
          1.7955118610166056,
          0.9696871328322048,
          1.3729958878977975,
          1.571368291221918,
          0.9463420271561153,
          0.9696763345288985,
          1.1621140691052931,
          1.5713216866420345,
          0.9695299658403379,
          0.9697480731262413,
          1.0331039754619373,
          1.6252285191645979,
          0.009465121413060438,
          0.2622123710318809,
          0.9697257956196093,
          1.6662227400364522,
          1.4943195560410567,
          0.8049026400719116,
          1.1621094595592376,
          1.0594569167213803,
          0.8406880175210628,
          1.7672370389336707,
          1.5019932084374497,
          0.969747913447794,
          0.9697470335079079,
          0.8405943824331191,
          1.7281800532929985,
          1.6395849550804205,
          0.9697378413030099,
          1.9856319883665696,
          1.7003347229656387,
          1.6395846710875799,
          0.7823905402845615,
          0.9677137727792839,
          0.3554103513218275,
          0.840743052819524,
          0.9686743312966992,
          0.8407214131083455,
          1.936690748633592,
          0.969715142118673,
          1.6941590882394555,
          0.16674534986389256,
          1.571042738131266,
          0.6806549286094878,
          1.739946132748873,
          0.9113929772576821,
          1.5713638116131374,
          1.7003798052922223,
          0.8321718286144042,
          0.7990802478422373,
          1.5713474301995436,
          0.9692436118773375,
          1.0330926940064726,
          1.162108274899441,
          0.8406520416943646,
          1.639517972265004,
          0.8607392953396678,
          1.0330639096382888,
          0.961037655825098,
          2.2799146251902145,
          1.5569770544175952,
          0.9304561395066695,
          -0.06038645019200197,
          1.0400362286091993,
          1.7003668310568083,
          -0.0384632280004949,
          0.9697443802560239,
          1.7003777229271397,
          1.5713656141855665,
          0.9441771076643632,
          1.0331031503300827,
          0.9697147185840597,
          1.059313409077337,
          1.9345504482294693,
          1.1619142658518515,
          1.1621156139852122,
          1.8947718776319924,
          0.958143679463989,
          1.162218863848817,
          0.9696489875395737,
          0.9697298303806974,
          0.6806736769416334,
          0.9697529707587315,
          1.1620429901211602,
          0.9648132226956309,
          0.8168114878205417,
          1.1618124483263166,
          0.9697656187059894,
          0.9697086850583287,
          1.1620966926879672,
          0.9697095568672078,
          1.6396177966142593,
          0.5375730492353415,
          0.8096677236873483,
          1.8948443424287975,
          0.8396826024405867,
          0.9696981778582267,
          0.4819512864953778,
          1.7955446312185517,
          1.8952878007157032,
          1.8953287689401073,
          0.680577201695751,
          1.639620179605833,
          1.6390085995301282,
          0.835401086824122,
          0.9696281882679254,
          0.8407402245713512
         ],
         "z": [
          -0.6029762941861274,
          -0.6035178500426266,
          -0.7219117757743485,
          -0.5210170365101634,
          0.26648464537195743,
          -0.3871904485259177,
          -0.03500455968622458,
          -0.6472950536385531,
          -0.6029866456230252,
          -0.6032585555856091,
          -0.6030309598447006,
          -0.6029763815276025,
          -0.6029768926506905,
          -0.09234154399124478,
          -0.4233924096263125,
          -0.05404317498007642,
          -0.30507378292797094,
          -0.6030323757941998,
          -0.1695662834828702,
          -0.5210208654283086,
          -0.8274408801219564,
          -0.2602459170092006,
          -0.3882349422241434,
          -0.2507963523930953,
          -0.6659254796500612,
          -0.6659028557278273,
          -0.32634746418615596,
          -0.6031327089318459,
          -0.6030225641111496,
          -0.6159985517934976,
          -0.16884319350461172,
          -0.5210100135085669,
          -0.20539118440515272,
          -0.5210120179241604,
          -0.6036835048303191,
          -0.6030122994600369,
          -0.37501511616186023,
          -0.5210138534433507,
          -0.665910823676593,
          -0.6031789361835084,
          0.49184169349270573,
          -0.07322211679839738,
          -0.3872135517879466,
          -0.4234139713170874,
          -0.2507990255979504,
          -0.6658986643630135,
          -0.25093298113861656,
          -0.6029769461908494,
          -0.6659006446400448,
          -0.16882460157932794,
          -0.6029841871577611,
          -0.5210106852507425,
          -0.8714753381676509,
          -0.714063648687484,
          -0.2025128095480083,
          -0.25084506128258943,
          -0.6659132040380856,
          -0.38734289503477276,
          -0.6472454019195274,
          -0.49400696593665727,
          -0.38719150611349423,
          -0.5295294668253705,
          -0.38719057997016176,
          -0.6315277560984899,
          -0.6029860414301479,
          -0.2508351931191998,
          -0.5210672067375239,
          -0.2807633593243693,
          -0.38719428460280686,
          -0.07034495683340256,
          -0.054052274259828406,
          -0.5210800512010489,
          -0.38721788698583365,
          -0.3872661401617984,
          -0.6271042005105358,
          -0.5210398756742335,
          -0.04208681067906098,
          -0.6036112842812716,
          -0.6029843741794527,
          -0.6030344054591386,
          -0.3137363806624985,
          -0.1692024598963018,
          -0.5210237716378496,
          -0.6030077899928634,
          -0.38719000359296185,
          -0.5210107156872281,
          -0.6029803160676455,
          -0.602977155879123,
          -0.25086228732587046,
          -0.3892787693842034,
          -0.7705882820411076,
          -0.05408366937773752,
          -0.6029911853824902,
          -0.5213329405688113,
          -0.054112189563390235,
          -0.3137082318025804,
          -0.6865241847503293,
          -0.05408977513341666,
          -0.7606618770094881,
          0.18696816903096128,
          -0.5210222680031759,
          -0.7069654318414297,
          -0.5210122520670126,
          -0.05406970764905302,
          -0.6029891617812169,
          -0.6029831322275334,
          -0.054052274259828406,
          -0.5210209231711553,
          -0.3871951177473492,
          -0.6029898045621628,
          -0.22484792315717964,
          -0.6029850496187233,
          -0.6030702199499202,
          -0.5210110592501978,
          -0.6029997297733596,
          -0.2702584749668866,
          -0.6029796166375644,
          -0.6029782210097301,
          -0.18564265566372076,
          -0.3828867764777846,
          -0.6030553914765567,
          -0.3871908612060763,
          -0.5210138072680269,
          -0.6029842835539188,
          -0.6029794338041534,
          -0.2507957779216835,
          -0.4185758423145433,
          -0.3137152195277313,
          -0.6035574071358814,
          -0.2508076769969289,
          -0.5210295502020013,
          -0.6969918081332039,
          -0.5210742153003483,
          -0.054105118683274805,
          -0.5210332631606978,
          -0.05427372859003959,
          -0.5211325094811805,
          -0.602981583104001,
          -0.6029807196935828,
          -0.6031134195975234,
          -0.04530993316411671,
          -0.5210231166755391,
          -0.2511918586673343,
          -0.05404981874849004,
          -0.6030001567804105,
          -0.6776182197864423,
          -0.03502950665514978,
          -0.04212319374975123,
          -0.8304108312507845,
          -0.6270580317384279,
          -0.6270991976134023,
          -0.7051212165278352,
          -0.665909677716124,
          -0.6138393062575657,
          -0.6659084461002382,
          -0.06415439413740737,
          -0.7051392192077084,
          -0.5210168978135232,
          -0.25079762332631284,
          5.044824844828996,
          -0.054050862079314775,
          -0.6029915796946624,
          -0.6029787348362139,
          0.26817179060635743,
          0.02210261741514026,
          -0.521016935267785,
          -0.32648140850267654,
          -0.602978954832868,
          -0.05220476614172127,
          -0.6279250424036459,
          -0.3872414443138279,
          -0.6274681013221188,
          -0.5565569015543497,
          -0.6029801240438128,
          -0.5378662972273277,
          -0.06778784493013852,
          -0.6029855871262376,
          -0.04022753671414236,
          -0.5210466951126713,
          0.18683692208277802,
          -0.6437770860468739,
          -0.6660064004078494,
          -0.6030543409047129,
          -0.27487514451434925,
          -0.18564619999857698,
          -0.612003196492837,
          -0.6030005696410703,
          -0.5210369248369077,
          -0.1856644851985099,
          -0.6033620451636037,
          -0.60297795429198,
          -0.16882550138606858,
          -0.042077587284466596,
          0.18047894325249342,
          -0.3604482612311924,
          -0.6031123767104349,
          -0.31391860261616933,
          4.501112716543124,
          -0.46735287597149916,
          -0.5210143984018057,
          -0.5060594352705943,
          -0.2508152844446256,
          -0.03736810975304027,
          -0.6270677796015415,
          -0.602977080512187,
          -0.6029775038023618,
          -0.25097413785608047,
          -0.02545821389816372,
          -0.0540624172843112,
          -0.602984790276085,
          0.15752707094467697,
          -0.5379147285367272,
          -0.054056524001492294,
          -0.05677252615916037,
          -0.6043012466599831,
          -0.18756140434964158,
          -0.25080770340980074,
          -0.608903646498139,
          -0.25079636305132075,
          -0.759182028583793,
          -0.6029973886764941,
          -0.2950722208873928,
          -0.43508081377025104,
          -0.1857261237739024,
          -0.03503692638512072,
          0.07972609087323641,
          -0.4089814559811973,
          -0.185641951054564,
          -0.5378286088777251,
          -0.25309834108408386,
          -0.4043932735092255,
          -0.18567896212018903,
          -0.6031155979138804,
          -0.16883675805761814,
          -0.5210305268462677,
          -0.25087041460054327,
          -0.05407354490164968,
          -0.49844671710162186,
          -0.16883636000946053,
          -0.6059113959432063,
          0.8781390390243169,
          2.416356056370269,
          -0.15387155084540055,
          -0.19115291108109636,
          -0.17646548275077967,
          -0.5378483529875313,
          0.31490288561497587,
          -0.6029857334616167,
          -0.5378359937800302,
          -0.18563861982835655,
          -0.626909740958832,
          -0.1688236835707255,
          -0.6029969210074878,
          -0.5062078567321806,
          -0.7602362624584572,
          -0.5210743620647224,
          -0.5210246814596083,
          0.18645223338229885,
          -0.6145727081101575,
          -0.5211177666055545,
          -0.6030052460640579,
          -0.6029928622990773,
          -0.03500234600457765,
          -0.6029805724336348,
          -0.5212722970021532,
          -0.6048494299837576,
          -0.39518187462171334,
          -0.5213664626497093,
          -0.6030050002902781,
          -0.6032106567714477,
          -0.5211279367177083,
          -0.6030442285313169,
          -0.05404358156453118,
          -0.14919529168544451,
          -0.3872344108056255,
          0.18695814244492734,
          -0.25659939804281456,
          -0.6031293084627657,
          -0.32635425233708276,
          -0.6658962020878716,
          0.18658001063801674,
          0.1865347733228517,
          -0.03557863292531692,
          -0.05404595770209254,
          -0.004272326565967206,
          0.07113695176033008,
          -0.603017152509152,
          -0.25078714389259366
         ]
        },
        {
         "hovertemplate": "class=%{marker.color}<br>PC 1=%{x}<br>PC 2=%{y}<br>PC 3=%{z}<extra></extra>",
         "legendgroup": "2",
         "marker": {
          "color": [
           2,
           2,
           2,
           2,
           2,
           2,
           2,
           2,
           2,
           2,
           2,
           2,
           2,
           2,
           2,
           2,
           2,
           2,
           2,
           2,
           2,
           2,
           2,
           2,
           2,
           2,
           2,
           2,
           2,
           2,
           2,
           2,
           2,
           2,
           2,
           2,
           2,
           2,
           2,
           2,
           2,
           2,
           2,
           2,
           2,
           2,
           2,
           2,
           2,
           2,
           2,
           2,
           2,
           2,
           2,
           2,
           2,
           2,
           2,
           2,
           2,
           2,
           2,
           2,
           2,
           2,
           2,
           2,
           2,
           2,
           2,
           2,
           2,
           2,
           2,
           2,
           2,
           2,
           2,
           2,
           2,
           2,
           2,
           2,
           2,
           2,
           2,
           2,
           2,
           2,
           2,
           2,
           2,
           2,
           2,
           2,
           2,
           2,
           2,
           2,
           2,
           2,
           2,
           2,
           2,
           2,
           2,
           2,
           2,
           2,
           2,
           2,
           2,
           2,
           2,
           2,
           2,
           2,
           2,
           2,
           2,
           2,
           2,
           2,
           2,
           2,
           2,
           2,
           2,
           2,
           2,
           2,
           2,
           2,
           2,
           2,
           2,
           2,
           2,
           2,
           2,
           2,
           2,
           2,
           2,
           2,
           2,
           2,
           2,
           2,
           2,
           2,
           2,
           2,
           2,
           2,
           2,
           2,
           2,
           2,
           2,
           2,
           2,
           2,
           2,
           2,
           2,
           2,
           2,
           2,
           2,
           2,
           2,
           2,
           2,
           2,
           2,
           2,
           2,
           2,
           2,
           2,
           2,
           2,
           2,
           2,
           2,
           2,
           2,
           2,
           2,
           2,
           2,
           2,
           2,
           2,
           2,
           2,
           2,
           2,
           2,
           2,
           2,
           2,
           2,
           2,
           2,
           2,
           2,
           2,
           2,
           2,
           2,
           2,
           2,
           2,
           2,
           2,
           2,
           2,
           2,
           2,
           2,
           2,
           2,
           2,
           2,
           2,
           2,
           2,
           2
          ],
          "coloraxis": "coloraxis",
          "symbol": "diamond"
         },
         "mode": "markers",
         "name": "2",
         "scene": "scene",
         "showlegend": true,
         "type": "scatter3d",
         "x": [
          -0.14621864424531172,
          -0.15574607978939323,
          -0.170025328435847,
          -0.1439838596111041,
          -0.15419910403244574,
          -0.13062829868124334,
          -0.17116307879558873,
          -0.21576035722985593,
          -0.17078236355412962,
          2.5315614857317086,
          -0.14332521954058183,
          -0.16805793872568278,
          -0.1705877353091037,
          -0.2162880155470532,
          -0.1965837949436435,
          -0.1706363579545234,
          -0.17114548039806465,
          -0.17123130879922707,
          -0.2158490251771189,
          0.22882994074314955,
          0.07565570739879027,
          -0.17097950939409925,
          -0.16661721585206093,
          -0.17091921963630424,
          -0.1712878842031018,
          -0.163820680113225,
          -0.15066297006882026,
          -0.17009194740920827,
          -0.17036726413444975,
          1.5646422588414004,
          -0.146180309024259,
          -0.16767654303862725,
          -0.17100575316696554,
          -0.17135793495249288,
          -0.1706226722628515,
          -0.12705954168077307,
          -0.17124007167468155,
          -0.03711318077756846,
          -0.14625732619797843,
          -0.16495101251204305,
          -0.1712196225911446,
          -0.16932753537764944,
          -0.1707101588279668,
          -0.13350387754000959,
          -0.1457250812971829,
          -0.14601011213048992,
          -0.14599306247049768,
          -0.146579598204482,
          -0.21602166806505638,
          -0.17093827090684033,
          -0.17600784787822985,
          -0.16806254982089236,
          -0.1457918702964098,
          3.829618730289465,
          0.45383371583963394,
          -0.16981416700915533,
          -0.15452399051124532,
          -0.1685425144590621,
          -0.17136012183487828,
          -0.16840861334094603,
          -0.15473393763342994,
          -0.10497054236123882,
          -0.17475080320515202,
          -0.17123416661448107,
          -0.04510027257387702,
          -0.1134825748101897,
          -0.1713689550945263,
          -0.14628489136642023,
          0.4762001723777453,
          -0.21541339620689132,
          -0.1458125316038984,
          -0.14602660050310473,
          -0.2156961689640485,
          -0.16950617355523598,
          -0.16870441842436276,
          -0.1568053044269217,
          0.3650725783087861,
          -0.21573131676067986,
          -0.1461814227955334,
          -0.16735681160825003,
          -0.1502858679058102,
          -0.16994292974300446,
          0.2691966500911763,
          -0.2148981606182788,
          -0.14587571746352124,
          -0.17018809961042067,
          -0.15713909250418978,
          -0.17116038898164418,
          -0.21569480230460636,
          -0.1713690131552983,
          -0.2158436269797261,
          -0.18573224273032882,
          0.2998808470013024,
          -0.14643956830925234,
          -0.16855652150131886,
          -0.14639851032320098,
          -0.17103485943155392,
          -0.14275083077589257,
          -0.1565493921657249,
          -0.13064975050940647,
          -0.09861197102528367,
          -0.202527447842021,
          -0.21368750312745516,
          0.29987530133429374,
          -0.1713508815632763,
          0.300005035401305,
          -0.1463490855774101,
          0.49436478746525886,
          -0.14275720961766203,
          -0.17131940831312878,
          -0.2086290264035167,
          -0.13066204793809,
          -0.16946652678619692,
          -0.1460695708618746,
          -0.15051539971693906,
          -0.1424481362479158,
          -0.18340869449726674,
          -0.1708849921942923,
          -0.11301138262056845,
          -0.17070826032182987,
          -0.14261637660601953,
          -0.14417815841057688,
          -0.03216941918947713,
          -0.14144397353933794,
          0.33572972701453885,
          -0.2149064212714021,
          -0.1710253080223637,
          -0.17079025785428434,
          -0.21529825650676493,
          -0.21587147151226568,
          0.3002674116990688,
          -0.1772661725662593,
          3.2131281482482446,
          -0.09227819253831243,
          -0.20680872150718763,
          -0.1462178148505302,
          -0.09746636444222097,
          1.5622974282007132,
          -0.17112240459773784,
          -0.17057796405483291,
          -0.1702811560498915,
          -0.1702681868630592,
          0.3004497679511121,
          0.08013150266063467,
          -0.17059938430822183,
          -0.16847490740018264,
          -0.13050925867215368,
          -0.14464375556201284,
          -0.1694647496284976,
          -0.21144853291572946,
          -0.1683214236092473,
          -0.1549260003229314,
          -0.16842091949213472,
          1.131777821786052,
          0.29985816623497785,
          -0.08034761765027097,
          -0.21119122451560735,
          -0.1318078248900688,
          -0.08812801969798224,
          1.0939575908774193,
          -0.21584566498587182,
          -0.16847251044220496,
          -0.16156153798139658,
          -0.17037894145133486,
          -0.21577162881626163,
          -0.14619737329121693,
          -0.19473856148292276,
          7.982845234485722,
          -0.17698213173271732,
          0.30370437175932974,
          0.020238884282910524,
          -0.1441510093660791,
          -0.16167191943912873,
          -0.17094838422225223,
          0.13385970930886631,
          -0.20995527454444038,
          -0.10829679190802247,
          0.30772497806556703,
          -0.17118366493553414,
          -0.146146400736631,
          -0.12950785056740197,
          -0.14055009002972907,
          -0.21494688214731728,
          0.30003931543581636,
          -0.18346781816063842,
          -0.1461954371205028,
          -0.16275582337494868,
          -0.14283460910373058,
          0.30393999904710106,
          0.5616143719594818,
          2.095491373744115,
          -0.15497793776952734,
          0.3135444932191947,
          -0.19359456378747272,
          -0.15443533687796604,
          -0.21582795639318103,
          -0.17120805421758242,
          -0.13168541394274236,
          -0.13298700800218896,
          -0.053098570438002715,
          3.0656826843020797,
          -0.10634365454064543,
          -0.21579952372403235,
          -0.1930263264873698,
          -0.02602738241931661,
          -0.14223664949888362,
          -0.14621785212893548,
          0.37922445302778646,
          -0.12932839067142848,
          -0.1297177606941155,
          -0.16735835991464185,
          -0.17010839734406147,
          -0.1285831530194049,
          -0.13034331274542982,
          -0.17396737858611275,
          -0.1454993419611655,
          -0.10346981888106904,
          -0.14437548675805056,
          0.5198100864729784,
          -0.09419293227501749,
          -0.08053191313502701,
          -0.15488337312281603,
          -0.14600948739186967,
          0.539213227334808,
          -0.19614805976357133,
          -0.17128437852058467,
          -0.1692549547368478,
          -0.12357651682051628,
          -0.15658230467010803,
          0.3214549662438085,
          -0.13062934755312972
         ],
         "y": [
          -1.3166825011364787,
          -1.9878530109315895,
          -1.1566382257130197,
          -2.2798330300428935,
          -1.9879573359790503,
          -2.035784658828822,
          -1.1566292827177262,
          -0.9642544274806233,
          -1.1566485222918297,
          -1.3515617085887137,
          -1.316696778974732,
          -1.1566959854407433,
          -1.1566687482866453,
          -0.4260109743206877,
          -1.22282656651559,
          -1.1566319405392327,
          -1.1566286987360537,
          -1.1566257207327348,
          -0.9642558873477142,
          -1.3197873564962388,
          -1.1584300191734456,
          -1.1566231911877494,
          -1.1566850847504861,
          -1.156629344141578,
          -1.1566261866673948,
          -1.6444752858847551,
          -1.1569864524036544,
          -1.1566300590783327,
          -1.1566408597268734,
          -1.166169092418289,
          -1.3166812290282366,
          -1.1566947597367156,
          -1.1566233208197232,
          -1.1566211834959568,
          -1.1566269159342735,
          -2.2977801540244243,
          -1.1566236840369044,
          -1.1632839733374938,
          -1.316683784750588,
          -1.1566573733680077,
          -1.1566311590556284,
          -1.1567381154798513,
          -1.1566366384428202,
          -1.3169032285734943,
          -1.316685403852644,
          -1.3166911472067389,
          -1.3167187484056662,
          -1.3166790983109624,
          -0.9642482740448575,
          -1.1566233052102888,
          -1.3272905589814126,
          -1.1567075689078865,
          -1.3166861288220246,
          -2.335064576296721,
          -2.317764381490069,
          -1.1566468734810564,
          -1.1573068452422957,
          -1.1566500877897041,
          -1.1566222033647426,
          -1.1566409109083517,
          -1.1568097715443215,
          -2.19654346324464,
          -1.5805303147365817,
          -1.156618574680337,
          -1.159842834932073,
          -2.2469280637823266,
          -1.1566210076968557,
          -1.316684699467575,
          -1.2033254655048933,
          -0.9642525500652147,
          -2.2232264368270527,
          -1.316700411289982,
          -0.9642530387062529,
          -1.156714571826167,
          -1.1567174380926117,
          -1.987900691659828,
          -2.236907961523448,
          -0.9642504988631958,
          -1.316681265987398,
          -1.1566430699363757,
          -2.1355556993375404,
          -1.1566354914114214,
          -1.3189120570969848,
          -0.96427325563198,
          -2.1778833423567363,
          -1.1567061513065917,
          -2.30807292351126,
          -1.1566284522233932,
          -0.9642559582996599,
          -1.1566210073775876,
          -0.9642608968676478,
          -1.378449197860737,
          -2.315468173888688,
          -1.3166814829527216,
          -1.1566754685064828,
          -1.3166807893086385,
          -1.1566316990370296,
          -2.2769804254966535,
          -1.9878990923786453,
          -2.0357853706819573,
          -1.1616185563353942,
          -0.964171102608754,
          -0.9643398194150008,
          -2.3154765115119686,
          -1.156621960695732,
          -2.315475171387226,
          -2.223202888830772,
          -1.0147985622105409,
          -2.2799294538136072,
          -1.1566213949202702,
          -0.9647441942052929,
          -2.035782813812991,
          -1.156631542329269,
          -2.2232017670685815,
          -2.140201398695645,
          -1.158625790259016,
          -0.6243774170813099,
          -1.1566308177925788,
          -1.3174180823336517,
          -1.1566519931538388,
          -2.2798654815522013,
          -2.3250412875903814,
          -2.2503421893802957,
          -2.2045740786398476,
          -2.315753631706507,
          -0.9642853895292591,
          -1.1566234336621586,
          -1.1566569378516782,
          -0.9642687426670583,
          -0.9642572993148505,
          -2.3154879605917036,
          -2.053930605681033,
          -1.192557297510694,
          -1.2670835776952736,
          -0.9647579131838887,
          -1.3166824736140075,
          -1.1619511588025013,
          -1.0990909130895343,
          -1.1566271917572628,
          -1.156656564261882,
          -1.1566585748223719,
          -1.1566581444554929,
          -2.3155077702215445,
          -2.044341240033385,
          -0.96407521510764,
          -1.6444006888721925,
          -2.035780708629181,
          -2.1779360842902333,
          -1.1566314833564264,
          -0.9643559526822234,
          -1.644408937946658,
          -1.9880333436851447,
          -1.6444024552815761,
          -2.3508603277984275,
          -2.315470779612885,
          -1.9927633644743352,
          -0.9644956614301115,
          -2.280169834734228,
          -1.1575644785614778,
          -1.261801354617498,
          -0.9642571100687668,
          -1.6443961619154857,
          -1.6445218816868132,
          -1.1566351352141766,
          -0.9642570252229409,
          -1.3166811770945295,
          -1.321468988689154,
          -2.8017469112096984,
          -2.172414844375908,
          -2.3155829377798667,
          -1.1576746335356827,
          -2.177877996517529,
          -1.3275679342919362,
          -1.1566362418220297,
          -1.1601358198672376,
          -0.9644175861111908,
          -1.9910964979195438,
          -2.315941699554994,
          -1.15662996584404,
          -2.2850853357028527,
          -2.0357837986730947,
          -2.277113904934376,
          -0.9642867321748012,
          -2.3154691416872866,
          -0.6243591788631117,
          -2.223209857515663,
          -2.2601787232844512,
          -2.276975126106403,
          -2.3157708054831048,
          -2.18827972016222,
          -2.392263024625384,
          -2.2082125937963446,
          -2.315748585938452,
          -1.2149579476872612,
          -2.2391336448122825,
          -0.9642574119137078,
          -1.156631594433878,
          -2.280722084060287,
          -2.3598887608192483,
          -1.0669835071228222,
          -2.241809858610364,
          -1.316900327354693,
          -0.9642594333541105,
          -1.214996851718774,
          -2.0379314314538295,
          -2.2770097643881217,
          -1.3166824748510468,
          -2.3188170269198767,
          -2.241048860200151,
          -2.2410025627346664,
          -2.183180984464312,
          -1.1566676667541302,
          -2.0358960240143253,
          -2.0357825297730154,
          -1.580578441341068,
          -1.3166905051064792,
          -0.3308259984368137,
          -1.316730299875517,
          -1.2063998630619854,
          -1.644880661782835,
          -2.244540341624419,
          -1.1568147303814469,
          -1.3166911264755388,
          -1.1701025372423743,
          -1.2228276731251824,
          -1.1566214481258903,
          -1.1566853029244222,
          -2.312646339521895,
          -1.987898911397148,
          -2.3157827458402496,
          -2.0357846936343735
         ],
         "z": [
          0.20743800169931143,
          0.422878409186757,
          -0.008380092460318948,
          0.4289665196033389,
          0.4228471383841698,
          0.5573634520480432,
          -0.008346027249616802,
          0.0736180004861741,
          -0.008354773685961357,
          -0.06091146907588625,
          0.20734998808045227,
          -0.008432092587400455,
          -0.008357548677236806,
          0.056661317108390404,
          0.17121185227745575,
          -0.008362039724498465,
          -0.008346672085055578,
          -0.008344478359150913,
          0.07362100740273732,
          0.19623434160153916,
          -0.015758736370916137,
          -0.008352753547019224,
          -0.008478857533888324,
          -0.008353631507820796,
          -0.008342635773605596,
          0.26815149444663683,
          -0.00892781333594914,
          -0.008379345629634879,
          -0.0083689857908818,
          -0.0609875388494163,
          0.20743659703113126,
          -0.008444201438848534,
          -0.008351912944689722,
          -0.0083412653205923,
          -0.00836328736694408,
          0.38860783360334955,
          -0.008344537257831389,
          -0.011445169374851067,
          0.20743941907233926,
          -0.008535407428011649,
          -0.008343955388064305,
          -0.008385572390717732,
          -0.00835896837612619,
          0.20707703041136533,
          0.2074230645318672,
          0.20743290202930123,
          0.2074368758505987,
          0.20744871662048767,
          0.07362515507341008,
          -0.008354022566901051,
          0.19022130887269367,
          -0.008430057488954,
          0.2074252683179853,
          0.32078599568633287,
          0.4233674570009785,
          -0.008385273951083088,
          -0.008754948939980632,
          -0.008424455406565728,
          -0.00834103053297551,
          -0.008430134571400504,
          -0.008829545960747344,
          0.36901676443921727,
          0.21177032048174013,
          -0.008345555793528454,
          -0.011757581021556574,
          0.3554516301442911,
          -0.008340949927442283,
          0.20744042910734173,
          -0.020935735575901324,
          0.07360686042797819,
          0.43286196165713287,
          0.20743492932175212,
          0.07361576953260857,
          -0.008383838317337555,
          -0.008408404463548453,
          0.4229192669111366,
          0.42392822741704517,
          0.07361645233572472,
          0.20743663784161917,
          -0.00846262366531262,
          0.41586687619221735,
          -0.008383111689603638,
          0.19483102515127887,
          0.07359415305142449,
          0.3921303167720466,
          -0.008363920517290676,
          0.3797443041839397,
          -0.008346246823483418,
          0.07361620351376522,
          -0.008340948166670062,
          0.0736216567048611,
          1.0741252076093948,
          0.42779961929540616,
          0.2074447336285069,
          -0.008419874383972388,
          0.20744333838466694,
          -0.008349636296533135,
          0.41287053865614337,
          0.42291101517818863,
          0.5573642380797844,
          -0.009796820702187334,
          0.07319121096068518,
          0.07356721857100457,
          0.42780115365737326,
          -0.00834135867050448,
          0.427796884036769,
          0.43287487062529295,
          0.059696825658738045,
          0.4289439607236996,
          -0.008342433763576112,
          0.07347529049129388,
          0.5573642046207419,
          -0.008398631678619135,
          0.4328659598865362,
          0.44257597722588543,
          -0.008916675349044695,
          -0.032430208198611116,
          -0.008354459640584034,
          0.2065212256190522,
          -0.008356520839562355,
          0.4289291192028405,
          0.45299045491509504,
          0.43852503394049336,
          0.3885190880635701,
          0.4267268737128704,
          0.0735963919675101,
          -0.008351283938950689,
          -0.008353153266051553,
          0.0736059089029097,
          0.07362193878794479,
          0.42779077953943506,
          0.5007260032471437,
          -0.10815190281561649,
          0.09456117478477329,
          0.07342069284844997,
          0.2074379713088692,
          -0.009778290452759943,
          -0.07186553167893041,
          -0.008347638636393291,
          -0.008359842944336754,
          -0.008368782266593875,
          -0.008369257479821115,
          0.42778831975437437,
          0.5521796144790598,
          0.07217863082416581,
          0.2682846398362868,
          0.5573590902181459,
          0.392100460520062,
          -0.008398696796722234,
          0.07349994263210581,
          0.2682811941877558,
          0.4228822441229887,
          0.26828324249631225,
          0.4076025089855925,
          0.4278007528937337,
          0.42132582509537425,
          0.0735147173064628,
          0.42864132055948406,
          -0.010786043017750423,
          0.07494879546598478,
          0.07362110210562775,
          0.26828382592078903,
          0.2680885619819758,
          -0.00836955576303992,
          0.07361877653983828,
          0.20743712136903886,
          0.12728203175596609,
          0.2672959049105454,
          0.5535161658565715,
          0.427698969515836,
          -0.014151719682323902,
          0.39207559152545896,
          0.18981896659786993,
          -0.008351594751619883,
          -0.0172976151393605,
          0.07346337925806182,
          0.42192638006613686,
          0.4276320012232315,
          -0.008345272938176386,
          0.44120551678296216,
          0.5573283266186319,
          0.41282361437716303,
          0.07359787452333014,
          0.42779482926203294,
          -0.03243133969275624,
          0.4328712107983425,
          0.48375117330286604,
          0.41287228937984444,
          0.42772228361238895,
          0.3950984498452578,
          0.3842708262265667,
          0.4505471524070812,
          0.4274187642167185,
          0.18567531892112926,
          0.45607316798152236,
          0.07362059844981943,
          -0.008344245520271406,
          0.42872765881300834,
          0.35012928171333846,
          0.08854936931350452,
          0.3256504844018145,
          0.20622850284754293,
          0.07362004068600497,
          0.18566392770108342,
          0.5544478639573189,
          0.41285927367928404,
          0.2074379726748139,
          0.4258689204353949,
          0.4266093011006118,
          0.4266139002935924,
          0.4828758549896065,
          -0.008372692152082384,
          0.5573177757068709,
          0.5573542060241555,
          0.21175371590886924,
          0.20741684885358394,
          -0.07126122625586187,
          0.20738825437871175,
          -0.021795489252564616,
          0.2660436115008231,
          0.42565569483846727,
          -0.008824070388370162,
          0.2074328791378076,
          -0.028327249830655137,
          0.17119842749783634,
          -0.008343518851456472,
          -0.008396460854063183,
          0.49250482731589657,
          0.422912013294885,
          0.42717734366018256,
          0.5573634904805077
         ]
        },
        {
         "hovertemplate": "class=%{marker.color}<br>PC 1=%{x}<br>PC 2=%{y}<br>PC 3=%{z}<extra></extra>",
         "legendgroup": "3",
         "marker": {
          "color": [
           3,
           3,
           3,
           3
          ],
          "coloraxis": "coloraxis",
          "symbol": "square"
         },
         "mode": "markers",
         "name": "3",
         "scene": "scene",
         "showlegend": true,
         "type": "scatter3d",
         "x": [
          -0.2760642192058854,
          -0.285743961329088,
          -0.47115802032835186,
          -0.4985858919153058
         ],
         "y": [
          4.948547856247796,
          2.8676258210723864,
          1.1240200591190979,
          3.7609893262674063
         ],
         "z": [
          16.151864488000665,
          8.468212601059793,
          10.970558916590806,
          21.547233792422002
         ]
        },
        {
         "hovertemplate": "class=%{marker.color}<br>PC 1=%{x}<br>PC 2=%{y}<br>PC 3=%{z}<extra></extra>",
         "legendgroup": "1",
         "marker": {
          "color": [
           1
          ],
          "coloraxis": "coloraxis",
          "symbol": "x"
         },
         "mode": "markers",
         "name": "1",
         "scene": "scene",
         "showlegend": true,
         "type": "scatter3d",
         "x": [
          33.806116923688336
         ],
         "y": [
          1.714047366917412
         ],
         "z": [
          -0.9968666730385766
         ]
        }
       ],
       "layout": {
        "coloraxis": {
         "colorbar": {
          "title": {
           "text": "class"
          }
         },
         "colorscale": [
          [
           0,
           "#0d0887"
          ],
          [
           0.1111111111111111,
           "#46039f"
          ],
          [
           0.2222222222222222,
           "#7201a8"
          ],
          [
           0.3333333333333333,
           "#9c179e"
          ],
          [
           0.4444444444444444,
           "#bd3786"
          ],
          [
           0.5555555555555556,
           "#d8576b"
          ],
          [
           0.6666666666666666,
           "#ed7953"
          ],
          [
           0.7777777777777778,
           "#fb9f3a"
          ],
          [
           0.8888888888888888,
           "#fdca26"
          ],
          [
           1,
           "#f0f921"
          ]
         ]
        },
        "legend": {
         "title": {
          "text": "class"
         },
         "tracegroupgap": 0,
         "x": 0,
         "y": 1
        },
        "margin": {
         "t": 60
        },
        "scene": {
         "domain": {
          "x": [
           0,
           1
          ],
          "y": [
           0,
           1
          ]
         },
         "xaxis": {
          "title": {
           "text": "PC 1"
          }
         },
         "yaxis": {
          "title": {
           "text": "PC 2"
          }
         },
         "zaxis": {
          "title": {
           "text": "PC 3"
          }
         }
        },
        "template": {
         "data": {
          "bar": [
           {
            "error_x": {
             "color": "#2a3f5f"
            },
            "error_y": {
             "color": "#2a3f5f"
            },
            "marker": {
             "line": {
              "color": "#E5ECF6",
              "width": 0.5
             }
            },
            "type": "bar"
           }
          ],
          "barpolar": [
           {
            "marker": {
             "line": {
              "color": "#E5ECF6",
              "width": 0.5
             }
            },
            "type": "barpolar"
           }
          ],
          "carpet": [
           {
            "aaxis": {
             "endlinecolor": "#2a3f5f",
             "gridcolor": "white",
             "linecolor": "white",
             "minorgridcolor": "white",
             "startlinecolor": "#2a3f5f"
            },
            "baxis": {
             "endlinecolor": "#2a3f5f",
             "gridcolor": "white",
             "linecolor": "white",
             "minorgridcolor": "white",
             "startlinecolor": "#2a3f5f"
            },
            "type": "carpet"
           }
          ],
          "choropleth": [
           {
            "colorbar": {
             "outlinewidth": 0,
             "ticks": ""
            },
            "type": "choropleth"
           }
          ],
          "contour": [
           {
            "colorbar": {
             "outlinewidth": 0,
             "ticks": ""
            },
            "colorscale": [
             [
              0,
              "#0d0887"
             ],
             [
              0.1111111111111111,
              "#46039f"
             ],
             [
              0.2222222222222222,
              "#7201a8"
             ],
             [
              0.3333333333333333,
              "#9c179e"
             ],
             [
              0.4444444444444444,
              "#bd3786"
             ],
             [
              0.5555555555555556,
              "#d8576b"
             ],
             [
              0.6666666666666666,
              "#ed7953"
             ],
             [
              0.7777777777777778,
              "#fb9f3a"
             ],
             [
              0.8888888888888888,
              "#fdca26"
             ],
             [
              1,
              "#f0f921"
             ]
            ],
            "type": "contour"
           }
          ],
          "contourcarpet": [
           {
            "colorbar": {
             "outlinewidth": 0,
             "ticks": ""
            },
            "type": "contourcarpet"
           }
          ],
          "heatmap": [
           {
            "colorbar": {
             "outlinewidth": 0,
             "ticks": ""
            },
            "colorscale": [
             [
              0,
              "#0d0887"
             ],
             [
              0.1111111111111111,
              "#46039f"
             ],
             [
              0.2222222222222222,
              "#7201a8"
             ],
             [
              0.3333333333333333,
              "#9c179e"
             ],
             [
              0.4444444444444444,
              "#bd3786"
             ],
             [
              0.5555555555555556,
              "#d8576b"
             ],
             [
              0.6666666666666666,
              "#ed7953"
             ],
             [
              0.7777777777777778,
              "#fb9f3a"
             ],
             [
              0.8888888888888888,
              "#fdca26"
             ],
             [
              1,
              "#f0f921"
             ]
            ],
            "type": "heatmap"
           }
          ],
          "heatmapgl": [
           {
            "colorbar": {
             "outlinewidth": 0,
             "ticks": ""
            },
            "colorscale": [
             [
              0,
              "#0d0887"
             ],
             [
              0.1111111111111111,
              "#46039f"
             ],
             [
              0.2222222222222222,
              "#7201a8"
             ],
             [
              0.3333333333333333,
              "#9c179e"
             ],
             [
              0.4444444444444444,
              "#bd3786"
             ],
             [
              0.5555555555555556,
              "#d8576b"
             ],
             [
              0.6666666666666666,
              "#ed7953"
             ],
             [
              0.7777777777777778,
              "#fb9f3a"
             ],
             [
              0.8888888888888888,
              "#fdca26"
             ],
             [
              1,
              "#f0f921"
             ]
            ],
            "type": "heatmapgl"
           }
          ],
          "histogram": [
           {
            "marker": {
             "colorbar": {
              "outlinewidth": 0,
              "ticks": ""
             }
            },
            "type": "histogram"
           }
          ],
          "histogram2d": [
           {
            "colorbar": {
             "outlinewidth": 0,
             "ticks": ""
            },
            "colorscale": [
             [
              0,
              "#0d0887"
             ],
             [
              0.1111111111111111,
              "#46039f"
             ],
             [
              0.2222222222222222,
              "#7201a8"
             ],
             [
              0.3333333333333333,
              "#9c179e"
             ],
             [
              0.4444444444444444,
              "#bd3786"
             ],
             [
              0.5555555555555556,
              "#d8576b"
             ],
             [
              0.6666666666666666,
              "#ed7953"
             ],
             [
              0.7777777777777778,
              "#fb9f3a"
             ],
             [
              0.8888888888888888,
              "#fdca26"
             ],
             [
              1,
              "#f0f921"
             ]
            ],
            "type": "histogram2d"
           }
          ],
          "histogram2dcontour": [
           {
            "colorbar": {
             "outlinewidth": 0,
             "ticks": ""
            },
            "colorscale": [
             [
              0,
              "#0d0887"
             ],
             [
              0.1111111111111111,
              "#46039f"
             ],
             [
              0.2222222222222222,
              "#7201a8"
             ],
             [
              0.3333333333333333,
              "#9c179e"
             ],
             [
              0.4444444444444444,
              "#bd3786"
             ],
             [
              0.5555555555555556,
              "#d8576b"
             ],
             [
              0.6666666666666666,
              "#ed7953"
             ],
             [
              0.7777777777777778,
              "#fb9f3a"
             ],
             [
              0.8888888888888888,
              "#fdca26"
             ],
             [
              1,
              "#f0f921"
             ]
            ],
            "type": "histogram2dcontour"
           }
          ],
          "mesh3d": [
           {
            "colorbar": {
             "outlinewidth": 0,
             "ticks": ""
            },
            "type": "mesh3d"
           }
          ],
          "parcoords": [
           {
            "line": {
             "colorbar": {
              "outlinewidth": 0,
              "ticks": ""
             }
            },
            "type": "parcoords"
           }
          ],
          "pie": [
           {
            "automargin": true,
            "type": "pie"
           }
          ],
          "scatter": [
           {
            "marker": {
             "colorbar": {
              "outlinewidth": 0,
              "ticks": ""
             }
            },
            "type": "scatter"
           }
          ],
          "scatter3d": [
           {
            "line": {
             "colorbar": {
              "outlinewidth": 0,
              "ticks": ""
             }
            },
            "marker": {
             "colorbar": {
              "outlinewidth": 0,
              "ticks": ""
             }
            },
            "type": "scatter3d"
           }
          ],
          "scattercarpet": [
           {
            "marker": {
             "colorbar": {
              "outlinewidth": 0,
              "ticks": ""
             }
            },
            "type": "scattercarpet"
           }
          ],
          "scattergeo": [
           {
            "marker": {
             "colorbar": {
              "outlinewidth": 0,
              "ticks": ""
             }
            },
            "type": "scattergeo"
           }
          ],
          "scattergl": [
           {
            "marker": {
             "colorbar": {
              "outlinewidth": 0,
              "ticks": ""
             }
            },
            "type": "scattergl"
           }
          ],
          "scattermapbox": [
           {
            "marker": {
             "colorbar": {
              "outlinewidth": 0,
              "ticks": ""
             }
            },
            "type": "scattermapbox"
           }
          ],
          "scatterpolar": [
           {
            "marker": {
             "colorbar": {
              "outlinewidth": 0,
              "ticks": ""
             }
            },
            "type": "scatterpolar"
           }
          ],
          "scatterpolargl": [
           {
            "marker": {
             "colorbar": {
              "outlinewidth": 0,
              "ticks": ""
             }
            },
            "type": "scatterpolargl"
           }
          ],
          "scatterternary": [
           {
            "marker": {
             "colorbar": {
              "outlinewidth": 0,
              "ticks": ""
             }
            },
            "type": "scatterternary"
           }
          ],
          "surface": [
           {
            "colorbar": {
             "outlinewidth": 0,
             "ticks": ""
            },
            "colorscale": [
             [
              0,
              "#0d0887"
             ],
             [
              0.1111111111111111,
              "#46039f"
             ],
             [
              0.2222222222222222,
              "#7201a8"
             ],
             [
              0.3333333333333333,
              "#9c179e"
             ],
             [
              0.4444444444444444,
              "#bd3786"
             ],
             [
              0.5555555555555556,
              "#d8576b"
             ],
             [
              0.6666666666666666,
              "#ed7953"
             ],
             [
              0.7777777777777778,
              "#fb9f3a"
             ],
             [
              0.8888888888888888,
              "#fdca26"
             ],
             [
              1,
              "#f0f921"
             ]
            ],
            "type": "surface"
           }
          ],
          "table": [
           {
            "cells": {
             "fill": {
              "color": "#EBF0F8"
             },
             "line": {
              "color": "white"
             }
            },
            "header": {
             "fill": {
              "color": "#C8D4E3"
             },
             "line": {
              "color": "white"
             }
            },
            "type": "table"
           }
          ]
         },
         "layout": {
          "annotationdefaults": {
           "arrowcolor": "#2a3f5f",
           "arrowhead": 0,
           "arrowwidth": 1
          },
          "coloraxis": {
           "colorbar": {
            "outlinewidth": 0,
            "ticks": ""
           }
          },
          "colorscale": {
           "diverging": [
            [
             0,
             "#8e0152"
            ],
            [
             0.1,
             "#c51b7d"
            ],
            [
             0.2,
             "#de77ae"
            ],
            [
             0.3,
             "#f1b6da"
            ],
            [
             0.4,
             "#fde0ef"
            ],
            [
             0.5,
             "#f7f7f7"
            ],
            [
             0.6,
             "#e6f5d0"
            ],
            [
             0.7,
             "#b8e186"
            ],
            [
             0.8,
             "#7fbc41"
            ],
            [
             0.9,
             "#4d9221"
            ],
            [
             1,
             "#276419"
            ]
           ],
           "sequential": [
            [
             0,
             "#0d0887"
            ],
            [
             0.1111111111111111,
             "#46039f"
            ],
            [
             0.2222222222222222,
             "#7201a8"
            ],
            [
             0.3333333333333333,
             "#9c179e"
            ],
            [
             0.4444444444444444,
             "#bd3786"
            ],
            [
             0.5555555555555556,
             "#d8576b"
            ],
            [
             0.6666666666666666,
             "#ed7953"
            ],
            [
             0.7777777777777778,
             "#fb9f3a"
            ],
            [
             0.8888888888888888,
             "#fdca26"
            ],
            [
             1,
             "#f0f921"
            ]
           ],
           "sequentialminus": [
            [
             0,
             "#0d0887"
            ],
            [
             0.1111111111111111,
             "#46039f"
            ],
            [
             0.2222222222222222,
             "#7201a8"
            ],
            [
             0.3333333333333333,
             "#9c179e"
            ],
            [
             0.4444444444444444,
             "#bd3786"
            ],
            [
             0.5555555555555556,
             "#d8576b"
            ],
            [
             0.6666666666666666,
             "#ed7953"
            ],
            [
             0.7777777777777778,
             "#fb9f3a"
            ],
            [
             0.8888888888888888,
             "#fdca26"
            ],
            [
             1,
             "#f0f921"
            ]
           ]
          },
          "colorway": [
           "#636efa",
           "#EF553B",
           "#00cc96",
           "#ab63fa",
           "#FFA15A",
           "#19d3f3",
           "#FF6692",
           "#B6E880",
           "#FF97FF",
           "#FECB52"
          ],
          "font": {
           "color": "#2a3f5f"
          },
          "geo": {
           "bgcolor": "white",
           "lakecolor": "white",
           "landcolor": "#E5ECF6",
           "showlakes": true,
           "showland": true,
           "subunitcolor": "white"
          },
          "hoverlabel": {
           "align": "left"
          },
          "hovermode": "closest",
          "mapbox": {
           "style": "light"
          },
          "paper_bgcolor": "white",
          "plot_bgcolor": "#E5ECF6",
          "polar": {
           "angularaxis": {
            "gridcolor": "white",
            "linecolor": "white",
            "ticks": ""
           },
           "bgcolor": "#E5ECF6",
           "radialaxis": {
            "gridcolor": "white",
            "linecolor": "white",
            "ticks": ""
           }
          },
          "scene": {
           "xaxis": {
            "backgroundcolor": "#E5ECF6",
            "gridcolor": "white",
            "gridwidth": 2,
            "linecolor": "white",
            "showbackground": true,
            "ticks": "",
            "zerolinecolor": "white"
           },
           "yaxis": {
            "backgroundcolor": "#E5ECF6",
            "gridcolor": "white",
            "gridwidth": 2,
            "linecolor": "white",
            "showbackground": true,
            "ticks": "",
            "zerolinecolor": "white"
           },
           "zaxis": {
            "backgroundcolor": "#E5ECF6",
            "gridcolor": "white",
            "gridwidth": 2,
            "linecolor": "white",
            "showbackground": true,
            "ticks": "",
            "zerolinecolor": "white"
           }
          },
          "shapedefaults": {
           "line": {
            "color": "#2a3f5f"
           }
          },
          "ternary": {
           "aaxis": {
            "gridcolor": "white",
            "linecolor": "white",
            "ticks": ""
           },
           "baxis": {
            "gridcolor": "white",
            "linecolor": "white",
            "ticks": ""
           },
           "bgcolor": "#E5ECF6",
           "caxis": {
            "gridcolor": "white",
            "linecolor": "white",
            "ticks": ""
           }
          },
          "title": {
           "x": 0.05
          },
          "xaxis": {
           "automargin": true,
           "gridcolor": "white",
           "linecolor": "white",
           "ticks": "",
           "title": {
            "standoff": 15
           },
           "zerolinecolor": "white",
           "zerolinewidth": 2
          },
          "yaxis": {
           "automargin": true,
           "gridcolor": "white",
           "linecolor": "white",
           "ticks": "",
           "title": {
            "standoff": 15
           },
           "zerolinecolor": "white",
           "zerolinewidth": 2
          }
         }
        },
        "width": 800
       }
      },
      "text/html": [
       "<div>\n",
       "        \n",
       "        \n",
       "            <div id=\"a65b4eed-ea26-4151-b508-880986e1f3f2\" class=\"plotly-graph-div\" style=\"height:525px; width:800px;\"></div>\n",
       "            <script type=\"text/javascript\">\n",
       "                require([\"plotly\"], function(Plotly) {\n",
       "                    window.PLOTLYENV=window.PLOTLYENV || {};\n",
       "                    \n",
       "                if (document.getElementById(\"a65b4eed-ea26-4151-b508-880986e1f3f2\")) {\n",
       "                    Plotly.newPlot(\n",
       "                        'a65b4eed-ea26-4151-b508-880986e1f3f2',\n",
       "                        [{\"hovertemplate\": \"class=%{marker.color}<br>PC 1=%{x}<br>PC 2=%{y}<br>PC 3=%{z}<extra></extra>\", \"legendgroup\": \"0\", \"marker\": {\"color\": [0, 0, 0, 0, 0, 0, 0, 0, 0, 0, 0, 0, 0, 0, 0, 0, 0, 0, 0, 0, 0, 0, 0, 0, 0, 0, 0, 0, 0, 0, 0, 0, 0, 0, 0, 0, 0, 0, 0, 0, 0, 0, 0, 0, 0, 0, 0, 0, 0, 0, 0, 0, 0, 0, 0, 0, 0, 0, 0, 0, 0, 0, 0, 0, 0, 0, 0, 0, 0, 0, 0, 0, 0, 0, 0, 0, 0, 0, 0, 0, 0, 0, 0, 0, 0, 0, 0, 0, 0, 0, 0, 0, 0, 0, 0, 0, 0, 0, 0, 0, 0, 0, 0, 0, 0, 0, 0, 0, 0, 0, 0, 0, 0, 0, 0, 0, 0, 0, 0, 0, 0, 0, 0, 0, 0, 0, 0, 0, 0, 0, 0, 0, 0, 0, 0, 0, 0, 0, 0, 0, 0, 0, 0, 0, 0, 0, 0, 0, 0, 0, 0, 0, 0, 0, 0, 0, 0, 0, 0, 0, 0, 0, 0, 0, 0, 0, 0, 0, 0, 0, 0, 0, 0, 0, 0, 0, 0, 0, 0, 0, 0, 0, 0, 0, 0, 0, 0, 0, 0, 0, 0, 0, 0, 0, 0, 0, 0, 0, 0, 0, 0, 0, 0, 0, 0, 0, 0, 0, 0, 0, 0, 0, 0, 0, 0, 0, 0, 0, 0, 0, 0, 0, 0, 0, 0, 0, 0, 0, 0, 0, 0, 0, 0, 0, 0, 0, 0, 0, 0, 0, 0, 0, 0, 0, 0, 0, 0, 0, 0, 0, 0, 0, 0, 0, 0, 0, 0, 0, 0, 0, 0, 0, 0, 0, 0, 0, 0, 0, 0, 0, 0, 0, 0, 0, 0, 0, 0, 0, 0, 0, 0, 0, 0, 0, 0, 0, 0, 0], \"coloraxis\": \"coloraxis\", \"symbol\": \"circle\"}, \"mode\": \"markers\", \"name\": \"0\", \"scene\": \"scene\", \"showlegend\": true, \"type\": \"scatter3d\", \"x\": [-0.3372846494920619, -0.3207478804501668, 2.296893077336133, -0.38167578615611886, -0.4889376487519103, -0.31231713736131683, -0.2714825712342063, -0.2412200001933106, -0.3369467648232675, -0.3295813690491378, -0.3357927527333177, -0.3372806146472303, -0.3372650141124198, 0.4531487157951362, -0.3636086778290107, -0.34648216704614165, -0.2872851170343188, -0.33535779254668824, -0.3208196909313323, -0.3815712900016351, -0.38185231816105775, -0.03836550128386731, -0.2758944520323185, -0.29620296901216936, -0.2686014351568569, -0.2692188714097291, -0.3345537066642645, -0.331628778059952, -0.33569822426609086, 0.018109691716449994, -0.34055375658309117, -0.38194010783019633, -0.3174942312109587, -0.3818523816015455, -0.3126997238675651, -0.3359717546560889, -0.29917298421341165, -0.38181714978698733, -0.2690014157281686, -0.32845164368672014, -0.5348571317379097, -0.3128647344317622, -0.3115346977534388, -0.3630346968273014, -0.29618345052950124, -0.2692936274966303, -0.2908763084762435, -0.33726685557423647, -0.2692461884464707, -0.3409951015495813, -0.337003187325379, -0.3819217784154818, -0.34533463354686345, -0.43711510302273093, -0.2627294302277255, -0.2945968126046518, -0.2687713204498835, -0.3049266896941657, -0.2436441321004144, -0.06995371926099066, -0.3122882744213192, -0.061747998525652624, -0.31235153046421155, -0.22770236319515727, -0.3368799236890244, -0.29446633406306555, -0.3791110188850794, 0.8485437699501309, -0.31215299827287996, -0.2721800713352796, -0.3461677830237387, -0.37978099326621123, -0.3109053832266367, -0.30859018509597846, -0.34812970878358585, -0.3806660665169444, -0.3470901686468332, -0.3133496596045501, -0.33691771896380257, -0.33536845319889286, -0.22716257456336714, -0.32857907361005184, -0.3813995017784543, -0.33612785030201164, -0.3123325828025557, -0.38191103983712177, -0.337105531765367, -0.3372611329086168, -0.29445695572310765, -0.27299501581418106, 0.034503292690438656, -0.345132626749075, -0.3368782495208973, -0.3681730482487548, -0.3444665639785903, -0.2285830650066196, -0.4126950348761403, -0.344216292921149, -0.27766442041702655, 3.681397527575177, -0.3815065907709945, 0.8542394653651142, -0.3818662918020712, -0.3455929238943481, -0.3368061923939347, -0.3369593196108563, -0.3461677830237387, -0.3814442137144001, -0.3121963135223859, -0.3368069467048847, -0.36611572794076314, -0.3369532285054463, -0.3325723966870666, -0.3818950582722531, -0.3361694814842706, 0.34227536552508275, -0.3371510412605821, -0.3372211132442689, -0.34607234655476604, -0.3398104278675031, -0.33347466055196695, -0.3123091774256117, -0.3818056815879326, -0.33700055654889965, -0.3371265274180605, -0.29609043850729994, -0.28978167203606836, -0.2283526475275575, -0.31812267931717225, -0.29583364443994675, -0.38107666513134003, -0.40890447380064476, -0.37982467010125925, -0.3444273943225477, -0.3809753336610192, -0.33886900232367795, -0.37694571559120815, -0.3370702521360536, -0.33706941620677733, -0.33023967650141417, 0.2574213641402168, -0.38145040297512567, -0.2788572405832689, -0.34620177069710245, -0.3362866309589004, 0.8824205175004854, -0.270182212490818, -0.34587760162598047, 0.6036388755431167, -0.34965392599121264, -0.3481671650800648, -0.4273983823564078, -0.2689336112083694, 0.1243131918930515, -0.2690038889230988, -0.33174164459104505, -0.42690706581598825, -0.38172083038378, -0.29616423491202043, 4.3591792466013395, -0.3460689334592488, -0.33670812912963477, -0.3372041700187471, -0.5465716074599793, 0.6339852030561695, -0.3816620359803995, -0.3295895861307606, -0.3371600755498484, -0.30189179545212735, 0.42616518614527205, -0.3106677899012276, -0.3345324494747235, -0.3935999031759175, -0.33711077234543385, -0.3852969780259798, -0.3386712492433894, -0.3369821928259524, -0.09925823909065404, -0.3804634419636796, 3.6862179183222588, 0.205677048347841, -0.2656994475688331, -0.33446109830939735, -0.30864755675709943, -0.3459591038364469, 0.07420336914559117, -0.33612674454827723, -0.3810405338746739, -0.34512981271977733, -0.32378462578230344, -0.33722613261421136, -0.3409672420113584, -0.3473699595374651, -0.28215272143079595, -0.3259732612047922, -0.332804567582382, -0.220207915107827, -0.07411229587666317, -0.3606762093187669, -0.38173787563608225, -0.22023191764053024, -0.2953301978110848, -0.33926318114492093, -0.34925578843828475, -0.33725328184320025, -0.3372351244192423, -0.2897530881456304, -0.3358725875874183, -0.34566638701704405, -0.336953701018506, 3.8794186643600312, -0.383975224623168, -0.3458536435064079, -0.31861050865243223, -0.2842090008552966, -0.10117260861202243, -0.2958607530599234, -0.14183254630402842, -0.29611079862474127, -0.3425107773751682, -0.33643153160348177, -0.20222099335620577, 2.2298845973546517, -0.3416972154027442, -0.2703093947626038, 1.0016734243553616, -0.3587236286435744, -0.3460717604005741, -0.38696905865035525, -0.17768353827286906, -0.34259214834580204, -0.3448007715518853, -0.33018022741583636, -0.34054774296868795, -0.38121514335775253, -0.2933764648154667, -0.34495977750347234, -0.31791157709631623, -0.3404099873140181, -0.19773434395640294, -0.907955246143185, -0.12503155463993998, -0.17945346495748735, 0.7901908476371228, -0.1325315727286481, -0.38626888544600596, -0.25509535009455275, -0.33695768404032633, -0.3867216578788218, -0.3461878730562105, 0.562927879425457, -0.34102114599062694, -0.3364442948987082, -0.21472814033900747, -0.2975564166558718, -0.3787968455774977, -0.38144072440702537, 3.69836789430434, 0.0947890465264452, -0.37899938901792146, -0.33583398676651477, -0.33665329572976394, -0.27151491302443403, -0.337167890693863, -0.3731307323953155, -0.2514865934717509, -0.09366588501991095, -0.36890950825894536, -0.33645168309005435, -0.32956753301851244, -0.37803488382237405, -0.3349022102455008, -0.34644134704645435, -0.34245362095504045, -0.31084323027305527, 3.6817864891315493, -0.10482814040401982, -0.3321178983661743, -0.3341821862966885, -0.26940006157795277, 3.6915780444976964, 3.6928126296450476, -0.2525540068069398, -0.3463777074677431, -0.3329778982401913, 2.4444883176085934, -0.3353439122811507, -0.29650441507464337], \"y\": [0.9697490962272032, 0.9699035114656211, 1.647837888479271, 1.16211374363228, 1.8315372654306632, 0.8096803364473868, 0.6806810506718354, 1.8230336052036504, 0.969747879075369, 0.9700047203621107, 0.9697986030593261, 0.969748859531765, 0.969749006598719, 0.3497101299324142, 0.9035652883906424, 1.6396231131764325, 0.3873950887633269, 0.9697240883596399, 1.0337881136892966, 1.1621172112115845, 1.8417226693836204, 0.8493069954329922, 0.809112088333702, 0.8407389757328201, 1.7955712216248856, 1.7955507327448628, 0.4819807623789279, 0.9696254603970195, 0.9697290987361297, 0.981542430362206, 1.0331332624368326, 1.1621212788879198, 1.6334660640129253, 1.1621167783577298, 0.9693789397259586, 0.969718539486684, 0.23101255905568757, 1.1621212830455576, 1.795557948750319, 0.9693009728509947, 0.6705498686362488, 1.6041202633836826, 0.8096722039053247, 0.9035875818744515, 0.8407516166301396, 1.7955393572208846, 0.8405571097163226, 0.9697496867281113, 1.7955424139009313, 1.0331037922127315, 0.9697436115202845, 1.1621218878687551, 1.8784964805087494, 1.9102548246775801, 0.45805082900632477, 0.8407301436939136, 1.7955285223811244, 0.8092006506758533, 1.8231931029042767, 0.8981466871343203, 0.809681294229362, 1.1530666517947237, 0.8096877193686294, 1.5060638745770107, 0.9697313946819494, 0.8406447448879318, 1.1619305248874332, 0.8053556408527731, 0.8096724409561622, 0.3536986170260002, 1.6396187209106017, 1.1621373345444426, 0.8095783991976333, 0.8094311691262424, 1.5020009265938974, 1.1620605253425558, 1.6252315031822915, 0.9690608779537826, 0.9697284109405494, 0.9697385593205003, 1.6664366996742015, 1.033043635789395, 1.1621021571868098, 0.969720772001164, 0.8096805651450694, 1.162120020507304, 0.9697394741069504, 0.9697498766278926, 0.8408089082854068, 0.3115292593889248, 1.9344509092746685, 1.6396130445786996, 0.9697625821529692, 1.1614662688218966, 1.6396603491739221, 1.66653595644175, 1.750188804884279, 1.639475191423205, 1.9333530025781884, 1.8948573179852692, 1.1621134282890826, 1.8322012968143415, 1.1621208729004662, 1.6396155598372637, 0.9697364060432371, 0.9697287600237005, 1.6396187209106017, 1.1620932611140538, 0.8096858283134549, 0.9697404874602713, 0.5437128715694934, 0.9697393394549675, 0.9694231741542744, 1.1621190683641482, 0.9696793637715754, 0.8378368752935532, 0.9697438938177612, 0.9697487468498865, 1.571368239578853, 0.5458093021891337, 0.9695049081177176, 0.8096813418243753, 1.1621188068800716, 0.9697436988194401, 0.9697380855713448, 0.8407139351373889, 0.21315438056734654, 1.6665346894069026, 0.9696437271203594, 0.8407377064176657, 1.1620758083284841, 1.818410303121318, 1.1621099419180272, 1.6396095473893053, 1.1620791708915474, 1.6395792524624977, 1.1619163944886115, 0.9697404875873097, 0.9697350391640779, 0.9692416391308784, 0.642648650869053, 1.1621078804526668, 0.8398440939055992, 1.639610180709611, 0.9697043845145423, 1.793868449973645, 0.6805851573351028, 1.6252224485616724, 1.8374892976543626, 1.5020096461648162, 1.501977446569026, 1.9158074470846, 1.795537961679135, 0.9480048614025387, 1.7955438586616244, 1.6599875744644537, 1.9158237508335345, 1.1621215089553112, 0.8407393524025859, 2.4321198299797215, 1.63959116571922, 0.9697324612699098, 0.9697486536813592, 1.8322258837889953, 1.6025185524228391, 1.1621104937348894, 0.4818517907772324, 0.9697415679806647, 0.6700905918475335, 0.976552359308686, 0.8096772516456933, 1.5016293632435918, 1.7629623311131861, 0.9697393002045986, 1.7002908621674362, 1.6837897016383974, 0.9697481713154413, 0.6797342488015892, 1.1620635430143957, 1.8947393133255255, 1.4982079668310317, 1.7955118610166056, 0.9696871328322048, 1.3729958878977975, 1.571368291221918, 0.9463420271561153, 0.9696763345288985, 1.1621140691052931, 1.5713216866420345, 0.9695299658403379, 0.9697480731262413, 1.0331039754619373, 1.6252285191645979, 0.009465121413060438, 0.2622123710318809, 0.9697257956196093, 1.6662227400364522, 1.4943195560410567, 0.8049026400719116, 1.1621094595592376, 1.0594569167213803, 0.8406880175210628, 1.7672370389336707, 1.5019932084374497, 0.969747913447794, 0.9697470335079079, 0.8405943824331191, 1.7281800532929985, 1.6395849550804205, 0.9697378413030099, 1.9856319883665696, 1.7003347229656387, 1.6395846710875799, 0.7823905402845615, 0.9677137727792839, 0.3554103513218275, 0.840743052819524, 0.9686743312966992, 0.8407214131083455, 1.936690748633592, 0.969715142118673, 1.6941590882394555, 0.16674534986389256, 1.571042738131266, 0.6806549286094878, 1.739946132748873, 0.9113929772576821, 1.5713638116131374, 1.7003798052922223, 0.8321718286144042, 0.7990802478422373, 1.5713474301995436, 0.9692436118773375, 1.0330926940064726, 1.162108274899441, 0.8406520416943646, 1.639517972265004, 0.8607392953396678, 1.0330639096382888, 0.961037655825098, 2.2799146251902145, 1.5569770544175952, 0.9304561395066695, -0.06038645019200197, 1.0400362286091993, 1.7003668310568083, -0.0384632280004949, 0.9697443802560239, 1.7003777229271397, 1.5713656141855665, 0.9441771076643632, 1.0331031503300827, 0.9697147185840597, 1.059313409077337, 1.9345504482294693, 1.1619142658518515, 1.1621156139852122, 1.8947718776319924, 0.958143679463989, 1.162218863848817, 0.9696489875395737, 0.9697298303806974, 0.6806736769416334, 0.9697529707587315, 1.1620429901211602, 0.9648132226956309, 0.8168114878205417, 1.1618124483263166, 0.9697656187059894, 0.9697086850583287, 1.1620966926879672, 0.9697095568672078, 1.6396177966142593, 0.5375730492353415, 0.8096677236873483, 1.8948443424287975, 0.8396826024405867, 0.9696981778582267, 0.4819512864953778, 1.7955446312185517, 1.8952878007157032, 1.8953287689401073, 0.680577201695751, 1.639620179605833, 1.6390085995301282, 0.835401086824122, 0.9696281882679254, 0.8407402245713512], \"z\": [-0.6029762941861274, -0.6035178500426266, -0.7219117757743485, -0.5210170365101634, 0.26648464537195743, -0.3871904485259177, -0.03500455968622458, -0.6472950536385531, -0.6029866456230252, -0.6032585555856091, -0.6030309598447006, -0.6029763815276025, -0.6029768926506905, -0.09234154399124478, -0.4233924096263125, -0.05404317498007642, -0.30507378292797094, -0.6030323757941998, -0.1695662834828702, -0.5210208654283086, -0.8274408801219564, -0.2602459170092006, -0.3882349422241434, -0.2507963523930953, -0.6659254796500612, -0.6659028557278273, -0.32634746418615596, -0.6031327089318459, -0.6030225641111496, -0.6159985517934976, -0.16884319350461172, -0.5210100135085669, -0.20539118440515272, -0.5210120179241604, -0.6036835048303191, -0.6030122994600369, -0.37501511616186023, -0.5210138534433507, -0.665910823676593, -0.6031789361835084, 0.49184169349270573, -0.07322211679839738, -0.3872135517879466, -0.4234139713170874, -0.2507990255979504, -0.6658986643630135, -0.25093298113861656, -0.6029769461908494, -0.6659006446400448, -0.16882460157932794, -0.6029841871577611, -0.5210106852507425, -0.8714753381676509, -0.714063648687484, -0.2025128095480083, -0.25084506128258943, -0.6659132040380856, -0.38734289503477276, -0.6472454019195274, -0.49400696593665727, -0.38719150611349423, -0.5295294668253705, -0.38719057997016176, -0.6315277560984899, -0.6029860414301479, -0.2508351931191998, -0.5210672067375239, -0.2807633593243693, -0.38719428460280686, -0.07034495683340256, -0.054052274259828406, -0.5210800512010489, -0.38721788698583365, -0.3872661401617984, -0.6271042005105358, -0.5210398756742335, -0.04208681067906098, -0.6036112842812716, -0.6029843741794527, -0.6030344054591386, -0.3137363806624985, -0.1692024598963018, -0.5210237716378496, -0.6030077899928634, -0.38719000359296185, -0.5210107156872281, -0.6029803160676455, -0.602977155879123, -0.25086228732587046, -0.3892787693842034, -0.7705882820411076, -0.05408366937773752, -0.6029911853824902, -0.5213329405688113, -0.054112189563390235, -0.3137082318025804, -0.6865241847503293, -0.05408977513341666, -0.7606618770094881, 0.18696816903096128, -0.5210222680031759, -0.7069654318414297, -0.5210122520670126, -0.05406970764905302, -0.6029891617812169, -0.6029831322275334, -0.054052274259828406, -0.5210209231711553, -0.3871951177473492, -0.6029898045621628, -0.22484792315717964, -0.6029850496187233, -0.6030702199499202, -0.5210110592501978, -0.6029997297733596, -0.2702584749668866, -0.6029796166375644, -0.6029782210097301, -0.18564265566372076, -0.3828867764777846, -0.6030553914765567, -0.3871908612060763, -0.5210138072680269, -0.6029842835539188, -0.6029794338041534, -0.2507957779216835, -0.4185758423145433, -0.3137152195277313, -0.6035574071358814, -0.2508076769969289, -0.5210295502020013, -0.6969918081332039, -0.5210742153003483, -0.054105118683274805, -0.5210332631606978, -0.05427372859003959, -0.5211325094811805, -0.602981583104001, -0.6029807196935828, -0.6031134195975234, -0.04530993316411671, -0.5210231166755391, -0.2511918586673343, -0.05404981874849004, -0.6030001567804105, -0.6776182197864423, -0.03502950665514978, -0.04212319374975123, -0.8304108312507845, -0.6270580317384279, -0.6270991976134023, -0.7051212165278352, -0.665909677716124, -0.6138393062575657, -0.6659084461002382, -0.06415439413740737, -0.7051392192077084, -0.5210168978135232, -0.25079762332631284, 5.044824844828996, -0.054050862079314775, -0.6029915796946624, -0.6029787348362139, 0.26817179060635743, 0.02210261741514026, -0.521016935267785, -0.32648140850267654, -0.602978954832868, -0.05220476614172127, -0.6279250424036459, -0.3872414443138279, -0.6274681013221188, -0.5565569015543497, -0.6029801240438128, -0.5378662972273277, -0.06778784493013852, -0.6029855871262376, -0.04022753671414236, -0.5210466951126713, 0.18683692208277802, -0.6437770860468739, -0.6660064004078494, -0.6030543409047129, -0.27487514451434925, -0.18564619999857698, -0.612003196492837, -0.6030005696410703, -0.5210369248369077, -0.1856644851985099, -0.6033620451636037, -0.60297795429198, -0.16882550138606858, -0.042077587284466596, 0.18047894325249342, -0.3604482612311924, -0.6031123767104349, -0.31391860261616933, 4.501112716543124, -0.46735287597149916, -0.5210143984018057, -0.5060594352705943, -0.2508152844446256, -0.03736810975304027, -0.6270677796015415, -0.602977080512187, -0.6029775038023618, -0.25097413785608047, -0.02545821389816372, -0.0540624172843112, -0.602984790276085, 0.15752707094467697, -0.5379147285367272, -0.054056524001492294, -0.05677252615916037, -0.6043012466599831, -0.18756140434964158, -0.25080770340980074, -0.608903646498139, -0.25079636305132075, -0.759182028583793, -0.6029973886764941, -0.2950722208873928, -0.43508081377025104, -0.1857261237739024, -0.03503692638512072, 0.07972609087323641, -0.4089814559811973, -0.185641951054564, -0.5378286088777251, -0.25309834108408386, -0.4043932735092255, -0.18567896212018903, -0.6031155979138804, -0.16883675805761814, -0.5210305268462677, -0.25087041460054327, -0.05407354490164968, -0.49844671710162186, -0.16883636000946053, -0.6059113959432063, 0.8781390390243169, 2.416356056370269, -0.15387155084540055, -0.19115291108109636, -0.17646548275077967, -0.5378483529875313, 0.31490288561497587, -0.6029857334616167, -0.5378359937800302, -0.18563861982835655, -0.626909740958832, -0.1688236835707255, -0.6029969210074878, -0.5062078567321806, -0.7602362624584572, -0.5210743620647224, -0.5210246814596083, 0.18645223338229885, -0.6145727081101575, -0.5211177666055545, -0.6030052460640579, -0.6029928622990773, -0.03500234600457765, -0.6029805724336348, -0.5212722970021532, -0.6048494299837576, -0.39518187462171334, -0.5213664626497093, -0.6030050002902781, -0.6032106567714477, -0.5211279367177083, -0.6030442285313169, -0.05404358156453118, -0.14919529168544451, -0.3872344108056255, 0.18695814244492734, -0.25659939804281456, -0.6031293084627657, -0.32635425233708276, -0.6658962020878716, 0.18658001063801674, 0.1865347733228517, -0.03557863292531692, -0.05404595770209254, -0.004272326565967206, 0.07113695176033008, -0.603017152509152, -0.25078714389259366]}, {\"hovertemplate\": \"class=%{marker.color}<br>PC 1=%{x}<br>PC 2=%{y}<br>PC 3=%{z}<extra></extra>\", \"legendgroup\": \"2\", \"marker\": {\"color\": [2, 2, 2, 2, 2, 2, 2, 2, 2, 2, 2, 2, 2, 2, 2, 2, 2, 2, 2, 2, 2, 2, 2, 2, 2, 2, 2, 2, 2, 2, 2, 2, 2, 2, 2, 2, 2, 2, 2, 2, 2, 2, 2, 2, 2, 2, 2, 2, 2, 2, 2, 2, 2, 2, 2, 2, 2, 2, 2, 2, 2, 2, 2, 2, 2, 2, 2, 2, 2, 2, 2, 2, 2, 2, 2, 2, 2, 2, 2, 2, 2, 2, 2, 2, 2, 2, 2, 2, 2, 2, 2, 2, 2, 2, 2, 2, 2, 2, 2, 2, 2, 2, 2, 2, 2, 2, 2, 2, 2, 2, 2, 2, 2, 2, 2, 2, 2, 2, 2, 2, 2, 2, 2, 2, 2, 2, 2, 2, 2, 2, 2, 2, 2, 2, 2, 2, 2, 2, 2, 2, 2, 2, 2, 2, 2, 2, 2, 2, 2, 2, 2, 2, 2, 2, 2, 2, 2, 2, 2, 2, 2, 2, 2, 2, 2, 2, 2, 2, 2, 2, 2, 2, 2, 2, 2, 2, 2, 2, 2, 2, 2, 2, 2, 2, 2, 2, 2, 2, 2, 2, 2, 2, 2, 2, 2, 2, 2, 2, 2, 2, 2, 2, 2, 2, 2, 2, 2, 2, 2, 2, 2, 2, 2, 2, 2, 2, 2, 2, 2, 2, 2, 2, 2, 2, 2, 2, 2, 2, 2, 2, 2], \"coloraxis\": \"coloraxis\", \"symbol\": \"diamond\"}, \"mode\": \"markers\", \"name\": \"2\", \"scene\": \"scene\", \"showlegend\": true, \"type\": \"scatter3d\", \"x\": [-0.14621864424531172, -0.15574607978939323, -0.170025328435847, -0.1439838596111041, -0.15419910403244574, -0.13062829868124334, -0.17116307879558873, -0.21576035722985593, -0.17078236355412962, 2.5315614857317086, -0.14332521954058183, -0.16805793872568278, -0.1705877353091037, -0.2162880155470532, -0.1965837949436435, -0.1706363579545234, -0.17114548039806465, -0.17123130879922707, -0.2158490251771189, 0.22882994074314955, 0.07565570739879027, -0.17097950939409925, -0.16661721585206093, -0.17091921963630424, -0.1712878842031018, -0.163820680113225, -0.15066297006882026, -0.17009194740920827, -0.17036726413444975, 1.5646422588414004, -0.146180309024259, -0.16767654303862725, -0.17100575316696554, -0.17135793495249288, -0.1706226722628515, -0.12705954168077307, -0.17124007167468155, -0.03711318077756846, -0.14625732619797843, -0.16495101251204305, -0.1712196225911446, -0.16932753537764944, -0.1707101588279668, -0.13350387754000959, -0.1457250812971829, -0.14601011213048992, -0.14599306247049768, -0.146579598204482, -0.21602166806505638, -0.17093827090684033, -0.17600784787822985, -0.16806254982089236, -0.1457918702964098, 3.829618730289465, 0.45383371583963394, -0.16981416700915533, -0.15452399051124532, -0.1685425144590621, -0.17136012183487828, -0.16840861334094603, -0.15473393763342994, -0.10497054236123882, -0.17475080320515202, -0.17123416661448107, -0.04510027257387702, -0.1134825748101897, -0.1713689550945263, -0.14628489136642023, 0.4762001723777453, -0.21541339620689132, -0.1458125316038984, -0.14602660050310473, -0.2156961689640485, -0.16950617355523598, -0.16870441842436276, -0.1568053044269217, 0.3650725783087861, -0.21573131676067986, -0.1461814227955334, -0.16735681160825003, -0.1502858679058102, -0.16994292974300446, 0.2691966500911763, -0.2148981606182788, -0.14587571746352124, -0.17018809961042067, -0.15713909250418978, -0.17116038898164418, -0.21569480230460636, -0.1713690131552983, -0.2158436269797261, -0.18573224273032882, 0.2998808470013024, -0.14643956830925234, -0.16855652150131886, -0.14639851032320098, -0.17103485943155392, -0.14275083077589257, -0.1565493921657249, -0.13064975050940647, -0.09861197102528367, -0.202527447842021, -0.21368750312745516, 0.29987530133429374, -0.1713508815632763, 0.300005035401305, -0.1463490855774101, 0.49436478746525886, -0.14275720961766203, -0.17131940831312878, -0.2086290264035167, -0.13066204793809, -0.16946652678619692, -0.1460695708618746, -0.15051539971693906, -0.1424481362479158, -0.18340869449726674, -0.1708849921942923, -0.11301138262056845, -0.17070826032182987, -0.14261637660601953, -0.14417815841057688, -0.03216941918947713, -0.14144397353933794, 0.33572972701453885, -0.2149064212714021, -0.1710253080223637, -0.17079025785428434, -0.21529825650676493, -0.21587147151226568, 0.3002674116990688, -0.1772661725662593, 3.2131281482482446, -0.09227819253831243, -0.20680872150718763, -0.1462178148505302, -0.09746636444222097, 1.5622974282007132, -0.17112240459773784, -0.17057796405483291, -0.1702811560498915, -0.1702681868630592, 0.3004497679511121, 0.08013150266063467, -0.17059938430822183, -0.16847490740018264, -0.13050925867215368, -0.14464375556201284, -0.1694647496284976, -0.21144853291572946, -0.1683214236092473, -0.1549260003229314, -0.16842091949213472, 1.131777821786052, 0.29985816623497785, -0.08034761765027097, -0.21119122451560735, -0.1318078248900688, -0.08812801969798224, 1.0939575908774193, -0.21584566498587182, -0.16847251044220496, -0.16156153798139658, -0.17037894145133486, -0.21577162881626163, -0.14619737329121693, -0.19473856148292276, 7.982845234485722, -0.17698213173271732, 0.30370437175932974, 0.020238884282910524, -0.1441510093660791, -0.16167191943912873, -0.17094838422225223, 0.13385970930886631, -0.20995527454444038, -0.10829679190802247, 0.30772497806556703, -0.17118366493553414, -0.146146400736631, -0.12950785056740197, -0.14055009002972907, -0.21494688214731728, 0.30003931543581636, -0.18346781816063842, -0.1461954371205028, -0.16275582337494868, -0.14283460910373058, 0.30393999904710106, 0.5616143719594818, 2.095491373744115, -0.15497793776952734, 0.3135444932191947, -0.19359456378747272, -0.15443533687796604, -0.21582795639318103, -0.17120805421758242, -0.13168541394274236, -0.13298700800218896, -0.053098570438002715, 3.0656826843020797, -0.10634365454064543, -0.21579952372403235, -0.1930263264873698, -0.02602738241931661, -0.14223664949888362, -0.14621785212893548, 0.37922445302778646, -0.12932839067142848, -0.1297177606941155, -0.16735835991464185, -0.17010839734406147, -0.1285831530194049, -0.13034331274542982, -0.17396737858611275, -0.1454993419611655, -0.10346981888106904, -0.14437548675805056, 0.5198100864729784, -0.09419293227501749, -0.08053191313502701, -0.15488337312281603, -0.14600948739186967, 0.539213227334808, -0.19614805976357133, -0.17128437852058467, -0.1692549547368478, -0.12357651682051628, -0.15658230467010803, 0.3214549662438085, -0.13062934755312972], \"y\": [-1.3166825011364787, -1.9878530109315895, -1.1566382257130197, -2.2798330300428935, -1.9879573359790503, -2.035784658828822, -1.1566292827177262, -0.9642544274806233, -1.1566485222918297, -1.3515617085887137, -1.316696778974732, -1.1566959854407433, -1.1566687482866453, -0.4260109743206877, -1.22282656651559, -1.1566319405392327, -1.1566286987360537, -1.1566257207327348, -0.9642558873477142, -1.3197873564962388, -1.1584300191734456, -1.1566231911877494, -1.1566850847504861, -1.156629344141578, -1.1566261866673948, -1.6444752858847551, -1.1569864524036544, -1.1566300590783327, -1.1566408597268734, -1.166169092418289, -1.3166812290282366, -1.1566947597367156, -1.1566233208197232, -1.1566211834959568, -1.1566269159342735, -2.2977801540244243, -1.1566236840369044, -1.1632839733374938, -1.316683784750588, -1.1566573733680077, -1.1566311590556284, -1.1567381154798513, -1.1566366384428202, -1.3169032285734943, -1.316685403852644, -1.3166911472067389, -1.3167187484056662, -1.3166790983109624, -0.9642482740448575, -1.1566233052102888, -1.3272905589814126, -1.1567075689078865, -1.3166861288220246, -2.335064576296721, -2.317764381490069, -1.1566468734810564, -1.1573068452422957, -1.1566500877897041, -1.1566222033647426, -1.1566409109083517, -1.1568097715443215, -2.19654346324464, -1.5805303147365817, -1.156618574680337, -1.159842834932073, -2.2469280637823266, -1.1566210076968557, -1.316684699467575, -1.2033254655048933, -0.9642525500652147, -2.2232264368270527, -1.316700411289982, -0.9642530387062529, -1.156714571826167, -1.1567174380926117, -1.987900691659828, -2.236907961523448, -0.9642504988631958, -1.316681265987398, -1.1566430699363757, -2.1355556993375404, -1.1566354914114214, -1.3189120570969848, -0.96427325563198, -2.1778833423567363, -1.1567061513065917, -2.30807292351126, -1.1566284522233932, -0.9642559582996599, -1.1566210073775876, -0.9642608968676478, -1.378449197860737, -2.315468173888688, -1.3166814829527216, -1.1566754685064828, -1.3166807893086385, -1.1566316990370296, -2.2769804254966535, -1.9878990923786453, -2.0357853706819573, -1.1616185563353942, -0.964171102608754, -0.9643398194150008, -2.3154765115119686, -1.156621960695732, -2.315475171387226, -2.223202888830772, -1.0147985622105409, -2.2799294538136072, -1.1566213949202702, -0.9647441942052929, -2.035782813812991, -1.156631542329269, -2.2232017670685815, -2.140201398695645, -1.158625790259016, -0.6243774170813099, -1.1566308177925788, -1.3174180823336517, -1.1566519931538388, -2.2798654815522013, -2.3250412875903814, -2.2503421893802957, -2.2045740786398476, -2.315753631706507, -0.9642853895292591, -1.1566234336621586, -1.1566569378516782, -0.9642687426670583, -0.9642572993148505, -2.3154879605917036, -2.053930605681033, -1.192557297510694, -1.2670835776952736, -0.9647579131838887, -1.3166824736140075, -1.1619511588025013, -1.0990909130895343, -1.1566271917572628, -1.156656564261882, -1.1566585748223719, -1.1566581444554929, -2.3155077702215445, -2.044341240033385, -0.96407521510764, -1.6444006888721925, -2.035780708629181, -2.1779360842902333, -1.1566314833564264, -0.9643559526822234, -1.644408937946658, -1.9880333436851447, -1.6444024552815761, -2.3508603277984275, -2.315470779612885, -1.9927633644743352, -0.9644956614301115, -2.280169834734228, -1.1575644785614778, -1.261801354617498, -0.9642571100687668, -1.6443961619154857, -1.6445218816868132, -1.1566351352141766, -0.9642570252229409, -1.3166811770945295, -1.321468988689154, -2.8017469112096984, -2.172414844375908, -2.3155829377798667, -1.1576746335356827, -2.177877996517529, -1.3275679342919362, -1.1566362418220297, -1.1601358198672376, -0.9644175861111908, -1.9910964979195438, -2.315941699554994, -1.15662996584404, -2.2850853357028527, -2.0357837986730947, -2.277113904934376, -0.9642867321748012, -2.3154691416872866, -0.6243591788631117, -2.223209857515663, -2.2601787232844512, -2.276975126106403, -2.3157708054831048, -2.18827972016222, -2.392263024625384, -2.2082125937963446, -2.315748585938452, -1.2149579476872612, -2.2391336448122825, -0.9642574119137078, -1.156631594433878, -2.280722084060287, -2.3598887608192483, -1.0669835071228222, -2.241809858610364, -1.316900327354693, -0.9642594333541105, -1.214996851718774, -2.0379314314538295, -2.2770097643881217, -1.3166824748510468, -2.3188170269198767, -2.241048860200151, -2.2410025627346664, -2.183180984464312, -1.1566676667541302, -2.0358960240143253, -2.0357825297730154, -1.580578441341068, -1.3166905051064792, -0.3308259984368137, -1.316730299875517, -1.2063998630619854, -1.644880661782835, -2.244540341624419, -1.1568147303814469, -1.3166911264755388, -1.1701025372423743, -1.2228276731251824, -1.1566214481258903, -1.1566853029244222, -2.312646339521895, -1.987898911397148, -2.3157827458402496, -2.0357846936343735], \"z\": [0.20743800169931143, 0.422878409186757, -0.008380092460318948, 0.4289665196033389, 0.4228471383841698, 0.5573634520480432, -0.008346027249616802, 0.0736180004861741, -0.008354773685961357, -0.06091146907588625, 0.20734998808045227, -0.008432092587400455, -0.008357548677236806, 0.056661317108390404, 0.17121185227745575, -0.008362039724498465, -0.008346672085055578, -0.008344478359150913, 0.07362100740273732, 0.19623434160153916, -0.015758736370916137, -0.008352753547019224, -0.008478857533888324, -0.008353631507820796, -0.008342635773605596, 0.26815149444663683, -0.00892781333594914, -0.008379345629634879, -0.0083689857908818, -0.0609875388494163, 0.20743659703113126, -0.008444201438848534, -0.008351912944689722, -0.0083412653205923, -0.00836328736694408, 0.38860783360334955, -0.008344537257831389, -0.011445169374851067, 0.20743941907233926, -0.008535407428011649, -0.008343955388064305, -0.008385572390717732, -0.00835896837612619, 0.20707703041136533, 0.2074230645318672, 0.20743290202930123, 0.2074368758505987, 0.20744871662048767, 0.07362515507341008, -0.008354022566901051, 0.19022130887269367, -0.008430057488954, 0.2074252683179853, 0.32078599568633287, 0.4233674570009785, -0.008385273951083088, -0.008754948939980632, -0.008424455406565728, -0.00834103053297551, -0.008430134571400504, -0.008829545960747344, 0.36901676443921727, 0.21177032048174013, -0.008345555793528454, -0.011757581021556574, 0.3554516301442911, -0.008340949927442283, 0.20744042910734173, -0.020935735575901324, 0.07360686042797819, 0.43286196165713287, 0.20743492932175212, 0.07361576953260857, -0.008383838317337555, -0.008408404463548453, 0.4229192669111366, 0.42392822741704517, 0.07361645233572472, 0.20743663784161917, -0.00846262366531262, 0.41586687619221735, -0.008383111689603638, 0.19483102515127887, 0.07359415305142449, 0.3921303167720466, -0.008363920517290676, 0.3797443041839397, -0.008346246823483418, 0.07361620351376522, -0.008340948166670062, 0.0736216567048611, 1.0741252076093948, 0.42779961929540616, 0.2074447336285069, -0.008419874383972388, 0.20744333838466694, -0.008349636296533135, 0.41287053865614337, 0.42291101517818863, 0.5573642380797844, -0.009796820702187334, 0.07319121096068518, 0.07356721857100457, 0.42780115365737326, -0.00834135867050448, 0.427796884036769, 0.43287487062529295, 0.059696825658738045, 0.4289439607236996, -0.008342433763576112, 0.07347529049129388, 0.5573642046207419, -0.008398631678619135, 0.4328659598865362, 0.44257597722588543, -0.008916675349044695, -0.032430208198611116, -0.008354459640584034, 0.2065212256190522, -0.008356520839562355, 0.4289291192028405, 0.45299045491509504, 0.43852503394049336, 0.3885190880635701, 0.4267268737128704, 0.0735963919675101, -0.008351283938950689, -0.008353153266051553, 0.0736059089029097, 0.07362193878794479, 0.42779077953943506, 0.5007260032471437, -0.10815190281561649, 0.09456117478477329, 0.07342069284844997, 0.2074379713088692, -0.009778290452759943, -0.07186553167893041, -0.008347638636393291, -0.008359842944336754, -0.008368782266593875, -0.008369257479821115, 0.42778831975437437, 0.5521796144790598, 0.07217863082416581, 0.2682846398362868, 0.5573590902181459, 0.392100460520062, -0.008398696796722234, 0.07349994263210581, 0.2682811941877558, 0.4228822441229887, 0.26828324249631225, 0.4076025089855925, 0.4278007528937337, 0.42132582509537425, 0.0735147173064628, 0.42864132055948406, -0.010786043017750423, 0.07494879546598478, 0.07362110210562775, 0.26828382592078903, 0.2680885619819758, -0.00836955576303992, 0.07361877653983828, 0.20743712136903886, 0.12728203175596609, 0.2672959049105454, 0.5535161658565715, 0.427698969515836, -0.014151719682323902, 0.39207559152545896, 0.18981896659786993, -0.008351594751619883, -0.0172976151393605, 0.07346337925806182, 0.42192638006613686, 0.4276320012232315, -0.008345272938176386, 0.44120551678296216, 0.5573283266186319, 0.41282361437716303, 0.07359787452333014, 0.42779482926203294, -0.03243133969275624, 0.4328712107983425, 0.48375117330286604, 0.41287228937984444, 0.42772228361238895, 0.3950984498452578, 0.3842708262265667, 0.4505471524070812, 0.4274187642167185, 0.18567531892112926, 0.45607316798152236, 0.07362059844981943, -0.008344245520271406, 0.42872765881300834, 0.35012928171333846, 0.08854936931350452, 0.3256504844018145, 0.20622850284754293, 0.07362004068600497, 0.18566392770108342, 0.5544478639573189, 0.41285927367928404, 0.2074379726748139, 0.4258689204353949, 0.4266093011006118, 0.4266139002935924, 0.4828758549896065, -0.008372692152082384, 0.5573177757068709, 0.5573542060241555, 0.21175371590886924, 0.20741684885358394, -0.07126122625586187, 0.20738825437871175, -0.021795489252564616, 0.2660436115008231, 0.42565569483846727, -0.008824070388370162, 0.2074328791378076, -0.028327249830655137, 0.17119842749783634, -0.008343518851456472, -0.008396460854063183, 0.49250482731589657, 0.422912013294885, 0.42717734366018256, 0.5573634904805077]}, {\"hovertemplate\": \"class=%{marker.color}<br>PC 1=%{x}<br>PC 2=%{y}<br>PC 3=%{z}<extra></extra>\", \"legendgroup\": \"3\", \"marker\": {\"color\": [3, 3, 3, 3], \"coloraxis\": \"coloraxis\", \"symbol\": \"square\"}, \"mode\": \"markers\", \"name\": \"3\", \"scene\": \"scene\", \"showlegend\": true, \"type\": \"scatter3d\", \"x\": [-0.2760642192058854, -0.285743961329088, -0.47115802032835186, -0.4985858919153058], \"y\": [4.948547856247796, 2.8676258210723864, 1.1240200591190979, 3.7609893262674063], \"z\": [16.151864488000665, 8.468212601059793, 10.970558916590806, 21.547233792422002]}, {\"hovertemplate\": \"class=%{marker.color}<br>PC 1=%{x}<br>PC 2=%{y}<br>PC 3=%{z}<extra></extra>\", \"legendgroup\": \"1\", \"marker\": {\"color\": [1], \"coloraxis\": \"coloraxis\", \"symbol\": \"x\"}, \"mode\": \"markers\", \"name\": \"1\", \"scene\": \"scene\", \"showlegend\": true, \"type\": \"scatter3d\", \"x\": [33.806116923688336], \"y\": [1.714047366917412], \"z\": [-0.9968666730385766]}],\n",
       "                        {\"coloraxis\": {\"colorbar\": {\"title\": {\"text\": \"class\"}}, \"colorscale\": [[0.0, \"#0d0887\"], [0.1111111111111111, \"#46039f\"], [0.2222222222222222, \"#7201a8\"], [0.3333333333333333, \"#9c179e\"], [0.4444444444444444, \"#bd3786\"], [0.5555555555555556, \"#d8576b\"], [0.6666666666666666, \"#ed7953\"], [0.7777777777777778, \"#fb9f3a\"], [0.8888888888888888, \"#fdca26\"], [1.0, \"#f0f921\"]]}, \"legend\": {\"title\": {\"text\": \"class\"}, \"tracegroupgap\": 0, \"x\": 0, \"y\": 1}, \"margin\": {\"t\": 60}, \"scene\": {\"domain\": {\"x\": [0.0, 1.0], \"y\": [0.0, 1.0]}, \"xaxis\": {\"title\": {\"text\": \"PC 1\"}}, \"yaxis\": {\"title\": {\"text\": \"PC 2\"}}, \"zaxis\": {\"title\": {\"text\": \"PC 3\"}}}, \"template\": {\"data\": {\"bar\": [{\"error_x\": {\"color\": \"#2a3f5f\"}, \"error_y\": {\"color\": \"#2a3f5f\"}, \"marker\": {\"line\": {\"color\": \"#E5ECF6\", \"width\": 0.5}}, \"type\": \"bar\"}], \"barpolar\": [{\"marker\": {\"line\": {\"color\": \"#E5ECF6\", \"width\": 0.5}}, \"type\": \"barpolar\"}], \"carpet\": [{\"aaxis\": {\"endlinecolor\": \"#2a3f5f\", \"gridcolor\": \"white\", \"linecolor\": \"white\", \"minorgridcolor\": \"white\", \"startlinecolor\": \"#2a3f5f\"}, \"baxis\": {\"endlinecolor\": \"#2a3f5f\", \"gridcolor\": \"white\", \"linecolor\": \"white\", \"minorgridcolor\": \"white\", \"startlinecolor\": \"#2a3f5f\"}, \"type\": \"carpet\"}], \"choropleth\": [{\"colorbar\": {\"outlinewidth\": 0, \"ticks\": \"\"}, \"type\": \"choropleth\"}], \"contour\": [{\"colorbar\": {\"outlinewidth\": 0, \"ticks\": \"\"}, \"colorscale\": [[0.0, \"#0d0887\"], [0.1111111111111111, \"#46039f\"], [0.2222222222222222, \"#7201a8\"], [0.3333333333333333, \"#9c179e\"], [0.4444444444444444, \"#bd3786\"], [0.5555555555555556, \"#d8576b\"], [0.6666666666666666, \"#ed7953\"], [0.7777777777777778, \"#fb9f3a\"], [0.8888888888888888, \"#fdca26\"], [1.0, \"#f0f921\"]], \"type\": \"contour\"}], \"contourcarpet\": [{\"colorbar\": {\"outlinewidth\": 0, \"ticks\": \"\"}, \"type\": \"contourcarpet\"}], \"heatmap\": [{\"colorbar\": {\"outlinewidth\": 0, \"ticks\": \"\"}, \"colorscale\": [[0.0, \"#0d0887\"], [0.1111111111111111, \"#46039f\"], [0.2222222222222222, \"#7201a8\"], [0.3333333333333333, \"#9c179e\"], [0.4444444444444444, \"#bd3786\"], [0.5555555555555556, \"#d8576b\"], [0.6666666666666666, \"#ed7953\"], [0.7777777777777778, \"#fb9f3a\"], [0.8888888888888888, \"#fdca26\"], [1.0, \"#f0f921\"]], \"type\": \"heatmap\"}], \"heatmapgl\": [{\"colorbar\": {\"outlinewidth\": 0, \"ticks\": \"\"}, \"colorscale\": [[0.0, \"#0d0887\"], [0.1111111111111111, \"#46039f\"], [0.2222222222222222, \"#7201a8\"], [0.3333333333333333, \"#9c179e\"], [0.4444444444444444, \"#bd3786\"], [0.5555555555555556, \"#d8576b\"], [0.6666666666666666, \"#ed7953\"], [0.7777777777777778, \"#fb9f3a\"], [0.8888888888888888, \"#fdca26\"], [1.0, \"#f0f921\"]], \"type\": \"heatmapgl\"}], \"histogram\": [{\"marker\": {\"colorbar\": {\"outlinewidth\": 0, \"ticks\": \"\"}}, \"type\": \"histogram\"}], \"histogram2d\": [{\"colorbar\": {\"outlinewidth\": 0, \"ticks\": \"\"}, \"colorscale\": [[0.0, \"#0d0887\"], [0.1111111111111111, \"#46039f\"], [0.2222222222222222, \"#7201a8\"], [0.3333333333333333, \"#9c179e\"], [0.4444444444444444, \"#bd3786\"], [0.5555555555555556, \"#d8576b\"], [0.6666666666666666, \"#ed7953\"], [0.7777777777777778, \"#fb9f3a\"], [0.8888888888888888, \"#fdca26\"], [1.0, \"#f0f921\"]], \"type\": \"histogram2d\"}], \"histogram2dcontour\": [{\"colorbar\": {\"outlinewidth\": 0, \"ticks\": \"\"}, \"colorscale\": [[0.0, \"#0d0887\"], [0.1111111111111111, \"#46039f\"], [0.2222222222222222, \"#7201a8\"], [0.3333333333333333, \"#9c179e\"], [0.4444444444444444, \"#bd3786\"], [0.5555555555555556, \"#d8576b\"], [0.6666666666666666, \"#ed7953\"], [0.7777777777777778, \"#fb9f3a\"], [0.8888888888888888, \"#fdca26\"], [1.0, \"#f0f921\"]], \"type\": \"histogram2dcontour\"}], \"mesh3d\": [{\"colorbar\": {\"outlinewidth\": 0, \"ticks\": \"\"}, \"type\": \"mesh3d\"}], \"parcoords\": [{\"line\": {\"colorbar\": {\"outlinewidth\": 0, \"ticks\": \"\"}}, \"type\": \"parcoords\"}], \"pie\": [{\"automargin\": true, \"type\": \"pie\"}], \"scatter\": [{\"marker\": {\"colorbar\": {\"outlinewidth\": 0, \"ticks\": \"\"}}, \"type\": \"scatter\"}], \"scatter3d\": [{\"line\": {\"colorbar\": {\"outlinewidth\": 0, \"ticks\": \"\"}}, \"marker\": {\"colorbar\": {\"outlinewidth\": 0, \"ticks\": \"\"}}, \"type\": \"scatter3d\"}], \"scattercarpet\": [{\"marker\": {\"colorbar\": {\"outlinewidth\": 0, \"ticks\": \"\"}}, \"type\": \"scattercarpet\"}], \"scattergeo\": [{\"marker\": {\"colorbar\": {\"outlinewidth\": 0, \"ticks\": \"\"}}, \"type\": \"scattergeo\"}], \"scattergl\": [{\"marker\": {\"colorbar\": {\"outlinewidth\": 0, \"ticks\": \"\"}}, \"type\": \"scattergl\"}], \"scattermapbox\": [{\"marker\": {\"colorbar\": {\"outlinewidth\": 0, \"ticks\": \"\"}}, \"type\": \"scattermapbox\"}], \"scatterpolar\": [{\"marker\": {\"colorbar\": {\"outlinewidth\": 0, \"ticks\": \"\"}}, \"type\": \"scatterpolar\"}], \"scatterpolargl\": [{\"marker\": {\"colorbar\": {\"outlinewidth\": 0, \"ticks\": \"\"}}, \"type\": \"scatterpolargl\"}], \"scatterternary\": [{\"marker\": {\"colorbar\": {\"outlinewidth\": 0, \"ticks\": \"\"}}, \"type\": \"scatterternary\"}], \"surface\": [{\"colorbar\": {\"outlinewidth\": 0, \"ticks\": \"\"}, \"colorscale\": [[0.0, \"#0d0887\"], [0.1111111111111111, \"#46039f\"], [0.2222222222222222, \"#7201a8\"], [0.3333333333333333, \"#9c179e\"], [0.4444444444444444, \"#bd3786\"], [0.5555555555555556, \"#d8576b\"], [0.6666666666666666, \"#ed7953\"], [0.7777777777777778, \"#fb9f3a\"], [0.8888888888888888, \"#fdca26\"], [1.0, \"#f0f921\"]], \"type\": \"surface\"}], \"table\": [{\"cells\": {\"fill\": {\"color\": \"#EBF0F8\"}, \"line\": {\"color\": \"white\"}}, \"header\": {\"fill\": {\"color\": \"#C8D4E3\"}, \"line\": {\"color\": \"white\"}}, \"type\": \"table\"}]}, \"layout\": {\"annotationdefaults\": {\"arrowcolor\": \"#2a3f5f\", \"arrowhead\": 0, \"arrowwidth\": 1}, \"coloraxis\": {\"colorbar\": {\"outlinewidth\": 0, \"ticks\": \"\"}}, \"colorscale\": {\"diverging\": [[0, \"#8e0152\"], [0.1, \"#c51b7d\"], [0.2, \"#de77ae\"], [0.3, \"#f1b6da\"], [0.4, \"#fde0ef\"], [0.5, \"#f7f7f7\"], [0.6, \"#e6f5d0\"], [0.7, \"#b8e186\"], [0.8, \"#7fbc41\"], [0.9, \"#4d9221\"], [1, \"#276419\"]], \"sequential\": [[0.0, \"#0d0887\"], [0.1111111111111111, \"#46039f\"], [0.2222222222222222, \"#7201a8\"], [0.3333333333333333, \"#9c179e\"], [0.4444444444444444, \"#bd3786\"], [0.5555555555555556, \"#d8576b\"], [0.6666666666666666, \"#ed7953\"], [0.7777777777777778, \"#fb9f3a\"], [0.8888888888888888, \"#fdca26\"], [1.0, \"#f0f921\"]], \"sequentialminus\": [[0.0, \"#0d0887\"], [0.1111111111111111, \"#46039f\"], [0.2222222222222222, \"#7201a8\"], [0.3333333333333333, \"#9c179e\"], [0.4444444444444444, \"#bd3786\"], [0.5555555555555556, \"#d8576b\"], [0.6666666666666666, \"#ed7953\"], [0.7777777777777778, \"#fb9f3a\"], [0.8888888888888888, \"#fdca26\"], [1.0, \"#f0f921\"]]}, \"colorway\": [\"#636efa\", \"#EF553B\", \"#00cc96\", \"#ab63fa\", \"#FFA15A\", \"#19d3f3\", \"#FF6692\", \"#B6E880\", \"#FF97FF\", \"#FECB52\"], \"font\": {\"color\": \"#2a3f5f\"}, \"geo\": {\"bgcolor\": \"white\", \"lakecolor\": \"white\", \"landcolor\": \"#E5ECF6\", \"showlakes\": true, \"showland\": true, \"subunitcolor\": \"white\"}, \"hoverlabel\": {\"align\": \"left\"}, \"hovermode\": \"closest\", \"mapbox\": {\"style\": \"light\"}, \"paper_bgcolor\": \"white\", \"plot_bgcolor\": \"#E5ECF6\", \"polar\": {\"angularaxis\": {\"gridcolor\": \"white\", \"linecolor\": \"white\", \"ticks\": \"\"}, \"bgcolor\": \"#E5ECF6\", \"radialaxis\": {\"gridcolor\": \"white\", \"linecolor\": \"white\", \"ticks\": \"\"}}, \"scene\": {\"xaxis\": {\"backgroundcolor\": \"#E5ECF6\", \"gridcolor\": \"white\", \"gridwidth\": 2, \"linecolor\": \"white\", \"showbackground\": true, \"ticks\": \"\", \"zerolinecolor\": \"white\"}, \"yaxis\": {\"backgroundcolor\": \"#E5ECF6\", \"gridcolor\": \"white\", \"gridwidth\": 2, \"linecolor\": \"white\", \"showbackground\": true, \"ticks\": \"\", \"zerolinecolor\": \"white\"}, \"zaxis\": {\"backgroundcolor\": \"#E5ECF6\", \"gridcolor\": \"white\", \"gridwidth\": 2, \"linecolor\": \"white\", \"showbackground\": true, \"ticks\": \"\", \"zerolinecolor\": \"white\"}}, \"shapedefaults\": {\"line\": {\"color\": \"#2a3f5f\"}}, \"ternary\": {\"aaxis\": {\"gridcolor\": \"white\", \"linecolor\": \"white\", \"ticks\": \"\"}, \"baxis\": {\"gridcolor\": \"white\", \"linecolor\": \"white\", \"ticks\": \"\"}, \"bgcolor\": \"#E5ECF6\", \"caxis\": {\"gridcolor\": \"white\", \"linecolor\": \"white\", \"ticks\": \"\"}}, \"title\": {\"x\": 0.05}, \"xaxis\": {\"automargin\": true, \"gridcolor\": \"white\", \"linecolor\": \"white\", \"ticks\": \"\", \"title\": {\"standoff\": 15}, \"zerolinecolor\": \"white\", \"zerolinewidth\": 2}, \"yaxis\": {\"automargin\": true, \"gridcolor\": \"white\", \"linecolor\": \"white\", \"ticks\": \"\", \"title\": {\"standoff\": 15}, \"zerolinecolor\": \"white\", \"zerolinewidth\": 2}}}, \"width\": 800},\n",
       "                        {\"responsive\": true}\n",
       "                    ).then(function(){\n",
       "                            \n",
       "var gd = document.getElementById('a65b4eed-ea26-4151-b508-880986e1f3f2');\n",
       "var x = new MutationObserver(function (mutations, observer) {{\n",
       "        var display = window.getComputedStyle(gd).display;\n",
       "        if (!display || display === 'none') {{\n",
       "            console.log([gd, 'removed!']);\n",
       "            Plotly.purge(gd);\n",
       "            observer.disconnect();\n",
       "        }}\n",
       "}});\n",
       "\n",
       "// Listen for the removal of the full notebook cells\n",
       "var notebookContainer = gd.closest('#notebook-container');\n",
       "if (notebookContainer) {{\n",
       "    x.observe(notebookContainer, {childList: true});\n",
       "}}\n",
       "\n",
       "// Listen for the clearing of the current output cell\n",
       "var outputEl = gd.closest('.output');\n",
       "if (outputEl) {{\n",
       "    x.observe(outputEl, {childList: true});\n",
       "}}\n",
       "\n",
       "                        })\n",
       "                };\n",
       "                });\n",
       "            </script>\n",
       "        </div>"
      ]
     },
     "metadata": {},
     "output_type": "display_data"
    }
   ],
   "source": [
    "fig = px.scatter_3d(pcs_df, x=\"PC 1\", y=\"PC 2\", z=\"PC 3\", color=\"class\", symbol=\"class\", width=800)\n",
    "fig.update_layout(legend=dict(x=0, y=1))\n",
    "fig.show()"
   ]
  },
  {
   "cell_type": "code",
   "execution_count": 65,
   "metadata": {},
   "outputs": [
    {
     "data": {
      "text/html": [
       "<div>\n",
       "<style scoped>\n",
       "    .dataframe tbody tr th:only-of-type {\n",
       "        vertical-align: middle;\n",
       "    }\n",
       "\n",
       "    .dataframe tbody tr th {\n",
       "        vertical-align: top;\n",
       "    }\n",
       "\n",
       "    .dataframe thead th {\n",
       "        text-align: right;\n",
       "    }\n",
       "</style>\n",
       "<table border=\"1\" class=\"dataframe\">\n",
       "  <thead>\n",
       "    <tr style=\"text-align: right;\">\n",
       "      <th></th>\n",
       "      <th>PC 1</th>\n",
       "      <th>PC 2</th>\n",
       "      <th>PC 3</th>\n",
       "      <th>class</th>\n",
       "      <th>Algorithm</th>\n",
       "      <th>ProofType</th>\n",
       "      <th>TotalCoinsMined</th>\n",
       "      <th>TotalCoinSupply</th>\n",
       "    </tr>\n",
       "    <tr>\n",
       "      <th>Unnamed: 0</th>\n",
       "      <th></th>\n",
       "      <th></th>\n",
       "      <th></th>\n",
       "      <th></th>\n",
       "      <th></th>\n",
       "      <th></th>\n",
       "      <th></th>\n",
       "      <th></th>\n",
       "    </tr>\n",
       "  </thead>\n",
       "  <tbody>\n",
       "    <tr>\n",
       "      <th>42</th>\n",
       "      <td>-0.337285</td>\n",
       "      <td>0.969749</td>\n",
       "      <td>-0.602976</td>\n",
       "      <td>0</td>\n",
       "      <td>Scrypt</td>\n",
       "      <td>PoW/PoS</td>\n",
       "      <td>4.199995e+01</td>\n",
       "      <td>42</td>\n",
       "    </tr>\n",
       "    <tr>\n",
       "      <th>404</th>\n",
       "      <td>-0.320748</td>\n",
       "      <td>0.969904</td>\n",
       "      <td>-0.603518</td>\n",
       "      <td>0</td>\n",
       "      <td>Scrypt</td>\n",
       "      <td>PoW/PoS</td>\n",
       "      <td>1.055185e+09</td>\n",
       "      <td>532000000</td>\n",
       "    </tr>\n",
       "    <tr>\n",
       "      <th>1337</th>\n",
       "      <td>2.296893</td>\n",
       "      <td>1.647838</td>\n",
       "      <td>-0.721912</td>\n",
       "      <td>0</td>\n",
       "      <td>X13</td>\n",
       "      <td>PoW/PoS</td>\n",
       "      <td>2.927942e+10</td>\n",
       "      <td>314159265359</td>\n",
       "    </tr>\n",
       "    <tr>\n",
       "      <th>BTC</th>\n",
       "      <td>-0.146219</td>\n",
       "      <td>-1.316683</td>\n",
       "      <td>0.207438</td>\n",
       "      <td>2</td>\n",
       "      <td>SHA-256</td>\n",
       "      <td>PoW</td>\n",
       "      <td>1.792718e+07</td>\n",
       "      <td>21000000</td>\n",
       "    </tr>\n",
       "    <tr>\n",
       "      <th>ETH</th>\n",
       "      <td>-0.155746</td>\n",
       "      <td>-1.987853</td>\n",
       "      <td>0.422878</td>\n",
       "      <td>2</td>\n",
       "      <td>Ethash</td>\n",
       "      <td>PoW</td>\n",
       "      <td>1.076842e+08</td>\n",
       "      <td>0</td>\n",
       "    </tr>\n",
       "  </tbody>\n",
       "</table>\n",
       "</div>"
      ],
      "text/plain": [
       "                PC 1      PC 2      PC 3  class Algorithm ProofType  \\\n",
       "Unnamed: 0                                                            \n",
       "42         -0.337285  0.969749 -0.602976      0    Scrypt   PoW/PoS   \n",
       "404        -0.320748  0.969904 -0.603518      0    Scrypt   PoW/PoS   \n",
       "1337        2.296893  1.647838 -0.721912      0       X13   PoW/PoS   \n",
       "BTC        -0.146219 -1.316683  0.207438      2   SHA-256       PoW   \n",
       "ETH        -0.155746 -1.987853  0.422878      2    Ethash       PoW   \n",
       "\n",
       "            TotalCoinsMined TotalCoinSupply  \n",
       "Unnamed: 0                                   \n",
       "42             4.199995e+01              42  \n",
       "404            1.055185e+09       532000000  \n",
       "1337           2.927942e+10    314159265359  \n",
       "BTC            1.792718e+07        21000000  \n",
       "ETH            1.076842e+08               0  "
      ]
     },
     "execution_count": 65,
     "metadata": {},
     "output_type": "execute_result"
    }
   ],
   "source": [
    "# Create a new DataFrame\n",
    "clustered_df = pd.merge(pcs_df, crypto_df, left_index=True, right_index=True)\n",
    "clustered_df.head()"
   ]
  },
  {
   "cell_type": "code",
   "execution_count": 66,
   "metadata": {},
   "outputs": [
    {
     "data": {
      "text/html": [
       "<div>\n",
       "<style scoped>\n",
       "    .dataframe tbody tr th:only-of-type {\n",
       "        vertical-align: middle;\n",
       "    }\n",
       "\n",
       "    .dataframe tbody tr th {\n",
       "        vertical-align: top;\n",
       "    }\n",
       "\n",
       "    .dataframe thead th {\n",
       "        text-align: right;\n",
       "    }\n",
       "</style>\n",
       "<table border=\"1\" class=\"dataframe\">\n",
       "  <thead>\n",
       "    <tr style=\"text-align: right;\">\n",
       "      <th></th>\n",
       "      <th>PC 1</th>\n",
       "      <th>PC 2</th>\n",
       "      <th>PC 3</th>\n",
       "      <th>class</th>\n",
       "      <th>Algorithm</th>\n",
       "      <th>ProofType</th>\n",
       "      <th>TotalCoinsMined</th>\n",
       "      <th>TotalCoinSupply</th>\n",
       "      <th>CoinName</th>\n",
       "    </tr>\n",
       "    <tr>\n",
       "      <th>Unnamed: 0</th>\n",
       "      <th></th>\n",
       "      <th></th>\n",
       "      <th></th>\n",
       "      <th></th>\n",
       "      <th></th>\n",
       "      <th></th>\n",
       "      <th></th>\n",
       "      <th></th>\n",
       "      <th></th>\n",
       "    </tr>\n",
       "  </thead>\n",
       "  <tbody>\n",
       "    <tr>\n",
       "      <th>42</th>\n",
       "      <td>-0.337285</td>\n",
       "      <td>0.969749</td>\n",
       "      <td>-0.602976</td>\n",
       "      <td>0</td>\n",
       "      <td>Scrypt</td>\n",
       "      <td>PoW/PoS</td>\n",
       "      <td>4.199995e+01</td>\n",
       "      <td>42</td>\n",
       "      <td>42 Coin</td>\n",
       "    </tr>\n",
       "    <tr>\n",
       "      <th>404</th>\n",
       "      <td>-0.320748</td>\n",
       "      <td>0.969904</td>\n",
       "      <td>-0.603518</td>\n",
       "      <td>0</td>\n",
       "      <td>Scrypt</td>\n",
       "      <td>PoW/PoS</td>\n",
       "      <td>1.055185e+09</td>\n",
       "      <td>532000000</td>\n",
       "      <td>404Coin</td>\n",
       "    </tr>\n",
       "    <tr>\n",
       "      <th>1337</th>\n",
       "      <td>2.296893</td>\n",
       "      <td>1.647838</td>\n",
       "      <td>-0.721912</td>\n",
       "      <td>0</td>\n",
       "      <td>X13</td>\n",
       "      <td>PoW/PoS</td>\n",
       "      <td>2.927942e+10</td>\n",
       "      <td>314159265359</td>\n",
       "      <td>EliteCoin</td>\n",
       "    </tr>\n",
       "    <tr>\n",
       "      <th>BTC</th>\n",
       "      <td>-0.146219</td>\n",
       "      <td>-1.316683</td>\n",
       "      <td>0.207438</td>\n",
       "      <td>2</td>\n",
       "      <td>SHA-256</td>\n",
       "      <td>PoW</td>\n",
       "      <td>1.792718e+07</td>\n",
       "      <td>21000000</td>\n",
       "      <td>Bitcoin</td>\n",
       "    </tr>\n",
       "    <tr>\n",
       "      <th>ETH</th>\n",
       "      <td>-0.155746</td>\n",
       "      <td>-1.987853</td>\n",
       "      <td>0.422878</td>\n",
       "      <td>2</td>\n",
       "      <td>Ethash</td>\n",
       "      <td>PoW</td>\n",
       "      <td>1.076842e+08</td>\n",
       "      <td>0</td>\n",
       "      <td>Ethereum</td>\n",
       "    </tr>\n",
       "  </tbody>\n",
       "</table>\n",
       "</div>"
      ],
      "text/plain": [
       "                PC 1      PC 2      PC 3  class Algorithm ProofType  \\\n",
       "Unnamed: 0                                                            \n",
       "42         -0.337285  0.969749 -0.602976      0    Scrypt   PoW/PoS   \n",
       "404        -0.320748  0.969904 -0.603518      0    Scrypt   PoW/PoS   \n",
       "1337        2.296893  1.647838 -0.721912      0       X13   PoW/PoS   \n",
       "BTC        -0.146219 -1.316683  0.207438      2   SHA-256       PoW   \n",
       "ETH        -0.155746 -1.987853  0.422878      2    Ethash       PoW   \n",
       "\n",
       "            TotalCoinsMined TotalCoinSupply   CoinName  \n",
       "Unnamed: 0                                              \n",
       "42             4.199995e+01              42    42 Coin  \n",
       "404            1.055185e+09       532000000    404Coin  \n",
       "1337           2.927942e+10    314159265359  EliteCoin  \n",
       "BTC            1.792718e+07        21000000    Bitcoin  \n",
       "ETH            1.076842e+08               0   Ethereum  "
      ]
     },
     "execution_count": 66,
     "metadata": {},
     "output_type": "execute_result"
    }
   ],
   "source": [
    "# Add the CoinName to the dataframe\n",
    "clustered_df = pd.merge(clustered_df, coins_name, left_index=True, right_index=True)\n",
    "clustered_df.head()"
   ]
  },
  {
   "cell_type": "code",
   "execution_count": 67,
   "metadata": {},
   "outputs": [
    {
     "data": {
      "text/html": [
       "<div>\n",
       "<style scoped>\n",
       "    .dataframe tbody tr th:only-of-type {\n",
       "        vertical-align: middle;\n",
       "    }\n",
       "\n",
       "    .dataframe tbody tr th {\n",
       "        vertical-align: top;\n",
       "    }\n",
       "\n",
       "    .dataframe thead th {\n",
       "        text-align: right;\n",
       "    }\n",
       "</style>\n",
       "<table border=\"1\" class=\"dataframe\">\n",
       "  <thead>\n",
       "    <tr style=\"text-align: right;\">\n",
       "      <th></th>\n",
       "      <th>Algorithm</th>\n",
       "      <th>ProofType</th>\n",
       "      <th>TotalCoinsMined</th>\n",
       "      <th>TotalCoinSupply</th>\n",
       "      <th>PC 1</th>\n",
       "      <th>PC 2</th>\n",
       "      <th>PC 3</th>\n",
       "      <th>CoinName</th>\n",
       "      <th>class</th>\n",
       "    </tr>\n",
       "    <tr>\n",
       "      <th>Unnamed: 0</th>\n",
       "      <th></th>\n",
       "      <th></th>\n",
       "      <th></th>\n",
       "      <th></th>\n",
       "      <th></th>\n",
       "      <th></th>\n",
       "      <th></th>\n",
       "      <th></th>\n",
       "      <th></th>\n",
       "    </tr>\n",
       "  </thead>\n",
       "  <tbody>\n",
       "    <tr>\n",
       "      <th>42</th>\n",
       "      <td>Scrypt</td>\n",
       "      <td>PoW/PoS</td>\n",
       "      <td>4.199995e+01</td>\n",
       "      <td>42</td>\n",
       "      <td>-0.337285</td>\n",
       "      <td>0.969749</td>\n",
       "      <td>-0.602976</td>\n",
       "      <td>42 Coin</td>\n",
       "      <td>0</td>\n",
       "    </tr>\n",
       "    <tr>\n",
       "      <th>404</th>\n",
       "      <td>Scrypt</td>\n",
       "      <td>PoW/PoS</td>\n",
       "      <td>1.055185e+09</td>\n",
       "      <td>532000000</td>\n",
       "      <td>-0.320748</td>\n",
       "      <td>0.969904</td>\n",
       "      <td>-0.603518</td>\n",
       "      <td>404Coin</td>\n",
       "      <td>0</td>\n",
       "    </tr>\n",
       "    <tr>\n",
       "      <th>1337</th>\n",
       "      <td>X13</td>\n",
       "      <td>PoW/PoS</td>\n",
       "      <td>2.927942e+10</td>\n",
       "      <td>314159265359</td>\n",
       "      <td>2.296893</td>\n",
       "      <td>1.647838</td>\n",
       "      <td>-0.721912</td>\n",
       "      <td>EliteCoin</td>\n",
       "      <td>0</td>\n",
       "    </tr>\n",
       "    <tr>\n",
       "      <th>BTC</th>\n",
       "      <td>SHA-256</td>\n",
       "      <td>PoW</td>\n",
       "      <td>1.792718e+07</td>\n",
       "      <td>21000000</td>\n",
       "      <td>-0.146219</td>\n",
       "      <td>-1.316683</td>\n",
       "      <td>0.207438</td>\n",
       "      <td>Bitcoin</td>\n",
       "      <td>2</td>\n",
       "    </tr>\n",
       "    <tr>\n",
       "      <th>ETH</th>\n",
       "      <td>Ethash</td>\n",
       "      <td>PoW</td>\n",
       "      <td>1.076842e+08</td>\n",
       "      <td>0</td>\n",
       "      <td>-0.155746</td>\n",
       "      <td>-1.987853</td>\n",
       "      <td>0.422878</td>\n",
       "      <td>Ethereum</td>\n",
       "      <td>2</td>\n",
       "    </tr>\n",
       "  </tbody>\n",
       "</table>\n",
       "</div>"
      ],
      "text/plain": [
       "           Algorithm ProofType  TotalCoinsMined TotalCoinSupply      PC 1  \\\n",
       "Unnamed: 0                                                                  \n",
       "42            Scrypt   PoW/PoS     4.199995e+01              42 -0.337285   \n",
       "404           Scrypt   PoW/PoS     1.055185e+09       532000000 -0.320748   \n",
       "1337             X13   PoW/PoS     2.927942e+10    314159265359  2.296893   \n",
       "BTC          SHA-256       PoW     1.792718e+07        21000000 -0.146219   \n",
       "ETH           Ethash       PoW     1.076842e+08               0 -0.155746   \n",
       "\n",
       "                PC 2      PC 3   CoinName  class  \n",
       "Unnamed: 0                                        \n",
       "42          0.969749 -0.602976    42 Coin      0  \n",
       "404         0.969904 -0.603518    404Coin      0  \n",
       "1337        1.647838 -0.721912  EliteCoin      0  \n",
       "BTC        -1.316683  0.207438    Bitcoin      2  \n",
       "ETH        -1.987853  0.422878   Ethereum      2  "
      ]
     },
     "execution_count": 67,
     "metadata": {},
     "output_type": "execute_result"
    }
   ],
   "source": [
    "# Change column display\n",
    "clustered_df = clustered_df[['Algorithm', 'ProofType', 'TotalCoinsMined', 'TotalCoinSupply', 'PC 1', 'PC 2', \n",
    "                             'PC 3', 'CoinName',\"class\"]]\n",
    "clustered_df.head()"
   ]
  },
  {
   "cell_type": "code",
   "execution_count": 68,
   "metadata": {},
   "outputs": [
    {
     "data": {
      "application/vnd.plotly.v1+json": {
       "config": {
        "plotlyServerURL": "https://plot.ly"
       },
       "data": [
        {
         "customdata": [
          [
           "Scrypt"
          ],
          [
           "Scrypt"
          ],
          [
           "X13"
          ],
          [
           "X11"
          ],
          [
           "SHA-512"
          ],
          [
           "SHA-256"
          ],
          [
           "SHA-256"
          ],
          [
           "X15"
          ],
          [
           "Scrypt"
          ],
          [
           "Scrypt"
          ],
          [
           "Scrypt"
          ],
          [
           "Scrypt"
          ],
          [
           "Scrypt"
          ],
          [
           "Scrypt"
          ],
          [
           "Groestl"
          ],
          [
           "PoS"
          ],
          [
           "Scrypt"
          ],
          [
           "Scrypt"
          ],
          [
           "X11"
          ],
          [
           "X11"
          ],
          [
           "SHA3"
          ],
          [
           "Scrypt"
          ],
          [
           "SHA-256"
          ],
          [
           "Scrypt"
          ],
          [
           "X13"
          ],
          [
           "X13"
          ],
          [
           "NeoScrypt"
          ],
          [
           "Scrypt"
          ],
          [
           "Scrypt"
          ],
          [
           "Scrypt"
          ],
          [
           "X11"
          ],
          [
           "X11"
          ],
          [
           "PHI1612"
          ],
          [
           "X11"
          ],
          [
           "Scrypt"
          ],
          [
           "Scrypt"
          ],
          [
           "Scrypt"
          ],
          [
           "X11"
          ],
          [
           "X13"
          ],
          [
           "Scrypt"
          ],
          [
           "Shabal256"
          ],
          [
           "Counterparty"
          ],
          [
           "SHA-256"
          ],
          [
           "Groestl"
          ],
          [
           "Scrypt"
          ],
          [
           "X13"
          ],
          [
           "Scrypt"
          ],
          [
           "Scrypt"
          ],
          [
           "X13"
          ],
          [
           "X11"
          ],
          [
           "Scrypt"
          ],
          [
           "X11"
          ],
          [
           "SHA3"
          ],
          [
           "QUAIT"
          ],
          [
           "X11"
          ],
          [
           "Scrypt"
          ],
          [
           "X13"
          ],
          [
           "SHA-256"
          ],
          [
           "X15"
          ],
          [
           "BLAKE256"
          ],
          [
           "SHA-256"
          ],
          [
           "X11"
          ],
          [
           "SHA-256"
          ],
          [
           "NIST5"
          ],
          [
           "Scrypt"
          ],
          [
           "Scrypt"
          ],
          [
           "X11"
          ],
          [
           "Scrypt"
          ],
          [
           "SHA-256"
          ],
          [
           "Scrypt"
          ],
          [
           "PoS"
          ],
          [
           "X11"
          ],
          [
           "SHA-256"
          ],
          [
           "SHA-256"
          ],
          [
           "NIST5"
          ],
          [
           "X11"
          ],
          [
           "POS 3.0"
          ],
          [
           "Scrypt"
          ],
          [
           "Scrypt"
          ],
          [
           "Scrypt"
          ],
          [
           "X13"
          ],
          [
           "X11"
          ],
          [
           "X11"
          ],
          [
           "Scrypt"
          ],
          [
           "SHA-256"
          ],
          [
           "X11"
          ],
          [
           "Scrypt"
          ],
          [
           "Scrypt"
          ],
          [
           "Scrypt"
          ],
          [
           "Scrypt"
          ],
          [
           "SHA-256D"
          ],
          [
           "PoS"
          ],
          [
           "Scrypt"
          ],
          [
           "X11"
          ],
          [
           "PoS"
          ],
          [
           "X13"
          ],
          [
           "X14"
          ],
          [
           "PoS"
          ],
          [
           "SHA-256D"
          ],
          [
           "DPoS"
          ],
          [
           "X11"
          ],
          [
           "X13"
          ],
          [
           "X11"
          ],
          [
           "PoS"
          ],
          [
           "Scrypt"
          ],
          [
           "Scrypt"
          ],
          [
           "PoS"
          ],
          [
           "X11"
          ],
          [
           "SHA-256"
          ],
          [
           "Scrypt"
          ],
          [
           "X11"
          ],
          [
           "Scrypt"
          ],
          [
           "Scrypt"
          ],
          [
           "X11"
          ],
          [
           "Scrypt"
          ],
          [
           "Scrypt"
          ],
          [
           "Scrypt"
          ],
          [
           "Scrypt"
          ],
          [
           "Quark"
          ],
          [
           "QuBit"
          ],
          [
           "Scrypt"
          ],
          [
           "SHA-256"
          ],
          [
           "X11"
          ],
          [
           "Scrypt"
          ],
          [
           "Scrypt"
          ],
          [
           "Scrypt"
          ],
          [
           "Scrypt"
          ],
          [
           "X13"
          ],
          [
           "Scrypt"
          ],
          [
           "Scrypt"
          ],
          [
           "X11"
          ],
          [
           "Blake2S"
          ],
          [
           "X11"
          ],
          [
           "PoS"
          ],
          [
           "X11"
          ],
          [
           "PoS"
          ],
          [
           "X11"
          ],
          [
           "Scrypt"
          ],
          [
           "Scrypt"
          ],
          [
           "Scrypt"
          ],
          [
           "SHA-256"
          ],
          [
           "X11"
          ],
          [
           "Scrypt"
          ],
          [
           "PoS"
          ],
          [
           "Scrypt"
          ],
          [
           "X15"
          ],
          [
           "SHA-256"
          ],
          [
           "POS 3.0"
          ],
          [
           "536"
          ],
          [
           "NIST5"
          ],
          [
           "NIST5"
          ],
          [
           "Skein"
          ],
          [
           "X13"
          ],
          [
           "Scrypt"
          ],
          [
           "X13"
          ],
          [
           "SkunkHash v2 Raptor"
          ],
          [
           "Skein"
          ],
          [
           "X11"
          ],
          [
           "Scrypt"
          ],
          [
           "VeChainThor Authority"
          ],
          [
           "PoS"
          ],
          [
           "Scrypt"
          ],
          [
           "Scrypt"
          ],
          [
           "SHA-512"
          ],
          [
           "Ouroboros"
          ],
          [
           "X11"
          ],
          [
           "NeoScrypt"
          ],
          [
           "Scrypt"
          ],
          [
           "Lyra2REv2"
          ],
          [
           "Scrypt"
          ],
          [
           "SHA-256"
          ],
          [
           "NIST5"
          ],
          [
           "PHI1612"
          ],
          [
           "Scrypt"
          ],
          [
           "Quark"
          ],
          [
           "POS 2.0"
          ],
          [
           "Scrypt"
          ],
          [
           "SHA-256"
          ],
          [
           "X11"
          ],
          [
           "DPoS"
          ],
          [
           "NIST5"
          ],
          [
           "X13"
          ],
          [
           "Scrypt"
          ],
          [
           "NIST5"
          ],
          [
           "Quark"
          ],
          [
           "Scrypt"
          ],
          [
           "Scrypt"
          ],
          [
           "X11"
          ],
          [
           "Quark"
          ],
          [
           "Scrypt"
          ],
          [
           "Scrypt"
          ],
          [
           "X11"
          ],
          [
           "POS 3.0"
          ],
          [
           "Ethash"
          ],
          [
           "Scrypt"
          ],
          [
           "Scrypt"
          ],
          [
           "X13"
          ],
          [
           "Proof-of-BibleHash"
          ],
          [
           "C11"
          ],
          [
           "X11"
          ],
          [
           "XEVAN"
          ],
          [
           "Scrypt"
          ],
          [
           "VBFT"
          ],
          [
           "NIST5"
          ],
          [
           "Scrypt"
          ],
          [
           "Scrypt"
          ],
          [
           "Scrypt"
          ],
          [
           "Green Protocol"
          ],
          [
           "PoS"
          ],
          [
           "Scrypt"
          ],
          [
           "Semux BFT consensus"
          ],
          [
           "Quark"
          ],
          [
           "PoS"
          ],
          [
           "X16R"
          ],
          [
           "Scrypt"
          ],
          [
           "XEVAN"
          ],
          [
           "Scrypt"
          ],
          [
           "Scrypt"
          ],
          [
           "Scrypt"
          ],
          [
           "SHA-256D"
          ],
          [
           "Scrypt"
          ],
          [
           "X15"
          ],
          [
           "Scrypt"
          ],
          [
           "Quark"
          ],
          [
           "SHA-256"
          ],
          [
           "DPoS"
          ],
          [
           "X16R"
          ],
          [
           "Quark"
          ],
          [
           "Quark"
          ],
          [
           "Scrypt"
          ],
          [
           "Lyra2REv2"
          ],
          [
           "Quark"
          ],
          [
           "Scrypt"
          ],
          [
           "X11"
          ],
          [
           "X11"
          ],
          [
           "Scrypt"
          ],
          [
           "PoS"
          ],
          [
           "Keccak"
          ],
          [
           "X11"
          ],
          [
           "Scrypt"
          ],
          [
           "SHA-512"
          ],
          [
           "ECC 256K1"
          ],
          [
           "XEVAN"
          ],
          [
           "XEVAN"
          ],
          [
           "X11"
          ],
          [
           "Quark"
          ],
          [
           "Equihash"
          ],
          [
           "Scrypt"
          ],
          [
           "Quark"
          ],
          [
           "Quark"
          ],
          [
           "Scrypt"
          ],
          [
           "X11"
          ],
          [
           "Scrypt"
          ],
          [
           "XEVAN"
          ],
          [
           "SHA-256D"
          ],
          [
           "X11"
          ],
          [
           "X11"
          ],
          [
           "DPoS"
          ],
          [
           "Scrypt"
          ],
          [
           "X11"
          ],
          [
           "Scrypt"
          ],
          [
           "Scrypt"
          ],
          [
           "SHA-256"
          ],
          [
           "Scrypt"
          ],
          [
           "X11"
          ],
          [
           "Scrypt"
          ],
          [
           "SHA-256"
          ],
          [
           "X11"
          ],
          [
           "Scrypt"
          ],
          [
           "Scrypt"
          ],
          [
           "X11"
          ],
          [
           "Scrypt"
          ],
          [
           "PoS"
          ],
          [
           "X11"
          ],
          [
           "SHA-256"
          ],
          [
           "DPoS"
          ],
          [
           "Scrypt"
          ],
          [
           "Scrypt"
          ],
          [
           "NeoScrypt"
          ],
          [
           "X13"
          ],
          [
           "DPoS"
          ],
          [
           "DPoS"
          ],
          [
           "SHA-256"
          ],
          [
           "PoS"
          ],
          [
           "PoS"
          ],
          [
           "SHA-256"
          ],
          [
           "Scrypt"
          ],
          [
           "Scrypt"
          ]
         ],
         "hovertemplate": "<b>%{hovertext}</b><br><br>class=%{marker.color}<br>PC 1=%{x}<br>PC 2=%{y}<br>PC 3=%{z}<br>Algorithm=%{customdata[0]}<extra></extra>",
         "hovertext": [
          "42 Coin",
          "404Coin",
          "EliteCoin",
          "Dash",
          "Bitshares",
          "BitcoinDark",
          "PayCoin",
          "KoboCoin",
          "Aurora Coin",
          "BlueCoin",
          "EnergyCoin",
          "BitBar",
          "CryptoBullion",
          "CasinoCoin",
          "Diamond",
          "Exclusive Coin",
          "FlutterCoin",
          "HoboNickels",
          "HyperStake",
          "IOCoin",
          "MaxCoin",
          "MintCoin",
          "MazaCoin",
          "Nautilus Coin",
          "NavCoin",
          "OpalCoin",
          "Orbitcoin",
          "PotCoin",
          "PhoenixCoin",
          "Reddcoin",
          "SuperCoin",
          "SyncCoin",
          "TittieCoin",
          "TorCoin",
          "UnitaryStatus Dollar",
          "UltraCoin",
          "VeriCoin",
          "X11 Coin",
          "StealthCoin",
          "ZCC Coin",
          "BurstCoin",
          "StorjCoin",
          "Neutron",
          "FairCoin",
          "RubyCoin",
          "Kore",
          "Dnotes",
          "8BIT Coin",
          "Sativa Coin",
          "Ucoin",
          "Vtorrent",
          "IslaCoin",
          "Nexus",
          "Droidz",
          "Squall Coin",
          "Diggits",
          "Paycon",
          "Emercoin",
          "EverGreenCoin",
          "Decred",
          "EDRCoin",
          "Hitcoin",
          "DubaiCoin",
          "PWR Coin",
          "BillaryCoin",
          "GPU Coin",
          "EuropeCoin",
          "ZeitCoin",
          "SwingCoin",
          "SafeExchangeCoin",
          "Nebuchadnezzar",
          "Ratecoin",
          "Revenu",
          "Clockcoin",
          "VIP Tokens",
          "BitSend",
          "Let it Ride",
          "PutinCoin",
          "iBankCoin",
          "Frankywillcoin",
          "MudraCoin",
          "Lutetium Coin",
          "GoldBlocks",
          "CarterCoin",
          "BitTokens",
          "MustangCoin",
          "ZoneCoin",
          "RootCoin",
          "BitCurrency",
          "Swiscoin",
          "BuzzCoin",
          "Opair",
          "PesoBit",
          "Halloween Coin",
          "CoffeeCoin",
          "RoyalCoin",
          "GanjaCoin V2",
          "TeamUP",
          "LanaCoin",
          "ARK",
          "InsaneCoin",
          "EmberCoin",
          "XenixCoin",
          "FreeCoin",
          "PLNCoin",
          "AquariusCoin",
          "Creatio",
          "Eternity",
          "Eurocoin",
          "BitcoinFast",
          "Stakenet",
          "BitConnect Coin",
          "MoneyCoin",
          "Enigma",
          "Russiacoin",
          "PandaCoin",
          "GameUnits",
          "GAKHcoin",
          "Allsafe",
          "LiteCreed",
          "Klingon Empire Darsek",
          "Internet of People",
          "KushCoin",
          "Printerium",
          "Impeach",
          "Zilbercoin",
          "FirstCoin",
          "FindCoin",
          "OpenChat",
          "RenosCoin",
          "VirtacoinPlus",
          "TajCoin",
          "Impact",
          "Atmos",
          "HappyCoin",
          "MacronCoin",
          "Condensate",
          "Independent Money System",
          "ArgusCoin",
          "LomoCoin",
          "ProCurrency",
          "GoldReserve",
          "GrowthCoin",
          "Phreak",
          "Degas Coin",
          "HTML5 Coin",
          "Ultimate Secure Cash",
          "QTUM",
          "Espers",
          "Denarius",
          "Virta Unique Coin",
          "Bitcoin Planet",
          "BritCoin",
          "Linda",
          "DeepOnion",
          "Signatum",
          "Cream",
          "Monoeci",
          "Draftcoin",
          "Vechain",
          "Stakecoin",
          "CoinonatX",
          "Ethereum Dark",
          "Obsidian",
          "Cardano",
          "Regalcoin",
          "TrezarCoin",
          "TerraNovaCoin",
          "Rupee",
          "WomenCoin",
          "Theresa May Coin",
          "NamoCoin",
          "LUXCoin",
          "Xios",
          "Bitcloud 2.0",
          "KekCoin",
          "BlackholeCoin",
          "Infinity Economics",
          "Magnet",
          "Lamden Tau",
          "Electra",
          "Bitcoin Diamond",
          "Cash & Back Coin",
          "Bulwark",
          "Kalkulus",
          "GermanCoin",
          "LiteCoin Ultra",
          "PhantomX",
          "Digiwage",
          "Trollcoin",
          "Litecoin Plus",
          "Monkey Project",
          "TokenPay",
          "1717 Masonic Commemorative Token",
          "My Big Coin",
          "Unified Society USDEX",
          "Tokyo Coin",
          "BiblePay",
          "Stipend",
          "Pushi",
          "Ellerium",
          "Velox",
          "Ontology",
          "Bitspace",
          "Briacoin",
          "Ignition",
          "MedicCoin",
          "Bitcoin Green",
          "Deviant Coin",
          "Abjcoin",
          "Semux",
          "Carebit",
          "Zealium",
          "Proton",
          "iDealCash",
          "Bitcoin Incognito",
          "HollyWoodCoin",
          "Swisscoin",
          "Xt3ch",
          "TheVig",
          "EmaratCoin",
          "Dekado",
          "Lynx",
          "Poseidon Quark",
          "BitcoinWSpectrum",
          "Muse",
          "Trivechain",
          "Dystem",
          "Giant",
          "Peony Coin",
          "Absolute Coin",
          "Vitae",
          "TPCash",
          "ARENON",
          "EUNO",
          "MMOCoin",
          "Ketan",
          "XDNA",
          "PAXEX",
          "ThunderStake",
          "Kcash",
          "Acute Angle Cloud",
          "Bettex coin",
          "BitMoney",
          "Junson Ming Chan Coin",
          "HerbCoin",
          "PirateCash",
          "Oduwa",
          "Galilel",
          "Crypto Sports",
          "Credit",
          "Dash Platinum",
          "Nasdacoin",
          "Beetle Coin",
          "Titan Coin",
          "Award",
          "Insane Coin",
          "ALAX",
          "LiteDoge",
          "TruckCoin",
          "OrangeCoin",
          "BitstarCoin",
          "NeosCoin",
          "HyperCoin",
          "PinkCoin",
          "AudioCoin",
          "IncaKoin",
          "Piggy Coin",
          "Genstake",
          "XiaoMiCoin",
          "CapriCoin",
          " ClubCoin",
          "Radium",
          "Creditbit ",
          "OKCash",
          "Lisk",
          "HiCoin",
          "WhiteCoin",
          "FriendshipCoin",
          "Triangles Coin",
          "EOS",
          "Oxycoin",
          "TigerCash",
          "Particl",
          "Nxt",
          "ZEPHYR",
          "Gapcoin",
          "BitcoinPlus"
         ],
         "legendgroup": "0",
         "marker": {
          "color": [
           0,
           0,
           0,
           0,
           0,
           0,
           0,
           0,
           0,
           0,
           0,
           0,
           0,
           0,
           0,
           0,
           0,
           0,
           0,
           0,
           0,
           0,
           0,
           0,
           0,
           0,
           0,
           0,
           0,
           0,
           0,
           0,
           0,
           0,
           0,
           0,
           0,
           0,
           0,
           0,
           0,
           0,
           0,
           0,
           0,
           0,
           0,
           0,
           0,
           0,
           0,
           0,
           0,
           0,
           0,
           0,
           0,
           0,
           0,
           0,
           0,
           0,
           0,
           0,
           0,
           0,
           0,
           0,
           0,
           0,
           0,
           0,
           0,
           0,
           0,
           0,
           0,
           0,
           0,
           0,
           0,
           0,
           0,
           0,
           0,
           0,
           0,
           0,
           0,
           0,
           0,
           0,
           0,
           0,
           0,
           0,
           0,
           0,
           0,
           0,
           0,
           0,
           0,
           0,
           0,
           0,
           0,
           0,
           0,
           0,
           0,
           0,
           0,
           0,
           0,
           0,
           0,
           0,
           0,
           0,
           0,
           0,
           0,
           0,
           0,
           0,
           0,
           0,
           0,
           0,
           0,
           0,
           0,
           0,
           0,
           0,
           0,
           0,
           0,
           0,
           0,
           0,
           0,
           0,
           0,
           0,
           0,
           0,
           0,
           0,
           0,
           0,
           0,
           0,
           0,
           0,
           0,
           0,
           0,
           0,
           0,
           0,
           0,
           0,
           0,
           0,
           0,
           0,
           0,
           0,
           0,
           0,
           0,
           0,
           0,
           0,
           0,
           0,
           0,
           0,
           0,
           0,
           0,
           0,
           0,
           0,
           0,
           0,
           0,
           0,
           0,
           0,
           0,
           0,
           0,
           0,
           0,
           0,
           0,
           0,
           0,
           0,
           0,
           0,
           0,
           0,
           0,
           0,
           0,
           0,
           0,
           0,
           0,
           0,
           0,
           0,
           0,
           0,
           0,
           0,
           0,
           0,
           0,
           0,
           0,
           0,
           0,
           0,
           0,
           0,
           0,
           0,
           0,
           0,
           0,
           0,
           0,
           0,
           0,
           0,
           0,
           0,
           0,
           0,
           0,
           0,
           0,
           0,
           0,
           0,
           0,
           0,
           0,
           0,
           0,
           0,
           0,
           0,
           0,
           0,
           0,
           0,
           0,
           0,
           0,
           0,
           0,
           0,
           0,
           0,
           0,
           0,
           0,
           0,
           0,
           0,
           0,
           0,
           0,
           0,
           0,
           0,
           0,
           0,
           0,
           0,
           0,
           0
          ],
          "coloraxis": "coloraxis",
          "symbol": "circle"
         },
         "mode": "markers",
         "name": "0",
         "scene": "scene",
         "showlegend": true,
         "type": "scatter3d",
         "x": [
          -0.3372846494920619,
          -0.3207478804501668,
          2.296893077336133,
          -0.38167578615611886,
          -0.4889376487519103,
          -0.31231713736131683,
          -0.2714825712342063,
          -0.2412200001933106,
          -0.3369467648232675,
          -0.3295813690491378,
          -0.3357927527333177,
          -0.3372806146472303,
          -0.3372650141124198,
          0.4531487157951362,
          -0.3636086778290107,
          -0.34648216704614165,
          -0.2872851170343188,
          -0.33535779254668824,
          -0.3208196909313323,
          -0.3815712900016351,
          -0.38185231816105775,
          -0.03836550128386731,
          -0.2758944520323185,
          -0.29620296901216936,
          -0.2686014351568569,
          -0.2692188714097291,
          -0.3345537066642645,
          -0.331628778059952,
          -0.33569822426609086,
          0.018109691716449994,
          -0.34055375658309117,
          -0.38194010783019633,
          -0.3174942312109587,
          -0.3818523816015455,
          -0.3126997238675651,
          -0.3359717546560889,
          -0.29917298421341165,
          -0.38181714978698733,
          -0.2690014157281686,
          -0.32845164368672014,
          -0.5348571317379097,
          -0.3128647344317622,
          -0.3115346977534388,
          -0.3630346968273014,
          -0.29618345052950124,
          -0.2692936274966303,
          -0.2908763084762435,
          -0.33726685557423647,
          -0.2692461884464707,
          -0.3409951015495813,
          -0.337003187325379,
          -0.3819217784154818,
          -0.34533463354686345,
          -0.43711510302273093,
          -0.2627294302277255,
          -0.2945968126046518,
          -0.2687713204498835,
          -0.3049266896941657,
          -0.2436441321004144,
          -0.06995371926099066,
          -0.3122882744213192,
          -0.061747998525652624,
          -0.31235153046421155,
          -0.22770236319515727,
          -0.3368799236890244,
          -0.29446633406306555,
          -0.3791110188850794,
          0.8485437699501309,
          -0.31215299827287996,
          -0.2721800713352796,
          -0.3461677830237387,
          -0.37978099326621123,
          -0.3109053832266367,
          -0.30859018509597846,
          -0.34812970878358585,
          -0.3806660665169444,
          -0.3470901686468332,
          -0.3133496596045501,
          -0.33691771896380257,
          -0.33536845319889286,
          -0.22716257456336714,
          -0.32857907361005184,
          -0.3813995017784543,
          -0.33612785030201164,
          -0.3123325828025557,
          -0.38191103983712177,
          -0.337105531765367,
          -0.3372611329086168,
          -0.29445695572310765,
          -0.27299501581418106,
          0.034503292690438656,
          -0.345132626749075,
          -0.3368782495208973,
          -0.3681730482487548,
          -0.3444665639785903,
          -0.2285830650066196,
          -0.4126950348761403,
          -0.344216292921149,
          -0.27766442041702655,
          3.681397527575177,
          -0.3815065907709945,
          0.8542394653651142,
          -0.3818662918020712,
          -0.3455929238943481,
          -0.3368061923939347,
          -0.3369593196108563,
          -0.3461677830237387,
          -0.3814442137144001,
          -0.3121963135223859,
          -0.3368069467048847,
          -0.36611572794076314,
          -0.3369532285054463,
          -0.3325723966870666,
          -0.3818950582722531,
          -0.3361694814842706,
          0.34227536552508275,
          -0.3371510412605821,
          -0.3372211132442689,
          -0.34607234655476604,
          -0.3398104278675031,
          -0.33347466055196695,
          -0.3123091774256117,
          -0.3818056815879326,
          -0.33700055654889965,
          -0.3371265274180605,
          -0.29609043850729994,
          -0.28978167203606836,
          -0.2283526475275575,
          -0.31812267931717225,
          -0.29583364443994675,
          -0.38107666513134003,
          -0.40890447380064476,
          -0.37982467010125925,
          -0.3444273943225477,
          -0.3809753336610192,
          -0.33886900232367795,
          -0.37694571559120815,
          -0.3370702521360536,
          -0.33706941620677733,
          -0.33023967650141417,
          0.2574213641402168,
          -0.38145040297512567,
          -0.2788572405832689,
          -0.34620177069710245,
          -0.3362866309589004,
          0.8824205175004854,
          -0.270182212490818,
          -0.34587760162598047,
          0.6036388755431167,
          -0.34965392599121264,
          -0.3481671650800648,
          -0.4273983823564078,
          -0.2689336112083694,
          0.1243131918930515,
          -0.2690038889230988,
          -0.33174164459104505,
          -0.42690706581598825,
          -0.38172083038378,
          -0.29616423491202043,
          4.3591792466013395,
          -0.3460689334592488,
          -0.33670812912963477,
          -0.3372041700187471,
          -0.5465716074599793,
          0.6339852030561695,
          -0.3816620359803995,
          -0.3295895861307606,
          -0.3371600755498484,
          -0.30189179545212735,
          0.42616518614527205,
          -0.3106677899012276,
          -0.3345324494747235,
          -0.3935999031759175,
          -0.33711077234543385,
          -0.3852969780259798,
          -0.3386712492433894,
          -0.3369821928259524,
          -0.09925823909065404,
          -0.3804634419636796,
          3.6862179183222588,
          0.205677048347841,
          -0.2656994475688331,
          -0.33446109830939735,
          -0.30864755675709943,
          -0.3459591038364469,
          0.07420336914559117,
          -0.33612674454827723,
          -0.3810405338746739,
          -0.34512981271977733,
          -0.32378462578230344,
          -0.33722613261421136,
          -0.3409672420113584,
          -0.3473699595374651,
          -0.28215272143079595,
          -0.3259732612047922,
          -0.332804567582382,
          -0.220207915107827,
          -0.07411229587666317,
          -0.3606762093187669,
          -0.38173787563608225,
          -0.22023191764053024,
          -0.2953301978110848,
          -0.33926318114492093,
          -0.34925578843828475,
          -0.33725328184320025,
          -0.3372351244192423,
          -0.2897530881456304,
          -0.3358725875874183,
          -0.34566638701704405,
          -0.336953701018506,
          3.8794186643600312,
          -0.383975224623168,
          -0.3458536435064079,
          -0.31861050865243223,
          -0.2842090008552966,
          -0.10117260861202243,
          -0.2958607530599234,
          -0.14183254630402842,
          -0.29611079862474127,
          -0.3425107773751682,
          -0.33643153160348177,
          -0.20222099335620577,
          2.2298845973546517,
          -0.3416972154027442,
          -0.2703093947626038,
          1.0016734243553616,
          -0.3587236286435744,
          -0.3460717604005741,
          -0.38696905865035525,
          -0.17768353827286906,
          -0.34259214834580204,
          -0.3448007715518853,
          -0.33018022741583636,
          -0.34054774296868795,
          -0.38121514335775253,
          -0.2933764648154667,
          -0.34495977750347234,
          -0.31791157709631623,
          -0.3404099873140181,
          -0.19773434395640294,
          -0.907955246143185,
          -0.12503155463993998,
          -0.17945346495748735,
          0.7901908476371228,
          -0.1325315727286481,
          -0.38626888544600596,
          -0.25509535009455275,
          -0.33695768404032633,
          -0.3867216578788218,
          -0.3461878730562105,
          0.562927879425457,
          -0.34102114599062694,
          -0.3364442948987082,
          -0.21472814033900747,
          -0.2975564166558718,
          -0.3787968455774977,
          -0.38144072440702537,
          3.69836789430434,
          0.0947890465264452,
          -0.37899938901792146,
          -0.33583398676651477,
          -0.33665329572976394,
          -0.27151491302443403,
          -0.337167890693863,
          -0.3731307323953155,
          -0.2514865934717509,
          -0.09366588501991095,
          -0.36890950825894536,
          -0.33645168309005435,
          -0.32956753301851244,
          -0.37803488382237405,
          -0.3349022102455008,
          -0.34644134704645435,
          -0.34245362095504045,
          -0.31084323027305527,
          3.6817864891315493,
          -0.10482814040401982,
          -0.3321178983661743,
          -0.3341821862966885,
          -0.26940006157795277,
          3.6915780444976964,
          3.6928126296450476,
          -0.2525540068069398,
          -0.3463777074677431,
          -0.3329778982401913,
          2.4444883176085934,
          -0.3353439122811507,
          -0.29650441507464337
         ],
         "y": [
          0.9697490962272032,
          0.9699035114656211,
          1.647837888479271,
          1.16211374363228,
          1.8315372654306632,
          0.8096803364473868,
          0.6806810506718354,
          1.8230336052036504,
          0.969747879075369,
          0.9700047203621107,
          0.9697986030593261,
          0.969748859531765,
          0.969749006598719,
          0.3497101299324142,
          0.9035652883906424,
          1.6396231131764325,
          0.3873950887633269,
          0.9697240883596399,
          1.0337881136892966,
          1.1621172112115845,
          1.8417226693836204,
          0.8493069954329922,
          0.809112088333702,
          0.8407389757328201,
          1.7955712216248856,
          1.7955507327448628,
          0.4819807623789279,
          0.9696254603970195,
          0.9697290987361297,
          0.981542430362206,
          1.0331332624368326,
          1.1621212788879198,
          1.6334660640129253,
          1.1621167783577298,
          0.9693789397259586,
          0.969718539486684,
          0.23101255905568757,
          1.1621212830455576,
          1.795557948750319,
          0.9693009728509947,
          0.6705498686362488,
          1.6041202633836826,
          0.8096722039053247,
          0.9035875818744515,
          0.8407516166301396,
          1.7955393572208846,
          0.8405571097163226,
          0.9697496867281113,
          1.7955424139009313,
          1.0331037922127315,
          0.9697436115202845,
          1.1621218878687551,
          1.8784964805087494,
          1.9102548246775801,
          0.45805082900632477,
          0.8407301436939136,
          1.7955285223811244,
          0.8092006506758533,
          1.8231931029042767,
          0.8981466871343203,
          0.809681294229362,
          1.1530666517947237,
          0.8096877193686294,
          1.5060638745770107,
          0.9697313946819494,
          0.8406447448879318,
          1.1619305248874332,
          0.8053556408527731,
          0.8096724409561622,
          0.3536986170260002,
          1.6396187209106017,
          1.1621373345444426,
          0.8095783991976333,
          0.8094311691262424,
          1.5020009265938974,
          1.1620605253425558,
          1.6252315031822915,
          0.9690608779537826,
          0.9697284109405494,
          0.9697385593205003,
          1.6664366996742015,
          1.033043635789395,
          1.1621021571868098,
          0.969720772001164,
          0.8096805651450694,
          1.162120020507304,
          0.9697394741069504,
          0.9697498766278926,
          0.8408089082854068,
          0.3115292593889248,
          1.9344509092746685,
          1.6396130445786996,
          0.9697625821529692,
          1.1614662688218966,
          1.6396603491739221,
          1.66653595644175,
          1.750188804884279,
          1.639475191423205,
          1.9333530025781884,
          1.8948573179852692,
          1.1621134282890826,
          1.8322012968143415,
          1.1621208729004662,
          1.6396155598372637,
          0.9697364060432371,
          0.9697287600237005,
          1.6396187209106017,
          1.1620932611140538,
          0.8096858283134549,
          0.9697404874602713,
          0.5437128715694934,
          0.9697393394549675,
          0.9694231741542744,
          1.1621190683641482,
          0.9696793637715754,
          0.8378368752935532,
          0.9697438938177612,
          0.9697487468498865,
          1.571368239578853,
          0.5458093021891337,
          0.9695049081177176,
          0.8096813418243753,
          1.1621188068800716,
          0.9697436988194401,
          0.9697380855713448,
          0.8407139351373889,
          0.21315438056734654,
          1.6665346894069026,
          0.9696437271203594,
          0.8407377064176657,
          1.1620758083284841,
          1.818410303121318,
          1.1621099419180272,
          1.6396095473893053,
          1.1620791708915474,
          1.6395792524624977,
          1.1619163944886115,
          0.9697404875873097,
          0.9697350391640779,
          0.9692416391308784,
          0.642648650869053,
          1.1621078804526668,
          0.8398440939055992,
          1.639610180709611,
          0.9697043845145423,
          1.793868449973645,
          0.6805851573351028,
          1.6252224485616724,
          1.8374892976543626,
          1.5020096461648162,
          1.501977446569026,
          1.9158074470846,
          1.795537961679135,
          0.9480048614025387,
          1.7955438586616244,
          1.6599875744644537,
          1.9158237508335345,
          1.1621215089553112,
          0.8407393524025859,
          2.4321198299797215,
          1.63959116571922,
          0.9697324612699098,
          0.9697486536813592,
          1.8322258837889953,
          1.6025185524228391,
          1.1621104937348894,
          0.4818517907772324,
          0.9697415679806647,
          0.6700905918475335,
          0.976552359308686,
          0.8096772516456933,
          1.5016293632435918,
          1.7629623311131861,
          0.9697393002045986,
          1.7002908621674362,
          1.6837897016383974,
          0.9697481713154413,
          0.6797342488015892,
          1.1620635430143957,
          1.8947393133255255,
          1.4982079668310317,
          1.7955118610166056,
          0.9696871328322048,
          1.3729958878977975,
          1.571368291221918,
          0.9463420271561153,
          0.9696763345288985,
          1.1621140691052931,
          1.5713216866420345,
          0.9695299658403379,
          0.9697480731262413,
          1.0331039754619373,
          1.6252285191645979,
          0.009465121413060438,
          0.2622123710318809,
          0.9697257956196093,
          1.6662227400364522,
          1.4943195560410567,
          0.8049026400719116,
          1.1621094595592376,
          1.0594569167213803,
          0.8406880175210628,
          1.7672370389336707,
          1.5019932084374497,
          0.969747913447794,
          0.9697470335079079,
          0.8405943824331191,
          1.7281800532929985,
          1.6395849550804205,
          0.9697378413030099,
          1.9856319883665696,
          1.7003347229656387,
          1.6395846710875799,
          0.7823905402845615,
          0.9677137727792839,
          0.3554103513218275,
          0.840743052819524,
          0.9686743312966992,
          0.8407214131083455,
          1.936690748633592,
          0.969715142118673,
          1.6941590882394555,
          0.16674534986389256,
          1.571042738131266,
          0.6806549286094878,
          1.739946132748873,
          0.9113929772576821,
          1.5713638116131374,
          1.7003798052922223,
          0.8321718286144042,
          0.7990802478422373,
          1.5713474301995436,
          0.9692436118773375,
          1.0330926940064726,
          1.162108274899441,
          0.8406520416943646,
          1.639517972265004,
          0.8607392953396678,
          1.0330639096382888,
          0.961037655825098,
          2.2799146251902145,
          1.5569770544175952,
          0.9304561395066695,
          -0.06038645019200197,
          1.0400362286091993,
          1.7003668310568083,
          -0.0384632280004949,
          0.9697443802560239,
          1.7003777229271397,
          1.5713656141855665,
          0.9441771076643632,
          1.0331031503300827,
          0.9697147185840597,
          1.059313409077337,
          1.9345504482294693,
          1.1619142658518515,
          1.1621156139852122,
          1.8947718776319924,
          0.958143679463989,
          1.162218863848817,
          0.9696489875395737,
          0.9697298303806974,
          0.6806736769416334,
          0.9697529707587315,
          1.1620429901211602,
          0.9648132226956309,
          0.8168114878205417,
          1.1618124483263166,
          0.9697656187059894,
          0.9697086850583287,
          1.1620966926879672,
          0.9697095568672078,
          1.6396177966142593,
          0.5375730492353415,
          0.8096677236873483,
          1.8948443424287975,
          0.8396826024405867,
          0.9696981778582267,
          0.4819512864953778,
          1.7955446312185517,
          1.8952878007157032,
          1.8953287689401073,
          0.680577201695751,
          1.639620179605833,
          1.6390085995301282,
          0.835401086824122,
          0.9696281882679254,
          0.8407402245713512
         ],
         "z": [
          -0.6029762941861274,
          -0.6035178500426266,
          -0.7219117757743485,
          -0.5210170365101634,
          0.26648464537195743,
          -0.3871904485259177,
          -0.03500455968622458,
          -0.6472950536385531,
          -0.6029866456230252,
          -0.6032585555856091,
          -0.6030309598447006,
          -0.6029763815276025,
          -0.6029768926506905,
          -0.09234154399124478,
          -0.4233924096263125,
          -0.05404317498007642,
          -0.30507378292797094,
          -0.6030323757941998,
          -0.1695662834828702,
          -0.5210208654283086,
          -0.8274408801219564,
          -0.2602459170092006,
          -0.3882349422241434,
          -0.2507963523930953,
          -0.6659254796500612,
          -0.6659028557278273,
          -0.32634746418615596,
          -0.6031327089318459,
          -0.6030225641111496,
          -0.6159985517934976,
          -0.16884319350461172,
          -0.5210100135085669,
          -0.20539118440515272,
          -0.5210120179241604,
          -0.6036835048303191,
          -0.6030122994600369,
          -0.37501511616186023,
          -0.5210138534433507,
          -0.665910823676593,
          -0.6031789361835084,
          0.49184169349270573,
          -0.07322211679839738,
          -0.3872135517879466,
          -0.4234139713170874,
          -0.2507990255979504,
          -0.6658986643630135,
          -0.25093298113861656,
          -0.6029769461908494,
          -0.6659006446400448,
          -0.16882460157932794,
          -0.6029841871577611,
          -0.5210106852507425,
          -0.8714753381676509,
          -0.714063648687484,
          -0.2025128095480083,
          -0.25084506128258943,
          -0.6659132040380856,
          -0.38734289503477276,
          -0.6472454019195274,
          -0.49400696593665727,
          -0.38719150611349423,
          -0.5295294668253705,
          -0.38719057997016176,
          -0.6315277560984899,
          -0.6029860414301479,
          -0.2508351931191998,
          -0.5210672067375239,
          -0.2807633593243693,
          -0.38719428460280686,
          -0.07034495683340256,
          -0.054052274259828406,
          -0.5210800512010489,
          -0.38721788698583365,
          -0.3872661401617984,
          -0.6271042005105358,
          -0.5210398756742335,
          -0.04208681067906098,
          -0.6036112842812716,
          -0.6029843741794527,
          -0.6030344054591386,
          -0.3137363806624985,
          -0.1692024598963018,
          -0.5210237716378496,
          -0.6030077899928634,
          -0.38719000359296185,
          -0.5210107156872281,
          -0.6029803160676455,
          -0.602977155879123,
          -0.25086228732587046,
          -0.3892787693842034,
          -0.7705882820411076,
          -0.05408366937773752,
          -0.6029911853824902,
          -0.5213329405688113,
          -0.054112189563390235,
          -0.3137082318025804,
          -0.6865241847503293,
          -0.05408977513341666,
          -0.7606618770094881,
          0.18696816903096128,
          -0.5210222680031759,
          -0.7069654318414297,
          -0.5210122520670126,
          -0.05406970764905302,
          -0.6029891617812169,
          -0.6029831322275334,
          -0.054052274259828406,
          -0.5210209231711553,
          -0.3871951177473492,
          -0.6029898045621628,
          -0.22484792315717964,
          -0.6029850496187233,
          -0.6030702199499202,
          -0.5210110592501978,
          -0.6029997297733596,
          -0.2702584749668866,
          -0.6029796166375644,
          -0.6029782210097301,
          -0.18564265566372076,
          -0.3828867764777846,
          -0.6030553914765567,
          -0.3871908612060763,
          -0.5210138072680269,
          -0.6029842835539188,
          -0.6029794338041534,
          -0.2507957779216835,
          -0.4185758423145433,
          -0.3137152195277313,
          -0.6035574071358814,
          -0.2508076769969289,
          -0.5210295502020013,
          -0.6969918081332039,
          -0.5210742153003483,
          -0.054105118683274805,
          -0.5210332631606978,
          -0.05427372859003959,
          -0.5211325094811805,
          -0.602981583104001,
          -0.6029807196935828,
          -0.6031134195975234,
          -0.04530993316411671,
          -0.5210231166755391,
          -0.2511918586673343,
          -0.05404981874849004,
          -0.6030001567804105,
          -0.6776182197864423,
          -0.03502950665514978,
          -0.04212319374975123,
          -0.8304108312507845,
          -0.6270580317384279,
          -0.6270991976134023,
          -0.7051212165278352,
          -0.665909677716124,
          -0.6138393062575657,
          -0.6659084461002382,
          -0.06415439413740737,
          -0.7051392192077084,
          -0.5210168978135232,
          -0.25079762332631284,
          5.044824844828996,
          -0.054050862079314775,
          -0.6029915796946624,
          -0.6029787348362139,
          0.26817179060635743,
          0.02210261741514026,
          -0.521016935267785,
          -0.32648140850267654,
          -0.602978954832868,
          -0.05220476614172127,
          -0.6279250424036459,
          -0.3872414443138279,
          -0.6274681013221188,
          -0.5565569015543497,
          -0.6029801240438128,
          -0.5378662972273277,
          -0.06778784493013852,
          -0.6029855871262376,
          -0.04022753671414236,
          -0.5210466951126713,
          0.18683692208277802,
          -0.6437770860468739,
          -0.6660064004078494,
          -0.6030543409047129,
          -0.27487514451434925,
          -0.18564619999857698,
          -0.612003196492837,
          -0.6030005696410703,
          -0.5210369248369077,
          -0.1856644851985099,
          -0.6033620451636037,
          -0.60297795429198,
          -0.16882550138606858,
          -0.042077587284466596,
          0.18047894325249342,
          -0.3604482612311924,
          -0.6031123767104349,
          -0.31391860261616933,
          4.501112716543124,
          -0.46735287597149916,
          -0.5210143984018057,
          -0.5060594352705943,
          -0.2508152844446256,
          -0.03736810975304027,
          -0.6270677796015415,
          -0.602977080512187,
          -0.6029775038023618,
          -0.25097413785608047,
          -0.02545821389816372,
          -0.0540624172843112,
          -0.602984790276085,
          0.15752707094467697,
          -0.5379147285367272,
          -0.054056524001492294,
          -0.05677252615916037,
          -0.6043012466599831,
          -0.18756140434964158,
          -0.25080770340980074,
          -0.608903646498139,
          -0.25079636305132075,
          -0.759182028583793,
          -0.6029973886764941,
          -0.2950722208873928,
          -0.43508081377025104,
          -0.1857261237739024,
          -0.03503692638512072,
          0.07972609087323641,
          -0.4089814559811973,
          -0.185641951054564,
          -0.5378286088777251,
          -0.25309834108408386,
          -0.4043932735092255,
          -0.18567896212018903,
          -0.6031155979138804,
          -0.16883675805761814,
          -0.5210305268462677,
          -0.25087041460054327,
          -0.05407354490164968,
          -0.49844671710162186,
          -0.16883636000946053,
          -0.6059113959432063,
          0.8781390390243169,
          2.416356056370269,
          -0.15387155084540055,
          -0.19115291108109636,
          -0.17646548275077967,
          -0.5378483529875313,
          0.31490288561497587,
          -0.6029857334616167,
          -0.5378359937800302,
          -0.18563861982835655,
          -0.626909740958832,
          -0.1688236835707255,
          -0.6029969210074878,
          -0.5062078567321806,
          -0.7602362624584572,
          -0.5210743620647224,
          -0.5210246814596083,
          0.18645223338229885,
          -0.6145727081101575,
          -0.5211177666055545,
          -0.6030052460640579,
          -0.6029928622990773,
          -0.03500234600457765,
          -0.6029805724336348,
          -0.5212722970021532,
          -0.6048494299837576,
          -0.39518187462171334,
          -0.5213664626497093,
          -0.6030050002902781,
          -0.6032106567714477,
          -0.5211279367177083,
          -0.6030442285313169,
          -0.05404358156453118,
          -0.14919529168544451,
          -0.3872344108056255,
          0.18695814244492734,
          -0.25659939804281456,
          -0.6031293084627657,
          -0.32635425233708276,
          -0.6658962020878716,
          0.18658001063801674,
          0.1865347733228517,
          -0.03557863292531692,
          -0.05404595770209254,
          -0.004272326565967206,
          0.07113695176033008,
          -0.603017152509152,
          -0.25078714389259366
         ]
        },
        {
         "customdata": [
          [
           "SHA-256"
          ],
          [
           "Ethash"
          ],
          [
           "Scrypt"
          ],
          [
           "CryptoNight-V7"
          ],
          [
           "Ethash"
          ],
          [
           "Equihash"
          ],
          [
           "Scrypt"
          ],
          [
           "X11"
          ],
          [
           "Scrypt"
          ],
          [
           "Scrypt"
          ],
          [
           "SHA-256"
          ],
          [
           "Scrypt"
          ],
          [
           "Scrypt"
          ],
          [
           "Quark"
          ],
          [
           "Groestl"
          ],
          [
           "Scrypt"
          ],
          [
           "Scrypt"
          ],
          [
           "Scrypt"
          ],
          [
           "X11"
          ],
          [
           "SHA-256"
          ],
          [
           "Scrypt"
          ],
          [
           "Scrypt"
          ],
          [
           "Scrypt"
          ],
          [
           "Scrypt"
          ],
          [
           "Scrypt"
          ],
          [
           "NeoScrypt"
          ],
          [
           "Scrypt"
          ],
          [
           "Scrypt"
          ],
          [
           "Scrypt"
          ],
          [
           "Scrypt"
          ],
          [
           "SHA-256"
          ],
          [
           "Scrypt"
          ],
          [
           "Scrypt"
          ],
          [
           "Scrypt"
          ],
          [
           "Scrypt"
          ],
          [
           "HybridScryptHash256"
          ],
          [
           "Scrypt"
          ],
          [
           "Scrypt"
          ],
          [
           "SHA-256"
          ],
          [
           "Scrypt"
          ],
          [
           "Scrypt"
          ],
          [
           "Scrypt"
          ],
          [
           "Scrypt"
          ],
          [
           "SHA-256"
          ],
          [
           "SHA-256"
          ],
          [
           "SHA-256"
          ],
          [
           "SHA-256"
          ],
          [
           "SHA-256"
          ],
          [
           "X11"
          ],
          [
           "Scrypt"
          ],
          [
           "Lyra2REv2"
          ],
          [
           "Scrypt"
          ],
          [
           "SHA-256"
          ],
          [
           "CryptoNight"
          ],
          [
           "CryptoNight"
          ],
          [
           "Scrypt"
          ],
          [
           "Scrypt"
          ],
          [
           "Scrypt"
          ],
          [
           "Scrypt"
          ],
          [
           "Scrypt"
          ],
          [
           "Scrypt"
          ],
          [
           "Stanford Folding"
          ],
          [
           "QuBit"
          ],
          [
           "Scrypt"
          ],
          [
           "Scrypt"
          ],
          [
           "M7 POW"
          ],
          [
           "Scrypt"
          ],
          [
           "SHA-256"
          ],
          [
           "Scrypt"
          ],
          [
           "X11"
          ],
          [
           "Lyra2RE"
          ],
          [
           "SHA-256"
          ],
          [
           "X11"
          ],
          [
           "Scrypt"
          ],
          [
           "Scrypt"
          ],
          [
           "Ethash"
          ],
          [
           "Blake2b"
          ],
          [
           "X11"
          ],
          [
           "SHA-256"
          ],
          [
           "Scrypt"
          ],
          [
           "1GB AES Pattern Search"
          ],
          [
           "Scrypt"
          ],
          [
           "SHA-256"
          ],
          [
           "X11"
          ],
          [
           "Dagger"
          ],
          [
           "Scrypt"
          ],
          [
           "X11GOST"
          ],
          [
           "Scrypt"
          ],
          [
           "X11"
          ],
          [
           "Scrypt"
          ],
          [
           "X11"
          ],
          [
           "Equihash"
          ],
          [
           "CryptoNight"
          ],
          [
           "SHA-256"
          ],
          [
           "Scrypt"
          ],
          [
           "SHA-256"
          ],
          [
           "Scrypt"
          ],
          [
           "Lyra2Z"
          ],
          [
           "Ethash"
          ],
          [
           "Equihash"
          ],
          [
           "Scrypt"
          ],
          [
           "X11"
          ],
          [
           "X11"
          ],
          [
           "CryptoNight"
          ],
          [
           "Scrypt"
          ],
          [
           "CryptoNight"
          ],
          [
           "Lyra2RE"
          ],
          [
           "X11"
          ],
          [
           "CryptoNight-V7"
          ],
          [
           "Scrypt"
          ],
          [
           "X11"
          ],
          [
           "Equihash"
          ],
          [
           "Scrypt"
          ],
          [
           "Lyra2RE"
          ],
          [
           "Dagger-Hashimoto"
          ],
          [
           "Scrypt"
          ],
          [
           "NIST5"
          ],
          [
           "Scrypt"
          ],
          [
           "SHA-256"
          ],
          [
           "Scrypt"
          ],
          [
           "CryptoNight-V7"
          ],
          [
           "Argon2d"
          ],
          [
           "Blake2b"
          ],
          [
           "Cloverhash"
          ],
          [
           "CryptoNight"
          ],
          [
           "X11"
          ],
          [
           "Scrypt"
          ],
          [
           "Scrypt"
          ],
          [
           "X11"
          ],
          [
           "X11"
          ],
          [
           "CryptoNight"
          ],
          [
           "Time Travel"
          ],
          [
           "Scrypt"
          ],
          [
           "Keccak"
          ],
          [
           "X11"
          ],
          [
           "SHA-256"
          ],
          [
           "Scrypt"
          ],
          [
           "Scrypt"
          ],
          [
           "Scrypt"
          ],
          [
           "Scrypt"
          ],
          [
           "Scrypt"
          ],
          [
           "Scrypt"
          ],
          [
           "CryptoNight"
          ],
          [
           "Equihash"
          ],
          [
           "X11"
          ],
          [
           "NeoScrypt"
          ],
          [
           "Equihash"
          ],
          [
           "Dagger"
          ],
          [
           "Scrypt"
          ],
          [
           "X11"
          ],
          [
           "NeoScrypt"
          ],
          [
           "Ethash"
          ],
          [
           "NeoScrypt"
          ],
          [
           "CryptoNight"
          ],
          [
           "CryptoNight"
          ],
          [
           "Ethash"
          ],
          [
           "X11"
          ],
          [
           "CryptoNight-V7"
          ],
          [
           "Scrypt"
          ],
          [
           "BLAKE256"
          ],
          [
           "X11"
          ],
          [
           "NeoScrypt"
          ],
          [
           "NeoScrypt"
          ],
          [
           "Scrypt"
          ],
          [
           "X11"
          ],
          [
           "SHA-256"
          ],
          [
           "C11"
          ],
          [
           "CryptoNight"
          ],
          [
           "SkunkHash"
          ],
          [
           "CryptoNight"
          ],
          [
           "Scrypt"
          ],
          [
           "Dagger"
          ],
          [
           "Lyra2REv2"
          ],
          [
           "Scrypt"
          ],
          [
           "Scrypt"
          ],
          [
           "X11"
          ],
          [
           "Ethash"
          ],
          [
           "CryptoNight"
          ],
          [
           "Scrypt"
          ],
          [
           "IMesh"
          ],
          [
           "Equihash"
          ],
          [
           "Lyra2Z"
          ],
          [
           "X11"
          ],
          [
           "CryptoNight"
          ],
          [
           "NIST5"
          ],
          [
           "Lyra2RE"
          ],
          [
           "Tribus"
          ],
          [
           "Lyra2Z"
          ],
          [
           "CryptoNight"
          ],
          [
           "CryptoNight Heavy"
          ],
          [
           "CryptoNight"
          ],
          [
           "Jump Consistent Hash"
          ],
          [
           "CryptoNight"
          ],
          [
           "X16R"
          ],
          [
           "HMQ1725"
          ],
          [
           "X11"
          ],
          [
           "Scrypt"
          ],
          [
           "CryptoNight-V7"
          ],
          [
           "Cryptonight-GPU"
          ],
          [
           "XEVAN"
          ],
          [
           "CryptoNight Heavy"
          ],
          [
           "SHA-256"
          ],
          [
           "X11"
          ],
          [
           "X16R"
          ],
          [
           "Equihash"
          ],
          [
           "Lyra2Z"
          ],
          [
           "SHA-256"
          ],
          [
           "CryptoNight"
          ],
          [
           "Blake"
          ],
          [
           "Blake"
          ],
          [
           "Exosis"
          ],
          [
           "Scrypt"
          ],
          [
           "Equihash"
          ],
          [
           "Equihash"
          ],
          [
           "QuBit"
          ],
          [
           "SHA-256"
          ],
          [
           "X13"
          ],
          [
           "SHA-256"
          ],
          [
           "Scrypt"
          ],
          [
           "NeoScrypt"
          ],
          [
           "Blake"
          ],
          [
           "Scrypt"
          ],
          [
           "SHA-256"
          ],
          [
           "Scrypt"
          ],
          [
           "Groestl"
          ],
          [
           "Scrypt"
          ],
          [
           "Scrypt"
          ],
          [
           "Equihash+Scrypt"
          ],
          [
           "Ethash"
          ],
          [
           "CryptoNight"
          ],
          [
           "Equihash"
          ]
         ],
         "hovertemplate": "<b>%{hovertext}</b><br><br>class=%{marker.color}<br>PC 1=%{x}<br>PC 2=%{y}<br>PC 3=%{z}<br>Algorithm=%{customdata[0]}<extra></extra>",
         "hovertext": [
          "Bitcoin",
          "Ethereum",
          "Litecoin",
          "Monero",
          "Ethereum Classic",
          "ZCash",
          "ProsperCoin",
          "Spreadcoin",
          "Argentum",
          "MoonCoin",
          "ZetaCoin",
          "SexCoin",
          "Quatloo",
          "QuarkCoin",
          "Riecoin",
          "Digitalcoin ",
          "Catcoin",
          "CannaCoin",
          "CryptCoin",
          "DevCoin",
          "EarthCoin",
          "E-Gulden",
          "Einsteinium",
          "Emerald",
          "Franko",
          "FeatherCoin",
          "GrandCoin",
          "GlobalCoin",
          "GoldCoin",
          "Infinite Coin",
          "IXcoin",
          "KrugerCoin",
          "LuckyCoin",
          "Litebar ",
          "MegaCoin",
          "MediterraneanCoin",
          "MinCoin",
          "NobleCoin",
          "Namecoin",
          "NyanCoin",
          "RonPaulCoin",
          "StableCoin",
          "SmartCoin",
          "SysCoin",
          "TigerCoin",
          "TerraCoin",
          "UnbreakableCoin",
          "Unobtanium",
          "UroCoin",
          "ViaCoin",
          "Vertcoin",
          "WorldCoin",
          "JouleCoin",
          "ByteCoin",
          "DigitalNote ",
          "MonaCoin",
          "Gulden",
          "PesetaCoin",
          "Wild Beast Coin",
          "Flo",
          "ArtByte",
          "Folding Coin",
          "CypherPunkCoin",
          "OmniCron",
          "GreenCoin",
          "Cryptonite",
          "MasterCoin",
          "SoonCoin",
          "1Credit",
          "MarsCoin ",
          "Crypto",
          "Anarchists Prime",
          "BowsCoin",
          "Song Coin",
          "BitZeny",
          "Expanse",
          "Siacoin",
          "MindCoin",
          "I0coin",
          "Revolution VR",
          "HOdlcoin",
          "Gamecredits",
          "CarpeDiemCoin",
          "Adzcoin",
          "SoilCoin",
          "YoCoin",
          "SibCoin",
          "Francs",
          "BolivarCoin",
          "Omni",
          "PizzaCoin",
          "Komodo",
          "Karbo",
          "ZayedCoin",
          "DopeCoin",
          "DollarCoin",
          "Shilling",
          "ZCoin",
          "Elementrem",
          "ZClassic",
          "KiloCoin",
          "ArtexCoin",
          "Kurrent",
          "Cannabis Industry Coin",
          "OsmiumCoin",
          "Bikercoins",
          "HexxCoin",
          "PacCoin",
          "Citadel",
          "BeaverCoin",
          "VaultCoin",
          "Zero",
          "Canada eCoin",
          "Zoin",
          "DubaiCoin",
          "EB3coin",
          "Coinonat",
          "BenjiRolls",
          "ILCoin",
          "EquiTrader",
          "Quantum Resistant Ledger",
          "Dynamic",
          "Nano",
          "ChanCoin",
          "Dinastycoin",
          "DigitalPrice",
          "Unify",
          "SocialCoin",
          "ArcticCoin",
          "DAS",
          "LeviarCoin",
          "Bitcore",
          "gCn Coin",
          "SmartCash",
          "Onix",
          "Bitcoin Cash",
          "Sojourn Coin",
          "NewYorkCoin",
          "FrazCoin",
          "Kronecoin",
          "AdCoin",
          "Linx",
          "Sumokoin",
          "BitcoinZ",
          "Elements",
          "VIVO Coin",
          "Bitcoin Gold",
          "Pirl",
          "eBoost",
          "Pura",
          "Innova",
          "Ellaism",
          "GoByte",
          "UltraNote",
          "BitCoal",
          "DaxxCoin",
          "AC3",
          "Lethean",
          "PopularCoin",
          "Photon",
          "Sucre",
          "SparksPay",
          "GunCoin",
          "IrishCoin",
          "Pioneer Coin",
          "UnitedBitcoin",
          "Interzone",
          "TurtleCoin",
          "MUNcoin",
          "Niobio Cash",
          "ShareChain",
          "Travelflex",
          "KREDS",
          "BitFlip",
          "LottoCoin",
          "Crypto Improvement Fund",
          "Callisto Network",
          "BitTube",
          "Poseidon",
          "Aidos Kuneen",
          "Bitrolium",
          "Alpenschillling",
          "FuturoCoin",
          "Monero Classic",
          "Jumpcoin",
          "Infinex",
          "KEYCO",
          "GINcoin",
          "PlatinCoin",
          "Loki",
          "Newton Coin",
          "MassGrid",
          "PluraCoin",
          "Motion",
          "PlusOneCoin",
          "Axe",
          "HexCoin",
          "Webchain",
          "Ryo",
          "Urals Coin",
          "Qwertycoin",
          "Project Pai",
          "Azart",
          "Xchange",
          "CrypticCoin",
          "Actinium",
          "Bitcoin SV",
          "FREDEnergy",
          "Universal Molecule",
          "Lithium",
          "Exosis",
          "Block-Logic",
          "Beam",
          "Bithereum",
          "SLICE",
          "BLAST",
          "Bitcoin Rhodium",
          "GlobalToken",
          "SolarCoin",
          "UFO Coin",
          "BlakeCoin",
          "Crypto Escudo",
          "Crown Coin",
          "SmileyCoin",
          "Groestlcoin",
          "Bata",
          "Pakcoin",
          "Vollar",
          "Reality Clash",
          "Beldex",
          "Horizen"
         ],
         "legendgroup": "2",
         "marker": {
          "color": [
           2,
           2,
           2,
           2,
           2,
           2,
           2,
           2,
           2,
           2,
           2,
           2,
           2,
           2,
           2,
           2,
           2,
           2,
           2,
           2,
           2,
           2,
           2,
           2,
           2,
           2,
           2,
           2,
           2,
           2,
           2,
           2,
           2,
           2,
           2,
           2,
           2,
           2,
           2,
           2,
           2,
           2,
           2,
           2,
           2,
           2,
           2,
           2,
           2,
           2,
           2,
           2,
           2,
           2,
           2,
           2,
           2,
           2,
           2,
           2,
           2,
           2,
           2,
           2,
           2,
           2,
           2,
           2,
           2,
           2,
           2,
           2,
           2,
           2,
           2,
           2,
           2,
           2,
           2,
           2,
           2,
           2,
           2,
           2,
           2,
           2,
           2,
           2,
           2,
           2,
           2,
           2,
           2,
           2,
           2,
           2,
           2,
           2,
           2,
           2,
           2,
           2,
           2,
           2,
           2,
           2,
           2,
           2,
           2,
           2,
           2,
           2,
           2,
           2,
           2,
           2,
           2,
           2,
           2,
           2,
           2,
           2,
           2,
           2,
           2,
           2,
           2,
           2,
           2,
           2,
           2,
           2,
           2,
           2,
           2,
           2,
           2,
           2,
           2,
           2,
           2,
           2,
           2,
           2,
           2,
           2,
           2,
           2,
           2,
           2,
           2,
           2,
           2,
           2,
           2,
           2,
           2,
           2,
           2,
           2,
           2,
           2,
           2,
           2,
           2,
           2,
           2,
           2,
           2,
           2,
           2,
           2,
           2,
           2,
           2,
           2,
           2,
           2,
           2,
           2,
           2,
           2,
           2,
           2,
           2,
           2,
           2,
           2,
           2,
           2,
           2,
           2,
           2,
           2,
           2,
           2,
           2,
           2,
           2,
           2,
           2,
           2,
           2,
           2,
           2,
           2,
           2,
           2,
           2,
           2,
           2,
           2,
           2,
           2,
           2,
           2,
           2,
           2,
           2,
           2,
           2,
           2,
           2,
           2,
           2,
           2,
           2,
           2,
           2,
           2,
           2
          ],
          "coloraxis": "coloraxis",
          "symbol": "diamond"
         },
         "mode": "markers",
         "name": "2",
         "scene": "scene",
         "showlegend": true,
         "type": "scatter3d",
         "x": [
          -0.14621864424531172,
          -0.15574607978939323,
          -0.170025328435847,
          -0.1439838596111041,
          -0.15419910403244574,
          -0.13062829868124334,
          -0.17116307879558873,
          -0.21576035722985593,
          -0.17078236355412962,
          2.5315614857317086,
          -0.14332521954058183,
          -0.16805793872568278,
          -0.1705877353091037,
          -0.2162880155470532,
          -0.1965837949436435,
          -0.1706363579545234,
          -0.17114548039806465,
          -0.17123130879922707,
          -0.2158490251771189,
          0.22882994074314955,
          0.07565570739879027,
          -0.17097950939409925,
          -0.16661721585206093,
          -0.17091921963630424,
          -0.1712878842031018,
          -0.163820680113225,
          -0.15066297006882026,
          -0.17009194740920827,
          -0.17036726413444975,
          1.5646422588414004,
          -0.146180309024259,
          -0.16767654303862725,
          -0.17100575316696554,
          -0.17135793495249288,
          -0.1706226722628515,
          -0.12705954168077307,
          -0.17124007167468155,
          -0.03711318077756846,
          -0.14625732619797843,
          -0.16495101251204305,
          -0.1712196225911446,
          -0.16932753537764944,
          -0.1707101588279668,
          -0.13350387754000959,
          -0.1457250812971829,
          -0.14601011213048992,
          -0.14599306247049768,
          -0.146579598204482,
          -0.21602166806505638,
          -0.17093827090684033,
          -0.17600784787822985,
          -0.16806254982089236,
          -0.1457918702964098,
          3.829618730289465,
          0.45383371583963394,
          -0.16981416700915533,
          -0.15452399051124532,
          -0.1685425144590621,
          -0.17136012183487828,
          -0.16840861334094603,
          -0.15473393763342994,
          -0.10497054236123882,
          -0.17475080320515202,
          -0.17123416661448107,
          -0.04510027257387702,
          -0.1134825748101897,
          -0.1713689550945263,
          -0.14628489136642023,
          0.4762001723777453,
          -0.21541339620689132,
          -0.1458125316038984,
          -0.14602660050310473,
          -0.2156961689640485,
          -0.16950617355523598,
          -0.16870441842436276,
          -0.1568053044269217,
          0.3650725783087861,
          -0.21573131676067986,
          -0.1461814227955334,
          -0.16735681160825003,
          -0.1502858679058102,
          -0.16994292974300446,
          0.2691966500911763,
          -0.2148981606182788,
          -0.14587571746352124,
          -0.17018809961042067,
          -0.15713909250418978,
          -0.17116038898164418,
          -0.21569480230460636,
          -0.1713690131552983,
          -0.2158436269797261,
          -0.18573224273032882,
          0.2998808470013024,
          -0.14643956830925234,
          -0.16855652150131886,
          -0.14639851032320098,
          -0.17103485943155392,
          -0.14275083077589257,
          -0.1565493921657249,
          -0.13064975050940647,
          -0.09861197102528367,
          -0.202527447842021,
          -0.21368750312745516,
          0.29987530133429374,
          -0.1713508815632763,
          0.300005035401305,
          -0.1463490855774101,
          0.49436478746525886,
          -0.14275720961766203,
          -0.17131940831312878,
          -0.2086290264035167,
          -0.13066204793809,
          -0.16946652678619692,
          -0.1460695708618746,
          -0.15051539971693906,
          -0.1424481362479158,
          -0.18340869449726674,
          -0.1708849921942923,
          -0.11301138262056845,
          -0.17070826032182987,
          -0.14261637660601953,
          -0.14417815841057688,
          -0.03216941918947713,
          -0.14144397353933794,
          0.33572972701453885,
          -0.2149064212714021,
          -0.1710253080223637,
          -0.17079025785428434,
          -0.21529825650676493,
          -0.21587147151226568,
          0.3002674116990688,
          -0.1772661725662593,
          3.2131281482482446,
          -0.09227819253831243,
          -0.20680872150718763,
          -0.1462178148505302,
          -0.09746636444222097,
          1.5622974282007132,
          -0.17112240459773784,
          -0.17057796405483291,
          -0.1702811560498915,
          -0.1702681868630592,
          0.3004497679511121,
          0.08013150266063467,
          -0.17059938430822183,
          -0.16847490740018264,
          -0.13050925867215368,
          -0.14464375556201284,
          -0.1694647496284976,
          -0.21144853291572946,
          -0.1683214236092473,
          -0.1549260003229314,
          -0.16842091949213472,
          1.131777821786052,
          0.29985816623497785,
          -0.08034761765027097,
          -0.21119122451560735,
          -0.1318078248900688,
          -0.08812801969798224,
          1.0939575908774193,
          -0.21584566498587182,
          -0.16847251044220496,
          -0.16156153798139658,
          -0.17037894145133486,
          -0.21577162881626163,
          -0.14619737329121693,
          -0.19473856148292276,
          7.982845234485722,
          -0.17698213173271732,
          0.30370437175932974,
          0.020238884282910524,
          -0.1441510093660791,
          -0.16167191943912873,
          -0.17094838422225223,
          0.13385970930886631,
          -0.20995527454444038,
          -0.10829679190802247,
          0.30772497806556703,
          -0.17118366493553414,
          -0.146146400736631,
          -0.12950785056740197,
          -0.14055009002972907,
          -0.21494688214731728,
          0.30003931543581636,
          -0.18346781816063842,
          -0.1461954371205028,
          -0.16275582337494868,
          -0.14283460910373058,
          0.30393999904710106,
          0.5616143719594818,
          2.095491373744115,
          -0.15497793776952734,
          0.3135444932191947,
          -0.19359456378747272,
          -0.15443533687796604,
          -0.21582795639318103,
          -0.17120805421758242,
          -0.13168541394274236,
          -0.13298700800218896,
          -0.053098570438002715,
          3.0656826843020797,
          -0.10634365454064543,
          -0.21579952372403235,
          -0.1930263264873698,
          -0.02602738241931661,
          -0.14223664949888362,
          -0.14621785212893548,
          0.37922445302778646,
          -0.12932839067142848,
          -0.1297177606941155,
          -0.16735835991464185,
          -0.17010839734406147,
          -0.1285831530194049,
          -0.13034331274542982,
          -0.17396737858611275,
          -0.1454993419611655,
          -0.10346981888106904,
          -0.14437548675805056,
          0.5198100864729784,
          -0.09419293227501749,
          -0.08053191313502701,
          -0.15488337312281603,
          -0.14600948739186967,
          0.539213227334808,
          -0.19614805976357133,
          -0.17128437852058467,
          -0.1692549547368478,
          -0.12357651682051628,
          -0.15658230467010803,
          0.3214549662438085,
          -0.13062934755312972
         ],
         "y": [
          -1.3166825011364787,
          -1.9878530109315895,
          -1.1566382257130197,
          -2.2798330300428935,
          -1.9879573359790503,
          -2.035784658828822,
          -1.1566292827177262,
          -0.9642544274806233,
          -1.1566485222918297,
          -1.3515617085887137,
          -1.316696778974732,
          -1.1566959854407433,
          -1.1566687482866453,
          -0.4260109743206877,
          -1.22282656651559,
          -1.1566319405392327,
          -1.1566286987360537,
          -1.1566257207327348,
          -0.9642558873477142,
          -1.3197873564962388,
          -1.1584300191734456,
          -1.1566231911877494,
          -1.1566850847504861,
          -1.156629344141578,
          -1.1566261866673948,
          -1.6444752858847551,
          -1.1569864524036544,
          -1.1566300590783327,
          -1.1566408597268734,
          -1.166169092418289,
          -1.3166812290282366,
          -1.1566947597367156,
          -1.1566233208197232,
          -1.1566211834959568,
          -1.1566269159342735,
          -2.2977801540244243,
          -1.1566236840369044,
          -1.1632839733374938,
          -1.316683784750588,
          -1.1566573733680077,
          -1.1566311590556284,
          -1.1567381154798513,
          -1.1566366384428202,
          -1.3169032285734943,
          -1.316685403852644,
          -1.3166911472067389,
          -1.3167187484056662,
          -1.3166790983109624,
          -0.9642482740448575,
          -1.1566233052102888,
          -1.3272905589814126,
          -1.1567075689078865,
          -1.3166861288220246,
          -2.335064576296721,
          -2.317764381490069,
          -1.1566468734810564,
          -1.1573068452422957,
          -1.1566500877897041,
          -1.1566222033647426,
          -1.1566409109083517,
          -1.1568097715443215,
          -2.19654346324464,
          -1.5805303147365817,
          -1.156618574680337,
          -1.159842834932073,
          -2.2469280637823266,
          -1.1566210076968557,
          -1.316684699467575,
          -1.2033254655048933,
          -0.9642525500652147,
          -2.2232264368270527,
          -1.316700411289982,
          -0.9642530387062529,
          -1.156714571826167,
          -1.1567174380926117,
          -1.987900691659828,
          -2.236907961523448,
          -0.9642504988631958,
          -1.316681265987398,
          -1.1566430699363757,
          -2.1355556993375404,
          -1.1566354914114214,
          -1.3189120570969848,
          -0.96427325563198,
          -2.1778833423567363,
          -1.1567061513065917,
          -2.30807292351126,
          -1.1566284522233932,
          -0.9642559582996599,
          -1.1566210073775876,
          -0.9642608968676478,
          -1.378449197860737,
          -2.315468173888688,
          -1.3166814829527216,
          -1.1566754685064828,
          -1.3166807893086385,
          -1.1566316990370296,
          -2.2769804254966535,
          -1.9878990923786453,
          -2.0357853706819573,
          -1.1616185563353942,
          -0.964171102608754,
          -0.9643398194150008,
          -2.3154765115119686,
          -1.156621960695732,
          -2.315475171387226,
          -2.223202888830772,
          -1.0147985622105409,
          -2.2799294538136072,
          -1.1566213949202702,
          -0.9647441942052929,
          -2.035782813812991,
          -1.156631542329269,
          -2.2232017670685815,
          -2.140201398695645,
          -1.158625790259016,
          -0.6243774170813099,
          -1.1566308177925788,
          -1.3174180823336517,
          -1.1566519931538388,
          -2.2798654815522013,
          -2.3250412875903814,
          -2.2503421893802957,
          -2.2045740786398476,
          -2.315753631706507,
          -0.9642853895292591,
          -1.1566234336621586,
          -1.1566569378516782,
          -0.9642687426670583,
          -0.9642572993148505,
          -2.3154879605917036,
          -2.053930605681033,
          -1.192557297510694,
          -1.2670835776952736,
          -0.9647579131838887,
          -1.3166824736140075,
          -1.1619511588025013,
          -1.0990909130895343,
          -1.1566271917572628,
          -1.156656564261882,
          -1.1566585748223719,
          -1.1566581444554929,
          -2.3155077702215445,
          -2.044341240033385,
          -0.96407521510764,
          -1.6444006888721925,
          -2.035780708629181,
          -2.1779360842902333,
          -1.1566314833564264,
          -0.9643559526822234,
          -1.644408937946658,
          -1.9880333436851447,
          -1.6444024552815761,
          -2.3508603277984275,
          -2.315470779612885,
          -1.9927633644743352,
          -0.9644956614301115,
          -2.280169834734228,
          -1.1575644785614778,
          -1.261801354617498,
          -0.9642571100687668,
          -1.6443961619154857,
          -1.6445218816868132,
          -1.1566351352141766,
          -0.9642570252229409,
          -1.3166811770945295,
          -1.321468988689154,
          -2.8017469112096984,
          -2.172414844375908,
          -2.3155829377798667,
          -1.1576746335356827,
          -2.177877996517529,
          -1.3275679342919362,
          -1.1566362418220297,
          -1.1601358198672376,
          -0.9644175861111908,
          -1.9910964979195438,
          -2.315941699554994,
          -1.15662996584404,
          -2.2850853357028527,
          -2.0357837986730947,
          -2.277113904934376,
          -0.9642867321748012,
          -2.3154691416872866,
          -0.6243591788631117,
          -2.223209857515663,
          -2.2601787232844512,
          -2.276975126106403,
          -2.3157708054831048,
          -2.18827972016222,
          -2.392263024625384,
          -2.2082125937963446,
          -2.315748585938452,
          -1.2149579476872612,
          -2.2391336448122825,
          -0.9642574119137078,
          -1.156631594433878,
          -2.280722084060287,
          -2.3598887608192483,
          -1.0669835071228222,
          -2.241809858610364,
          -1.316900327354693,
          -0.9642594333541105,
          -1.214996851718774,
          -2.0379314314538295,
          -2.2770097643881217,
          -1.3166824748510468,
          -2.3188170269198767,
          -2.241048860200151,
          -2.2410025627346664,
          -2.183180984464312,
          -1.1566676667541302,
          -2.0358960240143253,
          -2.0357825297730154,
          -1.580578441341068,
          -1.3166905051064792,
          -0.3308259984368137,
          -1.316730299875517,
          -1.2063998630619854,
          -1.644880661782835,
          -2.244540341624419,
          -1.1568147303814469,
          -1.3166911264755388,
          -1.1701025372423743,
          -1.2228276731251824,
          -1.1566214481258903,
          -1.1566853029244222,
          -2.312646339521895,
          -1.987898911397148,
          -2.3157827458402496,
          -2.0357846936343735
         ],
         "z": [
          0.20743800169931143,
          0.422878409186757,
          -0.008380092460318948,
          0.4289665196033389,
          0.4228471383841698,
          0.5573634520480432,
          -0.008346027249616802,
          0.0736180004861741,
          -0.008354773685961357,
          -0.06091146907588625,
          0.20734998808045227,
          -0.008432092587400455,
          -0.008357548677236806,
          0.056661317108390404,
          0.17121185227745575,
          -0.008362039724498465,
          -0.008346672085055578,
          -0.008344478359150913,
          0.07362100740273732,
          0.19623434160153916,
          -0.015758736370916137,
          -0.008352753547019224,
          -0.008478857533888324,
          -0.008353631507820796,
          -0.008342635773605596,
          0.26815149444663683,
          -0.00892781333594914,
          -0.008379345629634879,
          -0.0083689857908818,
          -0.0609875388494163,
          0.20743659703113126,
          -0.008444201438848534,
          -0.008351912944689722,
          -0.0083412653205923,
          -0.00836328736694408,
          0.38860783360334955,
          -0.008344537257831389,
          -0.011445169374851067,
          0.20743941907233926,
          -0.008535407428011649,
          -0.008343955388064305,
          -0.008385572390717732,
          -0.00835896837612619,
          0.20707703041136533,
          0.2074230645318672,
          0.20743290202930123,
          0.2074368758505987,
          0.20744871662048767,
          0.07362515507341008,
          -0.008354022566901051,
          0.19022130887269367,
          -0.008430057488954,
          0.2074252683179853,
          0.32078599568633287,
          0.4233674570009785,
          -0.008385273951083088,
          -0.008754948939980632,
          -0.008424455406565728,
          -0.00834103053297551,
          -0.008430134571400504,
          -0.008829545960747344,
          0.36901676443921727,
          0.21177032048174013,
          -0.008345555793528454,
          -0.011757581021556574,
          0.3554516301442911,
          -0.008340949927442283,
          0.20744042910734173,
          -0.020935735575901324,
          0.07360686042797819,
          0.43286196165713287,
          0.20743492932175212,
          0.07361576953260857,
          -0.008383838317337555,
          -0.008408404463548453,
          0.4229192669111366,
          0.42392822741704517,
          0.07361645233572472,
          0.20743663784161917,
          -0.00846262366531262,
          0.41586687619221735,
          -0.008383111689603638,
          0.19483102515127887,
          0.07359415305142449,
          0.3921303167720466,
          -0.008363920517290676,
          0.3797443041839397,
          -0.008346246823483418,
          0.07361620351376522,
          -0.008340948166670062,
          0.0736216567048611,
          1.0741252076093948,
          0.42779961929540616,
          0.2074447336285069,
          -0.008419874383972388,
          0.20744333838466694,
          -0.008349636296533135,
          0.41287053865614337,
          0.42291101517818863,
          0.5573642380797844,
          -0.009796820702187334,
          0.07319121096068518,
          0.07356721857100457,
          0.42780115365737326,
          -0.00834135867050448,
          0.427796884036769,
          0.43287487062529295,
          0.059696825658738045,
          0.4289439607236996,
          -0.008342433763576112,
          0.07347529049129388,
          0.5573642046207419,
          -0.008398631678619135,
          0.4328659598865362,
          0.44257597722588543,
          -0.008916675349044695,
          -0.032430208198611116,
          -0.008354459640584034,
          0.2065212256190522,
          -0.008356520839562355,
          0.4289291192028405,
          0.45299045491509504,
          0.43852503394049336,
          0.3885190880635701,
          0.4267268737128704,
          0.0735963919675101,
          -0.008351283938950689,
          -0.008353153266051553,
          0.0736059089029097,
          0.07362193878794479,
          0.42779077953943506,
          0.5007260032471437,
          -0.10815190281561649,
          0.09456117478477329,
          0.07342069284844997,
          0.2074379713088692,
          -0.009778290452759943,
          -0.07186553167893041,
          -0.008347638636393291,
          -0.008359842944336754,
          -0.008368782266593875,
          -0.008369257479821115,
          0.42778831975437437,
          0.5521796144790598,
          0.07217863082416581,
          0.2682846398362868,
          0.5573590902181459,
          0.392100460520062,
          -0.008398696796722234,
          0.07349994263210581,
          0.2682811941877558,
          0.4228822441229887,
          0.26828324249631225,
          0.4076025089855925,
          0.4278007528937337,
          0.42132582509537425,
          0.0735147173064628,
          0.42864132055948406,
          -0.010786043017750423,
          0.07494879546598478,
          0.07362110210562775,
          0.26828382592078903,
          0.2680885619819758,
          -0.00836955576303992,
          0.07361877653983828,
          0.20743712136903886,
          0.12728203175596609,
          0.2672959049105454,
          0.5535161658565715,
          0.427698969515836,
          -0.014151719682323902,
          0.39207559152545896,
          0.18981896659786993,
          -0.008351594751619883,
          -0.0172976151393605,
          0.07346337925806182,
          0.42192638006613686,
          0.4276320012232315,
          -0.008345272938176386,
          0.44120551678296216,
          0.5573283266186319,
          0.41282361437716303,
          0.07359787452333014,
          0.42779482926203294,
          -0.03243133969275624,
          0.4328712107983425,
          0.48375117330286604,
          0.41287228937984444,
          0.42772228361238895,
          0.3950984498452578,
          0.3842708262265667,
          0.4505471524070812,
          0.4274187642167185,
          0.18567531892112926,
          0.45607316798152236,
          0.07362059844981943,
          -0.008344245520271406,
          0.42872765881300834,
          0.35012928171333846,
          0.08854936931350452,
          0.3256504844018145,
          0.20622850284754293,
          0.07362004068600497,
          0.18566392770108342,
          0.5544478639573189,
          0.41285927367928404,
          0.2074379726748139,
          0.4258689204353949,
          0.4266093011006118,
          0.4266139002935924,
          0.4828758549896065,
          -0.008372692152082384,
          0.5573177757068709,
          0.5573542060241555,
          0.21175371590886924,
          0.20741684885358394,
          -0.07126122625586187,
          0.20738825437871175,
          -0.021795489252564616,
          0.2660436115008231,
          0.42565569483846727,
          -0.008824070388370162,
          0.2074328791378076,
          -0.028327249830655137,
          0.17119842749783634,
          -0.008343518851456472,
          -0.008396460854063183,
          0.49250482731589657,
          0.422912013294885,
          0.42717734366018256,
          0.5573634904805077
         ]
        },
        {
         "customdata": [
          [
           "SHA-256 + Hive"
          ],
          [
           "Proof-of-Authority"
          ],
          [
           "SHA3-256"
          ],
          [
           "Leased POS"
          ]
         ],
         "hovertemplate": "<b>%{hovertext}</b><br><br>class=%{marker.color}<br>PC 1=%{x}<br>PC 2=%{y}<br>PC 3=%{z}<br>Algorithm=%{customdata[0]}<extra></extra>",
         "hovertext": [
          "LitecoinCash",
          "Poa Network",
          "Fiii",
          "Waves"
         ],
         "legendgroup": "3",
         "marker": {
          "color": [
           3,
           3,
           3,
           3
          ],
          "coloraxis": "coloraxis",
          "symbol": "square"
         },
         "mode": "markers",
         "name": "3",
         "scene": "scene",
         "showlegend": true,
         "type": "scatter3d",
         "x": [
          -0.2760642192058854,
          -0.285743961329088,
          -0.47115802032835186,
          -0.4985858919153058
         ],
         "y": [
          4.948547856247796,
          2.8676258210723864,
          1.1240200591190979,
          3.7609893262674063
         ],
         "z": [
          16.151864488000665,
          8.468212601059793,
          10.970558916590806,
          21.547233792422002
         ]
        },
        {
         "customdata": [
          [
           "TRC10"
          ]
         ],
         "hovertemplate": "<b>%{hovertext}</b><br><br>class=%{marker.color}<br>PC 1=%{x}<br>PC 2=%{y}<br>PC 3=%{z}<br>Algorithm=%{customdata[0]}<extra></extra>",
         "hovertext": [
          "BitTorrent"
         ],
         "legendgroup": "1",
         "marker": {
          "color": [
           1
          ],
          "coloraxis": "coloraxis",
          "symbol": "x"
         },
         "mode": "markers",
         "name": "1",
         "scene": "scene",
         "showlegend": true,
         "type": "scatter3d",
         "x": [
          33.806116923688336
         ],
         "y": [
          1.714047366917412
         ],
         "z": [
          -0.9968666730385766
         ]
        }
       ],
       "layout": {
        "coloraxis": {
         "colorbar": {
          "title": {
           "text": "class"
          }
         },
         "colorscale": [
          [
           0,
           "#0d0887"
          ],
          [
           0.1111111111111111,
           "#46039f"
          ],
          [
           0.2222222222222222,
           "#7201a8"
          ],
          [
           0.3333333333333333,
           "#9c179e"
          ],
          [
           0.4444444444444444,
           "#bd3786"
          ],
          [
           0.5555555555555556,
           "#d8576b"
          ],
          [
           0.6666666666666666,
           "#ed7953"
          ],
          [
           0.7777777777777778,
           "#fb9f3a"
          ],
          [
           0.8888888888888888,
           "#fdca26"
          ],
          [
           1,
           "#f0f921"
          ]
         ]
        },
        "legend": {
         "title": {
          "text": "class"
         },
         "tracegroupgap": 0,
         "x": 0,
         "y": 1
        },
        "margin": {
         "t": 60
        },
        "scene": {
         "domain": {
          "x": [
           0,
           1
          ],
          "y": [
           0,
           1
          ]
         },
         "xaxis": {
          "title": {
           "text": "PC 1"
          }
         },
         "yaxis": {
          "title": {
           "text": "PC 2"
          }
         },
         "zaxis": {
          "title": {
           "text": "PC 3"
          }
         }
        },
        "template": {
         "data": {
          "bar": [
           {
            "error_x": {
             "color": "#2a3f5f"
            },
            "error_y": {
             "color": "#2a3f5f"
            },
            "marker": {
             "line": {
              "color": "#E5ECF6",
              "width": 0.5
             }
            },
            "type": "bar"
           }
          ],
          "barpolar": [
           {
            "marker": {
             "line": {
              "color": "#E5ECF6",
              "width": 0.5
             }
            },
            "type": "barpolar"
           }
          ],
          "carpet": [
           {
            "aaxis": {
             "endlinecolor": "#2a3f5f",
             "gridcolor": "white",
             "linecolor": "white",
             "minorgridcolor": "white",
             "startlinecolor": "#2a3f5f"
            },
            "baxis": {
             "endlinecolor": "#2a3f5f",
             "gridcolor": "white",
             "linecolor": "white",
             "minorgridcolor": "white",
             "startlinecolor": "#2a3f5f"
            },
            "type": "carpet"
           }
          ],
          "choropleth": [
           {
            "colorbar": {
             "outlinewidth": 0,
             "ticks": ""
            },
            "type": "choropleth"
           }
          ],
          "contour": [
           {
            "colorbar": {
             "outlinewidth": 0,
             "ticks": ""
            },
            "colorscale": [
             [
              0,
              "#0d0887"
             ],
             [
              0.1111111111111111,
              "#46039f"
             ],
             [
              0.2222222222222222,
              "#7201a8"
             ],
             [
              0.3333333333333333,
              "#9c179e"
             ],
             [
              0.4444444444444444,
              "#bd3786"
             ],
             [
              0.5555555555555556,
              "#d8576b"
             ],
             [
              0.6666666666666666,
              "#ed7953"
             ],
             [
              0.7777777777777778,
              "#fb9f3a"
             ],
             [
              0.8888888888888888,
              "#fdca26"
             ],
             [
              1,
              "#f0f921"
             ]
            ],
            "type": "contour"
           }
          ],
          "contourcarpet": [
           {
            "colorbar": {
             "outlinewidth": 0,
             "ticks": ""
            },
            "type": "contourcarpet"
           }
          ],
          "heatmap": [
           {
            "colorbar": {
             "outlinewidth": 0,
             "ticks": ""
            },
            "colorscale": [
             [
              0,
              "#0d0887"
             ],
             [
              0.1111111111111111,
              "#46039f"
             ],
             [
              0.2222222222222222,
              "#7201a8"
             ],
             [
              0.3333333333333333,
              "#9c179e"
             ],
             [
              0.4444444444444444,
              "#bd3786"
             ],
             [
              0.5555555555555556,
              "#d8576b"
             ],
             [
              0.6666666666666666,
              "#ed7953"
             ],
             [
              0.7777777777777778,
              "#fb9f3a"
             ],
             [
              0.8888888888888888,
              "#fdca26"
             ],
             [
              1,
              "#f0f921"
             ]
            ],
            "type": "heatmap"
           }
          ],
          "heatmapgl": [
           {
            "colorbar": {
             "outlinewidth": 0,
             "ticks": ""
            },
            "colorscale": [
             [
              0,
              "#0d0887"
             ],
             [
              0.1111111111111111,
              "#46039f"
             ],
             [
              0.2222222222222222,
              "#7201a8"
             ],
             [
              0.3333333333333333,
              "#9c179e"
             ],
             [
              0.4444444444444444,
              "#bd3786"
             ],
             [
              0.5555555555555556,
              "#d8576b"
             ],
             [
              0.6666666666666666,
              "#ed7953"
             ],
             [
              0.7777777777777778,
              "#fb9f3a"
             ],
             [
              0.8888888888888888,
              "#fdca26"
             ],
             [
              1,
              "#f0f921"
             ]
            ],
            "type": "heatmapgl"
           }
          ],
          "histogram": [
           {
            "marker": {
             "colorbar": {
              "outlinewidth": 0,
              "ticks": ""
             }
            },
            "type": "histogram"
           }
          ],
          "histogram2d": [
           {
            "colorbar": {
             "outlinewidth": 0,
             "ticks": ""
            },
            "colorscale": [
             [
              0,
              "#0d0887"
             ],
             [
              0.1111111111111111,
              "#46039f"
             ],
             [
              0.2222222222222222,
              "#7201a8"
             ],
             [
              0.3333333333333333,
              "#9c179e"
             ],
             [
              0.4444444444444444,
              "#bd3786"
             ],
             [
              0.5555555555555556,
              "#d8576b"
             ],
             [
              0.6666666666666666,
              "#ed7953"
             ],
             [
              0.7777777777777778,
              "#fb9f3a"
             ],
             [
              0.8888888888888888,
              "#fdca26"
             ],
             [
              1,
              "#f0f921"
             ]
            ],
            "type": "histogram2d"
           }
          ],
          "histogram2dcontour": [
           {
            "colorbar": {
             "outlinewidth": 0,
             "ticks": ""
            },
            "colorscale": [
             [
              0,
              "#0d0887"
             ],
             [
              0.1111111111111111,
              "#46039f"
             ],
             [
              0.2222222222222222,
              "#7201a8"
             ],
             [
              0.3333333333333333,
              "#9c179e"
             ],
             [
              0.4444444444444444,
              "#bd3786"
             ],
             [
              0.5555555555555556,
              "#d8576b"
             ],
             [
              0.6666666666666666,
              "#ed7953"
             ],
             [
              0.7777777777777778,
              "#fb9f3a"
             ],
             [
              0.8888888888888888,
              "#fdca26"
             ],
             [
              1,
              "#f0f921"
             ]
            ],
            "type": "histogram2dcontour"
           }
          ],
          "mesh3d": [
           {
            "colorbar": {
             "outlinewidth": 0,
             "ticks": ""
            },
            "type": "mesh3d"
           }
          ],
          "parcoords": [
           {
            "line": {
             "colorbar": {
              "outlinewidth": 0,
              "ticks": ""
             }
            },
            "type": "parcoords"
           }
          ],
          "pie": [
           {
            "automargin": true,
            "type": "pie"
           }
          ],
          "scatter": [
           {
            "marker": {
             "colorbar": {
              "outlinewidth": 0,
              "ticks": ""
             }
            },
            "type": "scatter"
           }
          ],
          "scatter3d": [
           {
            "line": {
             "colorbar": {
              "outlinewidth": 0,
              "ticks": ""
             }
            },
            "marker": {
             "colorbar": {
              "outlinewidth": 0,
              "ticks": ""
             }
            },
            "type": "scatter3d"
           }
          ],
          "scattercarpet": [
           {
            "marker": {
             "colorbar": {
              "outlinewidth": 0,
              "ticks": ""
             }
            },
            "type": "scattercarpet"
           }
          ],
          "scattergeo": [
           {
            "marker": {
             "colorbar": {
              "outlinewidth": 0,
              "ticks": ""
             }
            },
            "type": "scattergeo"
           }
          ],
          "scattergl": [
           {
            "marker": {
             "colorbar": {
              "outlinewidth": 0,
              "ticks": ""
             }
            },
            "type": "scattergl"
           }
          ],
          "scattermapbox": [
           {
            "marker": {
             "colorbar": {
              "outlinewidth": 0,
              "ticks": ""
             }
            },
            "type": "scattermapbox"
           }
          ],
          "scatterpolar": [
           {
            "marker": {
             "colorbar": {
              "outlinewidth": 0,
              "ticks": ""
             }
            },
            "type": "scatterpolar"
           }
          ],
          "scatterpolargl": [
           {
            "marker": {
             "colorbar": {
              "outlinewidth": 0,
              "ticks": ""
             }
            },
            "type": "scatterpolargl"
           }
          ],
          "scatterternary": [
           {
            "marker": {
             "colorbar": {
              "outlinewidth": 0,
              "ticks": ""
             }
            },
            "type": "scatterternary"
           }
          ],
          "surface": [
           {
            "colorbar": {
             "outlinewidth": 0,
             "ticks": ""
            },
            "colorscale": [
             [
              0,
              "#0d0887"
             ],
             [
              0.1111111111111111,
              "#46039f"
             ],
             [
              0.2222222222222222,
              "#7201a8"
             ],
             [
              0.3333333333333333,
              "#9c179e"
             ],
             [
              0.4444444444444444,
              "#bd3786"
             ],
             [
              0.5555555555555556,
              "#d8576b"
             ],
             [
              0.6666666666666666,
              "#ed7953"
             ],
             [
              0.7777777777777778,
              "#fb9f3a"
             ],
             [
              0.8888888888888888,
              "#fdca26"
             ],
             [
              1,
              "#f0f921"
             ]
            ],
            "type": "surface"
           }
          ],
          "table": [
           {
            "cells": {
             "fill": {
              "color": "#EBF0F8"
             },
             "line": {
              "color": "white"
             }
            },
            "header": {
             "fill": {
              "color": "#C8D4E3"
             },
             "line": {
              "color": "white"
             }
            },
            "type": "table"
           }
          ]
         },
         "layout": {
          "annotationdefaults": {
           "arrowcolor": "#2a3f5f",
           "arrowhead": 0,
           "arrowwidth": 1
          },
          "coloraxis": {
           "colorbar": {
            "outlinewidth": 0,
            "ticks": ""
           }
          },
          "colorscale": {
           "diverging": [
            [
             0,
             "#8e0152"
            ],
            [
             0.1,
             "#c51b7d"
            ],
            [
             0.2,
             "#de77ae"
            ],
            [
             0.3,
             "#f1b6da"
            ],
            [
             0.4,
             "#fde0ef"
            ],
            [
             0.5,
             "#f7f7f7"
            ],
            [
             0.6,
             "#e6f5d0"
            ],
            [
             0.7,
             "#b8e186"
            ],
            [
             0.8,
             "#7fbc41"
            ],
            [
             0.9,
             "#4d9221"
            ],
            [
             1,
             "#276419"
            ]
           ],
           "sequential": [
            [
             0,
             "#0d0887"
            ],
            [
             0.1111111111111111,
             "#46039f"
            ],
            [
             0.2222222222222222,
             "#7201a8"
            ],
            [
             0.3333333333333333,
             "#9c179e"
            ],
            [
             0.4444444444444444,
             "#bd3786"
            ],
            [
             0.5555555555555556,
             "#d8576b"
            ],
            [
             0.6666666666666666,
             "#ed7953"
            ],
            [
             0.7777777777777778,
             "#fb9f3a"
            ],
            [
             0.8888888888888888,
             "#fdca26"
            ],
            [
             1,
             "#f0f921"
            ]
           ],
           "sequentialminus": [
            [
             0,
             "#0d0887"
            ],
            [
             0.1111111111111111,
             "#46039f"
            ],
            [
             0.2222222222222222,
             "#7201a8"
            ],
            [
             0.3333333333333333,
             "#9c179e"
            ],
            [
             0.4444444444444444,
             "#bd3786"
            ],
            [
             0.5555555555555556,
             "#d8576b"
            ],
            [
             0.6666666666666666,
             "#ed7953"
            ],
            [
             0.7777777777777778,
             "#fb9f3a"
            ],
            [
             0.8888888888888888,
             "#fdca26"
            ],
            [
             1,
             "#f0f921"
            ]
           ]
          },
          "colorway": [
           "#636efa",
           "#EF553B",
           "#00cc96",
           "#ab63fa",
           "#FFA15A",
           "#19d3f3",
           "#FF6692",
           "#B6E880",
           "#FF97FF",
           "#FECB52"
          ],
          "font": {
           "color": "#2a3f5f"
          },
          "geo": {
           "bgcolor": "white",
           "lakecolor": "white",
           "landcolor": "#E5ECF6",
           "showlakes": true,
           "showland": true,
           "subunitcolor": "white"
          },
          "hoverlabel": {
           "align": "left"
          },
          "hovermode": "closest",
          "mapbox": {
           "style": "light"
          },
          "paper_bgcolor": "white",
          "plot_bgcolor": "#E5ECF6",
          "polar": {
           "angularaxis": {
            "gridcolor": "white",
            "linecolor": "white",
            "ticks": ""
           },
           "bgcolor": "#E5ECF6",
           "radialaxis": {
            "gridcolor": "white",
            "linecolor": "white",
            "ticks": ""
           }
          },
          "scene": {
           "xaxis": {
            "backgroundcolor": "#E5ECF6",
            "gridcolor": "white",
            "gridwidth": 2,
            "linecolor": "white",
            "showbackground": true,
            "ticks": "",
            "zerolinecolor": "white"
           },
           "yaxis": {
            "backgroundcolor": "#E5ECF6",
            "gridcolor": "white",
            "gridwidth": 2,
            "linecolor": "white",
            "showbackground": true,
            "ticks": "",
            "zerolinecolor": "white"
           },
           "zaxis": {
            "backgroundcolor": "#E5ECF6",
            "gridcolor": "white",
            "gridwidth": 2,
            "linecolor": "white",
            "showbackground": true,
            "ticks": "",
            "zerolinecolor": "white"
           }
          },
          "shapedefaults": {
           "line": {
            "color": "#2a3f5f"
           }
          },
          "ternary": {
           "aaxis": {
            "gridcolor": "white",
            "linecolor": "white",
            "ticks": ""
           },
           "baxis": {
            "gridcolor": "white",
            "linecolor": "white",
            "ticks": ""
           },
           "bgcolor": "#E5ECF6",
           "caxis": {
            "gridcolor": "white",
            "linecolor": "white",
            "ticks": ""
           }
          },
          "title": {
           "x": 0.05
          },
          "xaxis": {
           "automargin": true,
           "gridcolor": "white",
           "linecolor": "white",
           "ticks": "",
           "title": {
            "standoff": 15
           },
           "zerolinecolor": "white",
           "zerolinewidth": 2
          },
          "yaxis": {
           "automargin": true,
           "gridcolor": "white",
           "linecolor": "white",
           "ticks": "",
           "title": {
            "standoff": 15
           },
           "zerolinecolor": "white",
           "zerolinewidth": 2
          }
         }
        },
        "width": 600
       }
      },
      "text/html": [
       "<div>\n",
       "        \n",
       "        \n",
       "            <div id=\"b04571f5-15a5-4fb6-a226-b41e5bfc8b14\" class=\"plotly-graph-div\" style=\"height:525px; width:600px;\"></div>\n",
       "            <script type=\"text/javascript\">\n",
       "                require([\"plotly\"], function(Plotly) {\n",
       "                    window.PLOTLYENV=window.PLOTLYENV || {};\n",
       "                    \n",
       "                if (document.getElementById(\"b04571f5-15a5-4fb6-a226-b41e5bfc8b14\")) {\n",
       "                    Plotly.newPlot(\n",
       "                        'b04571f5-15a5-4fb6-a226-b41e5bfc8b14',\n",
       "                        [{\"customdata\": [[\"Scrypt\"], [\"Scrypt\"], [\"X13\"], [\"X11\"], [\"SHA-512\"], [\"SHA-256\"], [\"SHA-256\"], [\"X15\"], [\"Scrypt\"], [\"Scrypt\"], [\"Scrypt\"], [\"Scrypt\"], [\"Scrypt\"], [\"Scrypt\"], [\"Groestl\"], [\"PoS\"], [\"Scrypt\"], [\"Scrypt\"], [\"X11\"], [\"X11\"], [\"SHA3\"], [\"Scrypt\"], [\"SHA-256\"], [\"Scrypt\"], [\"X13\"], [\"X13\"], [\"NeoScrypt\"], [\"Scrypt\"], [\"Scrypt\"], [\"Scrypt\"], [\"X11\"], [\"X11\"], [\"PHI1612\"], [\"X11\"], [\"Scrypt\"], [\"Scrypt\"], [\"Scrypt\"], [\"X11\"], [\"X13\"], [\"Scrypt\"], [\"Shabal256\"], [\"Counterparty\"], [\"SHA-256\"], [\"Groestl\"], [\"Scrypt\"], [\"X13\"], [\"Scrypt\"], [\"Scrypt\"], [\"X13\"], [\"X11\"], [\"Scrypt\"], [\"X11\"], [\"SHA3\"], [\"QUAIT\"], [\"X11\"], [\"Scrypt\"], [\"X13\"], [\"SHA-256\"], [\"X15\"], [\"BLAKE256\"], [\"SHA-256\"], [\"X11\"], [\"SHA-256\"], [\"NIST5\"], [\"Scrypt\"], [\"Scrypt\"], [\"X11\"], [\"Scrypt\"], [\"SHA-256\"], [\"Scrypt\"], [\"PoS\"], [\"X11\"], [\"SHA-256\"], [\"SHA-256\"], [\"NIST5\"], [\"X11\"], [\"POS 3.0\"], [\"Scrypt\"], [\"Scrypt\"], [\"Scrypt\"], [\"X13\"], [\"X11\"], [\"X11\"], [\"Scrypt\"], [\"SHA-256\"], [\"X11\"], [\"Scrypt\"], [\"Scrypt\"], [\"Scrypt\"], [\"Scrypt\"], [\"SHA-256D\"], [\"PoS\"], [\"Scrypt\"], [\"X11\"], [\"PoS\"], [\"X13\"], [\"X14\"], [\"PoS\"], [\"SHA-256D\"], [\"DPoS\"], [\"X11\"], [\"X13\"], [\"X11\"], [\"PoS\"], [\"Scrypt\"], [\"Scrypt\"], [\"PoS\"], [\"X11\"], [\"SHA-256\"], [\"Scrypt\"], [\"X11\"], [\"Scrypt\"], [\"Scrypt\"], [\"X11\"], [\"Scrypt\"], [\"Scrypt\"], [\"Scrypt\"], [\"Scrypt\"], [\"Quark\"], [\"QuBit\"], [\"Scrypt\"], [\"SHA-256\"], [\"X11\"], [\"Scrypt\"], [\"Scrypt\"], [\"Scrypt\"], [\"Scrypt\"], [\"X13\"], [\"Scrypt\"], [\"Scrypt\"], [\"X11\"], [\"Blake2S\"], [\"X11\"], [\"PoS\"], [\"X11\"], [\"PoS\"], [\"X11\"], [\"Scrypt\"], [\"Scrypt\"], [\"Scrypt\"], [\"SHA-256\"], [\"X11\"], [\"Scrypt\"], [\"PoS\"], [\"Scrypt\"], [\"X15\"], [\"SHA-256\"], [\"POS 3.0\"], [\"536\"], [\"NIST5\"], [\"NIST5\"], [\"Skein\"], [\"X13\"], [\"Scrypt\"], [\"X13\"], [\"SkunkHash v2 Raptor\"], [\"Skein\"], [\"X11\"], [\"Scrypt\"], [\"VeChainThor Authority\"], [\"PoS\"], [\"Scrypt\"], [\"Scrypt\"], [\"SHA-512\"], [\"Ouroboros\"], [\"X11\"], [\"NeoScrypt\"], [\"Scrypt\"], [\"Lyra2REv2\"], [\"Scrypt\"], [\"SHA-256\"], [\"NIST5\"], [\"PHI1612\"], [\"Scrypt\"], [\"Quark\"], [\"POS 2.0\"], [\"Scrypt\"], [\"SHA-256\"], [\"X11\"], [\"DPoS\"], [\"NIST5\"], [\"X13\"], [\"Scrypt\"], [\"NIST5\"], [\"Quark\"], [\"Scrypt\"], [\"Scrypt\"], [\"X11\"], [\"Quark\"], [\"Scrypt\"], [\"Scrypt\"], [\"X11\"], [\"POS 3.0\"], [\"Ethash\"], [\"Scrypt\"], [\"Scrypt\"], [\"X13\"], [\"Proof-of-BibleHash\"], [\"C11\"], [\"X11\"], [\"XEVAN\"], [\"Scrypt\"], [\"VBFT\"], [\"NIST5\"], [\"Scrypt\"], [\"Scrypt\"], [\"Scrypt\"], [\"Green Protocol\"], [\"PoS\"], [\"Scrypt\"], [\"Semux BFT consensus\"], [\"Quark\"], [\"PoS\"], [\"X16R\"], [\"Scrypt\"], [\"XEVAN\"], [\"Scrypt\"], [\"Scrypt\"], [\"Scrypt\"], [\"SHA-256D\"], [\"Scrypt\"], [\"X15\"], [\"Scrypt\"], [\"Quark\"], [\"SHA-256\"], [\"DPoS\"], [\"X16R\"], [\"Quark\"], [\"Quark\"], [\"Scrypt\"], [\"Lyra2REv2\"], [\"Quark\"], [\"Scrypt\"], [\"X11\"], [\"X11\"], [\"Scrypt\"], [\"PoS\"], [\"Keccak\"], [\"X11\"], [\"Scrypt\"], [\"SHA-512\"], [\"ECC 256K1\"], [\"XEVAN\"], [\"XEVAN\"], [\"X11\"], [\"Quark\"], [\"Equihash\"], [\"Scrypt\"], [\"Quark\"], [\"Quark\"], [\"Scrypt\"], [\"X11\"], [\"Scrypt\"], [\"XEVAN\"], [\"SHA-256D\"], [\"X11\"], [\"X11\"], [\"DPoS\"], [\"Scrypt\"], [\"X11\"], [\"Scrypt\"], [\"Scrypt\"], [\"SHA-256\"], [\"Scrypt\"], [\"X11\"], [\"Scrypt\"], [\"SHA-256\"], [\"X11\"], [\"Scrypt\"], [\"Scrypt\"], [\"X11\"], [\"Scrypt\"], [\"PoS\"], [\"X11\"], [\"SHA-256\"], [\"DPoS\"], [\"Scrypt\"], [\"Scrypt\"], [\"NeoScrypt\"], [\"X13\"], [\"DPoS\"], [\"DPoS\"], [\"SHA-256\"], [\"PoS\"], [\"PoS\"], [\"SHA-256\"], [\"Scrypt\"], [\"Scrypt\"]], \"hovertemplate\": \"<b>%{hovertext}</b><br><br>class=%{marker.color}<br>PC 1=%{x}<br>PC 2=%{y}<br>PC 3=%{z}<br>Algorithm=%{customdata[0]}<extra></extra>\", \"hovertext\": [\"42 Coin\", \"404Coin\", \"EliteCoin\", \"Dash\", \"Bitshares\", \"BitcoinDark\", \"PayCoin\", \"KoboCoin\", \"Aurora Coin\", \"BlueCoin\", \"EnergyCoin\", \"BitBar\", \"CryptoBullion\", \"CasinoCoin\", \"Diamond\", \"Exclusive Coin\", \"FlutterCoin\", \"HoboNickels\", \"HyperStake\", \"IOCoin\", \"MaxCoin\", \"MintCoin\", \"MazaCoin\", \"Nautilus Coin\", \"NavCoin\", \"OpalCoin\", \"Orbitcoin\", \"PotCoin\", \"PhoenixCoin\", \"Reddcoin\", \"SuperCoin\", \"SyncCoin\", \"TittieCoin\", \"TorCoin\", \"UnitaryStatus Dollar\", \"UltraCoin\", \"VeriCoin\", \"X11 Coin\", \"StealthCoin\", \"ZCC Coin\", \"BurstCoin\", \"StorjCoin\", \"Neutron\", \"FairCoin\", \"RubyCoin\", \"Kore\", \"Dnotes\", \"8BIT Coin\", \"Sativa Coin\", \"Ucoin\", \"Vtorrent\", \"IslaCoin\", \"Nexus\", \"Droidz\", \"Squall Coin\", \"Diggits\", \"Paycon\", \"Emercoin\", \"EverGreenCoin\", \"Decred\", \"EDRCoin\", \"Hitcoin\", \"DubaiCoin\", \"PWR Coin\", \"BillaryCoin\", \"GPU Coin\", \"EuropeCoin\", \"ZeitCoin\", \"SwingCoin\", \"SafeExchangeCoin\", \"Nebuchadnezzar\", \"Ratecoin\", \"Revenu\", \"Clockcoin\", \"VIP Tokens\", \"BitSend\", \"Let it Ride\", \"PutinCoin\", \"iBankCoin\", \"Frankywillcoin\", \"MudraCoin\", \"Lutetium Coin\", \"GoldBlocks\", \"CarterCoin\", \"BitTokens\", \"MustangCoin\", \"ZoneCoin\", \"RootCoin\", \"BitCurrency\", \"Swiscoin\", \"BuzzCoin\", \"Opair\", \"PesoBit\", \"Halloween Coin\", \"CoffeeCoin\", \"RoyalCoin\", \"GanjaCoin V2\", \"TeamUP\", \"LanaCoin\", \"ARK\", \"InsaneCoin\", \"EmberCoin\", \"XenixCoin\", \"FreeCoin\", \"PLNCoin\", \"AquariusCoin\", \"Creatio\", \"Eternity\", \"Eurocoin\", \"BitcoinFast\", \"Stakenet\", \"BitConnect Coin\", \"MoneyCoin\", \"Enigma\", \"Russiacoin\", \"PandaCoin\", \"GameUnits\", \"GAKHcoin\", \"Allsafe\", \"LiteCreed\", \"Klingon Empire Darsek\", \"Internet of People\", \"KushCoin\", \"Printerium\", \"Impeach\", \"Zilbercoin\", \"FirstCoin\", \"FindCoin\", \"OpenChat\", \"RenosCoin\", \"VirtacoinPlus\", \"TajCoin\", \"Impact\", \"Atmos\", \"HappyCoin\", \"MacronCoin\", \"Condensate\", \"Independent Money System\", \"ArgusCoin\", \"LomoCoin\", \"ProCurrency\", \"GoldReserve\", \"GrowthCoin\", \"Phreak\", \"Degas Coin\", \"HTML5 Coin\", \"Ultimate Secure Cash\", \"QTUM\", \"Espers\", \"Denarius\", \"Virta Unique Coin\", \"Bitcoin Planet\", \"BritCoin\", \"Linda\", \"DeepOnion\", \"Signatum\", \"Cream\", \"Monoeci\", \"Draftcoin\", \"Vechain\", \"Stakecoin\", \"CoinonatX\", \"Ethereum Dark\", \"Obsidian\", \"Cardano\", \"Regalcoin\", \"TrezarCoin\", \"TerraNovaCoin\", \"Rupee\", \"WomenCoin\", \"Theresa May Coin\", \"NamoCoin\", \"LUXCoin\", \"Xios\", \"Bitcloud 2.0\", \"KekCoin\", \"BlackholeCoin\", \"Infinity Economics\", \"Magnet\", \"Lamden Tau\", \"Electra\", \"Bitcoin Diamond\", \"Cash & Back Coin\", \"Bulwark\", \"Kalkulus\", \"GermanCoin\", \"LiteCoin Ultra\", \"PhantomX\", \"Digiwage\", \"Trollcoin\", \"Litecoin Plus\", \"Monkey Project\", \"TokenPay\", \"1717 Masonic Commemorative Token\", \"My Big Coin\", \"Unified Society USDEX\", \"Tokyo Coin\", \"BiblePay\", \"Stipend\", \"Pushi\", \"Ellerium\", \"Velox\", \"Ontology\", \"Bitspace\", \"Briacoin\", \"Ignition\", \"MedicCoin\", \"Bitcoin Green\", \"Deviant Coin\", \"Abjcoin\", \"Semux\", \"Carebit\", \"Zealium\", \"Proton\", \"iDealCash\", \"Bitcoin Incognito\", \"HollyWoodCoin\", \"Swisscoin\", \"Xt3ch\", \"TheVig\", \"EmaratCoin\", \"Dekado\", \"Lynx\", \"Poseidon Quark\", \"BitcoinWSpectrum\", \"Muse\", \"Trivechain\", \"Dystem\", \"Giant\", \"Peony Coin\", \"Absolute Coin\", \"Vitae\", \"TPCash\", \"ARENON\", \"EUNO\", \"MMOCoin\", \"Ketan\", \"XDNA\", \"PAXEX\", \"ThunderStake\", \"Kcash\", \"Acute Angle Cloud\", \"Bettex coin\", \"BitMoney\", \"Junson Ming Chan Coin\", \"HerbCoin\", \"PirateCash\", \"Oduwa\", \"Galilel\", \"Crypto Sports\", \"Credit\", \"Dash Platinum\", \"Nasdacoin\", \"Beetle Coin\", \"Titan Coin\", \"Award\", \"Insane Coin\", \"ALAX\", \"LiteDoge\", \"TruckCoin\", \"OrangeCoin\", \"BitstarCoin\", \"NeosCoin\", \"HyperCoin\", \"PinkCoin\", \"AudioCoin\", \"IncaKoin\", \"Piggy Coin\", \"Genstake\", \"XiaoMiCoin\", \"CapriCoin\", \" ClubCoin\", \"Radium\", \"Creditbit \", \"OKCash\", \"Lisk\", \"HiCoin\", \"WhiteCoin\", \"FriendshipCoin\", \"Triangles Coin\", \"EOS\", \"Oxycoin\", \"TigerCash\", \"Particl\", \"Nxt\", \"ZEPHYR\", \"Gapcoin\", \"BitcoinPlus\"], \"legendgroup\": \"0\", \"marker\": {\"color\": [0, 0, 0, 0, 0, 0, 0, 0, 0, 0, 0, 0, 0, 0, 0, 0, 0, 0, 0, 0, 0, 0, 0, 0, 0, 0, 0, 0, 0, 0, 0, 0, 0, 0, 0, 0, 0, 0, 0, 0, 0, 0, 0, 0, 0, 0, 0, 0, 0, 0, 0, 0, 0, 0, 0, 0, 0, 0, 0, 0, 0, 0, 0, 0, 0, 0, 0, 0, 0, 0, 0, 0, 0, 0, 0, 0, 0, 0, 0, 0, 0, 0, 0, 0, 0, 0, 0, 0, 0, 0, 0, 0, 0, 0, 0, 0, 0, 0, 0, 0, 0, 0, 0, 0, 0, 0, 0, 0, 0, 0, 0, 0, 0, 0, 0, 0, 0, 0, 0, 0, 0, 0, 0, 0, 0, 0, 0, 0, 0, 0, 0, 0, 0, 0, 0, 0, 0, 0, 0, 0, 0, 0, 0, 0, 0, 0, 0, 0, 0, 0, 0, 0, 0, 0, 0, 0, 0, 0, 0, 0, 0, 0, 0, 0, 0, 0, 0, 0, 0, 0, 0, 0, 0, 0, 0, 0, 0, 0, 0, 0, 0, 0, 0, 0, 0, 0, 0, 0, 0, 0, 0, 0, 0, 0, 0, 0, 0, 0, 0, 0, 0, 0, 0, 0, 0, 0, 0, 0, 0, 0, 0, 0, 0, 0, 0, 0, 0, 0, 0, 0, 0, 0, 0, 0, 0, 0, 0, 0, 0, 0, 0, 0, 0, 0, 0, 0, 0, 0, 0, 0, 0, 0, 0, 0, 0, 0, 0, 0, 0, 0, 0, 0, 0, 0, 0, 0, 0, 0, 0, 0, 0, 0, 0, 0, 0, 0, 0, 0, 0, 0, 0, 0, 0, 0, 0, 0, 0, 0, 0, 0, 0, 0, 0, 0, 0, 0, 0, 0], \"coloraxis\": \"coloraxis\", \"symbol\": \"circle\"}, \"mode\": \"markers\", \"name\": \"0\", \"scene\": \"scene\", \"showlegend\": true, \"type\": \"scatter3d\", \"x\": [-0.3372846494920619, -0.3207478804501668, 2.296893077336133, -0.38167578615611886, -0.4889376487519103, -0.31231713736131683, -0.2714825712342063, -0.2412200001933106, -0.3369467648232675, -0.3295813690491378, -0.3357927527333177, -0.3372806146472303, -0.3372650141124198, 0.4531487157951362, -0.3636086778290107, -0.34648216704614165, -0.2872851170343188, -0.33535779254668824, -0.3208196909313323, -0.3815712900016351, -0.38185231816105775, -0.03836550128386731, -0.2758944520323185, -0.29620296901216936, -0.2686014351568569, -0.2692188714097291, -0.3345537066642645, -0.331628778059952, -0.33569822426609086, 0.018109691716449994, -0.34055375658309117, -0.38194010783019633, -0.3174942312109587, -0.3818523816015455, -0.3126997238675651, -0.3359717546560889, -0.29917298421341165, -0.38181714978698733, -0.2690014157281686, -0.32845164368672014, -0.5348571317379097, -0.3128647344317622, -0.3115346977534388, -0.3630346968273014, -0.29618345052950124, -0.2692936274966303, -0.2908763084762435, -0.33726685557423647, -0.2692461884464707, -0.3409951015495813, -0.337003187325379, -0.3819217784154818, -0.34533463354686345, -0.43711510302273093, -0.2627294302277255, -0.2945968126046518, -0.2687713204498835, -0.3049266896941657, -0.2436441321004144, -0.06995371926099066, -0.3122882744213192, -0.061747998525652624, -0.31235153046421155, -0.22770236319515727, -0.3368799236890244, -0.29446633406306555, -0.3791110188850794, 0.8485437699501309, -0.31215299827287996, -0.2721800713352796, -0.3461677830237387, -0.37978099326621123, -0.3109053832266367, -0.30859018509597846, -0.34812970878358585, -0.3806660665169444, -0.3470901686468332, -0.3133496596045501, -0.33691771896380257, -0.33536845319889286, -0.22716257456336714, -0.32857907361005184, -0.3813995017784543, -0.33612785030201164, -0.3123325828025557, -0.38191103983712177, -0.337105531765367, -0.3372611329086168, -0.29445695572310765, -0.27299501581418106, 0.034503292690438656, -0.345132626749075, -0.3368782495208973, -0.3681730482487548, -0.3444665639785903, -0.2285830650066196, -0.4126950348761403, -0.344216292921149, -0.27766442041702655, 3.681397527575177, -0.3815065907709945, 0.8542394653651142, -0.3818662918020712, -0.3455929238943481, -0.3368061923939347, -0.3369593196108563, -0.3461677830237387, -0.3814442137144001, -0.3121963135223859, -0.3368069467048847, -0.36611572794076314, -0.3369532285054463, -0.3325723966870666, -0.3818950582722531, -0.3361694814842706, 0.34227536552508275, -0.3371510412605821, -0.3372211132442689, -0.34607234655476604, -0.3398104278675031, -0.33347466055196695, -0.3123091774256117, -0.3818056815879326, -0.33700055654889965, -0.3371265274180605, -0.29609043850729994, -0.28978167203606836, -0.2283526475275575, -0.31812267931717225, -0.29583364443994675, -0.38107666513134003, -0.40890447380064476, -0.37982467010125925, -0.3444273943225477, -0.3809753336610192, -0.33886900232367795, -0.37694571559120815, -0.3370702521360536, -0.33706941620677733, -0.33023967650141417, 0.2574213641402168, -0.38145040297512567, -0.2788572405832689, -0.34620177069710245, -0.3362866309589004, 0.8824205175004854, -0.270182212490818, -0.34587760162598047, 0.6036388755431167, -0.34965392599121264, -0.3481671650800648, -0.4273983823564078, -0.2689336112083694, 0.1243131918930515, -0.2690038889230988, -0.33174164459104505, -0.42690706581598825, -0.38172083038378, -0.29616423491202043, 4.3591792466013395, -0.3460689334592488, -0.33670812912963477, -0.3372041700187471, -0.5465716074599793, 0.6339852030561695, -0.3816620359803995, -0.3295895861307606, -0.3371600755498484, -0.30189179545212735, 0.42616518614527205, -0.3106677899012276, -0.3345324494747235, -0.3935999031759175, -0.33711077234543385, -0.3852969780259798, -0.3386712492433894, -0.3369821928259524, -0.09925823909065404, -0.3804634419636796, 3.6862179183222588, 0.205677048347841, -0.2656994475688331, -0.33446109830939735, -0.30864755675709943, -0.3459591038364469, 0.07420336914559117, -0.33612674454827723, -0.3810405338746739, -0.34512981271977733, -0.32378462578230344, -0.33722613261421136, -0.3409672420113584, -0.3473699595374651, -0.28215272143079595, -0.3259732612047922, -0.332804567582382, -0.220207915107827, -0.07411229587666317, -0.3606762093187669, -0.38173787563608225, -0.22023191764053024, -0.2953301978110848, -0.33926318114492093, -0.34925578843828475, -0.33725328184320025, -0.3372351244192423, -0.2897530881456304, -0.3358725875874183, -0.34566638701704405, -0.336953701018506, 3.8794186643600312, -0.383975224623168, -0.3458536435064079, -0.31861050865243223, -0.2842090008552966, -0.10117260861202243, -0.2958607530599234, -0.14183254630402842, -0.29611079862474127, -0.3425107773751682, -0.33643153160348177, -0.20222099335620577, 2.2298845973546517, -0.3416972154027442, -0.2703093947626038, 1.0016734243553616, -0.3587236286435744, -0.3460717604005741, -0.38696905865035525, -0.17768353827286906, -0.34259214834580204, -0.3448007715518853, -0.33018022741583636, -0.34054774296868795, -0.38121514335775253, -0.2933764648154667, -0.34495977750347234, -0.31791157709631623, -0.3404099873140181, -0.19773434395640294, -0.907955246143185, -0.12503155463993998, -0.17945346495748735, 0.7901908476371228, -0.1325315727286481, -0.38626888544600596, -0.25509535009455275, -0.33695768404032633, -0.3867216578788218, -0.3461878730562105, 0.562927879425457, -0.34102114599062694, -0.3364442948987082, -0.21472814033900747, -0.2975564166558718, -0.3787968455774977, -0.38144072440702537, 3.69836789430434, 0.0947890465264452, -0.37899938901792146, -0.33583398676651477, -0.33665329572976394, -0.27151491302443403, -0.337167890693863, -0.3731307323953155, -0.2514865934717509, -0.09366588501991095, -0.36890950825894536, -0.33645168309005435, -0.32956753301851244, -0.37803488382237405, -0.3349022102455008, -0.34644134704645435, -0.34245362095504045, -0.31084323027305527, 3.6817864891315493, -0.10482814040401982, -0.3321178983661743, -0.3341821862966885, -0.26940006157795277, 3.6915780444976964, 3.6928126296450476, -0.2525540068069398, -0.3463777074677431, -0.3329778982401913, 2.4444883176085934, -0.3353439122811507, -0.29650441507464337], \"y\": [0.9697490962272032, 0.9699035114656211, 1.647837888479271, 1.16211374363228, 1.8315372654306632, 0.8096803364473868, 0.6806810506718354, 1.8230336052036504, 0.969747879075369, 0.9700047203621107, 0.9697986030593261, 0.969748859531765, 0.969749006598719, 0.3497101299324142, 0.9035652883906424, 1.6396231131764325, 0.3873950887633269, 0.9697240883596399, 1.0337881136892966, 1.1621172112115845, 1.8417226693836204, 0.8493069954329922, 0.809112088333702, 0.8407389757328201, 1.7955712216248856, 1.7955507327448628, 0.4819807623789279, 0.9696254603970195, 0.9697290987361297, 0.981542430362206, 1.0331332624368326, 1.1621212788879198, 1.6334660640129253, 1.1621167783577298, 0.9693789397259586, 0.969718539486684, 0.23101255905568757, 1.1621212830455576, 1.795557948750319, 0.9693009728509947, 0.6705498686362488, 1.6041202633836826, 0.8096722039053247, 0.9035875818744515, 0.8407516166301396, 1.7955393572208846, 0.8405571097163226, 0.9697496867281113, 1.7955424139009313, 1.0331037922127315, 0.9697436115202845, 1.1621218878687551, 1.8784964805087494, 1.9102548246775801, 0.45805082900632477, 0.8407301436939136, 1.7955285223811244, 0.8092006506758533, 1.8231931029042767, 0.8981466871343203, 0.809681294229362, 1.1530666517947237, 0.8096877193686294, 1.5060638745770107, 0.9697313946819494, 0.8406447448879318, 1.1619305248874332, 0.8053556408527731, 0.8096724409561622, 0.3536986170260002, 1.6396187209106017, 1.1621373345444426, 0.8095783991976333, 0.8094311691262424, 1.5020009265938974, 1.1620605253425558, 1.6252315031822915, 0.9690608779537826, 0.9697284109405494, 0.9697385593205003, 1.6664366996742015, 1.033043635789395, 1.1621021571868098, 0.969720772001164, 0.8096805651450694, 1.162120020507304, 0.9697394741069504, 0.9697498766278926, 0.8408089082854068, 0.3115292593889248, 1.9344509092746685, 1.6396130445786996, 0.9697625821529692, 1.1614662688218966, 1.6396603491739221, 1.66653595644175, 1.750188804884279, 1.639475191423205, 1.9333530025781884, 1.8948573179852692, 1.1621134282890826, 1.8322012968143415, 1.1621208729004662, 1.6396155598372637, 0.9697364060432371, 0.9697287600237005, 1.6396187209106017, 1.1620932611140538, 0.8096858283134549, 0.9697404874602713, 0.5437128715694934, 0.9697393394549675, 0.9694231741542744, 1.1621190683641482, 0.9696793637715754, 0.8378368752935532, 0.9697438938177612, 0.9697487468498865, 1.571368239578853, 0.5458093021891337, 0.9695049081177176, 0.8096813418243753, 1.1621188068800716, 0.9697436988194401, 0.9697380855713448, 0.8407139351373889, 0.21315438056734654, 1.6665346894069026, 0.9696437271203594, 0.8407377064176657, 1.1620758083284841, 1.818410303121318, 1.1621099419180272, 1.6396095473893053, 1.1620791708915474, 1.6395792524624977, 1.1619163944886115, 0.9697404875873097, 0.9697350391640779, 0.9692416391308784, 0.642648650869053, 1.1621078804526668, 0.8398440939055992, 1.639610180709611, 0.9697043845145423, 1.793868449973645, 0.6805851573351028, 1.6252224485616724, 1.8374892976543626, 1.5020096461648162, 1.501977446569026, 1.9158074470846, 1.795537961679135, 0.9480048614025387, 1.7955438586616244, 1.6599875744644537, 1.9158237508335345, 1.1621215089553112, 0.8407393524025859, 2.4321198299797215, 1.63959116571922, 0.9697324612699098, 0.9697486536813592, 1.8322258837889953, 1.6025185524228391, 1.1621104937348894, 0.4818517907772324, 0.9697415679806647, 0.6700905918475335, 0.976552359308686, 0.8096772516456933, 1.5016293632435918, 1.7629623311131861, 0.9697393002045986, 1.7002908621674362, 1.6837897016383974, 0.9697481713154413, 0.6797342488015892, 1.1620635430143957, 1.8947393133255255, 1.4982079668310317, 1.7955118610166056, 0.9696871328322048, 1.3729958878977975, 1.571368291221918, 0.9463420271561153, 0.9696763345288985, 1.1621140691052931, 1.5713216866420345, 0.9695299658403379, 0.9697480731262413, 1.0331039754619373, 1.6252285191645979, 0.009465121413060438, 0.2622123710318809, 0.9697257956196093, 1.6662227400364522, 1.4943195560410567, 0.8049026400719116, 1.1621094595592376, 1.0594569167213803, 0.8406880175210628, 1.7672370389336707, 1.5019932084374497, 0.969747913447794, 0.9697470335079079, 0.8405943824331191, 1.7281800532929985, 1.6395849550804205, 0.9697378413030099, 1.9856319883665696, 1.7003347229656387, 1.6395846710875799, 0.7823905402845615, 0.9677137727792839, 0.3554103513218275, 0.840743052819524, 0.9686743312966992, 0.8407214131083455, 1.936690748633592, 0.969715142118673, 1.6941590882394555, 0.16674534986389256, 1.571042738131266, 0.6806549286094878, 1.739946132748873, 0.9113929772576821, 1.5713638116131374, 1.7003798052922223, 0.8321718286144042, 0.7990802478422373, 1.5713474301995436, 0.9692436118773375, 1.0330926940064726, 1.162108274899441, 0.8406520416943646, 1.639517972265004, 0.8607392953396678, 1.0330639096382888, 0.961037655825098, 2.2799146251902145, 1.5569770544175952, 0.9304561395066695, -0.06038645019200197, 1.0400362286091993, 1.7003668310568083, -0.0384632280004949, 0.9697443802560239, 1.7003777229271397, 1.5713656141855665, 0.9441771076643632, 1.0331031503300827, 0.9697147185840597, 1.059313409077337, 1.9345504482294693, 1.1619142658518515, 1.1621156139852122, 1.8947718776319924, 0.958143679463989, 1.162218863848817, 0.9696489875395737, 0.9697298303806974, 0.6806736769416334, 0.9697529707587315, 1.1620429901211602, 0.9648132226956309, 0.8168114878205417, 1.1618124483263166, 0.9697656187059894, 0.9697086850583287, 1.1620966926879672, 0.9697095568672078, 1.6396177966142593, 0.5375730492353415, 0.8096677236873483, 1.8948443424287975, 0.8396826024405867, 0.9696981778582267, 0.4819512864953778, 1.7955446312185517, 1.8952878007157032, 1.8953287689401073, 0.680577201695751, 1.639620179605833, 1.6390085995301282, 0.835401086824122, 0.9696281882679254, 0.8407402245713512], \"z\": [-0.6029762941861274, -0.6035178500426266, -0.7219117757743485, -0.5210170365101634, 0.26648464537195743, -0.3871904485259177, -0.03500455968622458, -0.6472950536385531, -0.6029866456230252, -0.6032585555856091, -0.6030309598447006, -0.6029763815276025, -0.6029768926506905, -0.09234154399124478, -0.4233924096263125, -0.05404317498007642, -0.30507378292797094, -0.6030323757941998, -0.1695662834828702, -0.5210208654283086, -0.8274408801219564, -0.2602459170092006, -0.3882349422241434, -0.2507963523930953, -0.6659254796500612, -0.6659028557278273, -0.32634746418615596, -0.6031327089318459, -0.6030225641111496, -0.6159985517934976, -0.16884319350461172, -0.5210100135085669, -0.20539118440515272, -0.5210120179241604, -0.6036835048303191, -0.6030122994600369, -0.37501511616186023, -0.5210138534433507, -0.665910823676593, -0.6031789361835084, 0.49184169349270573, -0.07322211679839738, -0.3872135517879466, -0.4234139713170874, -0.2507990255979504, -0.6658986643630135, -0.25093298113861656, -0.6029769461908494, -0.6659006446400448, -0.16882460157932794, -0.6029841871577611, -0.5210106852507425, -0.8714753381676509, -0.714063648687484, -0.2025128095480083, -0.25084506128258943, -0.6659132040380856, -0.38734289503477276, -0.6472454019195274, -0.49400696593665727, -0.38719150611349423, -0.5295294668253705, -0.38719057997016176, -0.6315277560984899, -0.6029860414301479, -0.2508351931191998, -0.5210672067375239, -0.2807633593243693, -0.38719428460280686, -0.07034495683340256, -0.054052274259828406, -0.5210800512010489, -0.38721788698583365, -0.3872661401617984, -0.6271042005105358, -0.5210398756742335, -0.04208681067906098, -0.6036112842812716, -0.6029843741794527, -0.6030344054591386, -0.3137363806624985, -0.1692024598963018, -0.5210237716378496, -0.6030077899928634, -0.38719000359296185, -0.5210107156872281, -0.6029803160676455, -0.602977155879123, -0.25086228732587046, -0.3892787693842034, -0.7705882820411076, -0.05408366937773752, -0.6029911853824902, -0.5213329405688113, -0.054112189563390235, -0.3137082318025804, -0.6865241847503293, -0.05408977513341666, -0.7606618770094881, 0.18696816903096128, -0.5210222680031759, -0.7069654318414297, -0.5210122520670126, -0.05406970764905302, -0.6029891617812169, -0.6029831322275334, -0.054052274259828406, -0.5210209231711553, -0.3871951177473492, -0.6029898045621628, -0.22484792315717964, -0.6029850496187233, -0.6030702199499202, -0.5210110592501978, -0.6029997297733596, -0.2702584749668866, -0.6029796166375644, -0.6029782210097301, -0.18564265566372076, -0.3828867764777846, -0.6030553914765567, -0.3871908612060763, -0.5210138072680269, -0.6029842835539188, -0.6029794338041534, -0.2507957779216835, -0.4185758423145433, -0.3137152195277313, -0.6035574071358814, -0.2508076769969289, -0.5210295502020013, -0.6969918081332039, -0.5210742153003483, -0.054105118683274805, -0.5210332631606978, -0.05427372859003959, -0.5211325094811805, -0.602981583104001, -0.6029807196935828, -0.6031134195975234, -0.04530993316411671, -0.5210231166755391, -0.2511918586673343, -0.05404981874849004, -0.6030001567804105, -0.6776182197864423, -0.03502950665514978, -0.04212319374975123, -0.8304108312507845, -0.6270580317384279, -0.6270991976134023, -0.7051212165278352, -0.665909677716124, -0.6138393062575657, -0.6659084461002382, -0.06415439413740737, -0.7051392192077084, -0.5210168978135232, -0.25079762332631284, 5.044824844828996, -0.054050862079314775, -0.6029915796946624, -0.6029787348362139, 0.26817179060635743, 0.02210261741514026, -0.521016935267785, -0.32648140850267654, -0.602978954832868, -0.05220476614172127, -0.6279250424036459, -0.3872414443138279, -0.6274681013221188, -0.5565569015543497, -0.6029801240438128, -0.5378662972273277, -0.06778784493013852, -0.6029855871262376, -0.04022753671414236, -0.5210466951126713, 0.18683692208277802, -0.6437770860468739, -0.6660064004078494, -0.6030543409047129, -0.27487514451434925, -0.18564619999857698, -0.612003196492837, -0.6030005696410703, -0.5210369248369077, -0.1856644851985099, -0.6033620451636037, -0.60297795429198, -0.16882550138606858, -0.042077587284466596, 0.18047894325249342, -0.3604482612311924, -0.6031123767104349, -0.31391860261616933, 4.501112716543124, -0.46735287597149916, -0.5210143984018057, -0.5060594352705943, -0.2508152844446256, -0.03736810975304027, -0.6270677796015415, -0.602977080512187, -0.6029775038023618, -0.25097413785608047, -0.02545821389816372, -0.0540624172843112, -0.602984790276085, 0.15752707094467697, -0.5379147285367272, -0.054056524001492294, -0.05677252615916037, -0.6043012466599831, -0.18756140434964158, -0.25080770340980074, -0.608903646498139, -0.25079636305132075, -0.759182028583793, -0.6029973886764941, -0.2950722208873928, -0.43508081377025104, -0.1857261237739024, -0.03503692638512072, 0.07972609087323641, -0.4089814559811973, -0.185641951054564, -0.5378286088777251, -0.25309834108408386, -0.4043932735092255, -0.18567896212018903, -0.6031155979138804, -0.16883675805761814, -0.5210305268462677, -0.25087041460054327, -0.05407354490164968, -0.49844671710162186, -0.16883636000946053, -0.6059113959432063, 0.8781390390243169, 2.416356056370269, -0.15387155084540055, -0.19115291108109636, -0.17646548275077967, -0.5378483529875313, 0.31490288561497587, -0.6029857334616167, -0.5378359937800302, -0.18563861982835655, -0.626909740958832, -0.1688236835707255, -0.6029969210074878, -0.5062078567321806, -0.7602362624584572, -0.5210743620647224, -0.5210246814596083, 0.18645223338229885, -0.6145727081101575, -0.5211177666055545, -0.6030052460640579, -0.6029928622990773, -0.03500234600457765, -0.6029805724336348, -0.5212722970021532, -0.6048494299837576, -0.39518187462171334, -0.5213664626497093, -0.6030050002902781, -0.6032106567714477, -0.5211279367177083, -0.6030442285313169, -0.05404358156453118, -0.14919529168544451, -0.3872344108056255, 0.18695814244492734, -0.25659939804281456, -0.6031293084627657, -0.32635425233708276, -0.6658962020878716, 0.18658001063801674, 0.1865347733228517, -0.03557863292531692, -0.05404595770209254, -0.004272326565967206, 0.07113695176033008, -0.603017152509152, -0.25078714389259366]}, {\"customdata\": [[\"SHA-256\"], [\"Ethash\"], [\"Scrypt\"], [\"CryptoNight-V7\"], [\"Ethash\"], [\"Equihash\"], [\"Scrypt\"], [\"X11\"], [\"Scrypt\"], [\"Scrypt\"], [\"SHA-256\"], [\"Scrypt\"], [\"Scrypt\"], [\"Quark\"], [\"Groestl\"], [\"Scrypt\"], [\"Scrypt\"], [\"Scrypt\"], [\"X11\"], [\"SHA-256\"], [\"Scrypt\"], [\"Scrypt\"], [\"Scrypt\"], [\"Scrypt\"], [\"Scrypt\"], [\"NeoScrypt\"], [\"Scrypt\"], [\"Scrypt\"], [\"Scrypt\"], [\"Scrypt\"], [\"SHA-256\"], [\"Scrypt\"], [\"Scrypt\"], [\"Scrypt\"], [\"Scrypt\"], [\"HybridScryptHash256\"], [\"Scrypt\"], [\"Scrypt\"], [\"SHA-256\"], [\"Scrypt\"], [\"Scrypt\"], [\"Scrypt\"], [\"Scrypt\"], [\"SHA-256\"], [\"SHA-256\"], [\"SHA-256\"], [\"SHA-256\"], [\"SHA-256\"], [\"X11\"], [\"Scrypt\"], [\"Lyra2REv2\"], [\"Scrypt\"], [\"SHA-256\"], [\"CryptoNight\"], [\"CryptoNight\"], [\"Scrypt\"], [\"Scrypt\"], [\"Scrypt\"], [\"Scrypt\"], [\"Scrypt\"], [\"Scrypt\"], [\"Stanford Folding\"], [\"QuBit\"], [\"Scrypt\"], [\"Scrypt\"], [\"M7 POW\"], [\"Scrypt\"], [\"SHA-256\"], [\"Scrypt\"], [\"X11\"], [\"Lyra2RE\"], [\"SHA-256\"], [\"X11\"], [\"Scrypt\"], [\"Scrypt\"], [\"Ethash\"], [\"Blake2b\"], [\"X11\"], [\"SHA-256\"], [\"Scrypt\"], [\"1GB AES Pattern Search\"], [\"Scrypt\"], [\"SHA-256\"], [\"X11\"], [\"Dagger\"], [\"Scrypt\"], [\"X11GOST\"], [\"Scrypt\"], [\"X11\"], [\"Scrypt\"], [\"X11\"], [\"Equihash\"], [\"CryptoNight\"], [\"SHA-256\"], [\"Scrypt\"], [\"SHA-256\"], [\"Scrypt\"], [\"Lyra2Z\"], [\"Ethash\"], [\"Equihash\"], [\"Scrypt\"], [\"X11\"], [\"X11\"], [\"CryptoNight\"], [\"Scrypt\"], [\"CryptoNight\"], [\"Lyra2RE\"], [\"X11\"], [\"CryptoNight-V7\"], [\"Scrypt\"], [\"X11\"], [\"Equihash\"], [\"Scrypt\"], [\"Lyra2RE\"], [\"Dagger-Hashimoto\"], [\"Scrypt\"], [\"NIST5\"], [\"Scrypt\"], [\"SHA-256\"], [\"Scrypt\"], [\"CryptoNight-V7\"], [\"Argon2d\"], [\"Blake2b\"], [\"Cloverhash\"], [\"CryptoNight\"], [\"X11\"], [\"Scrypt\"], [\"Scrypt\"], [\"X11\"], [\"X11\"], [\"CryptoNight\"], [\"Time Travel\"], [\"Scrypt\"], [\"Keccak\"], [\"X11\"], [\"SHA-256\"], [\"Scrypt\"], [\"Scrypt\"], [\"Scrypt\"], [\"Scrypt\"], [\"Scrypt\"], [\"Scrypt\"], [\"CryptoNight\"], [\"Equihash\"], [\"X11\"], [\"NeoScrypt\"], [\"Equihash\"], [\"Dagger\"], [\"Scrypt\"], [\"X11\"], [\"NeoScrypt\"], [\"Ethash\"], [\"NeoScrypt\"], [\"CryptoNight\"], [\"CryptoNight\"], [\"Ethash\"], [\"X11\"], [\"CryptoNight-V7\"], [\"Scrypt\"], [\"BLAKE256\"], [\"X11\"], [\"NeoScrypt\"], [\"NeoScrypt\"], [\"Scrypt\"], [\"X11\"], [\"SHA-256\"], [\"C11\"], [\"CryptoNight\"], [\"SkunkHash\"], [\"CryptoNight\"], [\"Scrypt\"], [\"Dagger\"], [\"Lyra2REv2\"], [\"Scrypt\"], [\"Scrypt\"], [\"X11\"], [\"Ethash\"], [\"CryptoNight\"], [\"Scrypt\"], [\"IMesh\"], [\"Equihash\"], [\"Lyra2Z\"], [\"X11\"], [\"CryptoNight\"], [\"NIST5\"], [\"Lyra2RE\"], [\"Tribus\"], [\"Lyra2Z\"], [\"CryptoNight\"], [\"CryptoNight Heavy\"], [\"CryptoNight\"], [\"Jump Consistent Hash\"], [\"CryptoNight\"], [\"X16R\"], [\"HMQ1725\"], [\"X11\"], [\"Scrypt\"], [\"CryptoNight-V7\"], [\"Cryptonight-GPU\"], [\"XEVAN\"], [\"CryptoNight Heavy\"], [\"SHA-256\"], [\"X11\"], [\"X16R\"], [\"Equihash\"], [\"Lyra2Z\"], [\"SHA-256\"], [\"CryptoNight\"], [\"Blake\"], [\"Blake\"], [\"Exosis\"], [\"Scrypt\"], [\"Equihash\"], [\"Equihash\"], [\"QuBit\"], [\"SHA-256\"], [\"X13\"], [\"SHA-256\"], [\"Scrypt\"], [\"NeoScrypt\"], [\"Blake\"], [\"Scrypt\"], [\"SHA-256\"], [\"Scrypt\"], [\"Groestl\"], [\"Scrypt\"], [\"Scrypt\"], [\"Equihash+Scrypt\"], [\"Ethash\"], [\"CryptoNight\"], [\"Equihash\"]], \"hovertemplate\": \"<b>%{hovertext}</b><br><br>class=%{marker.color}<br>PC 1=%{x}<br>PC 2=%{y}<br>PC 3=%{z}<br>Algorithm=%{customdata[0]}<extra></extra>\", \"hovertext\": [\"Bitcoin\", \"Ethereum\", \"Litecoin\", \"Monero\", \"Ethereum Classic\", \"ZCash\", \"ProsperCoin\", \"Spreadcoin\", \"Argentum\", \"MoonCoin\", \"ZetaCoin\", \"SexCoin\", \"Quatloo\", \"QuarkCoin\", \"Riecoin\", \"Digitalcoin \", \"Catcoin\", \"CannaCoin\", \"CryptCoin\", \"DevCoin\", \"EarthCoin\", \"E-Gulden\", \"Einsteinium\", \"Emerald\", \"Franko\", \"FeatherCoin\", \"GrandCoin\", \"GlobalCoin\", \"GoldCoin\", \"Infinite Coin\", \"IXcoin\", \"KrugerCoin\", \"LuckyCoin\", \"Litebar \", \"MegaCoin\", \"MediterraneanCoin\", \"MinCoin\", \"NobleCoin\", \"Namecoin\", \"NyanCoin\", \"RonPaulCoin\", \"StableCoin\", \"SmartCoin\", \"SysCoin\", \"TigerCoin\", \"TerraCoin\", \"UnbreakableCoin\", \"Unobtanium\", \"UroCoin\", \"ViaCoin\", \"Vertcoin\", \"WorldCoin\", \"JouleCoin\", \"ByteCoin\", \"DigitalNote \", \"MonaCoin\", \"Gulden\", \"PesetaCoin\", \"Wild Beast Coin\", \"Flo\", \"ArtByte\", \"Folding Coin\", \"CypherPunkCoin\", \"OmniCron\", \"GreenCoin\", \"Cryptonite\", \"MasterCoin\", \"SoonCoin\", \"1Credit\", \"MarsCoin \", \"Crypto\", \"Anarchists Prime\", \"BowsCoin\", \"Song Coin\", \"BitZeny\", \"Expanse\", \"Siacoin\", \"MindCoin\", \"I0coin\", \"Revolution VR\", \"HOdlcoin\", \"Gamecredits\", \"CarpeDiemCoin\", \"Adzcoin\", \"SoilCoin\", \"YoCoin\", \"SibCoin\", \"Francs\", \"BolivarCoin\", \"Omni\", \"PizzaCoin\", \"Komodo\", \"Karbo\", \"ZayedCoin\", \"DopeCoin\", \"DollarCoin\", \"Shilling\", \"ZCoin\", \"Elementrem\", \"ZClassic\", \"KiloCoin\", \"ArtexCoin\", \"Kurrent\", \"Cannabis Industry Coin\", \"OsmiumCoin\", \"Bikercoins\", \"HexxCoin\", \"PacCoin\", \"Citadel\", \"BeaverCoin\", \"VaultCoin\", \"Zero\", \"Canada eCoin\", \"Zoin\", \"DubaiCoin\", \"EB3coin\", \"Coinonat\", \"BenjiRolls\", \"ILCoin\", \"EquiTrader\", \"Quantum Resistant Ledger\", \"Dynamic\", \"Nano\", \"ChanCoin\", \"Dinastycoin\", \"DigitalPrice\", \"Unify\", \"SocialCoin\", \"ArcticCoin\", \"DAS\", \"LeviarCoin\", \"Bitcore\", \"gCn Coin\", \"SmartCash\", \"Onix\", \"Bitcoin Cash\", \"Sojourn Coin\", \"NewYorkCoin\", \"FrazCoin\", \"Kronecoin\", \"AdCoin\", \"Linx\", \"Sumokoin\", \"BitcoinZ\", \"Elements\", \"VIVO Coin\", \"Bitcoin Gold\", \"Pirl\", \"eBoost\", \"Pura\", \"Innova\", \"Ellaism\", \"GoByte\", \"UltraNote\", \"BitCoal\", \"DaxxCoin\", \"AC3\", \"Lethean\", \"PopularCoin\", \"Photon\", \"Sucre\", \"SparksPay\", \"GunCoin\", \"IrishCoin\", \"Pioneer Coin\", \"UnitedBitcoin\", \"Interzone\", \"TurtleCoin\", \"MUNcoin\", \"Niobio Cash\", \"ShareChain\", \"Travelflex\", \"KREDS\", \"BitFlip\", \"LottoCoin\", \"Crypto Improvement Fund\", \"Callisto Network\", \"BitTube\", \"Poseidon\", \"Aidos Kuneen\", \"Bitrolium\", \"Alpenschillling\", \"FuturoCoin\", \"Monero Classic\", \"Jumpcoin\", \"Infinex\", \"KEYCO\", \"GINcoin\", \"PlatinCoin\", \"Loki\", \"Newton Coin\", \"MassGrid\", \"PluraCoin\", \"Motion\", \"PlusOneCoin\", \"Axe\", \"HexCoin\", \"Webchain\", \"Ryo\", \"Urals Coin\", \"Qwertycoin\", \"Project Pai\", \"Azart\", \"Xchange\", \"CrypticCoin\", \"Actinium\", \"Bitcoin SV\", \"FREDEnergy\", \"Universal Molecule\", \"Lithium\", \"Exosis\", \"Block-Logic\", \"Beam\", \"Bithereum\", \"SLICE\", \"BLAST\", \"Bitcoin Rhodium\", \"GlobalToken\", \"SolarCoin\", \"UFO Coin\", \"BlakeCoin\", \"Crypto Escudo\", \"Crown Coin\", \"SmileyCoin\", \"Groestlcoin\", \"Bata\", \"Pakcoin\", \"Vollar\", \"Reality Clash\", \"Beldex\", \"Horizen\"], \"legendgroup\": \"2\", \"marker\": {\"color\": [2, 2, 2, 2, 2, 2, 2, 2, 2, 2, 2, 2, 2, 2, 2, 2, 2, 2, 2, 2, 2, 2, 2, 2, 2, 2, 2, 2, 2, 2, 2, 2, 2, 2, 2, 2, 2, 2, 2, 2, 2, 2, 2, 2, 2, 2, 2, 2, 2, 2, 2, 2, 2, 2, 2, 2, 2, 2, 2, 2, 2, 2, 2, 2, 2, 2, 2, 2, 2, 2, 2, 2, 2, 2, 2, 2, 2, 2, 2, 2, 2, 2, 2, 2, 2, 2, 2, 2, 2, 2, 2, 2, 2, 2, 2, 2, 2, 2, 2, 2, 2, 2, 2, 2, 2, 2, 2, 2, 2, 2, 2, 2, 2, 2, 2, 2, 2, 2, 2, 2, 2, 2, 2, 2, 2, 2, 2, 2, 2, 2, 2, 2, 2, 2, 2, 2, 2, 2, 2, 2, 2, 2, 2, 2, 2, 2, 2, 2, 2, 2, 2, 2, 2, 2, 2, 2, 2, 2, 2, 2, 2, 2, 2, 2, 2, 2, 2, 2, 2, 2, 2, 2, 2, 2, 2, 2, 2, 2, 2, 2, 2, 2, 2, 2, 2, 2, 2, 2, 2, 2, 2, 2, 2, 2, 2, 2, 2, 2, 2, 2, 2, 2, 2, 2, 2, 2, 2, 2, 2, 2, 2, 2, 2, 2, 2, 2, 2, 2, 2, 2, 2, 2, 2, 2, 2, 2, 2, 2, 2, 2, 2], \"coloraxis\": \"coloraxis\", \"symbol\": \"diamond\"}, \"mode\": \"markers\", \"name\": \"2\", \"scene\": \"scene\", \"showlegend\": true, \"type\": \"scatter3d\", \"x\": [-0.14621864424531172, -0.15574607978939323, -0.170025328435847, -0.1439838596111041, -0.15419910403244574, -0.13062829868124334, -0.17116307879558873, -0.21576035722985593, -0.17078236355412962, 2.5315614857317086, -0.14332521954058183, -0.16805793872568278, -0.1705877353091037, -0.2162880155470532, -0.1965837949436435, -0.1706363579545234, -0.17114548039806465, -0.17123130879922707, -0.2158490251771189, 0.22882994074314955, 0.07565570739879027, -0.17097950939409925, -0.16661721585206093, -0.17091921963630424, -0.1712878842031018, -0.163820680113225, -0.15066297006882026, -0.17009194740920827, -0.17036726413444975, 1.5646422588414004, -0.146180309024259, -0.16767654303862725, -0.17100575316696554, -0.17135793495249288, -0.1706226722628515, -0.12705954168077307, -0.17124007167468155, -0.03711318077756846, -0.14625732619797843, -0.16495101251204305, -0.1712196225911446, -0.16932753537764944, -0.1707101588279668, -0.13350387754000959, -0.1457250812971829, -0.14601011213048992, -0.14599306247049768, -0.146579598204482, -0.21602166806505638, -0.17093827090684033, -0.17600784787822985, -0.16806254982089236, -0.1457918702964098, 3.829618730289465, 0.45383371583963394, -0.16981416700915533, -0.15452399051124532, -0.1685425144590621, -0.17136012183487828, -0.16840861334094603, -0.15473393763342994, -0.10497054236123882, -0.17475080320515202, -0.17123416661448107, -0.04510027257387702, -0.1134825748101897, -0.1713689550945263, -0.14628489136642023, 0.4762001723777453, -0.21541339620689132, -0.1458125316038984, -0.14602660050310473, -0.2156961689640485, -0.16950617355523598, -0.16870441842436276, -0.1568053044269217, 0.3650725783087861, -0.21573131676067986, -0.1461814227955334, -0.16735681160825003, -0.1502858679058102, -0.16994292974300446, 0.2691966500911763, -0.2148981606182788, -0.14587571746352124, -0.17018809961042067, -0.15713909250418978, -0.17116038898164418, -0.21569480230460636, -0.1713690131552983, -0.2158436269797261, -0.18573224273032882, 0.2998808470013024, -0.14643956830925234, -0.16855652150131886, -0.14639851032320098, -0.17103485943155392, -0.14275083077589257, -0.1565493921657249, -0.13064975050940647, -0.09861197102528367, -0.202527447842021, -0.21368750312745516, 0.29987530133429374, -0.1713508815632763, 0.300005035401305, -0.1463490855774101, 0.49436478746525886, -0.14275720961766203, -0.17131940831312878, -0.2086290264035167, -0.13066204793809, -0.16946652678619692, -0.1460695708618746, -0.15051539971693906, -0.1424481362479158, -0.18340869449726674, -0.1708849921942923, -0.11301138262056845, -0.17070826032182987, -0.14261637660601953, -0.14417815841057688, -0.03216941918947713, -0.14144397353933794, 0.33572972701453885, -0.2149064212714021, -0.1710253080223637, -0.17079025785428434, -0.21529825650676493, -0.21587147151226568, 0.3002674116990688, -0.1772661725662593, 3.2131281482482446, -0.09227819253831243, -0.20680872150718763, -0.1462178148505302, -0.09746636444222097, 1.5622974282007132, -0.17112240459773784, -0.17057796405483291, -0.1702811560498915, -0.1702681868630592, 0.3004497679511121, 0.08013150266063467, -0.17059938430822183, -0.16847490740018264, -0.13050925867215368, -0.14464375556201284, -0.1694647496284976, -0.21144853291572946, -0.1683214236092473, -0.1549260003229314, -0.16842091949213472, 1.131777821786052, 0.29985816623497785, -0.08034761765027097, -0.21119122451560735, -0.1318078248900688, -0.08812801969798224, 1.0939575908774193, -0.21584566498587182, -0.16847251044220496, -0.16156153798139658, -0.17037894145133486, -0.21577162881626163, -0.14619737329121693, -0.19473856148292276, 7.982845234485722, -0.17698213173271732, 0.30370437175932974, 0.020238884282910524, -0.1441510093660791, -0.16167191943912873, -0.17094838422225223, 0.13385970930886631, -0.20995527454444038, -0.10829679190802247, 0.30772497806556703, -0.17118366493553414, -0.146146400736631, -0.12950785056740197, -0.14055009002972907, -0.21494688214731728, 0.30003931543581636, -0.18346781816063842, -0.1461954371205028, -0.16275582337494868, -0.14283460910373058, 0.30393999904710106, 0.5616143719594818, 2.095491373744115, -0.15497793776952734, 0.3135444932191947, -0.19359456378747272, -0.15443533687796604, -0.21582795639318103, -0.17120805421758242, -0.13168541394274236, -0.13298700800218896, -0.053098570438002715, 3.0656826843020797, -0.10634365454064543, -0.21579952372403235, -0.1930263264873698, -0.02602738241931661, -0.14223664949888362, -0.14621785212893548, 0.37922445302778646, -0.12932839067142848, -0.1297177606941155, -0.16735835991464185, -0.17010839734406147, -0.1285831530194049, -0.13034331274542982, -0.17396737858611275, -0.1454993419611655, -0.10346981888106904, -0.14437548675805056, 0.5198100864729784, -0.09419293227501749, -0.08053191313502701, -0.15488337312281603, -0.14600948739186967, 0.539213227334808, -0.19614805976357133, -0.17128437852058467, -0.1692549547368478, -0.12357651682051628, -0.15658230467010803, 0.3214549662438085, -0.13062934755312972], \"y\": [-1.3166825011364787, -1.9878530109315895, -1.1566382257130197, -2.2798330300428935, -1.9879573359790503, -2.035784658828822, -1.1566292827177262, -0.9642544274806233, -1.1566485222918297, -1.3515617085887137, -1.316696778974732, -1.1566959854407433, -1.1566687482866453, -0.4260109743206877, -1.22282656651559, -1.1566319405392327, -1.1566286987360537, -1.1566257207327348, -0.9642558873477142, -1.3197873564962388, -1.1584300191734456, -1.1566231911877494, -1.1566850847504861, -1.156629344141578, -1.1566261866673948, -1.6444752858847551, -1.1569864524036544, -1.1566300590783327, -1.1566408597268734, -1.166169092418289, -1.3166812290282366, -1.1566947597367156, -1.1566233208197232, -1.1566211834959568, -1.1566269159342735, -2.2977801540244243, -1.1566236840369044, -1.1632839733374938, -1.316683784750588, -1.1566573733680077, -1.1566311590556284, -1.1567381154798513, -1.1566366384428202, -1.3169032285734943, -1.316685403852644, -1.3166911472067389, -1.3167187484056662, -1.3166790983109624, -0.9642482740448575, -1.1566233052102888, -1.3272905589814126, -1.1567075689078865, -1.3166861288220246, -2.335064576296721, -2.317764381490069, -1.1566468734810564, -1.1573068452422957, -1.1566500877897041, -1.1566222033647426, -1.1566409109083517, -1.1568097715443215, -2.19654346324464, -1.5805303147365817, -1.156618574680337, -1.159842834932073, -2.2469280637823266, -1.1566210076968557, -1.316684699467575, -1.2033254655048933, -0.9642525500652147, -2.2232264368270527, -1.316700411289982, -0.9642530387062529, -1.156714571826167, -1.1567174380926117, -1.987900691659828, -2.236907961523448, -0.9642504988631958, -1.316681265987398, -1.1566430699363757, -2.1355556993375404, -1.1566354914114214, -1.3189120570969848, -0.96427325563198, -2.1778833423567363, -1.1567061513065917, -2.30807292351126, -1.1566284522233932, -0.9642559582996599, -1.1566210073775876, -0.9642608968676478, -1.378449197860737, -2.315468173888688, -1.3166814829527216, -1.1566754685064828, -1.3166807893086385, -1.1566316990370296, -2.2769804254966535, -1.9878990923786453, -2.0357853706819573, -1.1616185563353942, -0.964171102608754, -0.9643398194150008, -2.3154765115119686, -1.156621960695732, -2.315475171387226, -2.223202888830772, -1.0147985622105409, -2.2799294538136072, -1.1566213949202702, -0.9647441942052929, -2.035782813812991, -1.156631542329269, -2.2232017670685815, -2.140201398695645, -1.158625790259016, -0.6243774170813099, -1.1566308177925788, -1.3174180823336517, -1.1566519931538388, -2.2798654815522013, -2.3250412875903814, -2.2503421893802957, -2.2045740786398476, -2.315753631706507, -0.9642853895292591, -1.1566234336621586, -1.1566569378516782, -0.9642687426670583, -0.9642572993148505, -2.3154879605917036, -2.053930605681033, -1.192557297510694, -1.2670835776952736, -0.9647579131838887, -1.3166824736140075, -1.1619511588025013, -1.0990909130895343, -1.1566271917572628, -1.156656564261882, -1.1566585748223719, -1.1566581444554929, -2.3155077702215445, -2.044341240033385, -0.96407521510764, -1.6444006888721925, -2.035780708629181, -2.1779360842902333, -1.1566314833564264, -0.9643559526822234, -1.644408937946658, -1.9880333436851447, -1.6444024552815761, -2.3508603277984275, -2.315470779612885, -1.9927633644743352, -0.9644956614301115, -2.280169834734228, -1.1575644785614778, -1.261801354617498, -0.9642571100687668, -1.6443961619154857, -1.6445218816868132, -1.1566351352141766, -0.9642570252229409, -1.3166811770945295, -1.321468988689154, -2.8017469112096984, -2.172414844375908, -2.3155829377798667, -1.1576746335356827, -2.177877996517529, -1.3275679342919362, -1.1566362418220297, -1.1601358198672376, -0.9644175861111908, -1.9910964979195438, -2.315941699554994, -1.15662996584404, -2.2850853357028527, -2.0357837986730947, -2.277113904934376, -0.9642867321748012, -2.3154691416872866, -0.6243591788631117, -2.223209857515663, -2.2601787232844512, -2.276975126106403, -2.3157708054831048, -2.18827972016222, -2.392263024625384, -2.2082125937963446, -2.315748585938452, -1.2149579476872612, -2.2391336448122825, -0.9642574119137078, -1.156631594433878, -2.280722084060287, -2.3598887608192483, -1.0669835071228222, -2.241809858610364, -1.316900327354693, -0.9642594333541105, -1.214996851718774, -2.0379314314538295, -2.2770097643881217, -1.3166824748510468, -2.3188170269198767, -2.241048860200151, -2.2410025627346664, -2.183180984464312, -1.1566676667541302, -2.0358960240143253, -2.0357825297730154, -1.580578441341068, -1.3166905051064792, -0.3308259984368137, -1.316730299875517, -1.2063998630619854, -1.644880661782835, -2.244540341624419, -1.1568147303814469, -1.3166911264755388, -1.1701025372423743, -1.2228276731251824, -1.1566214481258903, -1.1566853029244222, -2.312646339521895, -1.987898911397148, -2.3157827458402496, -2.0357846936343735], \"z\": [0.20743800169931143, 0.422878409186757, -0.008380092460318948, 0.4289665196033389, 0.4228471383841698, 0.5573634520480432, -0.008346027249616802, 0.0736180004861741, -0.008354773685961357, -0.06091146907588625, 0.20734998808045227, -0.008432092587400455, -0.008357548677236806, 0.056661317108390404, 0.17121185227745575, -0.008362039724498465, -0.008346672085055578, -0.008344478359150913, 0.07362100740273732, 0.19623434160153916, -0.015758736370916137, -0.008352753547019224, -0.008478857533888324, -0.008353631507820796, -0.008342635773605596, 0.26815149444663683, -0.00892781333594914, -0.008379345629634879, -0.0083689857908818, -0.0609875388494163, 0.20743659703113126, -0.008444201438848534, -0.008351912944689722, -0.0083412653205923, -0.00836328736694408, 0.38860783360334955, -0.008344537257831389, -0.011445169374851067, 0.20743941907233926, -0.008535407428011649, -0.008343955388064305, -0.008385572390717732, -0.00835896837612619, 0.20707703041136533, 0.2074230645318672, 0.20743290202930123, 0.2074368758505987, 0.20744871662048767, 0.07362515507341008, -0.008354022566901051, 0.19022130887269367, -0.008430057488954, 0.2074252683179853, 0.32078599568633287, 0.4233674570009785, -0.008385273951083088, -0.008754948939980632, -0.008424455406565728, -0.00834103053297551, -0.008430134571400504, -0.008829545960747344, 0.36901676443921727, 0.21177032048174013, -0.008345555793528454, -0.011757581021556574, 0.3554516301442911, -0.008340949927442283, 0.20744042910734173, -0.020935735575901324, 0.07360686042797819, 0.43286196165713287, 0.20743492932175212, 0.07361576953260857, -0.008383838317337555, -0.008408404463548453, 0.4229192669111366, 0.42392822741704517, 0.07361645233572472, 0.20743663784161917, -0.00846262366531262, 0.41586687619221735, -0.008383111689603638, 0.19483102515127887, 0.07359415305142449, 0.3921303167720466, -0.008363920517290676, 0.3797443041839397, -0.008346246823483418, 0.07361620351376522, -0.008340948166670062, 0.0736216567048611, 1.0741252076093948, 0.42779961929540616, 0.2074447336285069, -0.008419874383972388, 0.20744333838466694, -0.008349636296533135, 0.41287053865614337, 0.42291101517818863, 0.5573642380797844, -0.009796820702187334, 0.07319121096068518, 0.07356721857100457, 0.42780115365737326, -0.00834135867050448, 0.427796884036769, 0.43287487062529295, 0.059696825658738045, 0.4289439607236996, -0.008342433763576112, 0.07347529049129388, 0.5573642046207419, -0.008398631678619135, 0.4328659598865362, 0.44257597722588543, -0.008916675349044695, -0.032430208198611116, -0.008354459640584034, 0.2065212256190522, -0.008356520839562355, 0.4289291192028405, 0.45299045491509504, 0.43852503394049336, 0.3885190880635701, 0.4267268737128704, 0.0735963919675101, -0.008351283938950689, -0.008353153266051553, 0.0736059089029097, 0.07362193878794479, 0.42779077953943506, 0.5007260032471437, -0.10815190281561649, 0.09456117478477329, 0.07342069284844997, 0.2074379713088692, -0.009778290452759943, -0.07186553167893041, -0.008347638636393291, -0.008359842944336754, -0.008368782266593875, -0.008369257479821115, 0.42778831975437437, 0.5521796144790598, 0.07217863082416581, 0.2682846398362868, 0.5573590902181459, 0.392100460520062, -0.008398696796722234, 0.07349994263210581, 0.2682811941877558, 0.4228822441229887, 0.26828324249631225, 0.4076025089855925, 0.4278007528937337, 0.42132582509537425, 0.0735147173064628, 0.42864132055948406, -0.010786043017750423, 0.07494879546598478, 0.07362110210562775, 0.26828382592078903, 0.2680885619819758, -0.00836955576303992, 0.07361877653983828, 0.20743712136903886, 0.12728203175596609, 0.2672959049105454, 0.5535161658565715, 0.427698969515836, -0.014151719682323902, 0.39207559152545896, 0.18981896659786993, -0.008351594751619883, -0.0172976151393605, 0.07346337925806182, 0.42192638006613686, 0.4276320012232315, -0.008345272938176386, 0.44120551678296216, 0.5573283266186319, 0.41282361437716303, 0.07359787452333014, 0.42779482926203294, -0.03243133969275624, 0.4328712107983425, 0.48375117330286604, 0.41287228937984444, 0.42772228361238895, 0.3950984498452578, 0.3842708262265667, 0.4505471524070812, 0.4274187642167185, 0.18567531892112926, 0.45607316798152236, 0.07362059844981943, -0.008344245520271406, 0.42872765881300834, 0.35012928171333846, 0.08854936931350452, 0.3256504844018145, 0.20622850284754293, 0.07362004068600497, 0.18566392770108342, 0.5544478639573189, 0.41285927367928404, 0.2074379726748139, 0.4258689204353949, 0.4266093011006118, 0.4266139002935924, 0.4828758549896065, -0.008372692152082384, 0.5573177757068709, 0.5573542060241555, 0.21175371590886924, 0.20741684885358394, -0.07126122625586187, 0.20738825437871175, -0.021795489252564616, 0.2660436115008231, 0.42565569483846727, -0.008824070388370162, 0.2074328791378076, -0.028327249830655137, 0.17119842749783634, -0.008343518851456472, -0.008396460854063183, 0.49250482731589657, 0.422912013294885, 0.42717734366018256, 0.5573634904805077]}, {\"customdata\": [[\"SHA-256 + Hive\"], [\"Proof-of-Authority\"], [\"SHA3-256\"], [\"Leased POS\"]], \"hovertemplate\": \"<b>%{hovertext}</b><br><br>class=%{marker.color}<br>PC 1=%{x}<br>PC 2=%{y}<br>PC 3=%{z}<br>Algorithm=%{customdata[0]}<extra></extra>\", \"hovertext\": [\"LitecoinCash\", \"Poa Network\", \"Fiii\", \"Waves\"], \"legendgroup\": \"3\", \"marker\": {\"color\": [3, 3, 3, 3], \"coloraxis\": \"coloraxis\", \"symbol\": \"square\"}, \"mode\": \"markers\", \"name\": \"3\", \"scene\": \"scene\", \"showlegend\": true, \"type\": \"scatter3d\", \"x\": [-0.2760642192058854, -0.285743961329088, -0.47115802032835186, -0.4985858919153058], \"y\": [4.948547856247796, 2.8676258210723864, 1.1240200591190979, 3.7609893262674063], \"z\": [16.151864488000665, 8.468212601059793, 10.970558916590806, 21.547233792422002]}, {\"customdata\": [[\"TRC10\"]], \"hovertemplate\": \"<b>%{hovertext}</b><br><br>class=%{marker.color}<br>PC 1=%{x}<br>PC 2=%{y}<br>PC 3=%{z}<br>Algorithm=%{customdata[0]}<extra></extra>\", \"hovertext\": [\"BitTorrent\"], \"legendgroup\": \"1\", \"marker\": {\"color\": [1], \"coloraxis\": \"coloraxis\", \"symbol\": \"x\"}, \"mode\": \"markers\", \"name\": \"1\", \"scene\": \"scene\", \"showlegend\": true, \"type\": \"scatter3d\", \"x\": [33.806116923688336], \"y\": [1.714047366917412], \"z\": [-0.9968666730385766]}],\n",
       "                        {\"coloraxis\": {\"colorbar\": {\"title\": {\"text\": \"class\"}}, \"colorscale\": [[0.0, \"#0d0887\"], [0.1111111111111111, \"#46039f\"], [0.2222222222222222, \"#7201a8\"], [0.3333333333333333, \"#9c179e\"], [0.4444444444444444, \"#bd3786\"], [0.5555555555555556, \"#d8576b\"], [0.6666666666666666, \"#ed7953\"], [0.7777777777777778, \"#fb9f3a\"], [0.8888888888888888, \"#fdca26\"], [1.0, \"#f0f921\"]]}, \"legend\": {\"title\": {\"text\": \"class\"}, \"tracegroupgap\": 0, \"x\": 0, \"y\": 1}, \"margin\": {\"t\": 60}, \"scene\": {\"domain\": {\"x\": [0.0, 1.0], \"y\": [0.0, 1.0]}, \"xaxis\": {\"title\": {\"text\": \"PC 1\"}}, \"yaxis\": {\"title\": {\"text\": \"PC 2\"}}, \"zaxis\": {\"title\": {\"text\": \"PC 3\"}}}, \"template\": {\"data\": {\"bar\": [{\"error_x\": {\"color\": \"#2a3f5f\"}, \"error_y\": {\"color\": \"#2a3f5f\"}, \"marker\": {\"line\": {\"color\": \"#E5ECF6\", \"width\": 0.5}}, \"type\": \"bar\"}], \"barpolar\": [{\"marker\": {\"line\": {\"color\": \"#E5ECF6\", \"width\": 0.5}}, \"type\": \"barpolar\"}], \"carpet\": [{\"aaxis\": {\"endlinecolor\": \"#2a3f5f\", \"gridcolor\": \"white\", \"linecolor\": \"white\", \"minorgridcolor\": \"white\", \"startlinecolor\": \"#2a3f5f\"}, \"baxis\": {\"endlinecolor\": \"#2a3f5f\", \"gridcolor\": \"white\", \"linecolor\": \"white\", \"minorgridcolor\": \"white\", \"startlinecolor\": \"#2a3f5f\"}, \"type\": \"carpet\"}], \"choropleth\": [{\"colorbar\": {\"outlinewidth\": 0, \"ticks\": \"\"}, \"type\": \"choropleth\"}], \"contour\": [{\"colorbar\": {\"outlinewidth\": 0, \"ticks\": \"\"}, \"colorscale\": [[0.0, \"#0d0887\"], [0.1111111111111111, \"#46039f\"], [0.2222222222222222, \"#7201a8\"], [0.3333333333333333, \"#9c179e\"], [0.4444444444444444, \"#bd3786\"], [0.5555555555555556, \"#d8576b\"], [0.6666666666666666, \"#ed7953\"], [0.7777777777777778, \"#fb9f3a\"], [0.8888888888888888, \"#fdca26\"], [1.0, \"#f0f921\"]], \"type\": \"contour\"}], \"contourcarpet\": [{\"colorbar\": {\"outlinewidth\": 0, \"ticks\": \"\"}, \"type\": \"contourcarpet\"}], \"heatmap\": [{\"colorbar\": {\"outlinewidth\": 0, \"ticks\": \"\"}, \"colorscale\": [[0.0, \"#0d0887\"], [0.1111111111111111, \"#46039f\"], [0.2222222222222222, \"#7201a8\"], [0.3333333333333333, \"#9c179e\"], [0.4444444444444444, \"#bd3786\"], [0.5555555555555556, \"#d8576b\"], [0.6666666666666666, \"#ed7953\"], [0.7777777777777778, \"#fb9f3a\"], [0.8888888888888888, \"#fdca26\"], [1.0, \"#f0f921\"]], \"type\": \"heatmap\"}], \"heatmapgl\": [{\"colorbar\": {\"outlinewidth\": 0, \"ticks\": \"\"}, \"colorscale\": [[0.0, \"#0d0887\"], [0.1111111111111111, \"#46039f\"], [0.2222222222222222, \"#7201a8\"], [0.3333333333333333, \"#9c179e\"], [0.4444444444444444, \"#bd3786\"], [0.5555555555555556, \"#d8576b\"], [0.6666666666666666, \"#ed7953\"], [0.7777777777777778, \"#fb9f3a\"], [0.8888888888888888, \"#fdca26\"], [1.0, \"#f0f921\"]], \"type\": \"heatmapgl\"}], \"histogram\": [{\"marker\": {\"colorbar\": {\"outlinewidth\": 0, \"ticks\": \"\"}}, \"type\": \"histogram\"}], \"histogram2d\": [{\"colorbar\": {\"outlinewidth\": 0, \"ticks\": \"\"}, \"colorscale\": [[0.0, \"#0d0887\"], [0.1111111111111111, \"#46039f\"], [0.2222222222222222, \"#7201a8\"], [0.3333333333333333, \"#9c179e\"], [0.4444444444444444, \"#bd3786\"], [0.5555555555555556, \"#d8576b\"], [0.6666666666666666, \"#ed7953\"], [0.7777777777777778, \"#fb9f3a\"], [0.8888888888888888, \"#fdca26\"], [1.0, \"#f0f921\"]], \"type\": \"histogram2d\"}], \"histogram2dcontour\": [{\"colorbar\": {\"outlinewidth\": 0, \"ticks\": \"\"}, \"colorscale\": [[0.0, \"#0d0887\"], [0.1111111111111111, \"#46039f\"], [0.2222222222222222, \"#7201a8\"], [0.3333333333333333, \"#9c179e\"], [0.4444444444444444, \"#bd3786\"], [0.5555555555555556, \"#d8576b\"], [0.6666666666666666, \"#ed7953\"], [0.7777777777777778, \"#fb9f3a\"], [0.8888888888888888, \"#fdca26\"], [1.0, \"#f0f921\"]], \"type\": \"histogram2dcontour\"}], \"mesh3d\": [{\"colorbar\": {\"outlinewidth\": 0, \"ticks\": \"\"}, \"type\": \"mesh3d\"}], \"parcoords\": [{\"line\": {\"colorbar\": {\"outlinewidth\": 0, \"ticks\": \"\"}}, \"type\": \"parcoords\"}], \"pie\": [{\"automargin\": true, \"type\": \"pie\"}], \"scatter\": [{\"marker\": {\"colorbar\": {\"outlinewidth\": 0, \"ticks\": \"\"}}, \"type\": \"scatter\"}], \"scatter3d\": [{\"line\": {\"colorbar\": {\"outlinewidth\": 0, \"ticks\": \"\"}}, \"marker\": {\"colorbar\": {\"outlinewidth\": 0, \"ticks\": \"\"}}, \"type\": \"scatter3d\"}], \"scattercarpet\": [{\"marker\": {\"colorbar\": {\"outlinewidth\": 0, \"ticks\": \"\"}}, \"type\": \"scattercarpet\"}], \"scattergeo\": [{\"marker\": {\"colorbar\": {\"outlinewidth\": 0, \"ticks\": \"\"}}, \"type\": \"scattergeo\"}], \"scattergl\": [{\"marker\": {\"colorbar\": {\"outlinewidth\": 0, \"ticks\": \"\"}}, \"type\": \"scattergl\"}], \"scattermapbox\": [{\"marker\": {\"colorbar\": {\"outlinewidth\": 0, \"ticks\": \"\"}}, \"type\": \"scattermapbox\"}], \"scatterpolar\": [{\"marker\": {\"colorbar\": {\"outlinewidth\": 0, \"ticks\": \"\"}}, \"type\": \"scatterpolar\"}], \"scatterpolargl\": [{\"marker\": {\"colorbar\": {\"outlinewidth\": 0, \"ticks\": \"\"}}, \"type\": \"scatterpolargl\"}], \"scatterternary\": [{\"marker\": {\"colorbar\": {\"outlinewidth\": 0, \"ticks\": \"\"}}, \"type\": \"scatterternary\"}], \"surface\": [{\"colorbar\": {\"outlinewidth\": 0, \"ticks\": \"\"}, \"colorscale\": [[0.0, \"#0d0887\"], [0.1111111111111111, \"#46039f\"], [0.2222222222222222, \"#7201a8\"], [0.3333333333333333, \"#9c179e\"], [0.4444444444444444, \"#bd3786\"], [0.5555555555555556, \"#d8576b\"], [0.6666666666666666, \"#ed7953\"], [0.7777777777777778, \"#fb9f3a\"], [0.8888888888888888, \"#fdca26\"], [1.0, \"#f0f921\"]], \"type\": \"surface\"}], \"table\": [{\"cells\": {\"fill\": {\"color\": \"#EBF0F8\"}, \"line\": {\"color\": \"white\"}}, \"header\": {\"fill\": {\"color\": \"#C8D4E3\"}, \"line\": {\"color\": \"white\"}}, \"type\": \"table\"}]}, \"layout\": {\"annotationdefaults\": {\"arrowcolor\": \"#2a3f5f\", \"arrowhead\": 0, \"arrowwidth\": 1}, \"coloraxis\": {\"colorbar\": {\"outlinewidth\": 0, \"ticks\": \"\"}}, \"colorscale\": {\"diverging\": [[0, \"#8e0152\"], [0.1, \"#c51b7d\"], [0.2, \"#de77ae\"], [0.3, \"#f1b6da\"], [0.4, \"#fde0ef\"], [0.5, \"#f7f7f7\"], [0.6, \"#e6f5d0\"], [0.7, \"#b8e186\"], [0.8, \"#7fbc41\"], [0.9, \"#4d9221\"], [1, \"#276419\"]], \"sequential\": [[0.0, \"#0d0887\"], [0.1111111111111111, \"#46039f\"], [0.2222222222222222, \"#7201a8\"], [0.3333333333333333, \"#9c179e\"], [0.4444444444444444, \"#bd3786\"], [0.5555555555555556, \"#d8576b\"], [0.6666666666666666, \"#ed7953\"], [0.7777777777777778, \"#fb9f3a\"], [0.8888888888888888, \"#fdca26\"], [1.0, \"#f0f921\"]], \"sequentialminus\": [[0.0, \"#0d0887\"], [0.1111111111111111, \"#46039f\"], [0.2222222222222222, \"#7201a8\"], [0.3333333333333333, \"#9c179e\"], [0.4444444444444444, \"#bd3786\"], [0.5555555555555556, \"#d8576b\"], [0.6666666666666666, \"#ed7953\"], [0.7777777777777778, \"#fb9f3a\"], [0.8888888888888888, \"#fdca26\"], [1.0, \"#f0f921\"]]}, \"colorway\": [\"#636efa\", \"#EF553B\", \"#00cc96\", \"#ab63fa\", \"#FFA15A\", \"#19d3f3\", \"#FF6692\", \"#B6E880\", \"#FF97FF\", \"#FECB52\"], \"font\": {\"color\": \"#2a3f5f\"}, \"geo\": {\"bgcolor\": \"white\", \"lakecolor\": \"white\", \"landcolor\": \"#E5ECF6\", \"showlakes\": true, \"showland\": true, \"subunitcolor\": \"white\"}, \"hoverlabel\": {\"align\": \"left\"}, \"hovermode\": \"closest\", \"mapbox\": {\"style\": \"light\"}, \"paper_bgcolor\": \"white\", \"plot_bgcolor\": \"#E5ECF6\", \"polar\": {\"angularaxis\": {\"gridcolor\": \"white\", \"linecolor\": \"white\", \"ticks\": \"\"}, \"bgcolor\": \"#E5ECF6\", \"radialaxis\": {\"gridcolor\": \"white\", \"linecolor\": \"white\", \"ticks\": \"\"}}, \"scene\": {\"xaxis\": {\"backgroundcolor\": \"#E5ECF6\", \"gridcolor\": \"white\", \"gridwidth\": 2, \"linecolor\": \"white\", \"showbackground\": true, \"ticks\": \"\", \"zerolinecolor\": \"white\"}, \"yaxis\": {\"backgroundcolor\": \"#E5ECF6\", \"gridcolor\": \"white\", \"gridwidth\": 2, \"linecolor\": \"white\", \"showbackground\": true, \"ticks\": \"\", \"zerolinecolor\": \"white\"}, \"zaxis\": {\"backgroundcolor\": \"#E5ECF6\", \"gridcolor\": \"white\", \"gridwidth\": 2, \"linecolor\": \"white\", \"showbackground\": true, \"ticks\": \"\", \"zerolinecolor\": \"white\"}}, \"shapedefaults\": {\"line\": {\"color\": \"#2a3f5f\"}}, \"ternary\": {\"aaxis\": {\"gridcolor\": \"white\", \"linecolor\": \"white\", \"ticks\": \"\"}, \"baxis\": {\"gridcolor\": \"white\", \"linecolor\": \"white\", \"ticks\": \"\"}, \"bgcolor\": \"#E5ECF6\", \"caxis\": {\"gridcolor\": \"white\", \"linecolor\": \"white\", \"ticks\": \"\"}}, \"title\": {\"x\": 0.05}, \"xaxis\": {\"automargin\": true, \"gridcolor\": \"white\", \"linecolor\": \"white\", \"ticks\": \"\", \"title\": {\"standoff\": 15}, \"zerolinecolor\": \"white\", \"zerolinewidth\": 2}, \"yaxis\": {\"automargin\": true, \"gridcolor\": \"white\", \"linecolor\": \"white\", \"ticks\": \"\", \"title\": {\"standoff\": 15}, \"zerolinecolor\": \"white\", \"zerolinewidth\": 2}}}, \"width\": 600},\n",
       "                        {\"responsive\": true}\n",
       "                    ).then(function(){\n",
       "                            \n",
       "var gd = document.getElementById('b04571f5-15a5-4fb6-a226-b41e5bfc8b14');\n",
       "var x = new MutationObserver(function (mutations, observer) {{\n",
       "        var display = window.getComputedStyle(gd).display;\n",
       "        if (!display || display === 'none') {{\n",
       "            console.log([gd, 'removed!']);\n",
       "            Plotly.purge(gd);\n",
       "            observer.disconnect();\n",
       "        }}\n",
       "}});\n",
       "\n",
       "// Listen for the removal of the full notebook cells\n",
       "var notebookContainer = gd.closest('#notebook-container');\n",
       "if (notebookContainer) {{\n",
       "    x.observe(notebookContainer, {childList: true});\n",
       "}}\n",
       "\n",
       "// Listen for the clearing of the current output cell\n",
       "var outputEl = gd.closest('.output');\n",
       "if (outputEl) {{\n",
       "    x.observe(outputEl, {childList: true});\n",
       "}}\n",
       "\n",
       "                        })\n",
       "                };\n",
       "                });\n",
       "            </script>\n",
       "        </div>"
      ]
     },
     "metadata": {},
     "output_type": "display_data"
    }
   ],
   "source": [
    "# Create 3D scatter plot\n",
    "fig = px.scatter_3d(clustered_df, x=\"PC 1\", y=\"PC 2\", z=\"PC 3\", color=\"class\", symbol=\"class\", hover_name=\"CoinName\",\n",
    "                    hover_data=[\"Algorithm\"], width=600)\n",
    "fig.update_layout(legend=dict(x=0, y=1))\n",
    "fig.show()"
   ]
  },
  {
   "cell_type": "code",
   "execution_count": 71,
   "metadata": {},
   "outputs": [
    {
     "name": "stdout",
     "output_type": "stream",
     "text": [
      "Help on Table in module holoviews.element.tabular object:\n",
      "\n",
      "class Table(holoviews.element.selection.SelectionIndexExpr, holoviews.core.data.Dataset, holoviews.core.element.Tabular)\n",
      " |  Table(data=None, kdims=None, vdims=None, **kwargs)\n",
      " |  \n",
      " |  params(datatype=List, cdims=Dict, kdims=List, vdims=List, group=String, label=String, name=String)\n",
      " |  \n",
      " |      Table is a Dataset type, which gets displayed in a tabular\n",
      " |      format and is convertible to most other Element types.\n",
      " |      \n",
      " |  \u001b[1;32mParameters of 'Table'\n",
      " |  =====================\n",
      " |  \u001b[0m\n",
      " |  \u001b[1;31mParameters changed from their default values are marked in red.\u001b[0m\n",
      " |  \u001b[1;36mSoft bound values are marked in cyan.\u001b[0m\n",
      " |  C/V= Constant/Variable, RO/RW = ReadOnly/ReadWrite, AN=Allow None\n",
      " |  \n",
      " |  \u001b[1;34mName                        Value                     Type     Bounds   Mode \u001b[0m\n",
      " |  \n",
      " |  cdims                   OrderedDict()                 Dict              V RW \n",
      " |  datatype   ['dataframe', 'dictionary', 'grid', '...   List   (0, None)  V RW \n",
      " |  group                      'Table'                   String             C RW \n",
      " |  kdims                         []                      List   (0, None)  C RW \n",
      " |  label                         ''                     String             C RW \n",
      " |  vdims                         []                      List   (0, None)  C RW \n",
      " |  \n",
      " |  \u001b[1;32mParameter docstrings:\n",
      " |  =====================\u001b[0m\n",
      " |  \n",
      " |  \u001b[1;34mcdims:    The constant dimensions defined as a dictionary of Dimension:value\u001b[0m\n",
      " |  \u001b[1;34m          pairs providing additional dimension information about the object.\u001b[0m\n",
      " |  \u001b[1;34m          \u001b[0m\n",
      " |  \u001b[1;34m          Aliased with constant_dimensions.\u001b[0m\n",
      " |  \u001b[1;31mdatatype: A priority list of the data types to be used for storage\u001b[0m\n",
      " |  \u001b[1;31m          on the .data attribute. If the input supplied to the element\u001b[0m\n",
      " |  \u001b[1;31m          constructor cannot be put into the requested format, the next\u001b[0m\n",
      " |  \u001b[1;31m          format listed will be used until a suitable format is found (or\u001b[0m\n",
      " |  \u001b[1;31m          the data fails to be understood).\u001b[0m\n",
      " |  \u001b[1;34mgroup:    The group is used to describe the Table.\u001b[0m\n",
      " |  \u001b[1;31mkdims:    The key dimensions defined as list of dimensions that may be\u001b[0m\n",
      " |  \u001b[1;31m          used in indexing (and potential slicing) semantics. The order\u001b[0m\n",
      " |  \u001b[1;31m          of the dimensions listed here determines the semantics of each\u001b[0m\n",
      " |  \u001b[1;31m          component of a multi-dimensional indexing operation.\u001b[0m\n",
      " |  \u001b[1;31m          \u001b[0m\n",
      " |  \u001b[1;31m          Aliased with key_dimensions.\u001b[0m\n",
      " |  \u001b[1;34mlabel:    Optional label describing the data, typically reflecting where\u001b[0m\n",
      " |  \u001b[1;34m          or how it was measured. The label should allow a specific\u001b[0m\n",
      " |  \u001b[1;34m          measurement or dataset to be referenced for a given group.\u001b[0m\n",
      " |  \u001b[1;31mvdims:    The value dimensions defined as the list of dimensions used to\u001b[0m\n",
      " |  \u001b[1;31m          describe the components of the data. If multiple value\u001b[0m\n",
      " |  \u001b[1;31m          dimensions are supplied, a particular value dimension may be\u001b[0m\n",
      " |  \u001b[1;31m          indexed by name after the key dimensions.\u001b[0m\n",
      " |  \u001b[1;31m          \u001b[0m\n",
      " |  \u001b[1;31m          Aliased with value_dimensions.\u001b[0m\n",
      " |  \n",
      " |  Method resolution order:\n",
      " |      Table\n",
      " |      holoviews.element.selection.SelectionIndexExpr\n",
      " |      holoviews.core.data.Dataset\n",
      " |      holoviews.core.element.Tabular\n",
      " |      holoviews.core.element.Element\n",
      " |      holoviews.core.dimension.ViewableElement\n",
      " |      holoviews.core.dimension.Dimensioned\n",
      " |      holoviews.core.dimension.LabelledData\n",
      " |      param.parameterized.Parameterized\n",
      " |      holoviews.core.layout.Composable\n",
      " |      holoviews.core.overlay.Overlayable\n",
      " |      builtins.object\n",
      " |  \n",
      " |  Data and other attributes defined here:\n",
      " |  \n",
      " |  group = 'Table'\n",
      " |  \n",
      " |  name = 'Table'\n",
      " |  \n",
      " |  param = <param.parameterized.Parameters object>\n",
      " |  \n",
      " |  ----------------------------------------------------------------------\n",
      " |  Data descriptors inherited from holoviews.element.selection.SelectionIndexExpr:\n",
      " |  \n",
      " |  __dict__\n",
      " |      dictionary for instance variables (if defined)\n",
      " |  \n",
      " |  __weakref__\n",
      " |      list of weak references to the object (if defined)\n",
      " |  \n",
      " |  ----------------------------------------------------------------------\n",
      " |  Methods inherited from holoviews.core.data.Dataset:\n",
      " |  \n",
      " |  __bool__ = __nonzero__(self)\n",
      " |  \n",
      " |  __getitem__(self, slices)\n",
      " |      Allows slicing and selecting values in the Dataset object.\n",
      " |      Supports multiple indexing modes:\n",
      " |      \n",
      " |         (1) Slicing and indexing along the values of each dimension\n",
      " |             in the columns object using either scalars, slices or\n",
      " |             sets of values.\n",
      " |         (2) Supplying the name of a dimension as the first argument\n",
      " |             will return the values along that dimension as a numpy\n",
      " |             array.\n",
      " |         (3) Slicing of all key dimensions and selecting a single\n",
      " |             value dimension by name.\n",
      " |         (4) A boolean array index matching the length of the Dataset\n",
      " |             object.\n",
      " |  \n",
      " |  __init__(self, data, kdims=None, vdims=None, **kwargs)\n",
      " |      All LabelledData subclasses must supply data to the\n",
      " |      constructor, which will be held on the .data attribute.\n",
      " |      This class also has an id instance attribute, which\n",
      " |      may be set to associate some custom options with the object.\n",
      " |  \n",
      " |  __len__(self)\n",
      " |      Number of values in the Dataset.\n",
      " |  \n",
      " |  __nonzero__(self)\n",
      " |      Whether the Dataset contains any values\n",
      " |  \n",
      " |  add_dimension = pipelined_fn(*args, **kwargs)\n",
      " |      Adds a dimension and its values to the Dataset\n",
      " |      \n",
      " |      Requires the dimension name or object, the desired position in\n",
      " |      the key dimensions and a key value scalar or array of values,\n",
      " |      matching the length or shape of the Dataset.\n",
      " |      \n",
      " |      Args:\n",
      " |          dimension: Dimension or dimension spec to add\n",
      " |          dim_pos (int): Integer index to insert dimension at\n",
      " |          dim_val (scalar or ndarray): Dimension value(s) to add\n",
      " |          vdim: Disabled, this type does not have value dimensions\n",
      " |          **kwargs: Keyword arguments passed to the cloned element\n",
      " |      Returns:\n",
      " |          Cloned object containing the new dimension\n",
      " |  \n",
      " |  aggregate = pipelined_fn(*args, **kwargs)\n",
      " |      Aggregates data on the supplied dimensions.\n",
      " |      \n",
      " |      Aggregates over the supplied key dimensions with the defined\n",
      " |      function or dim_transform specified as a tuple of the transformed\n",
      " |      dimension name and dim transform.\n",
      " |      \n",
      " |      Args:\n",
      " |          dimensions: Dimension(s) to aggregate on\n",
      " |              Default to all key dimensions\n",
      " |          function: Aggregation function or transform to apply\n",
      " |              Supports both simple functions and dimension transforms\n",
      " |          spreadfn: Secondary reduction to compute value spread\n",
      " |              Useful for computing a confidence interval, spread, or\n",
      " |              standard deviation.\n",
      " |          **kwargs: Keyword arguments either passed to the aggregation function\n",
      " |              or to create new names for the transformed variables\n",
      " |      \n",
      " |      Returns:\n",
      " |          Returns the aggregated Dataset\n",
      " |  \n",
      " |  clone(self, data=None, shared_data=True, new_type=None, link=True, *args, **overrides)\n",
      " |      Clones the object, overriding data and parameters.\n",
      " |      \n",
      " |      Args:\n",
      " |          data: New data replacing the existing data\n",
      " |          shared_data (bool, optional): Whether to use existing data\n",
      " |          new_type (optional): Type to cast object to\n",
      " |          link (bool, optional): Whether clone should be linked\n",
      " |              Determines whether Streams and Links attached to\n",
      " |              original object will be inherited.\n",
      " |          *args: Additional arguments to pass to constructor\n",
      " |          **overrides: New keyword arguments to pass to constructor\n",
      " |      \n",
      " |      Returns:\n",
      " |          Cloned object\n",
      " |  \n",
      " |  closest = pipelined_fn(*args, **kwargs)\n",
      " |      Snaps coordinate(s) to closest coordinate in Dataset\n",
      " |      \n",
      " |      Args:\n",
      " |          coords: List of coordinates expressed as tuples\n",
      " |          **kwargs: Coordinates defined as keyword pairs\n",
      " |      \n",
      " |      Returns:\n",
      " |          List of tuples of the snapped coordinates\n",
      " |      \n",
      " |      Raises:\n",
      " |          NotImplementedError: Raised if snapping is not supported\n",
      " |  \n",
      " |  columns = pipelined_fn(*args, **kwargs)\n",
      " |      Convert dimension values to a dictionary.\n",
      " |      \n",
      " |      Returns a dictionary of column arrays along each dimension\n",
      " |      of the element.\n",
      " |      \n",
      " |      Args:\n",
      " |          dimensions: Dimensions to return as columns\n",
      " |      \n",
      " |      Returns:\n",
      " |          Dictionary of arrays for each dimension\n",
      " |  \n",
      " |  dframe = pipelined_fn(*args, **kwargs)\n",
      " |      Convert dimension values to DataFrame.\n",
      " |      \n",
      " |      Returns a pandas dataframe of columns along each dimension,\n",
      " |      either completely flat or indexed by key dimensions.\n",
      " |      \n",
      " |      Args:\n",
      " |          dimensions: Dimensions to return as columns\n",
      " |          multi_index: Convert key dimensions to (multi-)index\n",
      " |      \n",
      " |      Returns:\n",
      " |          DataFrame of columns corresponding to each dimension\n",
      " |  \n",
      " |  dimension_values = pipelined_fn(*args, **kwargs)\n",
      " |      Return the values along the requested dimension.\n",
      " |      \n",
      " |      Args:\n",
      " |          dimension: The dimension to return values for\n",
      " |          expanded (bool, optional): Whether to expand values\n",
      " |              Whether to return the expanded values, behavior depends\n",
      " |              on the type of data:\n",
      " |                * Columnar: If false returns unique values\n",
      " |                * Geometry: If false returns scalar values per geometry\n",
      " |                * Gridded: If false returns 1D coordinates\n",
      " |          flat (bool, optional): Whether to flatten array\n",
      " |      \n",
      " |      Returns:\n",
      " |          NumPy array of values along the requested dimension\n",
      " |  \n",
      " |  get_dimension_type = pipelined_fn(*args, **kwargs)\n",
      " |      Get the type of the requested dimension.\n",
      " |      \n",
      " |      Type is determined by Dimension.type attribute or common\n",
      " |      type of the dimension values, otherwise None.\n",
      " |      \n",
      " |      Args:\n",
      " |          dimension: Dimension to look up by name or by index\n",
      " |      \n",
      " |      Returns:\n",
      " |          Declared type of values along the dimension\n",
      " |  \n",
      " |  groupby = pipelined_fn(*args, **kwargs)\n",
      " |      Groups object by one or more dimensions\n",
      " |      \n",
      " |      Applies groupby operation over the specified dimensions\n",
      " |      returning an object of type container_type (expected to be\n",
      " |      dictionary-like) containing the groups.\n",
      " |      \n",
      " |      Args:\n",
      " |          dimensions: Dimension(s) to group by\n",
      " |          container_type: Type to cast group container to\n",
      " |          group_type: Type to cast each group to\n",
      " |          dynamic: Whether to return a DynamicMap\n",
      " |          **kwargs: Keyword arguments to pass to each group\n",
      " |      \n",
      " |      Returns:\n",
      " |          Returns object of supplied container_type containing the\n",
      " |          groups. If dynamic=True returns a DynamicMap instead.\n",
      " |  \n",
      " |  map = pipelined_fn(*args, **kwargs)\n",
      " |      Map a function to all objects matching the specs\n",
      " |      \n",
      " |      Recursively replaces elements using a map function when the\n",
      " |      specs apply, by default applies to all objects, e.g. to apply\n",
      " |      the function to all contained Curve objects:\n",
      " |      \n",
      " |          dmap.map(fn, hv.Curve)\n",
      " |      \n",
      " |      Args:\n",
      " |          map_fn: Function to apply to each object\n",
      " |          specs: List of specs to match\n",
      " |              List of types, functions or type[.group][.label] specs\n",
      " |              to select objects to return, by default applies to all\n",
      " |              objects.\n",
      " |          clone: Whether to clone the object or transform inplace\n",
      " |      \n",
      " |      Returns:\n",
      " |          Returns the object after the map_fn has been applied\n",
      " |  \n",
      " |  options = pipelined_fn(*args, **kwargs)\n",
      " |      Applies simplified option definition returning a new object.\n",
      " |      \n",
      " |      Applies options on an object or nested group of objects in a\n",
      " |      flat format returning a new object with the options\n",
      " |      applied. If the options are to be set directly on the object a\n",
      " |      simple format may be used, e.g.:\n",
      " |      \n",
      " |          obj.options(cmap='viridis', show_title=False)\n",
      " |      \n",
      " |      If the object is nested the options must be qualified using\n",
      " |      a type[.group][.label] specification, e.g.:\n",
      " |      \n",
      " |          obj.options('Image', cmap='viridis', show_title=False)\n",
      " |      \n",
      " |      or using:\n",
      " |      \n",
      " |          obj.options({'Image': dict(cmap='viridis', show_title=False)})\n",
      " |      \n",
      " |      Identical to the .opts method but returns a clone of the object\n",
      " |      by default.\n",
      " |      \n",
      " |      Args:\n",
      " |          *args: Sets of options to apply to object\n",
      " |              Supports a number of formats including lists of Options\n",
      " |              objects, a type[.group][.label] followed by a set of\n",
      " |              keyword options to apply and a dictionary indexed by\n",
      " |              type[.group][.label] specs.\n",
      " |          backend (optional): Backend to apply options to\n",
      " |              Defaults to current selected backend\n",
      " |          clone (bool, optional): Whether to clone object\n",
      " |              Options can be applied inplace with clone=False\n",
      " |          **kwargs: Keywords of options\n",
      " |              Set of options to apply to the object\n",
      " |      \n",
      " |      Returns:\n",
      " |          Returns the cloned object with the options applied\n",
      " |  \n",
      " |  range = pipelined_fn(*args, **kwargs)\n",
      " |      Return the lower and upper bounds of values along dimension.\n",
      " |      \n",
      " |      Args:\n",
      " |          dimension: The dimension to compute the range on.\n",
      " |          data_range (bool): Compute range from data values\n",
      " |          dimension_range (bool): Include Dimension ranges\n",
      " |              Whether to include Dimension range and soft_range\n",
      " |              in range calculation\n",
      " |      \n",
      " |      Returns:\n",
      " |          Tuple containing the lower and upper bound\n",
      " |  \n",
      " |  reduce = pipelined_fn(*args, **kwargs)\n",
      " |      Applies reduction along the specified dimension(s).\n",
      " |      \n",
      " |      Allows reducing the values along one or more key dimension\n",
      " |      with the supplied function. Supports two signatures:\n",
      " |      \n",
      " |      Reducing with a list of dimensions, e.g.:\n",
      " |      \n",
      " |          ds.reduce(['x'], np.mean)\n",
      " |      \n",
      " |      Defining a reduction using keywords, e.g.:\n",
      " |      \n",
      " |          ds.reduce(x=np.mean)\n",
      " |      \n",
      " |      Args:\n",
      " |          dimensions: Dimension(s) to apply reduction on\n",
      " |              Defaults to all key dimensions\n",
      " |          function: Reduction operation to apply, e.g. numpy.mean\n",
      " |          spreadfn: Secondary reduction to compute value spread\n",
      " |              Useful for computing a confidence interval, spread, or\n",
      " |              standard deviation.\n",
      " |          **reductions: Keyword argument defining reduction\n",
      " |              Allows reduction to be defined as keyword pair of\n",
      " |              dimension and function\n",
      " |      \n",
      " |      Returns:\n",
      " |          The Dataset after reductions have been applied.\n",
      " |  \n",
      " |  reindex = pipelined_fn(*args, **kwargs)\n",
      " |      Reindexes Dataset dropping static or supplied kdims\n",
      " |      \n",
      " |      Creates a new object with a reordered or reduced set of key\n",
      " |      dimensions. By default drops all non-varying key dimensions.x\n",
      " |      \n",
      " |      Args:\n",
      " |          kdims (optional): New list of key dimensionsx\n",
      " |          vdims (optional): New list of value dimensions\n",
      " |      \n",
      " |      Returns:\n",
      " |          Reindexed object\n",
      " |  \n",
      " |  relabel = pipelined_fn(*args, **kwargs)\n",
      " |      Clone object and apply new group and/or label.\n",
      " |      \n",
      " |      Applies relabeling to children up to the supplied depth.\n",
      " |      \n",
      " |      Args:\n",
      " |          label (str, optional): New label to apply to returned object\n",
      " |          group (str, optional): New group to apply to returned object\n",
      " |          depth (int, optional): Depth to which relabel will be applied\n",
      " |              If applied to container allows applying relabeling to\n",
      " |              contained objects up to the specified depth\n",
      " |      \n",
      " |      Returns:\n",
      " |          Returns relabelled object\n",
      " |  \n",
      " |  sample = pipelined_fn(*args, **kwargs)\n",
      " |      Samples values at supplied coordinates.\n",
      " |      \n",
      " |      Allows sampling of element with a list of coordinates matching\n",
      " |      the key dimensions, returning a new object containing just the\n",
      " |      selected samples. Supports multiple signatures:\n",
      " |      \n",
      " |      Sampling with a list of coordinates, e.g.:\n",
      " |      \n",
      " |          ds.sample([(0, 0), (0.1, 0.2), ...])\n",
      " |      \n",
      " |      Sampling a range or grid of coordinates, e.g.:\n",
      " |      \n",
      " |          1D: ds.sample(3)\n",
      " |          2D: ds.sample((3, 3))\n",
      " |      \n",
      " |      Sampling by keyword, e.g.:\n",
      " |      \n",
      " |          ds.sample(x=0)\n",
      " |      \n",
      " |      Args:\n",
      " |          samples: List of nd-coordinates to sample\n",
      " |          bounds: Bounds of the region to sample\n",
      " |              Defined as two-tuple for 1D sampling and four-tuple\n",
      " |              for 2D sampling.\n",
      " |          closest: Whether to snap to closest coordinates\n",
      " |          **kwargs: Coordinates specified as keyword pairs\n",
      " |              Keywords of dimensions and scalar coordinates\n",
      " |      \n",
      " |      Returns:\n",
      " |          Element containing the sampled coordinates\n",
      " |  \n",
      " |  select = pipelined_fn(*args, **kwargs)\n",
      " |      Applies selection by dimension name\n",
      " |      \n",
      " |      Applies a selection along the dimensions of the object using\n",
      " |      keyword arguments. The selection may be narrowed to certain\n",
      " |      objects using selection_specs. For container objects the\n",
      " |      selection will be applied to all children as well.\n",
      " |      \n",
      " |      Selections may select a specific value, slice or set of values:\n",
      " |      \n",
      " |      * value: Scalar values will select rows along with an exact\n",
      " |               match, e.g.:\n",
      " |      \n",
      " |          ds.select(x=3)\n",
      " |      \n",
      " |      * slice: Slices may be declared as tuples of the upper and\n",
      " |               lower bound, e.g.:\n",
      " |      \n",
      " |          ds.select(x=(0, 3))\n",
      " |      \n",
      " |      * values: A list of values may be selected using a list or\n",
      " |                set, e.g.:\n",
      " |      \n",
      " |          ds.select(x=[0, 1, 2])\n",
      " |      \n",
      " |      * predicate expression: A holoviews.dim expression, e.g.:\n",
      " |      \n",
      " |          from holoviews import dim\n",
      " |          ds.select(selection_expr=dim('x') % 2 == 0)\n",
      " |      \n",
      " |      Args:\n",
      " |          selection_expr: holoviews.dim predicate expression\n",
      " |              specifying selection.\n",
      " |          selection_specs: List of specs to match on\n",
      " |              A list of types, functions, or type[.group][.label]\n",
      " |              strings specifying which objects to apply the\n",
      " |              selection on.\n",
      " |          **selection: Dictionary declaring selections by dimension\n",
      " |              Selections can be scalar values, tuple ranges, lists\n",
      " |              of discrete values and boolean arrays\n",
      " |      \n",
      " |      Returns:\n",
      " |          Returns an Dimensioned object containing the selected data\n",
      " |          or a scalar if a single value was selected\n",
      " |  \n",
      " |  sort = pipelined_fn(*args, **kwargs)\n",
      " |      Sorts the data by the values along the supplied dimensions.\n",
      " |      \n",
      " |      Args:\n",
      " |          by: Dimension(s) to sort by\n",
      " |          reverse (bool, optional): Reverse sort order\n",
      " |      \n",
      " |      Returns:\n",
      " |          Sorted Dataset\n",
      " |  \n",
      " |  transform = pipelined_fn(*args, **kwargs)\n",
      " |      Transforms the Dataset according to a dimension transform.\n",
      " |      \n",
      " |      Transforms may be supplied as tuples consisting of the\n",
      " |      dimension(s) and the dim transform to apply or keyword\n",
      " |      arguments mapping from dimension(s) to dim transforms. If the\n",
      " |      arg or kwarg declares multiple dimensions the dim transform\n",
      " |      should return a tuple of values for each.\n",
      " |      \n",
      " |      A transform may override an existing dimension or add a new\n",
      " |      one in which case it will be added as an additional value\n",
      " |      dimension.\n",
      " |      \n",
      " |      Args:\n",
      " |          args: Specify the output arguments and transforms as a\n",
      " |                tuple of dimension specs and dim transforms\n",
      " |          drop (bool): Whether to drop all variables not part of the transform\n",
      " |          keep_index (bool): Whether to keep indexes\n",
      " |                Whether to apply transform on datastructure with\n",
      " |                index, e.g. pandas.Series or xarray.DataArray,\n",
      " |                (important for dask datastructures where index may\n",
      " |                be required to align datasets).\n",
      " |          kwargs: Specify new dimensions in the form new_dim=dim_transform\n",
      " |      \n",
      " |      Returns:\n",
      " |          Transformed dataset with new dimensions\n",
      " |  \n",
      " |  ----------------------------------------------------------------------\n",
      " |  Static methods inherited from holoviews.core.data.Dataset:\n",
      " |  \n",
      " |  __new__(cls, data=None, kdims=None, vdims=None, **kwargs)\n",
      " |      Allows casting a DynamicMap to an Element class like hv.Curve, by applying the\n",
      " |      class to each underlying element.\n",
      " |  \n",
      " |  ----------------------------------------------------------------------\n",
      " |  Data descriptors inherited from holoviews.core.data.Dataset:\n",
      " |  \n",
      " |  dataset\n",
      " |      The Dataset that this object was created from\n",
      " |  \n",
      " |  iloc\n",
      " |      Returns iloc indexer with support for columnar indexing.\n",
      " |      \n",
      " |      Returns an iloc object providing a convenient interface to\n",
      " |      slice and index into the Dataset using row and column indices.\n",
      " |      Allow selection by integer index, slice and list of integer\n",
      " |      indices and boolean arrays.\n",
      " |      \n",
      " |      Examples:\n",
      " |      \n",
      " |      * Index the first row and column:\n",
      " |      \n",
      " |          dataset.iloc[0, 0]\n",
      " |      \n",
      " |      * Select rows 1 and 2 with a slice:\n",
      " |      \n",
      " |          dataset.iloc[1:3, :]\n",
      " |      \n",
      " |      * Select with a list of integer coordinates:\n",
      " |      \n",
      " |          dataset.iloc[[0, 2, 3]]\n",
      " |  \n",
      " |  ndloc\n",
      " |      Returns ndloc indexer with support for gridded indexing.\n",
      " |      \n",
      " |      Returns an ndloc object providing nd-array like indexing for\n",
      " |      gridded datasets. Follows NumPy array indexing conventions,\n",
      " |      allowing for indexing, slicing and selecting a list of indices\n",
      " |      on multi-dimensional arrays using integer indices. The order\n",
      " |      of array indices is inverted relative to the Dataset key\n",
      " |      dimensions, e.g. an Image with key dimensions 'x' and 'y' can\n",
      " |      be indexed with ``image.ndloc[iy, ix]``, where ``iy`` and\n",
      " |      ``ix`` are integer indices along the y and x dimensions.\n",
      " |      \n",
      " |      Examples:\n",
      " |      \n",
      " |      * Index value in 2D array:\n",
      " |      \n",
      " |          dataset.ndloc[3, 1]\n",
      " |      \n",
      " |      * Slice along y-axis of 2D array:\n",
      " |      \n",
      " |          dataset.ndloc[2:5, :]\n",
      " |      \n",
      " |      * Vectorized (non-orthogonal) indexing along x- and y-axes:\n",
      " |      \n",
      " |          dataset.ndloc[[1, 2, 3], [0, 2, 3]]\n",
      " |  \n",
      " |  pipeline\n",
      " |      Chain operation that evaluates the sequence of operations that was\n",
      " |      used to create this object, starting with the Dataset stored in\n",
      " |      dataset property\n",
      " |  \n",
      " |  redim\n",
      " |  \n",
      " |  shape\n",
      " |      Returns the shape of the data.\n",
      " |  \n",
      " |  to\n",
      " |      Returns the conversion interface with methods to convert Dataset\n",
      " |  \n",
      " |  ----------------------------------------------------------------------\n",
      " |  Data and other attributes inherited from holoviews.core.data.Dataset:\n",
      " |  \n",
      " |  datatype = ['dataframe', 'dictionary', 'grid', 'spatialpandas', 'xarra...\n",
      " |  \n",
      " |  ----------------------------------------------------------------------\n",
      " |  Methods inherited from holoviews.core.element.Tabular:\n",
      " |  \n",
      " |  cell_type(self, row, col)\n",
      " |      Type of the table cell, either 'data' or 'heading'\n",
      " |      \n",
      " |      Args:\n",
      " |          row (int): Integer index of table row\n",
      " |          col (int): Integer index of table column\n",
      " |      \n",
      " |      Returns:\n",
      " |          Type of the table cell, either 'data' or 'heading'\n",
      " |  \n",
      " |  pprint_cell(self, row, col)\n",
      " |      Formatted contents of table cell.\n",
      " |      \n",
      " |      Args:\n",
      " |          row (int): Integer index of table row\n",
      " |          col (int): Integer index of table column\n",
      " |      \n",
      " |      Returns:\n",
      " |          Formatted table cell contents\n",
      " |  \n",
      " |  ----------------------------------------------------------------------\n",
      " |  Data descriptors inherited from holoviews.core.element.Tabular:\n",
      " |  \n",
      " |  cols\n",
      " |      Number of columns in table\n",
      " |  \n",
      " |  rows\n",
      " |      Number of rows in table (including header)\n",
      " |  \n",
      " |  ----------------------------------------------------------------------\n",
      " |  Methods inherited from holoviews.core.element.Element:\n",
      " |  \n",
      " |  __contains__(self, dimension)\n",
      " |      Whether element contains the Dimension\n",
      " |  \n",
      " |  __iter__(self)\n",
      " |      Disable iterator interface.\n",
      " |  \n",
      " |  array(self, dimensions=None)\n",
      " |      Convert dimension values to columnar array.\n",
      " |      \n",
      " |      Args:\n",
      " |          dimensions: List of dimensions to return\n",
      " |      \n",
      " |      Returns:\n",
      " |          Array of columns corresponding to each dimension\n",
      " |  \n",
      " |  hist(self, dimension=None, num_bins=20, bin_range=None, adjoin=True, **kwargs)\n",
      " |      Computes and adjoins histogram along specified dimension(s).\n",
      " |      \n",
      " |      Defaults to first value dimension if present otherwise falls\n",
      " |      back to first key dimension.\n",
      " |      \n",
      " |      Args:\n",
      " |          dimension: Dimension(s) to compute histogram on\n",
      " |          num_bins (int, optional): Number of bins\n",
      " |          bin_range (tuple optional): Lower and upper bounds of bins\n",
      " |          adjoin (bool, optional): Whether to adjoin histogram\n",
      " |      \n",
      " |      Returns:\n",
      " |          AdjointLayout of element and histogram or just the\n",
      " |          histogram\n",
      " |  \n",
      " |  mapping(self, kdims=None, vdims=None, **kwargs)\n",
      " |      Deprecated method to convert data to dictionary\n",
      " |  \n",
      " |  table(self, datatype=None)\n",
      " |      Deprecated method to convert any Element to a Table.\n",
      " |  \n",
      " |  ----------------------------------------------------------------------\n",
      " |  Class methods inherited from holoviews.core.element.Element:\n",
      " |  \n",
      " |  collapse_data(data, function=None, kdims=None, **kwargs) from holoviews.core.data.PipelineMeta\n",
      " |      Deprecated method to perform collapse operations, which may\n",
      " |      now be performed through concatenation and aggregation.\n",
      " |  \n",
      " |  ----------------------------------------------------------------------\n",
      " |  Methods inherited from holoviews.core.dimension.Dimensioned:\n",
      " |  \n",
      " |  __call__(self, options=None, **kwargs)\n",
      " |      Call self as a function.\n",
      " |  \n",
      " |  __repr__(self)\n",
      " |      Provide a nearly valid Python representation that could be used to recreate\n",
      " |      the item with its parameters, if executed in the appropriate environment.\n",
      " |      \n",
      " |      Returns 'classname(parameter1=x,parameter2=y,...)', listing\n",
      " |      all the parameters of this object.\n",
      " |  \n",
      " |  __str__(self)\n",
      " |      Return a short representation of the name and class of this object.\n",
      " |  \n",
      " |  __unicode__(self)\n",
      " |  \n",
      " |  dimensions(self, selection='all', label=False)\n",
      " |      Lists the available dimensions on the object\n",
      " |      \n",
      " |      Provides convenient access to Dimensions on nested Dimensioned\n",
      " |      objects. Dimensions can be selected by their type, i.e. 'key'\n",
      " |      or 'value' dimensions. By default 'all' dimensions are\n",
      " |      returned.\n",
      " |      \n",
      " |      Args:\n",
      " |          selection: Type of dimensions to return\n",
      " |              The type of dimension, i.e. one of 'key', 'value',\n",
      " |              'constant' or 'all'.\n",
      " |          label: Whether to return the name, label or Dimension\n",
      " |              Whether to return the Dimension objects (False),\n",
      " |              the Dimension names (True/'name') or labels ('label').\n",
      " |      \n",
      " |      Returns:\n",
      " |          List of Dimension objects or their names or labels\n",
      " |  \n",
      " |  get_dimension(self, dimension, default=None, strict=False)\n",
      " |      Get a Dimension object by name or index.\n",
      " |      \n",
      " |      Args:\n",
      " |          dimension: Dimension to look up by name or integer index\n",
      " |          default (optional): Value returned if Dimension not found\n",
      " |          strict (bool, optional): Raise a KeyError if not found\n",
      " |      \n",
      " |      Returns:\n",
      " |          Dimension object for the requested dimension or default\n",
      " |  \n",
      " |  get_dimension_index(self, dimension)\n",
      " |      Get the index of the requested dimension.\n",
      " |      \n",
      " |      Args:\n",
      " |          dimension: Dimension to look up by name or by index\n",
      " |      \n",
      " |      Returns:\n",
      " |          Integer index of the requested dimension\n",
      " |  \n",
      " |  ----------------------------------------------------------------------\n",
      " |  Data descriptors inherited from holoviews.core.dimension.Dimensioned:\n",
      " |  \n",
      " |  apply\n",
      " |  \n",
      " |  ddims\n",
      " |      The list of deep dimensions\n",
      " |  \n",
      " |  opts\n",
      " |  \n",
      " |  ----------------------------------------------------------------------\n",
      " |  Data and other attributes inherited from holoviews.core.dimension.Dimensioned:\n",
      " |  \n",
      " |  cdims = OrderedDict()\n",
      " |  \n",
      " |  kdims = []\n",
      " |  \n",
      " |  vdims = []\n",
      " |  \n",
      " |  ----------------------------------------------------------------------\n",
      " |  Methods inherited from holoviews.core.dimension.LabelledData:\n",
      " |  \n",
      " |  __getstate__(self)\n",
      " |      Ensures pickles save options applied to this objects.\n",
      " |  \n",
      " |  __setstate__(self, d)\n",
      " |      Restores options applied to this object.\n",
      " |  \n",
      " |  matches(self, spec)\n",
      " |      Whether the spec applies to this object.\n",
      " |      \n",
      " |      Args:\n",
      " |          spec: A function, spec or type to check for a match\n",
      " |              * A 'type[[.group].label]' string which is compared\n",
      " |                against the type, group and label of this object\n",
      " |              * A function which is given the object and returns\n",
      " |                a boolean.\n",
      " |              * An object type matched using isinstance.\n",
      " |      \n",
      " |      Returns:\n",
      " |          bool: Whether the spec matched this object.\n",
      " |  \n",
      " |  traverse(self, fn=None, specs=None, full_breadth=True)\n",
      " |      Traverses object returning matching items\n",
      " |      Traverses the set of children of the object, collecting the\n",
      " |      all objects matching the defined specs. Each object can be\n",
      " |      processed with the supplied function.\n",
      " |      Args:\n",
      " |          fn (function, optional): Function applied to matched objects\n",
      " |          specs: List of specs to match\n",
      " |              Specs must be types, functions or type[.group][.label]\n",
      " |              specs to select objects to return, by default applies\n",
      " |              to all objects.\n",
      " |          full_breadth: Whether to traverse all objects\n",
      " |              Whether to traverse the full set of objects on each\n",
      " |              container or only the first.\n",
      " |      Returns:\n",
      " |          list: List of objects that matched\n",
      " |  \n",
      " |  ----------------------------------------------------------------------\n",
      " |  Data descriptors inherited from holoviews.core.dimension.LabelledData:\n",
      " |  \n",
      " |  id\n",
      " |  \n",
      " |  ----------------------------------------------------------------------\n",
      " |  Data and other attributes inherited from holoviews.core.dimension.LabelledData:\n",
      " |  \n",
      " |  label = ''\n",
      " |  \n",
      " |  ----------------------------------------------------------------------\n",
      " |  Methods inherited from param.parameterized.Parameterized:\n",
      " |  \n",
      " |  debug = inner(*args, **kwargs)\n",
      " |      Inspect .param.debug method for the full docstring\n",
      " |  \n",
      " |  defaults = inner(*args, **kwargs)\n",
      " |      Inspect .param.defaults method for the full docstring\n",
      " |  \n",
      " |  message = inner(*args, **kwargs)\n",
      " |      Inspect .param.message method for the full docstring\n",
      " |  \n",
      " |  pprint(self, imports=None, prefix=' ', unknown_value='<?>', qualify=False, separator='')\n",
      " |      (Experimental) Pretty printed representation that may be\n",
      " |      evaluated with eval. See pprint() function for more details.\n",
      " |  \n",
      " |  print_param_values = inner(*args, **kwargs)\n",
      " |      Inspect .param.print_param_values method for the full docstring\n",
      " |  \n",
      " |  script_repr(self, imports=[], prefix='    ')\n",
      " |      Variant of __repr__ designed for generating a runnable script.\n",
      " |  \n",
      " |  state_pop(self)\n",
      " |      Restore the most recently saved state.\n",
      " |      \n",
      " |      See state_push() for more details.\n",
      " |  \n",
      " |  state_push(self)\n",
      " |      Save this instance's state.\n",
      " |      \n",
      " |      For Parameterized instances, this includes the state of\n",
      " |      dynamically generated values.\n",
      " |      \n",
      " |      Subclasses that maintain short-term state should additionally\n",
      " |      save and restore that state using state_push() and\n",
      " |      state_pop().\n",
      " |      \n",
      " |      Generally, this method is used by operations that need to test\n",
      " |      something without permanently altering the objects' state.\n",
      " |  \n",
      " |  verbose = inner(*args, **kwargs)\n",
      " |      Inspect .param.verbose method for the full docstring\n",
      " |  \n",
      " |  warning = inner(*args, **kwargs)\n",
      " |      Inspect .param.warning method for the full docstring\n",
      " |  \n",
      " |  ----------------------------------------------------------------------\n",
      " |  Class methods inherited from param.parameterized.Parameterized:\n",
      " |  \n",
      " |  print_param_defaults = inner(*args, **kwargs) from holoviews.core.data.PipelineMeta\n",
      " |      Inspect .param.print_param_defaults method for the full docstring\n",
      " |  \n",
      " |  set_default = inner(*args, **kwargs) from holoviews.core.data.PipelineMeta\n",
      " |      Inspect .param.set_default method for the full docstring\n",
      " |  \n",
      " |  ----------------------------------------------------------------------\n",
      " |  Data and other attributes inherited from param.parameterized.Parameterized:\n",
      " |  \n",
      " |  force_new_dynamic_value = functools.partial(<function Parameters.depre...\n",
      " |      Inspect .param.force_new_dynamic_value method for the full docstring\n",
      " |  \n",
      " |  get_param_values = functools.partial(<function Parameters.deprecate......\n",
      " |      Inspect .param.get_param_values method for the full docstring\n",
      " |  \n",
      " |  get_value_generator = functools.partial(<function Parameters.deprecate...\n",
      " |      Inspect .param.get_value_generator method for the full docstring\n",
      " |  \n",
      " |  inspect_value = functools.partial(<function Parameters.deprecate...E04...\n",
      " |      Inspect .param.inspect_value method for the full docstring\n",
      " |  \n",
      " |  params = functools.partial(<function Parameters.deprecate...B708>, <cl...\n",
      " |      Inspect .param.params method for the full docstring\n",
      " |  \n",
      " |  set_dynamic_time_fn = functools.partial(<function Parameters.deprecate...\n",
      " |      Inspect .param.set_dynamic_time_fn method for the full docstring\n",
      " |  \n",
      " |  set_param = functools.partial(<function Parameters.deprecate...BA68>, ...\n",
      " |      Inspect .param.set_param method for the full docstring\n",
      " |  \n",
      " |  ----------------------------------------------------------------------\n",
      " |  Methods inherited from holoviews.core.layout.Composable:\n",
      " |  \n",
      " |  __add__(self, obj)\n",
      " |      Compose objects into a Layout\n",
      " |  \n",
      " |  __lshift__(self, other)\n",
      " |      Compose objects into an AdjointLayout\n",
      " |  \n",
      " |  ----------------------------------------------------------------------\n",
      " |  Methods inherited from holoviews.core.overlay.Overlayable:\n",
      " |  \n",
      " |  __mul__(self, other)\n",
      " |      Overlay object with other object.\n",
      "\n"
     ]
    }
   ],
   "source": [
    "help(clustered_df.hvplot.table())"
   ]
  },
  {
   "cell_type": "code",
   "execution_count": 75,
   "metadata": {},
   "outputs": [
    {
     "data": {},
     "metadata": {},
     "output_type": "display_data"
    },
    {
     "data": {
      "application/vnd.holoviews_exec.v0+json": "",
      "text/html": [
       "<div id='1203'>\n",
       "\n",
       "\n",
       "\n",
       "\n",
       "\n",
       "  <div class=\"bk-root\" id=\"708ca44b-c4f0-441b-81e9-ac1374543943\" data-root-id=\"1203\"></div>\n",
       "</div>\n",
       "<script type=\"application/javascript\">(function(root) {\n",
       "  function embed_document(root) {\n",
       "  var docs_json = {\"a56afcb4-ec8a-4673-9523-c5441a790048\":{\"roots\":{\"references\":[{\"attributes\":{},\"id\":\"1228\",\"type\":\"NumberEditor\"},{\"attributes\":{\"editor\":{\"id\":\"1233\"},\"field\":\"class\",\"formatter\":{\"id\":\"1232\"},\"title\":\"class\"},\"id\":\"1234\",\"type\":\"TableColumn\"},{\"attributes\":{\"format\":\"0,0.0[00000]\"},\"id\":\"1227\",\"type\":\"NumberFormatter\"},{\"attributes\":{},\"id\":\"1239\",\"type\":\"UnionRenderers\"},{\"attributes\":{},\"id\":\"1218\",\"type\":\"StringEditor\"},{\"attributes\":{},\"id\":\"1223\",\"type\":\"StringEditor\"},{\"attributes\":{},\"id\":\"1212\",\"type\":\"StringFormatter\"},{\"attributes\":{\"source\":{\"id\":\"1205\"}},\"id\":\"1238\",\"type\":\"CDSView\"},{\"attributes\":{\"data\":{\"Algorithm\":[\"Scrypt\",\"Scrypt\",\"X13\",\"SHA-256\",\"Ethash\",\"Scrypt\",\"X11\",\"CryptoNight-V7\",\"Ethash\",\"Equihash\",\"SHA-512\",\"SHA-256\",\"SHA-256\",\"Scrypt\",\"X15\",\"X11\",\"Scrypt\",\"Scrypt\",\"Scrypt\",\"Scrypt\",\"SHA-256\",\"Scrypt\",\"Scrypt\",\"Scrypt\",\"Quark\",\"Groestl\",\"Scrypt\",\"Scrypt\",\"Scrypt\",\"Scrypt\",\"Scrypt\",\"X11\",\"Scrypt\",\"Groestl\",\"SHA-256\",\"Scrypt\",\"Scrypt\",\"Scrypt\",\"Scrypt\",\"PoS\",\"Scrypt\",\"Scrypt\",\"NeoScrypt\",\"Scrypt\",\"Scrypt\",\"Scrypt\",\"Scrypt\",\"X11\",\"Scrypt\",\"X11\",\"SHA-256\",\"Scrypt\",\"Scrypt\",\"Scrypt\",\"SHA3\",\"Scrypt\",\"HybridScryptHash256\",\"Scrypt\",\"Scrypt\",\"SHA-256\",\"Scrypt\",\"X13\",\"Scrypt\",\"SHA-256\",\"Scrypt\",\"X13\",\"NeoScrypt\",\"Scrypt\",\"Scrypt\",\"Scrypt\",\"Scrypt\",\"Scrypt\",\"Scrypt\",\"X11\",\"X11\",\"SHA-256\",\"SHA-256\",\"PHI1612\",\"X11\",\"SHA-256\",\"SHA-256\",\"SHA-256\",\"X11\",\"Scrypt\",\"Scrypt\",\"Scrypt\",\"Scrypt\",\"Lyra2REv2\",\"Scrypt\",\"X11\",\"SHA-256\",\"X13\",\"Scrypt\",\"CryptoNight\",\"CryptoNight\",\"Shabal256\",\"Counterparty\",\"Scrypt\",\"SHA-256\",\"Groestl\",\"Scrypt\",\"Scrypt\",\"Scrypt\",\"X13\",\"Scrypt\",\"Scrypt\",\"Scrypt\",\"Scrypt\",\"X13\",\"Scrypt\",\"Stanford Folding\",\"X11\",\"QuBit\",\"Scrypt\",\"Scrypt\",\"Scrypt\",\"M7 POW\",\"Scrypt\",\"SHA-256\",\"Scrypt\",\"X11\",\"SHA3\",\"X11\",\"Lyra2RE\",\"SHA-256\",\"QUAIT\",\"X11\",\"X11\",\"Scrypt\",\"Scrypt\",\"Scrypt\",\"Ethash\",\"X13\",\"Blake2b\",\"SHA-256\",\"X15\",\"X11\",\"SHA-256\",\"BLAKE256\",\"Scrypt\",\"1GB AES Pattern Search\",\"SHA-256\",\"X11\",\"Scrypt\",\"SHA-256\",\"SHA-256\",\"NIST5\",\"Scrypt\",\"Scrypt\",\"X11\",\"Dagger\",\"Scrypt\",\"X11GOST\",\"X11\",\"Scrypt\",\"SHA-256\",\"Scrypt\",\"PoS\",\"Scrypt\",\"X11\",\"X11\",\"SHA-256\",\"SHA-256\",\"NIST5\",\"X11\",\"Scrypt\",\"POS 3.0\",\"Scrypt\",\"Scrypt\",\"Scrypt\",\"X13\",\"X11\",\"X11\",\"Equihash\",\"X11\",\"Scrypt\",\"CryptoNight\",\"SHA-256\",\"SHA-256\",\"X11\",\"Scrypt\",\"Scrypt\",\"Scrypt\",\"Scrypt\",\"SHA-256\",\"Scrypt\",\"Scrypt\",\"SHA-256D\",\"PoS\",\"Scrypt\",\"X11\",\"Lyra2Z\",\"PoS\",\"X13\",\"X14\",\"PoS\",\"SHA-256D\",\"Ethash\",\"Equihash\",\"DPoS\",\"X11\",\"Scrypt\",\"X11\",\"X13\",\"X11\",\"PoS\",\"Scrypt\",\"Scrypt\",\"X11\",\"PoS\",\"X11\",\"SHA-256\",\"Scrypt\",\"X11\",\"Scrypt\",\"Scrypt\",\"X11\",\"CryptoNight\",\"Scrypt\",\"Scrypt\",\"Scrypt\",\"Scrypt\",\"Quark\",\"QuBit\",\"Scrypt\",\"CryptoNight\",\"Lyra2RE\",\"Scrypt\",\"SHA-256\",\"X11\",\"Scrypt\",\"X11\",\"Scrypt\",\"CryptoNight-V7\",\"Scrypt\",\"Scrypt\",\"Scrypt\",\"X13\",\"X11\",\"Equihash\",\"Scrypt\",\"Scrypt\",\"Lyra2RE\",\"Scrypt\",\"Dagger-Hashimoto\",\"X11\",\"Blake2S\",\"X11\",\"Scrypt\",\"PoS\",\"X11\",\"NIST5\",\"PoS\",\"X11\",\"Scrypt\",\"Scrypt\",\"Scrypt\",\"SHA-256\",\"X11\",\"Scrypt\",\"Scrypt\",\"SHA-256\",\"PoS\",\"Scrypt\",\"X15\",\"SHA-256\",\"Scrypt\",\"POS 3.0\",\"CryptoNight-V7\",\"536\",\"Argon2d\",\"Blake2b\",\"Cloverhash\",\"CryptoNight\",\"NIST5\",\"X11\",\"NIST5\",\"Skein\",\"Scrypt\",\"X13\",\"Scrypt\",\"X11\",\"X11\",\"Scrypt\",\"CryptoNight\",\"X13\",\"Time Travel\",\"Scrypt\",\"Keccak\",\"SkunkHash v2 Raptor\",\"X11\",\"Skein\",\"SHA-256\",\"X11\",\"Scrypt\",\"VeChainThor Authority\",\"Scrypt\",\"PoS\",\"Scrypt\",\"Scrypt\",\"Scrypt\",\"Scrypt\",\"Scrypt\",\"Scrypt\",\"Scrypt\",\"CryptoNight\",\"SHA-512\",\"Ouroboros\",\"X11\",\"Equihash\",\"NeoScrypt\",\"X11\",\"Scrypt\",\"NeoScrypt\",\"Lyra2REv2\",\"Equihash\",\"Scrypt\",\"SHA-256\",\"NIST5\",\"PHI1612\",\"Dagger\",\"Scrypt\",\"Quark\",\"Scrypt\",\"POS 2.0\",\"Scrypt\",\"SHA-256\",\"X11\",\"NeoScrypt\",\"Ethash\",\"NeoScrypt\",\"X11\",\"DPoS\",\"NIST5\",\"X13\",\"Scrypt\",\"CryptoNight\",\"CryptoNight\",\"Ethash\",\"NIST5\",\"Quark\",\"X11\",\"CryptoNight-V7\",\"Scrypt\",\"Scrypt\",\"Scrypt\",\"X11\",\"BLAKE256\",\"X11\",\"NeoScrypt\",\"Quark\",\"NeoScrypt\",\"Scrypt\",\"Scrypt\",\"Scrypt\",\"X11\",\"X11\",\"SHA-256\",\"C11\",\"POS 3.0\",\"Ethash\",\"Scrypt\",\"CryptoNight\",\"SkunkHash\",\"Scrypt\",\"CryptoNight\",\"Scrypt\",\"Dagger\",\"Lyra2REv2\",\"X13\",\"Proof-of-BibleHash\",\"SHA-256 + Hive\",\"Scrypt\",\"Scrypt\",\"X11\",\"C11\",\"Proof-of-Authority\",\"X11\",\"XEVAN\",\"Scrypt\",\"VBFT\",\"Ethash\",\"CryptoNight\",\"Scrypt\",\"IMesh\",\"NIST5\",\"Scrypt\",\"Scrypt\",\"Equihash\",\"Scrypt\",\"Lyra2Z\",\"Green Protocol\",\"PoS\",\"Scrypt\",\"Semux BFT consensus\",\"X11\",\"Quark\",\"PoS\",\"CryptoNight\",\"X16R\",\"Scrypt\",\"NIST5\",\"Lyra2RE\",\"XEVAN\",\"Tribus\",\"Scrypt\",\"Lyra2Z\",\"CryptoNight\",\"CryptoNight Heavy\",\"CryptoNight\",\"Scrypt\",\"Scrypt\",\"Jump Consistent Hash\",\"SHA-256D\",\"CryptoNight\",\"Scrypt\",\"X15\",\"Scrypt\",\"Quark\",\"SHA-256\",\"DPoS\",\"X16R\",\"HMQ1725\",\"X11\",\"X16R\",\"Quark\",\"Quark\",\"Scrypt\",\"Lyra2REv2\",\"Quark\",\"Scrypt\",\"Scrypt\",\"CryptoNight-V7\",\"Cryptonight-GPU\",\"XEVAN\",\"CryptoNight Heavy\",\"X11\",\"X11\",\"Scrypt\",\"PoS\",\"SHA-256\",\"Keccak\",\"X11\",\"X11\",\"Scrypt\",\"SHA-512\",\"X16R\",\"ECC 256K1\",\"Equihash\",\"XEVAN\",\"Lyra2Z\",\"SHA-256\",\"XEVAN\",\"X11\",\"CryptoNight\",\"Quark\",\"Blake\",\"Blake\",\"Equihash\",\"Exosis\",\"Scrypt\",\"Scrypt\",\"Equihash\",\"Quark\",\"Equihash\",\"Quark\",\"Scrypt\",\"QuBit\",\"X11\",\"Scrypt\",\"XEVAN\",\"SHA-256D\",\"X11\",\"SHA-256\",\"X13\",\"SHA-256\",\"X11\",\"DPoS\",\"Scrypt\",\"Scrypt\",\"X11\",\"NeoScrypt\",\"Scrypt\",\"Blake\",\"Scrypt\",\"SHA-256\",\"Scrypt\",\"X11\",\"Scrypt\",\"Scrypt\",\"SHA-256\",\"X11\",\"SHA-256\",\"Scrypt\",\"Scrypt\",\"Scrypt\",\"Groestl\",\"X11\",\"Scrypt\",\"PoS\",\"Scrypt\",\"Scrypt\",\"X11\",\"SHA-256\",\"DPoS\",\"Scrypt\",\"Scrypt\",\"NeoScrypt\",\"SHA3-256\",\"X13\",\"Equihash+Scrypt\",\"DPoS\",\"Ethash\",\"DPoS\",\"SHA-256\",\"Leased POS\",\"PoS\",\"TRC10\",\"PoS\",\"SHA-256\",\"Scrypt\",\"CryptoNight\",\"Equihash\",\"Scrypt\"],\"CoinName\":[\"42 Coin\",\"404Coin\",\"EliteCoin\",\"Bitcoin\",\"Ethereum\",\"Litecoin\",\"Dash\",\"Monero\",\"Ethereum Classic\",\"ZCash\",\"Bitshares\",\"BitcoinDark\",\"PayCoin\",\"ProsperCoin\",\"KoboCoin\",\"Spreadcoin\",\"Argentum\",\"Aurora Coin\",\"BlueCoin\",\"MoonCoin\",\"ZetaCoin\",\"SexCoin\",\"Quatloo\",\"EnergyCoin\",\"QuarkCoin\",\"Riecoin\",\"Digitalcoin \",\"BitBar\",\"Catcoin\",\"CryptoBullion\",\"CannaCoin\",\"CryptCoin\",\"CasinoCoin\",\"Diamond\",\"DevCoin\",\"EarthCoin\",\"E-Gulden\",\"Einsteinium\",\"Emerald\",\"Exclusive Coin\",\"FlutterCoin\",\"Franko\",\"FeatherCoin\",\"GrandCoin\",\"GlobalCoin\",\"GoldCoin\",\"HoboNickels\",\"HyperStake\",\"Infinite Coin\",\"IOCoin\",\"IXcoin\",\"KrugerCoin\",\"LuckyCoin\",\"Litebar \",\"MaxCoin\",\"MegaCoin\",\"MediterraneanCoin\",\"MintCoin\",\"MinCoin\",\"MazaCoin\",\"Nautilus Coin\",\"NavCoin\",\"NobleCoin\",\"Namecoin\",\"NyanCoin\",\"OpalCoin\",\"Orbitcoin\",\"PotCoin\",\"PhoenixCoin\",\"Reddcoin\",\"RonPaulCoin\",\"StableCoin\",\"SmartCoin\",\"SuperCoin\",\"SyncCoin\",\"SysCoin\",\"TigerCoin\",\"TittieCoin\",\"TorCoin\",\"TerraCoin\",\"UnbreakableCoin\",\"Unobtanium\",\"UroCoin\",\"UnitaryStatus Dollar\",\"UltraCoin\",\"ViaCoin\",\"VeriCoin\",\"Vertcoin\",\"WorldCoin\",\"X11 Coin\",\"JouleCoin\",\"StealthCoin\",\"ZCC Coin\",\"ByteCoin\",\"DigitalNote \",\"BurstCoin\",\"StorjCoin\",\"MonaCoin\",\"Neutron\",\"FairCoin\",\"Gulden\",\"RubyCoin\",\"PesetaCoin\",\"Kore\",\"Wild Beast Coin\",\"Dnotes\",\"Flo\",\"8BIT Coin\",\"Sativa Coin\",\"ArtByte\",\"Folding Coin\",\"Ucoin\",\"CypherPunkCoin\",\"OmniCron\",\"Vtorrent\",\"GreenCoin\",\"Cryptonite\",\"MasterCoin\",\"SoonCoin\",\"1Credit\",\"IslaCoin\",\"Nexus\",\"MarsCoin \",\"Crypto\",\"Anarchists Prime\",\"Droidz\",\"BowsCoin\",\"Squall Coin\",\"Song Coin\",\"BitZeny\",\"Diggits\",\"Expanse\",\"Paycon\",\"Siacoin\",\"Emercoin\",\"EverGreenCoin\",\"MindCoin\",\"I0coin\",\"Decred\",\"Revolution VR\",\"HOdlcoin\",\"EDRCoin\",\"Hitcoin\",\"Gamecredits\",\"DubaiCoin\",\"CarpeDiemCoin\",\"PWR Coin\",\"BillaryCoin\",\"GPU Coin\",\"Adzcoin\",\"SoilCoin\",\"YoCoin\",\"SibCoin\",\"EuropeCoin\",\"ZeitCoin\",\"SwingCoin\",\"SafeExchangeCoin\",\"Nebuchadnezzar\",\"Francs\",\"BolivarCoin\",\"Ratecoin\",\"Revenu\",\"Clockcoin\",\"VIP Tokens\",\"BitSend\",\"Omni\",\"Let it Ride\",\"PutinCoin\",\"iBankCoin\",\"Frankywillcoin\",\"MudraCoin\",\"PizzaCoin\",\"Lutetium Coin\",\"Komodo\",\"GoldBlocks\",\"CarterCoin\",\"Karbo\",\"BitTokens\",\"ZayedCoin\",\"MustangCoin\",\"ZoneCoin\",\"RootCoin\",\"DopeCoin\",\"BitCurrency\",\"DollarCoin\",\"Swiscoin\",\"Shilling\",\"BuzzCoin\",\"Opair\",\"PesoBit\",\"Halloween Coin\",\"ZCoin\",\"CoffeeCoin\",\"RoyalCoin\",\"GanjaCoin V2\",\"TeamUP\",\"LanaCoin\",\"Elementrem\",\"ZClassic\",\"ARK\",\"InsaneCoin\",\"KiloCoin\",\"ArtexCoin\",\"EmberCoin\",\"XenixCoin\",\"FreeCoin\",\"PLNCoin\",\"AquariusCoin\",\"Kurrent\",\"Creatio\",\"Eternity\",\"Eurocoin\",\"BitcoinFast\",\"Stakenet\",\"BitConnect Coin\",\"MoneyCoin\",\"Enigma\",\"Cannabis Industry Coin\",\"Russiacoin\",\"PandaCoin\",\"GameUnits\",\"GAKHcoin\",\"Allsafe\",\"LiteCreed\",\"OsmiumCoin\",\"Bikercoins\",\"HexxCoin\",\"Klingon Empire Darsek\",\"Internet of People\",\"KushCoin\",\"Printerium\",\"PacCoin\",\"Impeach\",\"Citadel\",\"Zilbercoin\",\"FirstCoin\",\"BeaverCoin\",\"FindCoin\",\"VaultCoin\",\"Zero\",\"OpenChat\",\"Canada eCoin\",\"Zoin\",\"RenosCoin\",\"DubaiCoin\",\"VirtacoinPlus\",\"TajCoin\",\"Impact\",\"EB3coin\",\"Atmos\",\"HappyCoin\",\"Coinonat\",\"MacronCoin\",\"Condensate\",\"Independent Money System\",\"ArgusCoin\",\"LomoCoin\",\"ProCurrency\",\"GoldReserve\",\"BenjiRolls\",\"GrowthCoin\",\"ILCoin\",\"Phreak\",\"Degas Coin\",\"HTML5 Coin\",\"Ultimate Secure Cash\",\"EquiTrader\",\"QTUM\",\"Quantum Resistant Ledger\",\"Espers\",\"Dynamic\",\"Nano\",\"ChanCoin\",\"Dinastycoin\",\"Denarius\",\"DigitalPrice\",\"Virta Unique Coin\",\"Bitcoin Planet\",\"Unify\",\"BritCoin\",\"SocialCoin\",\"ArcticCoin\",\"DAS\",\"Linda\",\"LeviarCoin\",\"DeepOnion\",\"Bitcore\",\"gCn Coin\",\"SmartCash\",\"Signatum\",\"Onix\",\"Cream\",\"Bitcoin Cash\",\"Monoeci\",\"Draftcoin\",\"Vechain\",\"Sojourn Coin\",\"Stakecoin\",\"NewYorkCoin\",\"FrazCoin\",\"Kronecoin\",\"AdCoin\",\"Linx\",\"CoinonatX\",\"Ethereum Dark\",\"Sumokoin\",\"Obsidian\",\"Cardano\",\"Regalcoin\",\"BitcoinZ\",\"TrezarCoin\",\"Elements\",\"TerraNovaCoin\",\"VIVO Coin\",\"Rupee\",\"Bitcoin Gold\",\"WomenCoin\",\"Theresa May Coin\",\"NamoCoin\",\"LUXCoin\",\"Pirl\",\"Xios\",\"Bitcloud 2.0\",\"eBoost\",\"KekCoin\",\"BlackholeCoin\",\"Infinity Economics\",\"Pura\",\"Innova\",\"Ellaism\",\"GoByte\",\"Magnet\",\"Lamden Tau\",\"Electra\",\"Bitcoin Diamond\",\"Cash & Back Coin\",\"UltraNote\",\"BitCoal\",\"DaxxCoin\",\"Bulwark\",\"Kalkulus\",\"AC3\",\"Lethean\",\"GermanCoin\",\"LiteCoin Ultra\",\"PopularCoin\",\"PhantomX\",\"Photon\",\"Sucre\",\"SparksPay\",\"Digiwage\",\"GunCoin\",\"IrishCoin\",\"Trollcoin\",\"Litecoin Plus\",\"Monkey Project\",\"Pioneer Coin\",\"UnitedBitcoin\",\"Interzone\",\"TokenPay\",\"1717 Masonic Commemorative Token\",\"My Big Coin\",\"TurtleCoin\",\"MUNcoin\",\"Unified Society USDEX\",\"Niobio Cash\",\"ShareChain\",\"Travelflex\",\"KREDS\",\"Tokyo Coin\",\"BiblePay\",\"LitecoinCash\",\"BitFlip\",\"LottoCoin\",\"Crypto Improvement Fund\",\"Stipend\",\"Poa Network\",\"Pushi\",\"Ellerium\",\"Velox\",\"Ontology\",\"Callisto Network\",\"BitTube\",\"Poseidon\",\"Aidos Kuneen\",\"Bitspace\",\"Briacoin\",\"Ignition\",\"Bitrolium\",\"MedicCoin\",\"Alpenschillling\",\"Bitcoin Green\",\"Deviant Coin\",\"Abjcoin\",\"Semux\",\"FuturoCoin\",\"Carebit\",\"Zealium\",\"Monero Classic\",\"Proton\",\"iDealCash\",\"Jumpcoin\",\"Infinex\",\"Bitcoin Incognito\",\"KEYCO\",\"HollyWoodCoin\",\"GINcoin\",\"PlatinCoin\",\"Loki\",\"Newton Coin\",\"Swisscoin\",\"Xt3ch\",\"MassGrid\",\"TheVig\",\"PluraCoin\",\"EmaratCoin\",\"Dekado\",\"Lynx\",\"Poseidon Quark\",\"BitcoinWSpectrum\",\"Muse\",\"Motion\",\"PlusOneCoin\",\"Axe\",\"Trivechain\",\"Dystem\",\"Giant\",\"Peony Coin\",\"Absolute Coin\",\"Vitae\",\"HexCoin\",\"TPCash\",\"Webchain\",\"Ryo\",\"Urals Coin\",\"Qwertycoin\",\"ARENON\",\"EUNO\",\"MMOCoin\",\"Ketan\",\"Project Pai\",\"XDNA\",\"PAXEX\",\"Azart\",\"ThunderStake\",\"Kcash\",\"Xchange\",\"Acute Angle Cloud\",\"CrypticCoin\",\"Bettex coin\",\"Actinium\",\"Bitcoin SV\",\"BitMoney\",\"Junson Ming Chan Coin\",\"FREDEnergy\",\"HerbCoin\",\"Universal Molecule\",\"Lithium\",\"PirateCash\",\"Exosis\",\"Block-Logic\",\"Oduwa\",\"Beam\",\"Galilel\",\"Bithereum\",\"Crypto Sports\",\"Credit\",\"SLICE\",\"Dash Platinum\",\"Nasdacoin\",\"Beetle Coin\",\"Titan Coin\",\"Award\",\"BLAST\",\"Bitcoin Rhodium\",\"GlobalToken\",\"Insane Coin\",\"ALAX\",\"LiteDoge\",\"SolarCoin\",\"TruckCoin\",\"UFO Coin\",\"OrangeCoin\",\"BlakeCoin\",\"BitstarCoin\",\"NeosCoin\",\"HyperCoin\",\"PinkCoin\",\"Crypto Escudo\",\"AudioCoin\",\"IncaKoin\",\"Piggy Coin\",\"Crown Coin\",\"Genstake\",\"SmileyCoin\",\"XiaoMiCoin\",\"Groestlcoin\",\"CapriCoin\",\" ClubCoin\",\"Radium\",\"Bata\",\"Pakcoin\",\"Creditbit \",\"OKCash\",\"Lisk\",\"HiCoin\",\"WhiteCoin\",\"FriendshipCoin\",\"Fiii\",\"Triangles Coin\",\"Vollar\",\"EOS\",\"Reality Clash\",\"Oxycoin\",\"TigerCash\",\"Waves\",\"Particl\",\"BitTorrent\",\"Nxt\",\"ZEPHYR\",\"Gapcoin\",\"Beldex\",\"Horizen\",\"BitcoinPlus\"],\"ProofType\":[\"PoW/PoS\",\"PoW/PoS\",\"PoW/PoS\",\"PoW\",\"PoW\",\"PoW\",\"PoW/PoS\",\"PoW\",\"PoW\",\"PoW\",\"PoS\",\"PoW/PoS\",\"PoS\",\"PoW\",\"PoW/PoS\",\"PoW\",\"PoW\",\"PoW/PoS\",\"PoW/PoS\",\"PoW\",\"PoW\",\"PoW\",\"PoW\",\"PoW/PoS\",\"PoW\",\"PoW\",\"PoW\",\"PoW/PoS\",\"PoW\",\"PoW/PoS\",\"PoW\",\"PoW\",\"PoC\",\"PoW/PoS\",\"PoW\",\"PoW\",\"PoW\",\"PoW\",\"PoW\",\"PoS\",\"PoS/PoW/PoT\",\"PoW\",\"PoW\",\"PoW\",\"PoW\",\"PoW\",\"PoW/PoS\",\"PoS\",\"PoW\",\"PoW/PoS\",\"PoW\",\"PoW\",\"PoW\",\"PoW\",\"PoW/PoS\",\"PoW\",\"PoW\",\"PoS\",\"PoW\",\"PoW/PoS\",\"PoS\",\"PoW/PoS\",\"PoW\",\"PoW\",\"PoW\",\"PoW/PoS\",\"PoW/PoS\",\"PoW/PoS\",\"PoW/PoS\",\"PoW/PoS\",\"PoW\",\"PoW\",\"PoW\",\"PoS\",\"PoW/PoS\",\"PoW\",\"PoW\",\"PoS\",\"PoW/PoS\",\"PoW\",\"PoW\",\"PoW\",\"PoW\",\"PoW/PoS\",\"PoW/PoS\",\"PoW\",\"PoST\",\"PoW\",\"PoW\",\"PoW/PoS\",\"PoW\",\"PoW/PoS\",\"PoW/PoS\",\"PoW\",\"PoW\",\"PoC\",\"PoS\",\"PoW\",\"PoW/PoS\",\"PoW/PoS\",\"PoW\",\"PoS\",\"PoW\",\"PoW/PoS\",\"PoW\",\"PoS\",\"PoW\",\"PoW/PoS\",\"PoW/PoS\",\"PoW\",\"PoW\",\"PoS\",\"PoW\",\"PoW\",\"PoW/PoS\",\"PoW\",\"PoW\",\"PoW\",\"PoW\",\"PoW\",\"PoW/PoS\",\"PoW/nPoS\",\"PoW\",\"PoW\",\"PoW\",\"PoW/PoS\",\"PoW\",\"PoS/PoW\",\"PoW\",\"PoW\",\"PoS\",\"PoW\",\"PoW/PoS\",\"PoW\",\"PoW/PoS\",\"PoW/PoS\",\"PoW\",\"PoW\",\"PoW/PoS\",\"PoW\",\"PoW\",\"PoW/PoS\",\"PoW/PoS\",\"PoW\",\"PoW/PoS\",\"PoW\",\"PoW/PoS\",\"PoW/PoS\",\"PoS\",\"PoW\",\"PoW\",\"PoW\",\"PoW\",\"PoW/PoS\",\"PoS\",\"PoW/PoS\",\"PoC\",\"PoS\",\"PoW\",\"PoW\",\"PoW/PoS\",\"PoW/PoS\",\"PoW/PoS\",\"PoW/PoS\",\"PoW/PoS\",\"PoW\",\"PoS\",\"PoW/PoS\",\"PoW/PoS\",\"PoW/PoS\",\"PoS\",\"PoW\",\"PoS\",\"dPoW/PoW\",\"PoW/PoS\",\"PoW/PoS\",\"PoW\",\"PoW/PoS\",\"PoW\",\"PoW/PoS\",\"PoW/PoS\",\"PoW/PoS\",\"PoW\",\"PoS\",\"PoW\",\"PoW/PoW\",\"PoW\",\"PoW/PoS\",\"PoS\",\"PoW/PoS\",\"PoW/PoS\",\"PoW\",\"PoS\",\"PoS\",\"PoW/PoS\",\"PoS\",\"PoW/PoS\",\"PoW\",\"PoW\",\"DPoS\",\"PoW/PoS\",\"PoW\",\"PoW\",\"PoW/PoS\",\"PoW/PoS\",\"PoS\",\"PoW/PoS\",\"PoW/PoS\",\"PoW\",\"PoS\",\"PoW/PoS\",\"PoW/PoS\",\"PoW/PoS\",\"TPoS\",\"PoW/PoS\",\"PoW/PoS\",\"PoW/PoS\",\"PoW\",\"PoW/PoS\",\"PoS\",\"PoW/PoS\",\"PoW/PoS\",\"PoS\",\"PoW/PoS\",\"PoW\",\"PoW\",\"PoW\",\"PoW/PoS\",\"PoW/PoS\",\"PoW/PoS\",\"PoW/PoS\",\"PoW\",\"PoW/PoS\",\"PoW\",\"PoS\",\"PoW/PoS \",\"PoW\",\"PoS\",\"PoW\",\"PoW\",\"PoW/PoS\",\"PoW\",\"PoW\",\"PoS\",\"PoW\",\"PoW/PoS\",\"PoW/PoS\",\"PoW/PoS\",\"PoW\",\"PoS\",\"PoW/PoS\",\"PoW\",\"PoS\",\"PoW/PoS\",\"PoW/PoS\",\"PoW/PoS\",\"PoW/PoS\",\"PoS\",\"PoW/PoS\",\"PoW\",\"PoS\",\"PoW\",\"PoS\",\"PoW/PoS\",\"PoW/PoS\",\"PoS\",\"PoW\",\"PoS\",\"PoW\",\"PoW/PoS\",\"PoW\",\"PoW\",\"PoW\",\"PoW\",\"PoW/PoS\",\"PoW\",\"PoW/PoS\",\"PoW/PoS\",\"PoW\",\"PoW/PoS\",\"PoW\",\"PoW\",\"PoW\",\"PoW/PoS\",\"PoW\",\"PoW/PoS\",\"PoW\",\"PoW\",\"PoW\",\"PoS\",\"PoW\",\"PoW/PoS\",\"PoW\",\"PoW/PoS\",\"PoS\",\"Proof of Authority\",\"PoW\",\"PoS\",\"PoW\",\"PoW\",\"PoW\",\"PoW\",\"PoW\",\"PoW/PoS\",\"PoW/PoS\",\"PoW\",\"PoS\",\"PoS\",\"PoW/PoS\",\"PoW\",\"PoW/PoS\",\"PoW\",\"PoW/PoS\",\"PoW\",\"PoS\",\"PoW\",\"PoW/PoS\",\"PoW/PoS\",\"PoW/PoS\",\"PoW/PoS\",\"PoW\",\"PoW/PoS\",\"PoW/PoS\",\"PoW\",\"PoS\",\"PoW/PoS\",\"PoS\",\"PoW\",\"PoW\",\"PoW\",\"PoW\",\"PoW/PoS\",\"DPoS\",\"PoW/PoS\",\"PoW/PoS\",\"PoW/PoS\",\"PoW\",\"PoW\",\"PoW\",\"PoS\",\"PoS\",\"PoW\",\"PoW\",\"PoW/PoS\",\"PoW/PoS\",\"PoW\",\"PoW/PoS\",\"PoW\",\"PoW\",\"PoW\",\"PoS\",\"PoW\",\"PoW\",\"PoW/PoS\",\"PoW/PoS\",\"PoS\",\"PoW\",\"PoW\",\"PoW\",\"PoS\",\"PoS\",\"PoW and PoS\",\"PoW\",\"PoW\",\"PoW/PoS\",\"PoW\",\"PoW\",\"PoW\",\"PoW\",\"PoS\",\"POBh\",\"PoW + Hive\",\"PoW\",\"PoW\",\"PoW\",\"PoW/PoS\",\"PoA\",\"PoW/PoS\",\"PoW/PoS\",\"PoS\",\"PoS\",\"PoW\",\"PoW\",\"PoW\",\"PoW\",\"PoW/PoS\",\"PoW/PoS\",\"PoW/PoS\",\"PoW\",\"PoS\",\"PoW\",\"PoS\",\"PoS\",\"PoW/PoS\",\"DPoS\",\"PoW\",\"PoW/PoS\",\"PoS\",\"PoW\",\"PoS\",\"PoW/PoS\",\"PoW\",\"PoW\",\"PoS/PoW\",\"PoW\",\"PoS\",\"PoW\",\"PoW\",\"PoW\",\"PoW\",\"PoW/PoS\",\"PoS\",\"PoW\",\"PoW/PoS\",\"PoW\",\"PoW/PoS\",\"PoS\",\"HPoW\",\"PoS\",\"PoS\",\"PoS\",\"PoW\",\"PoW\",\"PoW\",\"PoW/PoS\",\"PoS\",\"PoW/PoS\",\"PoS\",\"PoW/PoS\",\"PoS\",\"PoW\",\"PoW/PoS\",\"PoW\",\"PoW\",\"PoW\",\"PoW\",\"PoS\",\"PoW/PoS\",\"PoS\",\"PoS\",\"PoW\",\"PoW/PoS\",\"PoS\",\"PoW\",\"PoW/PoS\",\"Zero-Knowledge Proof\",\"PoW\",\"DPOS\",\"PoW\",\"PoS\",\"PoW\",\"PoW\",\"Pos\",\"PoS\",\"PoW\",\"PoW/PoS\",\"PoW\",\"PoW\",\"PoS\",\"PoW\",\"PoW\",\"PoW/PoS\",\"PoW\",\"PoW/PoS\",\"PoW\",\"PoS\",\"PoW/PoS\",\"PoW\",\"PoS\",\"PoW/PoS\",\"PoW/PoS\",\"PoW/PoS\",\"PoW/PoS\",\"PoW\",\"PoW\",\"PoW\",\"PoW/PoS\",\"DPoS\",\"PoW/PoS\",\"PoW\",\"PoW/PoS\",\"PoW\",\"PoW/PoS\",\"PoW\",\"PoW/PoS\",\"PoS\",\"PoW/PoS\",\"PoW/PoS\",\"PoW\",\"PoW/PoS\",\"PoW/PoS\",\"PoW/PoS\",\"PoW\",\"PoW/PoS\",\"PoW\",\"PoW/PoS\",\"PoW\",\"PoW/PoS\",\"PoW/PoS\",\"PoS\",\"PoW\",\"PoW\",\"Proof of Trust\",\"PoW/PoS\",\"DPoS\",\"PoS\",\"PoW/PoS\",\"PoW/PoS\",\"DPoC\",\"PoW/PoS\",\"PoW\",\"DPoS\",\"PoW\",\"DPoS\",\"PoS\",\"LPoS\",\"PoS\",\"DPoS\",\"PoS/LPoS\",\"DPoS\",\"PoW/PoS\",\"PoW\",\"PoW\",\"PoS\"],\"TotalCoinSupply\":[\"42\",\"532000000\",\"314159265359\",\"21000000\",\"0\",\"84000000\",\"22000000\",\"0\",\"210000000\",\"21000000\",\"3600570502\",\"22000000\",\"12500000\",\"21000000\",\"350000000\",\"20000000\",\"64000000\",\"16768584\",\"0\",\"384000000000\",\"169795588\",\"250000000\",\"100000000\",\"0\",\"247000000\",\"84000000\",\"48166000\",\"500000\",\"21000000 \",\"1000000\",\"13140000\",\"18000000\",\"40000000000\",\"4380000\",\"21000000000\",\"13500000000\",\"21000000 \",\"299792458\",\"32000000\",\"0\",\"0\",\"11235813\",\"336000000\",\"1420609614\",\"70000000\",\"72245700\",\"120000000\",\"0\",\"90600000000\",\"22000000\",\"21000000\",\"265420800\",\"20000000\",\"1350000\",\"100000000\",\"42000000\",\"200000000\",\"0\",\"10000000\",\"2419200000\",\"16180000\",\"0\",\"15000000000\",\"21000000\",\"337000000\",\"0\",\"3770000\",\"420000000\",\"98000000\",\"0\",\"21000000\",\"250000000\",\"51200000\",\"0\",\"1000\",\"888000000\",\"47011968\",\"2300000000\",\"10000000\",\"42000000\",\"80000000\",\"250000\",\"0\",\"1600000000\",\"100000000\",\"23000000\",\"0\",\"84000000\",\"265420800\",\"5500000\",\"45000000\",\"0\",\"1000000000\",\"184467440735\",\"10000000000\",\"2158812800\",\"500000000\",\"105120000\",\"68000000\",\"0\",\"1680000000\",\"0\",\"166386000\",\"12000000\",\"2628000\",\"500000000\",\"160000000\",\"0\",\"10000000\",\"1000000000\",\"1000000000\",\"20000000\",\"0\",\"3371337\",\"20000000\",\"10000000000\",\"1840000000\",\"619478\",\"21000000\",\"92000000000\",\"0\",\"78000000\",\"33000000\",\"65789100\",\"53760000\",\"5060000\",\"21000000\",\"0\",\"210240000\",\"250000000\",\"100000000\",\"16906397\",\"50000000\",\"0\",\"1000000000\",\"26298000\",\"16000000\",\"21000000\",\"21000000\",\"210000000\",\"81962100\",\"22000000\",\"26550000000\",\"84000000\",\"10500000\",\"21626280000 \",\"0\",\"42000000\",\"221052632\",\"84000000\",\"30000000\",\"168351300\",\"24000000\",\"384000000\",\" 99000000000\",\"40000000\",\"2147483647\",\"20000000\",\"20000000\",\"25000000\",\"75000000\",\"222725000\",\"525000000\",\"90000000\",\"139000000\",\"616448\",\"33500000\",\"2000000000\",\"44333333\",\"100000000\",\"200000000\",\"25000000\",\"657000000\",\"200000000\",\"50000000\",\"90000000\",\"10000000\",\"21000000\",\"9736000\",\"3000000\",\"21000000\",\"0\",\"200000000\",\"0\",\"10638298\",\"3100000000\",\"30000000\",\"20000000000\",\"74000000\",\"0\",\"1500000000\",\"21400000\",\"39999898\",\"2500124\",\"100000000\",\"301000000\",\"7506000000\",\"26205539\",\"21000000\",\"125000000\",\"30000000\",\"10000000000\",\"500000000\",\"850000000\",\"3853326.77707314\",\"50000000\",\"38540000 \",\"42000000\",\"228000000\",\"20000000\",\"60000000\",\"20000000\",\"33000000\",\"76500000\",\"28000000\",\"650659833\",\"5000000\",\"21000000\",\"144000000\",\"32514916898\",\"13000000\",\"3315789\",\"15000000\",\"78835200\",\"2714286\",\"25000000\",\"9999999\",\"500000000\",\"21000000\",\"9354000\",\"20000000\",\"100000000000\",\"21933333\",\"185000000\",\"55000000\",\"110000000\",\"3360000\",\"14524851.4827\",\"1000000000\",\"17000000\",\"1000000000\",\"100000000 \",\"21000000\",\"34426423\",\"2232901\",\"100000000\",\"36900000\",\"110000000\",\"4000000000\",\"110290030\",\"100000000\",\"48252000\",\"400000000\",\"500000000\",\"21212121\",\"28600000\",\"1000000000\",\"75000000000\",\"40000000\",\"35520400\",\"2000000000\",\"2500000000\",\"30000000\",\"105000000\",\"90000000000\",\"200084200\",\"72000000\",\"100000000\",\"105000000\",\"50000000000\",\"0\",\"340282367\",\"30000000\",\"2000000000\",\"10000000\",\"100000000\",\"120000000\",\"100000000\",\"19276800\",\"30000000\",\" 75000000\",\"60000000\",\"18900000\",\"50000000000\",\"54000000\",\"18898187.6216583\",\"21000000\",\"200000000000\",\"5000000000\",\"137500000\",\"1100000000\",\"100000000\",\"21000000\",\"9507271\",\"17405891.19707116\",\"86712634466\",\"10500000000\",\"61599965\",\"0\",\"20000000\",\"84000000\",\"100000000\",\"100000000\",\"48252000\",\"4200000\",\"88888888\",\"91388946\",\"45000000000\",\"27000000\",\"21000000000\",\"400000000\",\"1800000000\",\"15733333\",\"27000000\",\"24000000\",\"21000000\",\"25000000000\",\"100000000\",\"1200000000\",\"60000000\",\"156306732.71\",\"21000000\",\"200000000\",\"100000000\",\"21000000\",\"14788275.991\",\"9000000000\",\"350000000\",\"45000000\",\"280000000\",\"31800000\",\"144000000\",\"500000000\",\"30000000000\",\"210000000\",\"210000000\",\"85000000000\",\"12500000\",\"10000000000\",\"27716121\",\"20000000\",\"550000000\",\"999481516\",\"50000000000\",\"150000000\",\"4999999999\",\"50000000\",\" 90000000000\",\"19800000\",\"21000000\",\"120000000\",\"500000000\",\"64000000\",\"900000000\",\"4000000\",\"21000000\",\"23000000\",\"20166000\",\"23000000\",\"25000000\",\"1618033\",\"30000000\",\"1000000000000\",\"16600000\",\"232000000\",\"336000000\",\"10000000000\",\"100000000\",\"1100000000\",\"800000000\",\"5200000000\",\"840000000\",\"40000000\",\"18406979840\",\"500000000\",\"19340594\",\"252460800\",\"25000000\",\"60000000\",\"124000000\",\"1000000000\",\"6500000000\",\"1000000000\",\"21000000\",\"25000000\",\"50000000\",\"3000000\",\"5000000\",\"70000000\",\"500000000\",\"300000000\",\"21000000\",\"88000000\",\"30000000\",\"100000000\",\"100000000\",\"200000000\",\"80000000\",\"18400000\",\"45000000\",\"5121951220\",\"21000000\",\"26280000\",\"21000000\",\"18000000\",\"26000000\",\"10500000\",\"600000518\",\"150000000\",\"184000000000\",\"10200000000\",\"44000000\",\"168000000\",\"100000000\",\"1000000000\",\"84000000\",\"90000000\",\"92000000000\",\"650000000 \",\"100262205\",\"18081806 \",\"22075700\",\"21000000\",\"21000000\",\"82546564\",\"21000000\",\"5151000\",\"16880000000\",\"52500000\",\"100000000\",\"22105263\",\"1000000000\",\"1750000000\",\"88188888\",\"210000000\",\"184470000000\",\"55000000\",\"50000000\",\"260000000\",\"210000000\",\"2100000000\",\"366000000\",\"100000000\",\"25000000\",\"18000000000\",\"1000000000\",\"100000000\",\"1000000000\",\"7600000000\",\"50000000\",\"84000000\",\"21000000\",\"70000000000\",\"0\",\"8080000000\",\"54000000\",\"105120001.44\",\"25228800\",\"105000000\",\"21000000\",\"120000000\",\"21000000\",\"262800000\",\"19035999\",\"30886000\",\"13370000\",\"74800000000\",\"100000000\",\"19700000\",\"84000000\",\"500000000\",\"5000000000\",\"420000000\",\"64000000\",\"2100000\",\"168000000\",\"30000000\",\"1000000000\",\"35000000000\",\"98100000000\",\"0\",\"4000000000\",\"200000000\",\"7000000000\",\"54256119\",\"21000000\",\"0\",\"500000000\",\"1000000000\",\"10500000000\",\"190000000\",\"1000000000\",\"42000000\",\"15000000\",\"50000000000\",\"400000000\",\"105000000\",\"208000000\",\"160000000\",\"9000000\",\"5000000\",\"182000000\",\"16504333\",\"105000000\",\"159918400\",\"10008835635\",\"300000000\",\"60168145\",\"5000000000\",\"120000\",\"2100000000\",\"0\",\"24487944\",\"0\",\"1000000000\",\"100000000\",\"8634140\",\"990000000000\",\"1000000000\",\"2000000000\",\"250000000\",\"1400222610\",\"21000000\",\"1000000\"],\"TotalCoinsMined\":{\"__ndarray__\":\"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\",\"dtype\":\"float64\",\"order\":\"little\",\"shape\":[524]},\"class\":{\"__ndarray__\":\"AAAAAAAAAAAAAAAAAgAAAAIAAAACAAAAAAAAAAIAAAACAAAAAgAAAAAAAAAAAAAAAAAAAAIAAAAAAAAAAgAAAAIAAAAAAAAAAAAAAAIAAAACAAAAAgAAAAIAAAAAAAAAAgAAAAIAAAACAAAAAAAAAAIAAAAAAAAAAgAAAAIAAAAAAAAAAAAAAAIAAAACAAAAAgAAAAIAAAACAAAAAAAAAAAAAAACAAAAAgAAAAIAAAACAAAAAgAAAAAAAAAAAAAAAgAAAAAAAAACAAAAAgAAAAIAAAACAAAAAAAAAAIAAAACAAAAAAAAAAIAAAAAAAAAAAAAAAAAAAACAAAAAgAAAAIAAAAAAAAAAAAAAAAAAAAAAAAAAAAAAAIAAAACAAAAAgAAAAAAAAAAAAAAAgAAAAIAAAAAAAAAAAAAAAIAAAACAAAAAgAAAAIAAAAAAAAAAAAAAAIAAAAAAAAAAgAAAAIAAAAAAAAAAgAAAAAAAAAAAAAAAgAAAAIAAAAAAAAAAAAAAAIAAAAAAAAAAAAAAAIAAAAAAAAAAgAAAAAAAAACAAAAAAAAAAIAAAAAAAAAAAAAAAIAAAACAAAAAAAAAAIAAAACAAAAAAAAAAIAAAACAAAAAgAAAAIAAAACAAAAAAAAAAAAAAACAAAAAgAAAAIAAAAAAAAAAgAAAAAAAAACAAAAAgAAAAAAAAACAAAAAAAAAAIAAAAAAAAAAAAAAAIAAAACAAAAAAAAAAIAAAACAAAAAAAAAAAAAAACAAAAAAAAAAIAAAAAAAAAAAAAAAAAAAACAAAAAgAAAAIAAAACAAAAAAAAAAAAAAAAAAAAAAAAAAAAAAACAAAAAgAAAAAAAAAAAAAAAAAAAAAAAAAAAAAAAgAAAAAAAAAAAAAAAAAAAAAAAAAAAAAAAgAAAAAAAAACAAAAAAAAAAAAAAACAAAAAAAAAAIAAAAAAAAAAAAAAAAAAAACAAAAAAAAAAIAAAAAAAAAAgAAAAAAAAAAAAAAAAAAAAAAAAACAAAAAAAAAAAAAAAAAAAAAAAAAAAAAAACAAAAAgAAAAAAAAAAAAAAAgAAAAIAAAAAAAAAAAAAAAAAAAAAAAAAAAAAAAIAAAAAAAAAAAAAAAAAAAAAAAAAAAAAAAAAAAAAAAAAAAAAAAIAAAAAAAAAAAAAAAAAAAAAAAAAAAAAAAAAAAACAAAAAgAAAAIAAAAAAAAAAAAAAAAAAAAAAAAAAgAAAAAAAAACAAAAAAAAAAAAAAACAAAAAAAAAAIAAAACAAAAAAAAAAIAAAACAAAAAAAAAAIAAAAAAAAAAAAAAAAAAAACAAAAAAAAAAAAAAACAAAAAAAAAAAAAAAAAAAAAAAAAAAAAAAAAAAAAAAAAAIAAAAAAAAAAgAAAAAAAAAAAAAAAAAAAAAAAAACAAAAAAAAAAIAAAAAAAAAAgAAAAIAAAACAAAAAgAAAAAAAAACAAAAAAAAAAAAAAACAAAAAAAAAAIAAAACAAAAAgAAAAAAAAACAAAAAAAAAAIAAAACAAAAAgAAAAAAAAACAAAAAAAAAAIAAAAAAAAAAAAAAAAAAAACAAAAAAAAAAIAAAACAAAAAgAAAAIAAAACAAAAAAAAAAAAAAACAAAAAAAAAAAAAAAAAAAAAgAAAAAAAAACAAAAAAAAAAIAAAAAAAAAAgAAAAAAAAAAAAAAAAAAAAAAAAACAAAAAAAAAAAAAAACAAAAAAAAAAAAAAAAAAAAAgAAAAIAAAACAAAAAgAAAAAAAAAAAAAAAAAAAAAAAAAAAAAAAgAAAAIAAAACAAAAAAAAAAAAAAACAAAAAgAAAAAAAAAAAAAAAgAAAAAAAAACAAAAAgAAAAIAAAAAAAAAAgAAAAIAAAAAAAAAAAAAAAAAAAACAAAAAgAAAAIAAAAAAAAAAAAAAAAAAAACAAAAAgAAAAAAAAACAAAAAgAAAAIAAAACAAAAAAAAAAAAAAADAAAAAgAAAAIAAAACAAAAAAAAAAMAAAAAAAAAAAAAAAAAAAAAAAAAAgAAAAIAAAACAAAAAgAAAAAAAAAAAAAAAAAAAAIAAAAAAAAAAgAAAAAAAAAAAAAAAAAAAAAAAAACAAAAAAAAAAAAAAACAAAAAAAAAAAAAAACAAAAAgAAAAAAAAACAAAAAAAAAAIAAAACAAAAAgAAAAIAAAAAAAAAAAAAAAIAAAAAAAAAAgAAAAAAAAAAAAAAAAAAAAAAAAAAAAAAAAAAAAIAAAACAAAAAgAAAAAAAAAAAAAAAAAAAAAAAAAAAAAAAAAAAAIAAAAAAAAAAgAAAAIAAAACAAAAAgAAAAAAAAAAAAAAAAAAAAAAAAACAAAAAAAAAAAAAAACAAAAAAAAAAAAAAACAAAAAAAAAAIAAAAAAAAAAgAAAAIAAAAAAAAAAAAAAAIAAAAAAAAAAgAAAAIAAAAAAAAAAgAAAAIAAAAAAAAAAgAAAAAAAAACAAAAAAAAAAAAAAACAAAAAAAAAAAAAAAAAAAAAAAAAAAAAAACAAAAAgAAAAIAAAAAAAAAAAAAAAAAAAACAAAAAAAAAAIAAAAAAAAAAgAAAAAAAAAAAAAAAAAAAAAAAAACAAAAAAAAAAAAAAAAAAAAAgAAAAAAAAACAAAAAAAAAAIAAAAAAAAAAAAAAAAAAAACAAAAAgAAAAAAAAAAAAAAAAAAAAAAAAAAAAAAAAAAAAMAAAAAAAAAAgAAAAAAAAACAAAAAAAAAAAAAAADAAAAAAAAAAEAAAAAAAAAAAAAAAAAAAACAAAAAgAAAAAAAAA=\",\"dtype\":\"int32\",\"order\":\"little\",\"shape\":[524]}},\"selected\":{\"id\":\"1206\"},\"selection_policy\":{\"id\":\"1239\"}},\"id\":\"1205\",\"type\":\"ColumnDataSource\"},{\"attributes\":{},\"id\":\"1222\",\"type\":\"StringFormatter\"},{\"attributes\":{},\"id\":\"1207\",\"type\":\"StringFormatter\"},{\"attributes\":{\"editor\":{\"id\":\"1223\"},\"field\":\"TotalCoinSupply\",\"formatter\":{\"id\":\"1222\"},\"title\":\"TotalCoinSupply\"},\"id\":\"1224\",\"type\":\"TableColumn\"},{\"attributes\":{\"editor\":{\"id\":\"1208\"},\"field\":\"CoinName\",\"formatter\":{\"id\":\"1207\"},\"title\":\"CoinName\"},\"id\":\"1209\",\"type\":\"TableColumn\"},{\"attributes\":{\"margin\":[5,5,5,5],\"name\":\"HSpacer01986\",\"sizing_mode\":\"stretch_width\"},\"id\":\"1243\",\"type\":\"Spacer\"},{\"attributes\":{},\"id\":\"1213\",\"type\":\"StringEditor\"},{\"attributes\":{\"editor\":{\"id\":\"1228\"},\"field\":\"TotalCoinsMined\",\"formatter\":{\"id\":\"1227\"},\"title\":\"TotalCoinsMined\"},\"id\":\"1229\",\"type\":\"TableColumn\"},{\"attributes\":{},\"id\":\"1206\",\"type\":\"Selection\"},{\"attributes\":{\"margin\":[5,5,5,5],\"name\":\"HSpacer01985\",\"sizing_mode\":\"stretch_width\"},\"id\":\"1204\",\"type\":\"Spacer\"},{\"attributes\":{},\"id\":\"1232\",\"type\":\"NumberFormatter\"},{\"attributes\":{\"editor\":{\"id\":\"1218\"},\"field\":\"ProofType\",\"formatter\":{\"id\":\"1217\"},\"title\":\"ProofType\"},\"id\":\"1219\",\"type\":\"TableColumn\"},{\"attributes\":{},\"id\":\"1208\",\"type\":\"StringEditor\"},{\"attributes\":{\"editor\":{\"id\":\"1213\"},\"field\":\"Algorithm\",\"formatter\":{\"id\":\"1212\"},\"title\":\"Algorithm\"},\"id\":\"1214\",\"type\":\"TableColumn\"},{\"attributes\":{},\"id\":\"1217\",\"type\":\"StringFormatter\"},{\"attributes\":{\"children\":[{\"id\":\"1204\"},{\"id\":\"1237\"},{\"id\":\"1243\"}],\"margin\":[0,0,0,0],\"name\":\"Row01981\",\"tags\":[\"embedded\"]},\"id\":\"1203\",\"type\":\"Row\"},{\"attributes\":{},\"id\":\"1233\",\"type\":\"IntEditor\"},{\"attributes\":{\"columns\":[{\"id\":\"1209\"},{\"id\":\"1214\"},{\"id\":\"1219\"},{\"id\":\"1224\"},{\"id\":\"1229\"},{\"id\":\"1234\"}],\"height\":300,\"reorderable\":false,\"source\":{\"id\":\"1205\"},\"view\":{\"id\":\"1238\"},\"width\":800},\"id\":\"1237\",\"type\":\"DataTable\"}],\"root_ids\":[\"1203\"]},\"title\":\"Bokeh Application\",\"version\":\"2.1.1\"}};\n",
       "  var render_items = [{\"docid\":\"a56afcb4-ec8a-4673-9523-c5441a790048\",\"root_ids\":[\"1203\"],\"roots\":{\"1203\":\"708ca44b-c4f0-441b-81e9-ac1374543943\"}}];\n",
       "  root.Bokeh.embed.embed_items_notebook(docs_json, render_items);\n",
       "  }\n",
       "if (root.Bokeh !== undefined) {\n",
       "    embed_document(root);\n",
       "  } else {\n",
       "    var attempts = 0;\n",
       "    var timer = setInterval(function(root) {\n",
       "      if (root.Bokeh !== undefined) {\n",
       "        clearInterval(timer);\n",
       "        embed_document(root);\n",
       "      } else if (document.readyState == \"complete\") {\n",
       "        attempts++;\n",
       "        if (attempts > 100) {\n",
       "          clearInterval(timer);\n",
       "          console.log(\"Bokeh: ERROR: Unable to run BokehJS code because BokehJS library is missing\");\n",
       "        }\n",
       "      }\n",
       "    }, 10, root)\n",
       "  }\n",
       "})(window);</script>"
      ],
      "text/plain": [
       ":Table   [CoinName,Algorithm,ProofType,TotalCoinSupply,TotalCoinsMined,class]"
      ]
     },
     "execution_count": 75,
     "metadata": {
      "application/vnd.holoviews_exec.v0+json": {
       "id": "1203"
      }
     },
     "output_type": "execute_result"
    }
   ],
   "source": [
    "# Create a hvplot table\n",
    "clustered_df.hvplot.table(columns=[\"CoinName\", \"Algorithm\", \"ProofType\", \"TotalCoinSupply\", \"TotalCoinsMined\", \"class\"]\n",
    "                          , width = 800)"
   ]
  },
  {
   "cell_type": "code",
   "execution_count": 77,
   "metadata": {},
   "outputs": [
    {
     "data": {
      "text/html": [
       "<div>\n",
       "<style scoped>\n",
       "    .dataframe tbody tr th:only-of-type {\n",
       "        vertical-align: middle;\n",
       "    }\n",
       "\n",
       "    .dataframe tbody tr th {\n",
       "        vertical-align: top;\n",
       "    }\n",
       "\n",
       "    .dataframe thead th {\n",
       "        text-align: right;\n",
       "    }\n",
       "</style>\n",
       "<table border=\"1\" class=\"dataframe\">\n",
       "  <thead>\n",
       "    <tr style=\"text-align: right;\">\n",
       "      <th></th>\n",
       "      <th>Algorithm</th>\n",
       "      <th>ProofType</th>\n",
       "      <th>TotalCoinsMined</th>\n",
       "      <th>TotalCoinSupply</th>\n",
       "      <th>PC 1</th>\n",
       "      <th>PC 2</th>\n",
       "      <th>PC 3</th>\n",
       "      <th>CoinName</th>\n",
       "      <th>class</th>\n",
       "    </tr>\n",
       "    <tr>\n",
       "      <th>Unnamed: 0</th>\n",
       "      <th></th>\n",
       "      <th></th>\n",
       "      <th></th>\n",
       "      <th></th>\n",
       "      <th></th>\n",
       "      <th></th>\n",
       "      <th></th>\n",
       "      <th></th>\n",
       "      <th></th>\n",
       "    </tr>\n",
       "  </thead>\n",
       "  <tbody>\n",
       "    <tr>\n",
       "      <th>42</th>\n",
       "      <td>Scrypt</td>\n",
       "      <td>PoW/PoS</td>\n",
       "      <td>4.199995e+01</td>\n",
       "      <td>42</td>\n",
       "      <td>-0.337285</td>\n",
       "      <td>0.969749</td>\n",
       "      <td>-0.602976</td>\n",
       "      <td>42 Coin</td>\n",
       "      <td>0</td>\n",
       "    </tr>\n",
       "    <tr>\n",
       "      <th>404</th>\n",
       "      <td>Scrypt</td>\n",
       "      <td>PoW/PoS</td>\n",
       "      <td>1.055185e+09</td>\n",
       "      <td>532000000</td>\n",
       "      <td>-0.320748</td>\n",
       "      <td>0.969904</td>\n",
       "      <td>-0.603518</td>\n",
       "      <td>404Coin</td>\n",
       "      <td>0</td>\n",
       "    </tr>\n",
       "    <tr>\n",
       "      <th>1337</th>\n",
       "      <td>X13</td>\n",
       "      <td>PoW/PoS</td>\n",
       "      <td>2.927942e+10</td>\n",
       "      <td>314159265359</td>\n",
       "      <td>2.296893</td>\n",
       "      <td>1.647838</td>\n",
       "      <td>-0.721912</td>\n",
       "      <td>EliteCoin</td>\n",
       "      <td>0</td>\n",
       "    </tr>\n",
       "    <tr>\n",
       "      <th>BTC</th>\n",
       "      <td>SHA-256</td>\n",
       "      <td>PoW</td>\n",
       "      <td>1.792718e+07</td>\n",
       "      <td>21000000</td>\n",
       "      <td>-0.146219</td>\n",
       "      <td>-1.316683</td>\n",
       "      <td>0.207438</td>\n",
       "      <td>Bitcoin</td>\n",
       "      <td>2</td>\n",
       "    </tr>\n",
       "    <tr>\n",
       "      <th>ETH</th>\n",
       "      <td>Ethash</td>\n",
       "      <td>PoW</td>\n",
       "      <td>1.076842e+08</td>\n",
       "      <td>0</td>\n",
       "      <td>-0.155746</td>\n",
       "      <td>-1.987853</td>\n",
       "      <td>0.422878</td>\n",
       "      <td>Ethereum</td>\n",
       "      <td>2</td>\n",
       "    </tr>\n",
       "  </tbody>\n",
       "</table>\n",
       "</div>"
      ],
      "text/plain": [
       "           Algorithm ProofType  TotalCoinsMined TotalCoinSupply      PC 1  \\\n",
       "Unnamed: 0                                                                  \n",
       "42            Scrypt   PoW/PoS     4.199995e+01              42 -0.337285   \n",
       "404           Scrypt   PoW/PoS     1.055185e+09       532000000 -0.320748   \n",
       "1337             X13   PoW/PoS     2.927942e+10    314159265359  2.296893   \n",
       "BTC          SHA-256       PoW     1.792718e+07        21000000 -0.146219   \n",
       "ETH           Ethash       PoW     1.076842e+08               0 -0.155746   \n",
       "\n",
       "                PC 2      PC 3   CoinName  class  \n",
       "Unnamed: 0                                        \n",
       "42          0.969749 -0.602976    42 Coin      0  \n",
       "404         0.969904 -0.603518    404Coin      0  \n",
       "1337        1.647838 -0.721912  EliteCoin      0  \n",
       "BTC        -1.316683  0.207438    Bitcoin      2  \n",
       "ETH        -1.987853  0.422878   Ethereum      2  "
      ]
     },
     "execution_count": 77,
     "metadata": {},
     "output_type": "execute_result"
    }
   ],
   "source": [
    "clustered_df.head()"
   ]
  },
  {
   "cell_type": "code",
   "execution_count": 78,
   "metadata": {},
   "outputs": [
    {
     "data": {},
     "metadata": {},
     "output_type": "display_data"
    },
    {
     "data": {
      "application/vnd.holoviews_exec.v0+json": "",
      "text/html": [
       "<div id='1575'>\n",
       "\n",
       "\n",
       "\n",
       "\n",
       "\n",
       "  <div class=\"bk-root\" id=\"e2b0e656-3413-43b7-8e90-5cf91fdfaf2c\" data-root-id=\"1575\"></div>\n",
       "</div>\n",
       "<script type=\"application/javascript\">(function(root) {\n",
       "  function embed_document(root) {\n",
       "  var docs_json = {\"94bc4ec5-1906-4456-99b3-7740fae213f2\":{\"roots\":{\"references\":[{\"attributes\":{},\"id\":\"1619\",\"type\":\"CategoricalTickFormatter\"},{\"attributes\":{\"data\":{\"CoinName\":[\"42 Coin\",\"404Coin\",\"EliteCoin\",\"Bitcoin\",\"Ethereum\",\"Litecoin\",\"Dash\",\"Monero\",\"Ethereum Classic\",\"ZCash\",\"Bitshares\",\"BitcoinDark\",\"PayCoin\",\"ProsperCoin\",\"KoboCoin\",\"Spreadcoin\",\"Argentum\",\"Aurora Coin\",\"BlueCoin\",\"MoonCoin\",\"ZetaCoin\",\"SexCoin\",\"Quatloo\",\"EnergyCoin\",\"QuarkCoin\",\"Riecoin\",\"Digitalcoin \",\"BitBar\",\"Catcoin\",\"CryptoBullion\",\"CannaCoin\",\"CryptCoin\",\"CasinoCoin\",\"Diamond\",\"DevCoin\",\"EarthCoin\",\"E-Gulden\",\"Einsteinium\",\"Emerald\",\"Exclusive Coin\",\"FlutterCoin\",\"Franko\",\"FeatherCoin\",\"GrandCoin\",\"GlobalCoin\",\"GoldCoin\",\"HoboNickels\",\"HyperStake\",\"Infinite Coin\",\"IOCoin\",\"IXcoin\",\"KrugerCoin\",\"LuckyCoin\",\"Litebar \",\"MaxCoin\",\"MegaCoin\",\"MediterraneanCoin\",\"MintCoin\",\"MinCoin\",\"MazaCoin\",\"Nautilus Coin\",\"NavCoin\",\"NobleCoin\",\"Namecoin\",\"NyanCoin\",\"OpalCoin\",\"Orbitcoin\",\"PotCoin\",\"PhoenixCoin\",\"Reddcoin\",\"RonPaulCoin\",\"StableCoin\",\"SmartCoin\",\"SuperCoin\",\"SyncCoin\",\"SysCoin\",\"TigerCoin\",\"TittieCoin\",\"TorCoin\",\"TerraCoin\",\"UnbreakableCoin\",\"Unobtanium\",\"UroCoin\",\"UnitaryStatus Dollar\",\"UltraCoin\",\"ViaCoin\",\"VeriCoin\",\"Vertcoin\",\"WorldCoin\",\"X11 Coin\",\"JouleCoin\",\"StealthCoin\",\"ZCC Coin\",\"ByteCoin\",\"DigitalNote \",\"BurstCoin\",\"StorjCoin\",\"MonaCoin\",\"Neutron\",\"FairCoin\",\"Gulden\",\"RubyCoin\",\"PesetaCoin\",\"Kore\",\"Wild Beast Coin\",\"Dnotes\",\"Flo\",\"8BIT Coin\",\"Sativa Coin\",\"ArtByte\",\"Folding Coin\",\"Ucoin\",\"CypherPunkCoin\",\"OmniCron\",\"Vtorrent\",\"GreenCoin\",\"Cryptonite\",\"MasterCoin\",\"SoonCoin\",\"1Credit\",\"IslaCoin\",\"Nexus\",\"MarsCoin \",\"Crypto\",\"Anarchists Prime\",\"Droidz\",\"BowsCoin\",\"Squall Coin\",\"Song Coin\",\"BitZeny\",\"Diggits\",\"Expanse\",\"Paycon\",\"Siacoin\",\"Emercoin\",\"EverGreenCoin\",\"MindCoin\",\"I0coin\",\"Decred\",\"Revolution VR\",\"HOdlcoin\",\"EDRCoin\",\"Hitcoin\",\"Gamecredits\",\"DubaiCoin\",\"CarpeDiemCoin\",\"PWR Coin\",\"BillaryCoin\",\"GPU Coin\",\"Adzcoin\",\"SoilCoin\",\"YoCoin\",\"SibCoin\",\"EuropeCoin\",\"ZeitCoin\",\"SwingCoin\",\"SafeExchangeCoin\",\"Nebuchadnezzar\",\"Francs\",\"BolivarCoin\",\"Ratecoin\",\"Revenu\",\"Clockcoin\",\"VIP Tokens\",\"BitSend\",\"Omni\",\"Let it Ride\",\"PutinCoin\",\"iBankCoin\",\"Frankywillcoin\",\"MudraCoin\",\"PizzaCoin\",\"Lutetium Coin\",\"Komodo\",\"GoldBlocks\",\"CarterCoin\",\"Karbo\",\"BitTokens\",\"ZayedCoin\",\"MustangCoin\",\"ZoneCoin\",\"RootCoin\",\"DopeCoin\",\"BitCurrency\",\"DollarCoin\",\"Swiscoin\",\"Shilling\",\"BuzzCoin\",\"Opair\",\"PesoBit\",\"Halloween Coin\",\"ZCoin\",\"CoffeeCoin\",\"RoyalCoin\",\"GanjaCoin V2\",\"TeamUP\",\"LanaCoin\",\"Elementrem\",\"ZClassic\",\"ARK\",\"InsaneCoin\",\"KiloCoin\",\"ArtexCoin\",\"EmberCoin\",\"XenixCoin\",\"FreeCoin\",\"PLNCoin\",\"AquariusCoin\",\"Kurrent\",\"Creatio\",\"Eternity\",\"Eurocoin\",\"BitcoinFast\",\"Stakenet\",\"BitConnect Coin\",\"MoneyCoin\",\"Enigma\",\"Cannabis Industry Coin\",\"Russiacoin\",\"PandaCoin\",\"GameUnits\",\"GAKHcoin\",\"Allsafe\",\"LiteCreed\",\"OsmiumCoin\",\"Bikercoins\",\"HexxCoin\",\"Klingon Empire Darsek\",\"Internet of People\",\"KushCoin\",\"Printerium\",\"PacCoin\",\"Impeach\",\"Citadel\",\"Zilbercoin\",\"FirstCoin\",\"BeaverCoin\",\"FindCoin\",\"VaultCoin\",\"Zero\",\"OpenChat\",\"Canada eCoin\",\"Zoin\",\"RenosCoin\",\"DubaiCoin\",\"VirtacoinPlus\",\"TajCoin\",\"Impact\",\"EB3coin\",\"Atmos\",\"HappyCoin\",\"Coinonat\",\"MacronCoin\",\"Condensate\",\"Independent Money System\",\"ArgusCoin\",\"LomoCoin\",\"ProCurrency\",\"GoldReserve\",\"BenjiRolls\",\"GrowthCoin\",\"ILCoin\",\"Phreak\",\"Degas Coin\",\"HTML5 Coin\",\"Ultimate Secure Cash\",\"EquiTrader\",\"QTUM\",\"Quantum Resistant Ledger\",\"Espers\",\"Dynamic\",\"Nano\",\"ChanCoin\",\"Dinastycoin\",\"Denarius\",\"DigitalPrice\",\"Virta Unique Coin\",\"Bitcoin Planet\",\"Unify\",\"BritCoin\",\"SocialCoin\",\"ArcticCoin\",\"DAS\",\"Linda\",\"LeviarCoin\",\"DeepOnion\",\"Bitcore\",\"gCn Coin\",\"SmartCash\",\"Signatum\",\"Onix\",\"Cream\",\"Bitcoin Cash\",\"Monoeci\",\"Draftcoin\",\"Vechain\",\"Sojourn Coin\",\"Stakecoin\",\"NewYorkCoin\",\"FrazCoin\",\"Kronecoin\",\"AdCoin\",\"Linx\",\"CoinonatX\",\"Ethereum Dark\",\"Sumokoin\",\"Obsidian\",\"Cardano\",\"Regalcoin\",\"BitcoinZ\",\"TrezarCoin\",\"Elements\",\"TerraNovaCoin\",\"VIVO Coin\",\"Rupee\",\"Bitcoin Gold\",\"WomenCoin\",\"Theresa May Coin\",\"NamoCoin\",\"LUXCoin\",\"Pirl\",\"Xios\",\"Bitcloud 2.0\",\"eBoost\",\"KekCoin\",\"BlackholeCoin\",\"Infinity Economics\",\"Pura\",\"Innova\",\"Ellaism\",\"GoByte\",\"Magnet\",\"Lamden Tau\",\"Electra\",\"Bitcoin Diamond\",\"Cash & Back Coin\",\"UltraNote\",\"BitCoal\",\"DaxxCoin\",\"Bulwark\",\"Kalkulus\",\"AC3\",\"Lethean\",\"GermanCoin\",\"LiteCoin Ultra\",\"PopularCoin\",\"PhantomX\",\"Photon\",\"Sucre\",\"SparksPay\",\"Digiwage\",\"GunCoin\",\"IrishCoin\",\"Trollcoin\",\"Litecoin Plus\",\"Monkey Project\",\"Pioneer Coin\",\"UnitedBitcoin\",\"Interzone\",\"TokenPay\",\"1717 Masonic Commemorative Token\",\"My Big Coin\",\"TurtleCoin\",\"MUNcoin\",\"Unified Society USDEX\",\"Niobio Cash\",\"ShareChain\",\"Travelflex\",\"KREDS\",\"Tokyo Coin\",\"BiblePay\",\"LitecoinCash\",\"BitFlip\",\"LottoCoin\",\"Crypto Improvement Fund\",\"Stipend\",\"Poa Network\",\"Pushi\",\"Ellerium\",\"Velox\",\"Ontology\",\"Callisto Network\",\"BitTube\",\"Poseidon\",\"Aidos Kuneen\",\"Bitspace\",\"Briacoin\",\"Ignition\",\"Bitrolium\",\"MedicCoin\",\"Alpenschillling\",\"Bitcoin Green\",\"Deviant Coin\",\"Abjcoin\",\"Semux\",\"FuturoCoin\",\"Carebit\",\"Zealium\",\"Monero Classic\",\"Proton\",\"iDealCash\",\"Jumpcoin\",\"Infinex\",\"Bitcoin Incognito\",\"KEYCO\",\"HollyWoodCoin\",\"GINcoin\",\"PlatinCoin\",\"Loki\",\"Newton Coin\",\"Swisscoin\",\"Xt3ch\",\"MassGrid\",\"TheVig\",\"PluraCoin\",\"EmaratCoin\",\"Dekado\",\"Lynx\",\"Poseidon Quark\",\"BitcoinWSpectrum\",\"Muse\",\"Motion\",\"PlusOneCoin\",\"Axe\",\"Trivechain\",\"Dystem\",\"Giant\",\"Peony Coin\",\"Absolute Coin\",\"Vitae\",\"HexCoin\",\"TPCash\",\"Webchain\",\"Ryo\",\"Urals Coin\",\"Qwertycoin\",\"ARENON\",\"EUNO\",\"MMOCoin\",\"Ketan\",\"Project Pai\",\"XDNA\",\"PAXEX\",\"Azart\",\"ThunderStake\",\"Kcash\",\"Xchange\",\"Acute Angle Cloud\",\"CrypticCoin\",\"Bettex coin\",\"Actinium\",\"Bitcoin SV\",\"BitMoney\",\"Junson Ming Chan Coin\",\"FREDEnergy\",\"HerbCoin\",\"Universal Molecule\",\"Lithium\",\"PirateCash\",\"Exosis\",\"Block-Logic\",\"Oduwa\",\"Beam\",\"Galilel\",\"Bithereum\",\"Crypto Sports\",\"Credit\",\"SLICE\",\"Dash Platinum\",\"Nasdacoin\",\"Beetle Coin\",\"Titan Coin\",\"Award\",\"BLAST\",\"Bitcoin Rhodium\",\"GlobalToken\",\"Insane Coin\",\"ALAX\",\"LiteDoge\",\"SolarCoin\",\"TruckCoin\",\"UFO Coin\",\"OrangeCoin\",\"BlakeCoin\",\"BitstarCoin\",\"NeosCoin\",\"HyperCoin\",\"PinkCoin\",\"Crypto Escudo\",\"AudioCoin\",\"IncaKoin\",\"Piggy Coin\",\"Crown Coin\",\"Genstake\",\"SmileyCoin\",\"XiaoMiCoin\",\"Groestlcoin\",\"CapriCoin\",\" ClubCoin\",\"Radium\",\"Bata\",\"Pakcoin\",\"Creditbit \",\"OKCash\",\"Lisk\",\"HiCoin\",\"WhiteCoin\",\"FriendshipCoin\",\"Fiii\",\"Triangles Coin\",\"Vollar\",\"EOS\",\"Reality Clash\",\"Oxycoin\",\"TigerCash\",\"Waves\",\"Particl\",\"BitTorrent\",\"Nxt\",\"ZEPHYR\",\"Gapcoin\",\"Beldex\",\"Horizen\",\"BitcoinPlus\"],\"TotalCoinSupply\":[\"42\",\"532000000\",\"314159265359\",\"21000000\",\"0\",\"84000000\",\"22000000\",\"0\",\"210000000\",\"21000000\",\"3600570502\",\"22000000\",\"12500000\",\"21000000\",\"350000000\",\"20000000\",\"64000000\",\"16768584\",\"0\",\"384000000000\",\"169795588\",\"250000000\",\"100000000\",\"0\",\"247000000\",\"84000000\",\"48166000\",\"500000\",\"21000000 \",\"1000000\",\"13140000\",\"18000000\",\"40000000000\",\"4380000\",\"21000000000\",\"13500000000\",\"21000000 \",\"299792458\",\"32000000\",\"0\",\"0\",\"11235813\",\"336000000\",\"1420609614\",\"70000000\",\"72245700\",\"120000000\",\"0\",\"90600000000\",\"22000000\",\"21000000\",\"265420800\",\"20000000\",\"1350000\",\"100000000\",\"42000000\",\"200000000\",\"0\",\"10000000\",\"2419200000\",\"16180000\",\"0\",\"15000000000\",\"21000000\",\"337000000\",\"0\",\"3770000\",\"420000000\",\"98000000\",\"0\",\"21000000\",\"250000000\",\"51200000\",\"0\",\"1000\",\"888000000\",\"47011968\",\"2300000000\",\"10000000\",\"42000000\",\"80000000\",\"250000\",\"0\",\"1600000000\",\"100000000\",\"23000000\",\"0\",\"84000000\",\"265420800\",\"5500000\",\"45000000\",\"0\",\"1000000000\",\"184467440735\",\"10000000000\",\"2158812800\",\"500000000\",\"105120000\",\"68000000\",\"0\",\"1680000000\",\"0\",\"166386000\",\"12000000\",\"2628000\",\"500000000\",\"160000000\",\"0\",\"10000000\",\"1000000000\",\"1000000000\",\"20000000\",\"0\",\"3371337\",\"20000000\",\"10000000000\",\"1840000000\",\"619478\",\"21000000\",\"92000000000\",\"0\",\"78000000\",\"33000000\",\"65789100\",\"53760000\",\"5060000\",\"21000000\",\"0\",\"210240000\",\"250000000\",\"100000000\",\"16906397\",\"50000000\",\"0\",\"1000000000\",\"26298000\",\"16000000\",\"21000000\",\"21000000\",\"210000000\",\"81962100\",\"22000000\",\"26550000000\",\"84000000\",\"10500000\",\"21626280000 \",\"0\",\"42000000\",\"221052632\",\"84000000\",\"30000000\",\"168351300\",\"24000000\",\"384000000\",\" 99000000000\",\"40000000\",\"2147483647\",\"20000000\",\"20000000\",\"25000000\",\"75000000\",\"222725000\",\"525000000\",\"90000000\",\"139000000\",\"616448\",\"33500000\",\"2000000000\",\"44333333\",\"100000000\",\"200000000\",\"25000000\",\"657000000\",\"200000000\",\"50000000\",\"90000000\",\"10000000\",\"21000000\",\"9736000\",\"3000000\",\"21000000\",\"0\",\"200000000\",\"0\",\"10638298\",\"3100000000\",\"30000000\",\"20000000000\",\"74000000\",\"0\",\"1500000000\",\"21400000\",\"39999898\",\"2500124\",\"100000000\",\"301000000\",\"7506000000\",\"26205539\",\"21000000\",\"125000000\",\"30000000\",\"10000000000\",\"500000000\",\"850000000\",\"3853326.77707314\",\"50000000\",\"38540000 \",\"42000000\",\"228000000\",\"20000000\",\"60000000\",\"20000000\",\"33000000\",\"76500000\",\"28000000\",\"650659833\",\"5000000\",\"21000000\",\"144000000\",\"32514916898\",\"13000000\",\"3315789\",\"15000000\",\"78835200\",\"2714286\",\"25000000\",\"9999999\",\"500000000\",\"21000000\",\"9354000\",\"20000000\",\"100000000000\",\"21933333\",\"185000000\",\"55000000\",\"110000000\",\"3360000\",\"14524851.4827\",\"1000000000\",\"17000000\",\"1000000000\",\"100000000 \",\"21000000\",\"34426423\",\"2232901\",\"100000000\",\"36900000\",\"110000000\",\"4000000000\",\"110290030\",\"100000000\",\"48252000\",\"400000000\",\"500000000\",\"21212121\",\"28600000\",\"1000000000\",\"75000000000\",\"40000000\",\"35520400\",\"2000000000\",\"2500000000\",\"30000000\",\"105000000\",\"90000000000\",\"200084200\",\"72000000\",\"100000000\",\"105000000\",\"50000000000\",\"0\",\"340282367\",\"30000000\",\"2000000000\",\"10000000\",\"100000000\",\"120000000\",\"100000000\",\"19276800\",\"30000000\",\" 75000000\",\"60000000\",\"18900000\",\"50000000000\",\"54000000\",\"18898187.6216583\",\"21000000\",\"200000000000\",\"5000000000\",\"137500000\",\"1100000000\",\"100000000\",\"21000000\",\"9507271\",\"17405891.19707116\",\"86712634466\",\"10500000000\",\"61599965\",\"0\",\"20000000\",\"84000000\",\"100000000\",\"100000000\",\"48252000\",\"4200000\",\"88888888\",\"91388946\",\"45000000000\",\"27000000\",\"21000000000\",\"400000000\",\"1800000000\",\"15733333\",\"27000000\",\"24000000\",\"21000000\",\"25000000000\",\"100000000\",\"1200000000\",\"60000000\",\"156306732.71\",\"21000000\",\"200000000\",\"100000000\",\"21000000\",\"14788275.991\",\"9000000000\",\"350000000\",\"45000000\",\"280000000\",\"31800000\",\"144000000\",\"500000000\",\"30000000000\",\"210000000\",\"210000000\",\"85000000000\",\"12500000\",\"10000000000\",\"27716121\",\"20000000\",\"550000000\",\"999481516\",\"50000000000\",\"150000000\",\"4999999999\",\"50000000\",\" 90000000000\",\"19800000\",\"21000000\",\"120000000\",\"500000000\",\"64000000\",\"900000000\",\"4000000\",\"21000000\",\"23000000\",\"20166000\",\"23000000\",\"25000000\",\"1618033\",\"30000000\",\"1000000000000\",\"16600000\",\"232000000\",\"336000000\",\"10000000000\",\"100000000\",\"1100000000\",\"800000000\",\"5200000000\",\"840000000\",\"40000000\",\"18406979840\",\"500000000\",\"19340594\",\"252460800\",\"25000000\",\"60000000\",\"124000000\",\"1000000000\",\"6500000000\",\"1000000000\",\"21000000\",\"25000000\",\"50000000\",\"3000000\",\"5000000\",\"70000000\",\"500000000\",\"300000000\",\"21000000\",\"88000000\",\"30000000\",\"100000000\",\"100000000\",\"200000000\",\"80000000\",\"18400000\",\"45000000\",\"5121951220\",\"21000000\",\"26280000\",\"21000000\",\"18000000\",\"26000000\",\"10500000\",\"600000518\",\"150000000\",\"184000000000\",\"10200000000\",\"44000000\",\"168000000\",\"100000000\",\"1000000000\",\"84000000\",\"90000000\",\"92000000000\",\"650000000 \",\"100262205\",\"18081806 \",\"22075700\",\"21000000\",\"21000000\",\"82546564\",\"21000000\",\"5151000\",\"16880000000\",\"52500000\",\"100000000\",\"22105263\",\"1000000000\",\"1750000000\",\"88188888\",\"210000000\",\"184470000000\",\"55000000\",\"50000000\",\"260000000\",\"210000000\",\"2100000000\",\"366000000\",\"100000000\",\"25000000\",\"18000000000\",\"1000000000\",\"100000000\",\"1000000000\",\"7600000000\",\"50000000\",\"84000000\",\"21000000\",\"70000000000\",\"0\",\"8080000000\",\"54000000\",\"105120001.44\",\"25228800\",\"105000000\",\"21000000\",\"120000000\",\"21000000\",\"262800000\",\"19035999\",\"30886000\",\"13370000\",\"74800000000\",\"100000000\",\"19700000\",\"84000000\",\"500000000\",\"5000000000\",\"420000000\",\"64000000\",\"2100000\",\"168000000\",\"30000000\",\"1000000000\",\"35000000000\",\"98100000000\",\"0\",\"4000000000\",\"200000000\",\"7000000000\",\"54256119\",\"21000000\",\"0\",\"500000000\",\"1000000000\",\"10500000000\",\"190000000\",\"1000000000\",\"42000000\",\"15000000\",\"50000000000\",\"400000000\",\"105000000\",\"208000000\",\"160000000\",\"9000000\",\"5000000\",\"182000000\",\"16504333\",\"105000000\",\"159918400\",\"10008835635\",\"300000000\",\"60168145\",\"5000000000\",\"120000\",\"2100000000\",\"0\",\"24487944\",\"0\",\"1000000000\",\"100000000\",\"8634140\",\"990000000000\",\"1000000000\",\"2000000000\",\"250000000\",\"1400222610\",\"21000000\",\"1000000\"],\"TotalCoinsMined\":{\"__ndarray__\":\"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\",\"dtype\":\"float64\",\"order\":\"little\",\"shape\":[524]}},\"selected\":{\"id\":\"1610\"},\"selection_policy\":{\"id\":\"1626\"}},\"id\":\"1609\",\"type\":\"ColumnDataSource\"},{\"attributes\":{},\"id\":\"1587\",\"type\":\"CategoricalScale\"},{\"attributes\":{},\"id\":\"1590\",\"type\":\"BasicTicker\"},{\"attributes\":{\"fill_alpha\":{\"value\":0.2},\"fill_color\":{\"value\":\"#1f77b3\"},\"line_alpha\":{\"value\":0.2},\"line_color\":{\"value\":\"#1f77b3\"},\"size\":{\"units\":\"screen\",\"value\":5.477225575051661},\"x\":{\"field\":\"TotalCoinsMined\"},\"y\":{\"field\":\"TotalCoinSupply\"}},\"id\":\"1614\",\"type\":\"Scatter\"},{\"attributes\":{\"fill_color\":{\"value\":\"#1f77b3\"},\"line_color\":{\"value\":\"#1f77b3\"},\"size\":{\"units\":\"screen\",\"value\":5.477225575051661},\"x\":{\"field\":\"TotalCoinsMined\"},\"y\":{\"field\":\"TotalCoinSupply\"}},\"id\":\"1612\",\"type\":\"Scatter\"},{\"attributes\":{\"align\":null,\"below\":[{\"id\":\"1589\"}],\"center\":[{\"id\":\"1592\"},{\"id\":\"1595\"}],\"left\":[{\"id\":\"1593\"}],\"margin\":null,\"min_border_bottom\":10,\"min_border_left\":10,\"min_border_right\":10,\"min_border_top\":10,\"plot_height\":300,\"plot_width\":700,\"renderers\":[{\"id\":\"1615\"}],\"sizing_mode\":\"fixed\",\"title\":{\"id\":\"1581\"},\"toolbar\":{\"id\":\"1602\"},\"x_range\":{\"id\":\"1577\"},\"x_scale\":{\"id\":\"1585\"},\"y_range\":{\"id\":\"1578\"},\"y_scale\":{\"id\":\"1587\"}},\"id\":\"1580\",\"subtype\":\"Figure\",\"type\":\"Plot\"},{\"attributes\":{\"axis_label\":\"TotalCoinSupply\",\"bounds\":\"auto\",\"formatter\":{\"id\":\"1619\"},\"major_label_orientation\":\"horizontal\",\"ticker\":{\"id\":\"1594\"}},\"id\":\"1593\",\"type\":\"CategoricalAxis\"},{\"attributes\":{\"data_source\":{\"id\":\"1609\"},\"glyph\":{\"id\":\"1612\"},\"hover_glyph\":null,\"muted_glyph\":{\"id\":\"1614\"},\"nonselection_glyph\":{\"id\":\"1613\"},\"selection_glyph\":null,\"view\":{\"id\":\"1616\"}},\"id\":\"1615\",\"type\":\"GlyphRenderer\"},{\"attributes\":{\"end\":1032670428767.6898,\"reset_end\":1032670428767.6898,\"reset_start\":-48599692876.008446,\"start\":-48599692876.008446,\"tags\":[[[\"TotalCoinsMined\",\"TotalCoinsMined\",null]]]},\"id\":\"1577\",\"type\":\"Range1d\"},{\"attributes\":{},\"id\":\"1600\",\"type\":\"ResetTool\"},{\"attributes\":{\"axis_label\":\"TotalCoinsMined\",\"bounds\":\"auto\",\"formatter\":{\"id\":\"1618\"},\"major_label_orientation\":\"horizontal\",\"ticker\":{\"id\":\"1590\"}},\"id\":\"1589\",\"type\":\"LinearAxis\"},{\"attributes\":{\"margin\":[5,5,5,5],\"name\":\"HSpacer02927\",\"sizing_mode\":\"stretch_width\"},\"id\":\"1637\",\"type\":\"Spacer\"},{\"attributes\":{},\"id\":\"1618\",\"type\":\"BasicTickFormatter\"},{\"attributes\":{\"overlay\":{\"id\":\"1601\"}},\"id\":\"1599\",\"type\":\"BoxZoomTool\"},{\"attributes\":{},\"id\":\"1597\",\"type\":\"PanTool\"},{\"attributes\":{\"callback\":null,\"renderers\":[{\"id\":\"1615\"}],\"tags\":[\"hv_created\"],\"tooltips\":[[\"TotalCoinsMined\",\"@{TotalCoinsMined}\"],[\"TotalCoinSupply\",\"@{TotalCoinSupply}\"],[\"CoinName\",\"@{CoinName}\"]]},\"id\":\"1579\",\"type\":\"HoverTool\"},{\"attributes\":{},\"id\":\"1585\",\"type\":\"LinearScale\"},{\"attributes\":{\"active_drag\":\"auto\",\"active_inspect\":\"auto\",\"active_multi\":null,\"active_scroll\":\"auto\",\"active_tap\":\"auto\",\"tools\":[{\"id\":\"1579\"},{\"id\":\"1596\"},{\"id\":\"1597\"},{\"id\":\"1598\"},{\"id\":\"1599\"},{\"id\":\"1600\"}]},\"id\":\"1602\",\"type\":\"Toolbar\"},{\"attributes\":{\"axis\":{\"id\":\"1589\"},\"grid_line_color\":null,\"ticker\":null},\"id\":\"1592\",\"type\":\"Grid\"},{\"attributes\":{\"margin\":[5,5,5,5],\"name\":\"HSpacer02926\",\"sizing_mode\":\"stretch_width\"},\"id\":\"1576\",\"type\":\"Spacer\"},{\"attributes\":{},\"id\":\"1596\",\"type\":\"SaveTool\"},{\"attributes\":{\"text\":\"\",\"text_color\":{\"value\":\"black\"},\"text_font_size\":{\"value\":\"12pt\"}},\"id\":\"1581\",\"type\":\"Title\"},{\"attributes\":{\"bottom_units\":\"screen\",\"fill_alpha\":0.5,\"fill_color\":\"lightgrey\",\"left_units\":\"screen\",\"level\":\"overlay\",\"line_alpha\":1.0,\"line_color\":\"black\",\"line_dash\":[4,4],\"line_width\":2,\"right_units\":\"screen\",\"top_units\":\"screen\"},\"id\":\"1601\",\"type\":\"BoxAnnotation\"},{\"attributes\":{},\"id\":\"1626\",\"type\":\"UnionRenderers\"},{\"attributes\":{\"children\":[{\"id\":\"1576\"},{\"id\":\"1580\"},{\"id\":\"1637\"}],\"margin\":[0,0,0,0],\"name\":\"Row02922\",\"tags\":[\"embedded\"]},\"id\":\"1575\",\"type\":\"Row\"},{\"attributes\":{},\"id\":\"1598\",\"type\":\"WheelZoomTool\"},{\"attributes\":{},\"id\":\"1610\",\"type\":\"Selection\"},{\"attributes\":{},\"id\":\"1594\",\"type\":\"CategoricalTicker\"},{\"attributes\":{\"factors\":[\"42\",\"532000000\",\"314159265359\",\"21000000\",\"0\",\"84000000\",\"22000000\",\"210000000\",\"3600570502\",\"12500000\",\"350000000\",\"20000000\",\"64000000\",\"16768584\",\"384000000000\",\"169795588\",\"250000000\",\"100000000\",\"247000000\",\"48166000\",\"500000\",\"21000000 \",\"1000000\",\"13140000\",\"18000000\",\"40000000000\",\"4380000\",\"21000000000\",\"13500000000\",\"299792458\",\"32000000\",\"11235813\",\"336000000\",\"1420609614\",\"70000000\",\"72245700\",\"120000000\",\"90600000000\",\"265420800\",\"1350000\",\"42000000\",\"200000000\",\"10000000\",\"2419200000\",\"16180000\",\"15000000000\",\"337000000\",\"3770000\",\"420000000\",\"98000000\",\"51200000\",\"1000\",\"888000000\",\"47011968\",\"2300000000\",\"80000000\",\"250000\",\"1600000000\",\"23000000\",\"5500000\",\"45000000\",\"1000000000\",\"184467440735\",\"10000000000\",\"2158812800\",\"500000000\",\"105120000\",\"68000000\",\"1680000000\",\"166386000\",\"12000000\",\"2628000\",\"160000000\",\"3371337\",\"1840000000\",\"619478\",\"92000000000\",\"78000000\",\"33000000\",\"65789100\",\"53760000\",\"5060000\",\"210240000\",\"16906397\",\"50000000\",\"26298000\",\"16000000\",\"81962100\",\"26550000000\",\"10500000\",\"21626280000 \",\"221052632\",\"30000000\",\"168351300\",\"24000000\",\"384000000\",\" 99000000000\",\"40000000\",\"2147483647\",\"25000000\",\"75000000\",\"222725000\",\"525000000\",\"90000000\",\"139000000\",\"616448\",\"33500000\",\"2000000000\",\"44333333\",\"657000000\",\"9736000\",\"3000000\",\"10638298\",\"3100000000\",\"20000000000\",\"74000000\",\"1500000000\",\"21400000\",\"39999898\",\"2500124\",\"301000000\",\"7506000000\",\"26205539\",\"125000000\",\"850000000\",\"3853326.77707314\",\"38540000 \",\"228000000\",\"60000000\",\"76500000\",\"28000000\",\"650659833\",\"5000000\",\"144000000\",\"32514916898\",\"13000000\",\"3315789\",\"15000000\",\"78835200\",\"2714286\",\"9999999\",\"9354000\",\"100000000000\",\"21933333\",\"185000000\",\"55000000\",\"110000000\",\"3360000\",\"14524851.4827\",\"17000000\",\"100000000 \",\"34426423\",\"2232901\",\"36900000\",\"4000000000\",\"110290030\",\"48252000\",\"400000000\",\"21212121\",\"28600000\",\"75000000000\",\"35520400\",\"2500000000\",\"105000000\",\"90000000000\",\"200084200\",\"72000000\",\"50000000000\",\"340282367\",\"19276800\",\" 75000000\",\"18900000\",\"54000000\",\"18898187.6216583\",\"200000000000\",\"5000000000\",\"137500000\",\"1100000000\",\"9507271\",\"17405891.19707116\",\"86712634466\",\"10500000000\",\"61599965\",\"4200000\",\"88888888\",\"91388946\",\"45000000000\",\"27000000\",\"1800000000\",\"15733333\",\"25000000000\",\"1200000000\",\"156306732.71\",\"14788275.991\",\"9000000000\",\"280000000\",\"31800000\",\"30000000000\",\"85000000000\",\"27716121\",\"550000000\",\"999481516\",\"150000000\",\"4999999999\",\" 90000000000\",\"19800000\",\"900000000\",\"4000000\",\"20166000\",\"1618033\",\"1000000000000\",\"16600000\",\"232000000\",\"800000000\",\"5200000000\",\"840000000\",\"18406979840\",\"19340594\",\"252460800\",\"124000000\",\"6500000000\",\"300000000\",\"88000000\",\"18400000\",\"5121951220\",\"26280000\",\"26000000\",\"600000518\",\"184000000000\",\"10200000000\",\"44000000\",\"168000000\",\"650000000 \",\"100262205\",\"18081806 \",\"22075700\",\"82546564\",\"5151000\",\"16880000000\",\"52500000\",\"22105263\",\"1750000000\",\"88188888\",\"184470000000\",\"260000000\",\"2100000000\",\"366000000\",\"18000000000\",\"7600000000\",\"70000000000\",\"8080000000\",\"105120001.44\",\"25228800\",\"262800000\",\"19035999\",\"30886000\",\"13370000\",\"74800000000\",\"19700000\",\"2100000\",\"35000000000\",\"98100000000\",\"7000000000\",\"54256119\",\"190000000\",\"208000000\",\"9000000\",\"182000000\",\"16504333\",\"159918400\",\"10008835635\",\"60168145\",\"120000\",\"24487944\",\"8634140\",\"990000000000\",\"1400222610\"],\"tags\":[[[\"TotalCoinSupply\",\"TotalCoinSupply\",null]]]},\"id\":\"1578\",\"type\":\"FactorRange\"},{\"attributes\":{\"fill_alpha\":{\"value\":0.1},\"fill_color\":{\"value\":\"#1f77b3\"},\"line_alpha\":{\"value\":0.1},\"line_color\":{\"value\":\"#1f77b3\"},\"size\":{\"units\":\"screen\",\"value\":5.477225575051661},\"x\":{\"field\":\"TotalCoinsMined\"},\"y\":{\"field\":\"TotalCoinSupply\"}},\"id\":\"1613\",\"type\":\"Scatter\"},{\"attributes\":{\"source\":{\"id\":\"1609\"}},\"id\":\"1616\",\"type\":\"CDSView\"},{\"attributes\":{\"axis\":{\"id\":\"1593\"},\"dimension\":1,\"grid_line_color\":null,\"ticker\":null},\"id\":\"1595\",\"type\":\"Grid\"}],\"root_ids\":[\"1575\"]},\"title\":\"Bokeh Application\",\"version\":\"2.1.1\"}};\n",
       "  var render_items = [{\"docid\":\"94bc4ec5-1906-4456-99b3-7740fae213f2\",\"root_ids\":[\"1575\"],\"roots\":{\"1575\":\"e2b0e656-3413-43b7-8e90-5cf91fdfaf2c\"}}];\n",
       "  root.Bokeh.embed.embed_items_notebook(docs_json, render_items);\n",
       "  }\n",
       "if (root.Bokeh !== undefined) {\n",
       "    embed_document(root);\n",
       "  } else {\n",
       "    var attempts = 0;\n",
       "    var timer = setInterval(function(root) {\n",
       "      if (root.Bokeh !== undefined) {\n",
       "        clearInterval(timer);\n",
       "        embed_document(root);\n",
       "      } else if (document.readyState == \"complete\") {\n",
       "        attempts++;\n",
       "        if (attempts > 100) {\n",
       "          clearInterval(timer);\n",
       "          console.log(\"Bokeh: ERROR: Unable to run BokehJS code because BokehJS library is missing\");\n",
       "        }\n",
       "      }\n",
       "    }, 10, root)\n",
       "  }\n",
       "})(window);</script>"
      ],
      "text/plain": [
       ":Scatter   [TotalCoinsMined]   (TotalCoinSupply,CoinName)"
      ]
     },
     "execution_count": 78,
     "metadata": {
      "application/vnd.holoviews_exec.v0+json": {
       "id": "1575"
      }
     },
     "output_type": "execute_result"
    }
   ],
   "source": [
    "# Create a hvplot scatter\n",
    "clustered_df.hvplot.scatter(\n",
    "    x=\"TotalCoinsMined\",\n",
    "    y=\"TotalCoinSupply\",\n",
    "    hover_cols=[\"CoinName\"],\n",
    ")"
   ]
  },
  {
   "cell_type": "code",
   "execution_count": 82,
   "metadata": {},
   "outputs": [
    {
     "data": {
      "text/html": [
       "<div>\n",
       "<style scoped>\n",
       "    .dataframe tbody tr th:only-of-type {\n",
       "        vertical-align: middle;\n",
       "    }\n",
       "\n",
       "    .dataframe tbody tr th {\n",
       "        vertical-align: top;\n",
       "    }\n",
       "\n",
       "    .dataframe thead th {\n",
       "        text-align: right;\n",
       "    }\n",
       "</style>\n",
       "<table border=\"1\" class=\"dataframe\">\n",
       "  <thead>\n",
       "    <tr style=\"text-align: right;\">\n",
       "      <th></th>\n",
       "      <th>Algorithm</th>\n",
       "      <th>ProofType</th>\n",
       "      <th>TotalCoinsMined</th>\n",
       "      <th>TotalCoinSupply</th>\n",
       "      <th>PC 1</th>\n",
       "      <th>PC 2</th>\n",
       "      <th>PC 3</th>\n",
       "      <th>CoinName</th>\n",
       "      <th>class</th>\n",
       "    </tr>\n",
       "    <tr>\n",
       "      <th>Unnamed: 0</th>\n",
       "      <th></th>\n",
       "      <th></th>\n",
       "      <th></th>\n",
       "      <th></th>\n",
       "      <th></th>\n",
       "      <th></th>\n",
       "      <th></th>\n",
       "      <th></th>\n",
       "      <th></th>\n",
       "    </tr>\n",
       "  </thead>\n",
       "  <tbody>\n",
       "    <tr>\n",
       "      <th>42</th>\n",
       "      <td>Scrypt</td>\n",
       "      <td>PoW/PoS</td>\n",
       "      <td>4.199995e+01</td>\n",
       "      <td>42</td>\n",
       "      <td>-0.337285</td>\n",
       "      <td>0.969749</td>\n",
       "      <td>-0.602976</td>\n",
       "      <td>42 Coin</td>\n",
       "      <td>0</td>\n",
       "    </tr>\n",
       "    <tr>\n",
       "      <th>404</th>\n",
       "      <td>Scrypt</td>\n",
       "      <td>PoW/PoS</td>\n",
       "      <td>1.055185e+09</td>\n",
       "      <td>532000000</td>\n",
       "      <td>-0.320748</td>\n",
       "      <td>0.969904</td>\n",
       "      <td>-0.603518</td>\n",
       "      <td>404Coin</td>\n",
       "      <td>0</td>\n",
       "    </tr>\n",
       "    <tr>\n",
       "      <th>1337</th>\n",
       "      <td>X13</td>\n",
       "      <td>PoW/PoS</td>\n",
       "      <td>2.927942e+10</td>\n",
       "      <td>314159265359</td>\n",
       "      <td>2.296893</td>\n",
       "      <td>1.647838</td>\n",
       "      <td>-0.721912</td>\n",
       "      <td>EliteCoin</td>\n",
       "      <td>0</td>\n",
       "    </tr>\n",
       "    <tr>\n",
       "      <th>BTC</th>\n",
       "      <td>SHA-256</td>\n",
       "      <td>PoW</td>\n",
       "      <td>1.792718e+07</td>\n",
       "      <td>21000000</td>\n",
       "      <td>-0.146219</td>\n",
       "      <td>-1.316683</td>\n",
       "      <td>0.207438</td>\n",
       "      <td>Bitcoin</td>\n",
       "      <td>2</td>\n",
       "    </tr>\n",
       "    <tr>\n",
       "      <th>ETH</th>\n",
       "      <td>Ethash</td>\n",
       "      <td>PoW</td>\n",
       "      <td>1.076842e+08</td>\n",
       "      <td>0</td>\n",
       "      <td>-0.155746</td>\n",
       "      <td>-1.987853</td>\n",
       "      <td>0.422878</td>\n",
       "      <td>Ethereum</td>\n",
       "      <td>2</td>\n",
       "    </tr>\n",
       "  </tbody>\n",
       "</table>\n",
       "</div>"
      ],
      "text/plain": [
       "           Algorithm ProofType  TotalCoinsMined TotalCoinSupply      PC 1  \\\n",
       "Unnamed: 0                                                                  \n",
       "42            Scrypt   PoW/PoS     4.199995e+01              42 -0.337285   \n",
       "404           Scrypt   PoW/PoS     1.055185e+09       532000000 -0.320748   \n",
       "1337             X13   PoW/PoS     2.927942e+10    314159265359  2.296893   \n",
       "BTC          SHA-256       PoW     1.792718e+07        21000000 -0.146219   \n",
       "ETH           Ethash       PoW     1.076842e+08               0 -0.155746   \n",
       "\n",
       "                PC 2      PC 3   CoinName  class  \n",
       "Unnamed: 0                                        \n",
       "42          0.969749 -0.602976    42 Coin      0  \n",
       "404         0.969904 -0.603518    404Coin      0  \n",
       "1337        1.647838 -0.721912  EliteCoin      0  \n",
       "BTC        -1.316683  0.207438    Bitcoin      2  \n",
       "ETH        -1.987853  0.422878   Ethereum      2  "
      ]
     },
     "execution_count": 82,
     "metadata": {},
     "output_type": "execute_result"
    }
   ],
   "source": [
    "# Remove outliar for graph\n",
    "clustered_no_outliar = clustered_df[clustered_df.CoinName != 'BitTorrent']\n",
    "clustered_no_outliar.head(5)"
   ]
  },
  {
   "cell_type": "code",
   "execution_count": 85,
   "metadata": {},
   "outputs": [
    {
     "data": {},
     "metadata": {},
     "output_type": "display_data"
    },
    {
     "data": {
      "application/vnd.holoviews_exec.v0+json": "",
      "text/html": [
       "<div id='2051'>\n",
       "\n",
       "\n",
       "\n",
       "\n",
       "\n",
       "  <div class=\"bk-root\" id=\"1863adc8-0dd5-45c9-ae3b-00ddbd05238d\" data-root-id=\"2051\"></div>\n",
       "</div>\n",
       "<script type=\"application/javascript\">(function(root) {\n",
       "  function embed_document(root) {\n",
       "  var docs_json = {\"ccd3e22d-e4cb-41f6-876b-3683083a2a3d\":{\"roots\":{\"references\":[{\"attributes\":{\"label\":{\"value\":\"0\"},\"renderers\":[{\"id\":\"2100\"}]},\"id\":\"2110\",\"type\":\"LegendItem\"},{\"attributes\":{\"source\":{\"id\":\"2111\"}},\"id\":\"2118\",\"type\":\"CDSView\"},{\"attributes\":{\"children\":[{\"id\":\"2052\"},{\"id\":\"2058\"},{\"id\":\"2248\"}],\"margin\":[0,0,0,0],\"name\":\"Row04006\",\"tags\":[\"embedded\"]},\"id\":\"2051\",\"type\":\"Row\"},{\"attributes\":{},\"id\":\"2063\",\"type\":\"LinearScale\"},{\"attributes\":{},\"id\":\"2074\",\"type\":\"SaveTool\"},{\"attributes\":{},\"id\":\"2076\",\"type\":\"WheelZoomTool\"},{\"attributes\":{},\"id\":\"2125\",\"type\":\"UnionRenderers\"},{\"attributes\":{},\"id\":\"2112\",\"type\":\"Selection\"},{\"attributes\":{\"data_source\":{\"id\":\"2094\"},\"glyph\":{\"id\":\"2097\"},\"hover_glyph\":null,\"muted_glyph\":{\"id\":\"2099\"},\"nonselection_glyph\":{\"id\":\"2098\"},\"selection_glyph\":null,\"view\":{\"id\":\"2101\"}},\"id\":\"2100\",\"type\":\"GlyphRenderer\"},{\"attributes\":{},\"id\":\"2145\",\"type\":\"UnionRenderers\"},{\"attributes\":{\"end\":192209034800.94147,\"reset_end\":192209034800.94147,\"reset_start\":-14060183534.909204,\"start\":-14060183534.909204,\"tags\":[[[\"TotalCoinsMined\",\"TotalCoinsMined\",null]]]},\"id\":\"2053\",\"type\":\"Range1d\"},{\"attributes\":{\"data_source\":{\"id\":\"2111\"},\"glyph\":{\"id\":\"2114\"},\"hover_glyph\":null,\"muted_glyph\":{\"id\":\"2116\"},\"nonselection_glyph\":{\"id\":\"2115\"},\"selection_glyph\":null,\"view\":{\"id\":\"2118\"}},\"id\":\"2117\",\"type\":\"GlyphRenderer\"},{\"attributes\":{\"fill_alpha\":{\"value\":0.2},\"fill_color\":{\"value\":\"#1f77b3\"},\"line_alpha\":{\"value\":0.2},\"line_color\":{\"value\":\"#1f77b3\"},\"size\":{\"units\":\"screen\",\"value\":5.477225575051661},\"x\":{\"field\":\"TotalCoinsMined\"},\"y\":{\"field\":\"TotalCoinSupply\"}},\"id\":\"2099\",\"type\":\"Scatter\"},{\"attributes\":{\"data\":{\"CoinName\":[\"Bitcoin\",\"Ethereum\",\"Litecoin\",\"Monero\",\"Ethereum Classic\",\"ZCash\",\"ProsperCoin\",\"Spreadcoin\",\"Argentum\",\"MoonCoin\",\"ZetaCoin\",\"SexCoin\",\"Quatloo\",\"QuarkCoin\",\"Riecoin\",\"Digitalcoin \",\"Catcoin\",\"CannaCoin\",\"CryptCoin\",\"DevCoin\",\"EarthCoin\",\"E-Gulden\",\"Einsteinium\",\"Emerald\",\"Franko\",\"FeatherCoin\",\"GrandCoin\",\"GlobalCoin\",\"GoldCoin\",\"Infinite Coin\",\"IXcoin\",\"KrugerCoin\",\"LuckyCoin\",\"Litebar \",\"MegaCoin\",\"MediterraneanCoin\",\"MinCoin\",\"NobleCoin\",\"Namecoin\",\"NyanCoin\",\"RonPaulCoin\",\"StableCoin\",\"SmartCoin\",\"SysCoin\",\"TigerCoin\",\"TerraCoin\",\"UnbreakableCoin\",\"Unobtanium\",\"UroCoin\",\"ViaCoin\",\"Vertcoin\",\"WorldCoin\",\"JouleCoin\",\"ByteCoin\",\"DigitalNote \",\"MonaCoin\",\"Gulden\",\"PesetaCoin\",\"Wild Beast Coin\",\"Flo\",\"ArtByte\",\"Folding Coin\",\"CypherPunkCoin\",\"OmniCron\",\"GreenCoin\",\"Cryptonite\",\"MasterCoin\",\"SoonCoin\",\"1Credit\",\"MarsCoin \",\"Crypto\",\"Anarchists Prime\",\"BowsCoin\",\"Song Coin\",\"BitZeny\",\"Expanse\",\"Siacoin\",\"MindCoin\",\"I0coin\",\"Revolution VR\",\"HOdlcoin\",\"Gamecredits\",\"CarpeDiemCoin\",\"Adzcoin\",\"SoilCoin\",\"YoCoin\",\"SibCoin\",\"Francs\",\"BolivarCoin\",\"Omni\",\"PizzaCoin\",\"Komodo\",\"Karbo\",\"ZayedCoin\",\"DopeCoin\",\"DollarCoin\",\"Shilling\",\"ZCoin\",\"Elementrem\",\"ZClassic\",\"KiloCoin\",\"ArtexCoin\",\"Kurrent\",\"Cannabis Industry Coin\",\"OsmiumCoin\",\"Bikercoins\",\"HexxCoin\",\"PacCoin\",\"Citadel\",\"BeaverCoin\",\"VaultCoin\",\"Zero\",\"Canada eCoin\",\"Zoin\",\"DubaiCoin\",\"EB3coin\",\"Coinonat\",\"BenjiRolls\",\"ILCoin\",\"EquiTrader\",\"Quantum Resistant Ledger\",\"Dynamic\",\"Nano\",\"ChanCoin\",\"Dinastycoin\",\"DigitalPrice\",\"Unify\",\"SocialCoin\",\"ArcticCoin\",\"DAS\",\"LeviarCoin\",\"Bitcore\",\"gCn Coin\",\"SmartCash\",\"Onix\",\"Bitcoin Cash\",\"Sojourn Coin\",\"NewYorkCoin\",\"FrazCoin\",\"Kronecoin\",\"AdCoin\",\"Linx\",\"Sumokoin\",\"BitcoinZ\",\"Elements\",\"VIVO Coin\",\"Bitcoin Gold\",\"Pirl\",\"eBoost\",\"Pura\",\"Innova\",\"Ellaism\",\"GoByte\",\"UltraNote\",\"BitCoal\",\"DaxxCoin\",\"AC3\",\"Lethean\",\"PopularCoin\",\"Photon\",\"Sucre\",\"SparksPay\",\"GunCoin\",\"IrishCoin\",\"Pioneer Coin\",\"UnitedBitcoin\",\"Interzone\",\"TurtleCoin\",\"MUNcoin\",\"Niobio Cash\",\"ShareChain\",\"Travelflex\",\"KREDS\",\"BitFlip\",\"LottoCoin\",\"Crypto Improvement Fund\",\"Callisto Network\",\"BitTube\",\"Poseidon\",\"Aidos Kuneen\",\"Bitrolium\",\"Alpenschillling\",\"FuturoCoin\",\"Monero Classic\",\"Jumpcoin\",\"Infinex\",\"KEYCO\",\"GINcoin\",\"PlatinCoin\",\"Loki\",\"Newton Coin\",\"MassGrid\",\"PluraCoin\",\"Motion\",\"PlusOneCoin\",\"Axe\",\"HexCoin\",\"Webchain\",\"Ryo\",\"Urals Coin\",\"Qwertycoin\",\"Project Pai\",\"Azart\",\"Xchange\",\"CrypticCoin\",\"Actinium\",\"Bitcoin SV\",\"FREDEnergy\",\"Universal Molecule\",\"Lithium\",\"Exosis\",\"Block-Logic\",\"Beam\",\"Bithereum\",\"SLICE\",\"BLAST\",\"Bitcoin Rhodium\",\"GlobalToken\",\"SolarCoin\",\"UFO Coin\",\"BlakeCoin\",\"Crypto Escudo\",\"Crown Coin\",\"SmileyCoin\",\"Groestlcoin\",\"Bata\",\"Pakcoin\",\"Vollar\",\"Reality Clash\",\"Beldex\",\"Horizen\"],\"TotalCoinSupply\":[\"21000000\",\"0\",\"84000000\",\"0\",\"210000000\",\"21000000\",\"21000000\",\"20000000\",\"64000000\",\"384000000000\",\"169795588\",\"250000000\",\"100000000\",\"247000000\",\"84000000\",\"48166000\",\"21000000 \",\"13140000\",\"18000000\",\"21000000000\",\"13500000000\",\"21000000 \",\"299792458\",\"32000000\",\"11235813\",\"336000000\",\"1420609614\",\"70000000\",\"72245700\",\"90600000000\",\"21000000\",\"265420800\",\"20000000\",\"1350000\",\"42000000\",\"200000000\",\"10000000\",\"15000000000\",\"21000000\",\"337000000\",\"21000000\",\"250000000\",\"51200000\",\"888000000\",\"47011968\",\"42000000\",\"80000000\",\"250000\",\"0\",\"23000000\",\"84000000\",\"265420800\",\"45000000\",\"184467440735\",\"10000000000\",\"105120000\",\"1680000000\",\"166386000\",\"2628000\",\"160000000\",\"1000000000\",\"1000000000\",\"0\",\"3371337\",\"10000000000\",\"1840000000\",\"619478\",\"21000000\",\"92000000000\",\"33000000\",\"65789100\",\"53760000\",\"21000000\",\"210240000\",\"250000000\",\"16906397\",\"0\",\"16000000\",\"21000000\",\"210000000\",\"81962100\",\"84000000\",\"21626280000 \",\"84000000\",\"30000000\",\"168351300\",\"24000000\",\"20000000\",\"25000000\",\"616448\",\"25000000\",\"200000000\",\"10000000\",\"9736000\",\"200000000\",\"10638298\",\"30000000\",\"21400000\",\"26205539\",\"21000000\",\"10000000000\",\"500000000\",\"228000000\",\"21000000\",\"2714286\",\"25000000\",\"9999999\",\"100000000000\",\"185000000\",\"3360000\",\"1000000000\",\"17000000\",\"100000000 \",\"21000000\",\"2232901\",\"4000000000\",\"48252000\",\"35520400\",\"2500000000\",\"72000000\",\"105000000\",\"0\",\"340282367\",\"30000000\",\"2000000000\",\"100000000\",\"19276800\",\" 75000000\",\"60000000\",\"18900000\",\"54000000\",\"21000000\",\"200000000000\",\"5000000000\",\"1100000000\",\"21000000\",\"10500000000\",\"0\",\"20000000\",\"84000000\",\"100000000\",\"100000000\",\"88888888\",\"21000000000\",\"1800000000\",\"27000000\",\"21000000\",\"156306732.71\",\"100000000\",\"350000000\",\"45000000\",\"280000000\",\"31800000\",\"85000000000\",\"12500000\",\"10000000000\",\"550000000\",\"999481516\",\"4999999999\",\" 90000000000\",\"19800000\",\"21000000\",\"500000000\",\"64000000\",\"23000000\",\"20166000\",\"23000000\",\"1000000000000\",\"16600000\",\"336000000\",\"10000000000\",\"100000000\",\"1100000000\",\"40000000\",\"18406979840\",\"500000000\",\"6500000000\",\"1000000000\",\"21000000\",\"25000000\",\"70000000\",\"300000000\",\"100000000\",\"18400000\",\"21000000\",\"26280000\",\"18000000\",\"10500000\",\"600000518\",\"150000000\",\"184000000000\",\"168000000\",\"1000000000\",\"22075700\",\"21000000\",\"21000000\",\"22105263\",\"1750000000\",\"88188888\",\"210000000\",\"184470000000\",\"2100000000\",\"25000000\",\"100000000\",\"7600000000\",\"84000000\",\"21000000\",\"8080000000\",\"105120001.44\",\"25228800\",\"21000000\",\"120000000\",\"262800000\",\"30886000\",\"100000000\",\"64000000\",\"2100000\",\"168000000\",\"98100000000\",\"4000000000\",\"7000000000\",\"1000000000\",\"42000000\",\"50000000000\",\"105000000\",\"5000000\",\"182000000\",\"2100000000\",\"24487944\",\"1400222610\",\"21000000\"],\"TotalCoinsMined\":{\"__ndarray__\":\"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\",\"dtype\":\"float64\",\"order\":\"little\",\"shape\":[231]},\"class\":[2,2,2,2,2,2,2,2,2,2,2,2,2,2,2,2,2,2,2,2,2,2,2,2,2,2,2,2,2,2,2,2,2,2,2,2,2,2,2,2,2,2,2,2,2,2,2,2,2,2,2,2,2,2,2,2,2,2,2,2,2,2,2,2,2,2,2,2,2,2,2,2,2,2,2,2,2,2,2,2,2,2,2,2,2,2,2,2,2,2,2,2,2,2,2,2,2,2,2,2,2,2,2,2,2,2,2,2,2,2,2,2,2,2,2,2,2,2,2,2,2,2,2,2,2,2,2,2,2,2,2,2,2,2,2,2,2,2,2,2,2,2,2,2,2,2,2,2,2,2,2,2,2,2,2,2,2,2,2,2,2,2,2,2,2,2,2,2,2,2,2,2,2,2,2,2,2,2,2,2,2,2,2,2,2,2,2,2,2,2,2,2,2,2,2,2,2,2,2,2,2,2,2,2,2,2,2,2,2,2,2,2,2,2,2,2,2,2,2,2,2,2,2,2,2,2,2,2,2,2,2]},\"selected\":{\"id\":\"2112\"},\"selection_policy\":{\"id\":\"2125\"}},\"id\":\"2111\",\"type\":\"ColumnDataSource\"},{\"attributes\":{\"source\":{\"id\":\"2129\"}},\"id\":\"2136\",\"type\":\"CDSView\"},{\"attributes\":{},\"id\":\"2065\",\"type\":\"CategoricalScale\"},{\"attributes\":{\"label\":{\"value\":\"3\"},\"renderers\":[{\"id\":\"2135\"}]},\"id\":\"2148\",\"type\":\"LegendItem\"},{\"attributes\":{},\"id\":\"2130\",\"type\":\"Selection\"},{\"attributes\":{},\"id\":\"2106\",\"type\":\"UnionRenderers\"},{\"attributes\":{\"click_policy\":\"mute\",\"items\":[{\"id\":\"2110\"},{\"id\":\"2128\"},{\"id\":\"2148\"}],\"location\":[0,0],\"title\":\"class\"},\"id\":\"2109\",\"type\":\"Legend\"},{\"attributes\":{},\"id\":\"2089\",\"type\":\"BasicTickFormatter\"},{\"attributes\":{\"callback\":null,\"renderers\":[{\"id\":\"2100\"},{\"id\":\"2117\"},{\"id\":\"2135\"}],\"tags\":[\"hv_created\"],\"tooltips\":[[\"class\",\"@{class}\"],[\"TotalCoinsMined\",\"@{TotalCoinsMined}\"],[\"TotalCoinSupply\",\"@{TotalCoinSupply}\"],[\"CoinName\",\"@{CoinName}\"]]},\"id\":\"2055\",\"type\":\"HoverTool\"},{\"attributes\":{\"align\":null,\"below\":[{\"id\":\"2067\"}],\"center\":[{\"id\":\"2070\"},{\"id\":\"2073\"}],\"left\":[{\"id\":\"2071\"}],\"margin\":null,\"min_border_bottom\":10,\"min_border_left\":10,\"min_border_right\":10,\"min_border_top\":10,\"plot_height\":300,\"plot_width\":700,\"renderers\":[{\"id\":\"2100\"},{\"id\":\"2117\"},{\"id\":\"2135\"}],\"right\":[{\"id\":\"2109\"}],\"sizing_mode\":\"fixed\",\"title\":{\"id\":\"2059\"},\"toolbar\":{\"id\":\"2080\"},\"x_range\":{\"id\":\"2053\"},\"x_scale\":{\"id\":\"2063\"},\"y_range\":{\"id\":\"2054\"},\"y_scale\":{\"id\":\"2065\"}},\"id\":\"2058\",\"subtype\":\"Figure\",\"type\":\"Plot\"},{\"attributes\":{\"data\":{\"CoinName\":[\"42 Coin\",\"404Coin\",\"EliteCoin\",\"Dash\",\"Bitshares\",\"BitcoinDark\",\"PayCoin\",\"KoboCoin\",\"Aurora Coin\",\"BlueCoin\",\"EnergyCoin\",\"BitBar\",\"CryptoBullion\",\"CasinoCoin\",\"Diamond\",\"Exclusive Coin\",\"FlutterCoin\",\"HoboNickels\",\"HyperStake\",\"IOCoin\",\"MaxCoin\",\"MintCoin\",\"MazaCoin\",\"Nautilus Coin\",\"NavCoin\",\"OpalCoin\",\"Orbitcoin\",\"PotCoin\",\"PhoenixCoin\",\"Reddcoin\",\"SuperCoin\",\"SyncCoin\",\"TittieCoin\",\"TorCoin\",\"UnitaryStatus Dollar\",\"UltraCoin\",\"VeriCoin\",\"X11 Coin\",\"StealthCoin\",\"ZCC Coin\",\"BurstCoin\",\"StorjCoin\",\"Neutron\",\"FairCoin\",\"RubyCoin\",\"Kore\",\"Dnotes\",\"8BIT Coin\",\"Sativa Coin\",\"Ucoin\",\"Vtorrent\",\"IslaCoin\",\"Nexus\",\"Droidz\",\"Squall Coin\",\"Diggits\",\"Paycon\",\"Emercoin\",\"EverGreenCoin\",\"Decred\",\"EDRCoin\",\"Hitcoin\",\"DubaiCoin\",\"PWR Coin\",\"BillaryCoin\",\"GPU Coin\",\"EuropeCoin\",\"ZeitCoin\",\"SwingCoin\",\"SafeExchangeCoin\",\"Nebuchadnezzar\",\"Ratecoin\",\"Revenu\",\"Clockcoin\",\"VIP Tokens\",\"BitSend\",\"Let it Ride\",\"PutinCoin\",\"iBankCoin\",\"Frankywillcoin\",\"MudraCoin\",\"Lutetium Coin\",\"GoldBlocks\",\"CarterCoin\",\"BitTokens\",\"MustangCoin\",\"ZoneCoin\",\"RootCoin\",\"BitCurrency\",\"Swiscoin\",\"BuzzCoin\",\"Opair\",\"PesoBit\",\"Halloween Coin\",\"CoffeeCoin\",\"RoyalCoin\",\"GanjaCoin V2\",\"TeamUP\",\"LanaCoin\",\"ARK\",\"InsaneCoin\",\"EmberCoin\",\"XenixCoin\",\"FreeCoin\",\"PLNCoin\",\"AquariusCoin\",\"Creatio\",\"Eternity\",\"Eurocoin\",\"BitcoinFast\",\"Stakenet\",\"BitConnect Coin\",\"MoneyCoin\",\"Enigma\",\"Russiacoin\",\"PandaCoin\",\"GameUnits\",\"GAKHcoin\",\"Allsafe\",\"LiteCreed\",\"Klingon Empire Darsek\",\"Internet of People\",\"KushCoin\",\"Printerium\",\"Impeach\",\"Zilbercoin\",\"FirstCoin\",\"FindCoin\",\"OpenChat\",\"RenosCoin\",\"VirtacoinPlus\",\"TajCoin\",\"Impact\",\"Atmos\",\"HappyCoin\",\"MacronCoin\",\"Condensate\",\"Independent Money System\",\"ArgusCoin\",\"LomoCoin\",\"ProCurrency\",\"GoldReserve\",\"GrowthCoin\",\"Phreak\",\"Degas Coin\",\"HTML5 Coin\",\"Ultimate Secure Cash\",\"QTUM\",\"Espers\",\"Denarius\",\"Virta Unique Coin\",\"Bitcoin Planet\",\"BritCoin\",\"Linda\",\"DeepOnion\",\"Signatum\",\"Cream\",\"Monoeci\",\"Draftcoin\",\"Vechain\",\"Stakecoin\",\"CoinonatX\",\"Ethereum Dark\",\"Obsidian\",\"Cardano\",\"Regalcoin\",\"TrezarCoin\",\"TerraNovaCoin\",\"Rupee\",\"WomenCoin\",\"Theresa May Coin\",\"NamoCoin\",\"LUXCoin\",\"Xios\",\"Bitcloud 2.0\",\"KekCoin\",\"BlackholeCoin\",\"Infinity Economics\",\"Magnet\",\"Lamden Tau\",\"Electra\",\"Bitcoin Diamond\",\"Cash & Back Coin\",\"Bulwark\",\"Kalkulus\",\"GermanCoin\",\"LiteCoin Ultra\",\"PhantomX\",\"Digiwage\",\"Trollcoin\",\"Litecoin Plus\",\"Monkey Project\",\"TokenPay\",\"1717 Masonic Commemorative Token\",\"My Big Coin\",\"Unified Society USDEX\",\"Tokyo Coin\",\"BiblePay\",\"Stipend\",\"Pushi\",\"Ellerium\",\"Velox\",\"Ontology\",\"Bitspace\",\"Briacoin\",\"Ignition\",\"MedicCoin\",\"Bitcoin Green\",\"Deviant Coin\",\"Abjcoin\",\"Semux\",\"Carebit\",\"Zealium\",\"Proton\",\"iDealCash\",\"Bitcoin Incognito\",\"HollyWoodCoin\",\"Swisscoin\",\"Xt3ch\",\"TheVig\",\"EmaratCoin\",\"Dekado\",\"Lynx\",\"Poseidon Quark\",\"BitcoinWSpectrum\",\"Muse\",\"Trivechain\",\"Dystem\",\"Giant\",\"Peony Coin\",\"Absolute Coin\",\"Vitae\",\"TPCash\",\"ARENON\",\"EUNO\",\"MMOCoin\",\"Ketan\",\"XDNA\",\"PAXEX\",\"ThunderStake\",\"Kcash\",\"Acute Angle Cloud\",\"Bettex coin\",\"BitMoney\",\"Junson Ming Chan Coin\",\"HerbCoin\",\"PirateCash\",\"Oduwa\",\"Galilel\",\"Crypto Sports\",\"Credit\",\"Dash Platinum\",\"Nasdacoin\",\"Beetle Coin\",\"Titan Coin\",\"Award\",\"Insane Coin\",\"ALAX\",\"LiteDoge\",\"TruckCoin\",\"OrangeCoin\",\"BitstarCoin\",\"NeosCoin\",\"HyperCoin\",\"PinkCoin\",\"AudioCoin\",\"IncaKoin\",\"Piggy Coin\",\"Genstake\",\"XiaoMiCoin\",\"CapriCoin\",\" ClubCoin\",\"Radium\",\"Creditbit \",\"OKCash\",\"Lisk\",\"HiCoin\",\"WhiteCoin\",\"FriendshipCoin\",\"Triangles Coin\",\"EOS\",\"Oxycoin\",\"TigerCash\",\"Particl\",\"Nxt\",\"ZEPHYR\",\"Gapcoin\",\"BitcoinPlus\"],\"TotalCoinSupply\":[\"42\",\"532000000\",\"314159265359\",\"22000000\",\"3600570502\",\"22000000\",\"12500000\",\"350000000\",\"16768584\",\"0\",\"0\",\"500000\",\"1000000\",\"40000000000\",\"4380000\",\"0\",\"0\",\"120000000\",\"0\",\"22000000\",\"100000000\",\"0\",\"2419200000\",\"16180000\",\"0\",\"0\",\"3770000\",\"420000000\",\"98000000\",\"0\",\"0\",\"1000\",\"2300000000\",\"10000000\",\"1600000000\",\"100000000\",\"0\",\"5500000\",\"0\",\"1000000000\",\"2158812800\",\"500000000\",\"68000000\",\"0\",\"0\",\"12000000\",\"500000000\",\"0\",\"10000000\",\"20000000\",\"20000000\",\"0\",\"78000000\",\"5060000\",\"0\",\"100000000\",\"50000000\",\"1000000000\",\"26298000\",\"21000000\",\"22000000\",\"26550000000\",\"10500000\",\"0\",\"42000000\",\"221052632\",\"384000000\",\" 99000000000\",\"40000000\",\"2147483647\",\"20000000\",\"75000000\",\"222725000\",\"525000000\",\"90000000\",\"139000000\",\"33500000\",\"2000000000\",\"44333333\",\"100000000\",\"200000000\",\"657000000\",\"50000000\",\"90000000\",\"21000000\",\"3000000\",\"21000000\",\"0\",\"0\",\"3100000000\",\"20000000000\",\"74000000\",\"0\",\"1500000000\",\"39999898\",\"2500124\",\"100000000\",\"301000000\",\"7506000000\",\"125000000\",\"30000000\",\"850000000\",\"3853326.77707314\",\"50000000\",\"38540000 \",\"42000000\",\"20000000\",\"60000000\",\"20000000\",\"33000000\",\"76500000\",\"28000000\",\"650659833\",\"5000000\",\"144000000\",\"32514916898\",\"13000000\",\"3315789\",\"15000000\",\"78835200\",\"500000000\",\"21000000\",\"9354000\",\"20000000\",\"21933333\",\"55000000\",\"110000000\",\"14524851.4827\",\"1000000000\",\"34426423\",\"100000000\",\"36900000\",\"110000000\",\"110290030\",\"100000000\",\"400000000\",\"500000000\",\"21212121\",\"28600000\",\"1000000000\",\"75000000000\",\"40000000\",\"2000000000\",\"30000000\",\"105000000\",\"90000000000\",\"200084200\",\"100000000\",\"50000000000\",\"10000000\",\"120000000\",\"100000000\",\"30000000\",\"50000000000\",\"18898187.6216583\",\"137500000\",\"100000000\",\"9507271\",\"17405891.19707116\",\"86712634466\",\"61599965\",\"48252000\",\"4200000\",\"91388946\",\"45000000000\",\"27000000\",\"400000000\",\"15733333\",\"24000000\",\"25000000000\",\"100000000\",\"1200000000\",\"60000000\",\"21000000\",\"200000000\",\"21000000\",\"14788275.991\",\"9000000000\",\"144000000\",\"500000000\",\"30000000000\",\"210000000\",\"210000000\",\"27716121\",\"20000000\",\"50000000000\",\"150000000\",\"50000000\",\"120000000\",\"900000000\",\"4000000\",\"21000000\",\"25000000\",\"1618033\",\"30000000\",\"232000000\",\"800000000\",\"5200000000\",\"19340594\",\"25000000\",\"60000000\",\"124000000\",\"1000000000\",\"50000000\",\"3000000\",\"5000000\",\"500000000\",\"21000000\",\"88000000\",\"30000000\",\"100000000\",\"200000000\",\"80000000\",\"45000000\",\"5121951220\",\"21000000\",\"26000000\",\"10200000000\",\"44000000\",\"100000000\",\"84000000\",\"90000000\",\"92000000000\",\"650000000 \",\"100262205\",\"18081806 \",\"82546564\",\"21000000\",\"5151000\",\"16880000000\",\"52500000\",\"100000000\",\"1000000000\",\"55000000\",\"50000000\",\"260000000\",\"210000000\",\"366000000\",\"100000000\",\"18000000000\",\"1000000000\",\"1000000000\",\"50000000\",\"70000000000\",\"0\",\"54000000\",\"105000000\",\"21000000\",\"19035999\",\"13370000\",\"74800000000\",\"19700000\",\"84000000\",\"500000000\",\"5000000000\",\"420000000\",\"30000000\",\"1000000000\",\"35000000000\",\"0\",\"200000000\",\"54256119\",\"21000000\",\"0\",\"500000000\",\"10500000000\",\"190000000\",\"1000000000\",\"15000000\",\"400000000\",\"208000000\",\"160000000\",\"9000000\",\"16504333\",\"105000000\",\"159918400\",\"10008835635\",\"300000000\",\"60168145\",\"120000\",\"0\",\"0\",\"1000000000\",\"8634140\",\"1000000000\",\"2000000000\",\"250000000\",\"1000000\"],\"TotalCoinsMined\":{\"__ndarray__\":\"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\",\"dtype\":\"float64\",\"order\":\"little\",\"shape\":[288]},\"class\":[0,0,0,0,0,0,0,0,0,0,0,0,0,0,0,0,0,0,0,0,0,0,0,0,0,0,0,0,0,0,0,0,0,0,0,0,0,0,0,0,0,0,0,0,0,0,0,0,0,0,0,0,0,0,0,0,0,0,0,0,0,0,0,0,0,0,0,0,0,0,0,0,0,0,0,0,0,0,0,0,0,0,0,0,0,0,0,0,0,0,0,0,0,0,0,0,0,0,0,0,0,0,0,0,0,0,0,0,0,0,0,0,0,0,0,0,0,0,0,0,0,0,0,0,0,0,0,0,0,0,0,0,0,0,0,0,0,0,0,0,0,0,0,0,0,0,0,0,0,0,0,0,0,0,0,0,0,0,0,0,0,0,0,0,0,0,0,0,0,0,0,0,0,0,0,0,0,0,0,0,0,0,0,0,0,0,0,0,0,0,0,0,0,0,0,0,0,0,0,0,0,0,0,0,0,0,0,0,0,0,0,0,0,0,0,0,0,0,0,0,0,0,0,0,0,0,0,0,0,0,0,0,0,0,0,0,0,0,0,0,0,0,0,0,0,0,0,0,0,0,0,0,0,0,0,0,0,0,0,0,0,0,0,0,0,0,0,0,0,0,0,0,0,0,0,0,0,0,0,0,0,0,0,0,0,0,0,0]},\"selected\":{\"id\":\"2095\"},\"selection_policy\":{\"id\":\"2106\"}},\"id\":\"2094\",\"type\":\"ColumnDataSource\"},{\"attributes\":{},\"id\":\"2075\",\"type\":\"PanTool\"},{\"attributes\":{\"fill_color\":{\"value\":\"#ff7e0e\"},\"line_color\":{\"value\":\"#ff7e0e\"},\"size\":{\"units\":\"screen\",\"value\":5.477225575051661},\"x\":{\"field\":\"TotalCoinsMined\"},\"y\":{\"field\":\"TotalCoinSupply\"}},\"id\":\"2114\",\"type\":\"Scatter\"},{\"attributes\":{},\"id\":\"2078\",\"type\":\"ResetTool\"},{\"attributes\":{\"ticks\":[10000000,15000000,20000000,25000000]},\"id\":\"2087\",\"type\":\"FixedTicker\"},{\"attributes\":{\"axis\":{\"id\":\"2067\"},\"grid_line_color\":null,\"ticker\":null},\"id\":\"2070\",\"type\":\"Grid\"},{\"attributes\":{},\"id\":\"2068\",\"type\":\"BasicTicker\"},{\"attributes\":{\"data\":{\"CoinName\":[\"LitecoinCash\",\"Poa Network\",\"Fiii\",\"Waves\"],\"TotalCoinSupply\":[\"840000000\",\"252460800\",\"5000000000\",\"100000000\"],\"TotalCoinsMined\":{\"__ndarray__\":\"lrAafngGw0EAAAB+NGCoQdJ7v7zSC/bBAAAAAITXl0E=\",\"dtype\":\"float64\",\"order\":\"little\",\"shape\":[4]},\"class\":[3,3,3,3]},\"selected\":{\"id\":\"2130\"},\"selection_policy\":{\"id\":\"2145\"}},\"id\":\"2129\",\"type\":\"ColumnDataSource\"},{\"attributes\":{\"bottom_units\":\"screen\",\"fill_alpha\":0.5,\"fill_color\":\"lightgrey\",\"left_units\":\"screen\",\"level\":\"overlay\",\"line_alpha\":1.0,\"line_color\":\"black\",\"line_dash\":[4,4],\"line_width\":2,\"right_units\":\"screen\",\"top_units\":\"screen\"},\"id\":\"2079\",\"type\":\"BoxAnnotation\"},{\"attributes\":{\"axis_label\":\"TotalCoinSupply\",\"bounds\":\"auto\",\"formatter\":{\"id\":\"2090\"},\"major_label_orientation\":\"horizontal\",\"ticker\":{\"id\":\"2087\"}},\"id\":\"2071\",\"type\":\"CategoricalAxis\"},{\"attributes\":{\"axis\":{\"id\":\"2071\"},\"dimension\":1,\"grid_line_color\":null,\"ticker\":null},\"id\":\"2073\",\"type\":\"Grid\"},{\"attributes\":{\"label\":{\"value\":\"2\"},\"renderers\":[{\"id\":\"2117\"}]},\"id\":\"2128\",\"type\":\"LegendItem\"},{\"attributes\":{\"source\":{\"id\":\"2094\"}},\"id\":\"2101\",\"type\":\"CDSView\"},{\"attributes\":{\"fill_alpha\":{\"value\":0.1},\"fill_color\":{\"value\":\"#1f77b3\"},\"line_alpha\":{\"value\":0.1},\"line_color\":{\"value\":\"#1f77b3\"},\"size\":{\"units\":\"screen\",\"value\":5.477225575051661},\"x\":{\"field\":\"TotalCoinsMined\"},\"y\":{\"field\":\"TotalCoinSupply\"}},\"id\":\"2098\",\"type\":\"Scatter\"},{\"attributes\":{\"factors\":[\"42\",\"532000000\",\"314159265359\",\"22000000\",\"3600570502\",\"12500000\",\"350000000\",\"16768584\",\"0\",\"500000\",\"1000000\",\"40000000000\",\"4380000\",\"120000000\",\"100000000\",\"2419200000\",\"16180000\",\"3770000\",\"420000000\",\"98000000\",\"1000\",\"2300000000\",\"10000000\",\"1600000000\",\"5500000\",\"1000000000\",\"2158812800\",\"500000000\",\"68000000\",\"12000000\",\"20000000\",\"78000000\",\"5060000\",\"50000000\",\"26298000\",\"21000000\",\"26550000000\",\"10500000\",\"42000000\",\"221052632\",\"384000000\",\" 99000000000\",\"40000000\",\"2147483647\",\"75000000\",\"222725000\",\"525000000\",\"90000000\",\"139000000\",\"33500000\",\"2000000000\",\"44333333\",\"200000000\",\"657000000\",\"3000000\",\"3100000000\",\"20000000000\",\"74000000\",\"1500000000\",\"39999898\",\"2500124\",\"301000000\",\"7506000000\",\"125000000\",\"30000000\",\"850000000\",\"3853326.77707314\",\"38540000 \",\"60000000\",\"33000000\",\"76500000\",\"28000000\",\"650659833\",\"5000000\",\"144000000\",\"32514916898\",\"13000000\",\"3315789\",\"15000000\",\"78835200\",\"9354000\",\"21933333\",\"55000000\",\"110000000\",\"14524851.4827\",\"34426423\",\"36900000\",\"110290030\",\"400000000\",\"21212121\",\"28600000\",\"75000000000\",\"105000000\",\"90000000000\",\"200084200\",\"50000000000\",\"18898187.6216583\",\"137500000\",\"9507271\",\"17405891.19707116\",\"86712634466\",\"61599965\",\"48252000\",\"4200000\",\"91388946\",\"45000000000\",\"27000000\",\"15733333\",\"24000000\",\"25000000000\",\"1200000000\",\"14788275.991\",\"9000000000\",\"30000000000\",\"210000000\",\"27716121\",\"150000000\",\"900000000\",\"4000000\",\"25000000\",\"1618033\",\"232000000\",\"800000000\",\"5200000000\",\"19340594\",\"124000000\",\"88000000\",\"80000000\",\"45000000\",\"5121951220\",\"26000000\",\"10200000000\",\"44000000\",\"84000000\",\"92000000000\",\"650000000 \",\"100262205\",\"18081806 \",\"82546564\",\"5151000\",\"16880000000\",\"52500000\",\"260000000\",\"366000000\",\"18000000000\",\"70000000000\",\"54000000\",\"19035999\",\"13370000\",\"74800000000\",\"19700000\",\"5000000000\",\"35000000000\",\"54256119\",\"10500000000\",\"190000000\",\"208000000\",\"160000000\",\"9000000\",\"16504333\",\"159918400\",\"10008835635\",\"300000000\",\"60168145\",\"120000\",\"8634140\",\"250000000\",\"64000000\",\"384000000000\",\"169795588\",\"247000000\",\"48166000\",\"21000000 \",\"13140000\",\"18000000\",\"21000000000\",\"13500000000\",\"299792458\",\"32000000\",\"11235813\",\"336000000\",\"1420609614\",\"70000000\",\"72245700\",\"90600000000\",\"265420800\",\"1350000\",\"15000000000\",\"337000000\",\"51200000\",\"888000000\",\"47011968\",\"250000\",\"23000000\",\"184467440735\",\"10000000000\",\"105120000\",\"1680000000\",\"166386000\",\"2628000\",\"3371337\",\"1840000000\",\"619478\",\"65789100\",\"53760000\",\"210240000\",\"16906397\",\"16000000\",\"81962100\",\"21626280000 \",\"168351300\",\"616448\",\"9736000\",\"10638298\",\"21400000\",\"26205539\",\"228000000\",\"2714286\",\"9999999\",\"100000000000\",\"185000000\",\"3360000\",\"17000000\",\"100000000 \",\"2232901\",\"4000000000\",\"35520400\",\"2500000000\",\"72000000\",\"340282367\",\"19276800\",\" 75000000\",\"18900000\",\"200000000000\",\"1100000000\",\"88888888\",\"1800000000\",\"156306732.71\",\"280000000\",\"31800000\",\"85000000000\",\"550000000\",\"999481516\",\"4999999999\",\" 90000000000\",\"19800000\",\"20166000\",\"1000000000000\",\"16600000\",\"18406979840\",\"6500000000\",\"18400000\",\"26280000\",\"600000518\",\"184000000000\",\"168000000\",\"22075700\",\"22105263\",\"1750000000\",\"88188888\",\"184470000000\",\"2100000000\",\"7600000000\",\"8080000000\",\"105120001.44\",\"25228800\",\"262800000\",\"30886000\",\"2100000\",\"98100000000\",\"7000000000\",\"182000000\",\"24487944\",\"1400222610\",\"840000000\",\"252460800\"],\"tags\":[[[\"TotalCoinSupply\",\"TotalCoinSupply\",null]]]},\"id\":\"2054\",\"type\":\"FactorRange\"},{\"attributes\":{\"margin\":[5,5,5,5],\"name\":\"HSpacer04011\",\"sizing_mode\":\"stretch_width\"},\"id\":\"2248\",\"type\":\"Spacer\"},{\"attributes\":{},\"id\":\"2095\",\"type\":\"Selection\"},{\"attributes\":{\"text\":\"\",\"text_color\":{\"value\":\"black\"},\"text_font_size\":{\"value\":\"12pt\"}},\"id\":\"2059\",\"type\":\"Title\"},{\"attributes\":{\"fill_alpha\":{\"value\":0.1},\"fill_color\":{\"value\":\"#ff7e0e\"},\"line_alpha\":{\"value\":0.1},\"line_color\":{\"value\":\"#ff7e0e\"},\"size\":{\"units\":\"screen\",\"value\":5.477225575051661},\"x\":{\"field\":\"TotalCoinsMined\"},\"y\":{\"field\":\"TotalCoinSupply\"}},\"id\":\"2115\",\"type\":\"Scatter\"},{\"attributes\":{\"fill_alpha\":{\"value\":0.1},\"fill_color\":{\"value\":\"#2ba02b\"},\"line_alpha\":{\"value\":0.1},\"line_color\":{\"value\":\"#2ba02b\"},\"size\":{\"units\":\"screen\",\"value\":5.477225575051661},\"x\":{\"field\":\"TotalCoinsMined\"},\"y\":{\"field\":\"TotalCoinSupply\"}},\"id\":\"2133\",\"type\":\"Scatter\"},{\"attributes\":{\"overlay\":{\"id\":\"2079\"}},\"id\":\"2077\",\"type\":\"BoxZoomTool\"},{\"attributes\":{\"axis_label\":\"TotalCoinsMined\",\"bounds\":\"auto\",\"formatter\":{\"id\":\"2089\"},\"major_label_orientation\":\"horizontal\",\"ticker\":{\"id\":\"2068\"}},\"id\":\"2067\",\"type\":\"LinearAxis\"},{\"attributes\":{\"margin\":[5,5,5,5],\"name\":\"HSpacer04010\",\"sizing_mode\":\"stretch_width\"},\"id\":\"2052\",\"type\":\"Spacer\"},{\"attributes\":{\"fill_color\":{\"value\":\"#1f77b3\"},\"line_color\":{\"value\":\"#1f77b3\"},\"size\":{\"units\":\"screen\",\"value\":5.477225575051661},\"x\":{\"field\":\"TotalCoinsMined\"},\"y\":{\"field\":\"TotalCoinSupply\"}},\"id\":\"2097\",\"type\":\"Scatter\"},{\"attributes\":{\"fill_color\":{\"value\":\"#2ba02b\"},\"line_color\":{\"value\":\"#2ba02b\"},\"size\":{\"units\":\"screen\",\"value\":5.477225575051661},\"x\":{\"field\":\"TotalCoinsMined\"},\"y\":{\"field\":\"TotalCoinSupply\"}},\"id\":\"2132\",\"type\":\"Scatter\"},{\"attributes\":{\"active_drag\":\"auto\",\"active_inspect\":\"auto\",\"active_multi\":null,\"active_scroll\":\"auto\",\"active_tap\":\"auto\",\"tools\":[{\"id\":\"2055\"},{\"id\":\"2074\"},{\"id\":\"2075\"},{\"id\":\"2076\"},{\"id\":\"2077\"},{\"id\":\"2078\"}]},\"id\":\"2080\",\"type\":\"Toolbar\"},{\"attributes\":{\"fill_alpha\":{\"value\":0.2},\"fill_color\":{\"value\":\"#ff7e0e\"},\"line_alpha\":{\"value\":0.2},\"line_color\":{\"value\":\"#ff7e0e\"},\"size\":{\"units\":\"screen\",\"value\":5.477225575051661},\"x\":{\"field\":\"TotalCoinsMined\"},\"y\":{\"field\":\"TotalCoinSupply\"}},\"id\":\"2116\",\"type\":\"Scatter\"},{\"attributes\":{\"fill_alpha\":{\"value\":0.2},\"fill_color\":{\"value\":\"#2ba02b\"},\"line_alpha\":{\"value\":0.2},\"line_color\":{\"value\":\"#2ba02b\"},\"size\":{\"units\":\"screen\",\"value\":5.477225575051661},\"x\":{\"field\":\"TotalCoinsMined\"},\"y\":{\"field\":\"TotalCoinSupply\"}},\"id\":\"2134\",\"type\":\"Scatter\"},{\"attributes\":{},\"id\":\"2090\",\"type\":\"CategoricalTickFormatter\"},{\"attributes\":{\"data_source\":{\"id\":\"2129\"},\"glyph\":{\"id\":\"2132\"},\"hover_glyph\":null,\"muted_glyph\":{\"id\":\"2134\"},\"nonselection_glyph\":{\"id\":\"2133\"},\"selection_glyph\":null,\"view\":{\"id\":\"2136\"}},\"id\":\"2135\",\"type\":\"GlyphRenderer\"}],\"root_ids\":[\"2051\"]},\"title\":\"Bokeh Application\",\"version\":\"2.1.1\"}};\n",
       "  var render_items = [{\"docid\":\"ccd3e22d-e4cb-41f6-876b-3683083a2a3d\",\"root_ids\":[\"2051\"],\"roots\":{\"2051\":\"1863adc8-0dd5-45c9-ae3b-00ddbd05238d\"}}];\n",
       "  root.Bokeh.embed.embed_items_notebook(docs_json, render_items);\n",
       "  }\n",
       "if (root.Bokeh !== undefined) {\n",
       "    embed_document(root);\n",
       "  } else {\n",
       "    var attempts = 0;\n",
       "    var timer = setInterval(function(root) {\n",
       "      if (root.Bokeh !== undefined) {\n",
       "        clearInterval(timer);\n",
       "        embed_document(root);\n",
       "      } else if (document.readyState == \"complete\") {\n",
       "        attempts++;\n",
       "        if (attempts > 100) {\n",
       "          clearInterval(timer);\n",
       "          console.log(\"Bokeh: ERROR: Unable to run BokehJS code because BokehJS library is missing\");\n",
       "        }\n",
       "      }\n",
       "    }, 10, root)\n",
       "  }\n",
       "})(window);</script>"
      ],
      "text/plain": [
       ":NdOverlay   [class]\n",
       "   :Scatter   [TotalCoinsMined]   (TotalCoinSupply,CoinName)"
      ]
     },
     "execution_count": 85,
     "metadata": {
      "application/vnd.holoviews_exec.v0+json": {
       "id": "2051"
      }
     },
     "output_type": "execute_result"
    }
   ],
   "source": [
    "# Recreate the scatter\n",
    "# Create a hvplot scatter\n",
    "clustered_no_outliar.hvplot.scatter(\n",
    "    x=\"TotalCoinsMined\",\n",
    "    y=\"TotalCoinSupply\",\n",
    "    hover_cols=[\"CoinName\"],\n",
    "    by=\"class\",\n",
    "    yticks=(10000000, 15000000,20000000,25000000)\n",
    ")"
   ]
  },
  {
   "cell_type": "code",
   "execution_count": null,
   "metadata": {},
   "outputs": [],
   "source": []
  }
 ],
 "metadata": {
  "kernelspec": {
   "display_name": "mlenv",
   "language": "python",
   "name": "mlenv"
  },
  "language_info": {
   "codemirror_mode": {
    "name": "ipython",
    "version": 3
   },
   "file_extension": ".py",
   "mimetype": "text/x-python",
   "name": "python",
   "nbconvert_exporter": "python",
   "pygments_lexer": "ipython3",
   "version": "3.7.7"
  }
 },
 "nbformat": 4,
 "nbformat_minor": 4
}
